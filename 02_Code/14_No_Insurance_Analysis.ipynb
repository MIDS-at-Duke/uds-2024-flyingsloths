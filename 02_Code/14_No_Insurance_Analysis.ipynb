{
 "cells": [
  {
   "cell_type": "code",
   "execution_count": 1,
   "metadata": {},
   "outputs": [],
   "source": [
    "# importing required libraries\n",
    "import numpy as np\n",
    "import pandas as pd\n",
    "import matplotlib.pyplot as plt\n",
    "import warnings\n",
    "\n",
    "# Setting default options\n",
    "warnings.filterwarnings(\"ignore\")\n",
    "pd.set_option(\"mode.copy_on_write\", True)"
   ]
  },
  {
   "cell_type": "code",
   "execution_count": 2,
   "metadata": {},
   "outputs": [
    {
     "data": {
      "text/html": [
       "<div>\n",
       "<style scoped>\n",
       "    .dataframe tbody tr th:only-of-type {\n",
       "        vertical-align: middle;\n",
       "    }\n",
       "\n",
       "    .dataframe tbody tr th {\n",
       "        vertical-align: top;\n",
       "    }\n",
       "\n",
       "    .dataframe thead th {\n",
       "        text-align: right;\n",
       "    }\n",
       "</style>\n",
       "<table border=\"1\" class=\"dataframe\">\n",
       "  <thead>\n",
       "    <tr style=\"text-align: right;\">\n",
       "      <th></th>\n",
       "      <th>YEAR</th>\n",
       "      <th>SERIAL</th>\n",
       "      <th>STRATA</th>\n",
       "      <th>PSU</th>\n",
       "      <th>NHISHID</th>\n",
       "      <th>HHWEIGHT</th>\n",
       "      <th>URBRRL</th>\n",
       "      <th>PERNUM</th>\n",
       "      <th>NHISPID</th>\n",
       "      <th>HHX</th>\n",
       "      <th>...</th>\n",
       "      <th>SMOKESTATUS3</th>\n",
       "      <th>CIGSDAYCSFS</th>\n",
       "      <th>CIGSDAYCSFS2</th>\n",
       "      <th>CIGSLONGFS</th>\n",
       "      <th>MORTSTAT</th>\n",
       "      <th>MORTDODY</th>\n",
       "      <th>MORTUCOD</th>\n",
       "      <th>MORTUCODLD</th>\n",
       "      <th>MORTWT</th>\n",
       "      <th>MORTWTSA</th>\n",
       "    </tr>\n",
       "  </thead>\n",
       "  <tbody>\n",
       "    <tr>\n",
       "      <th>1619096</th>\n",
       "      <td>2005</td>\n",
       "      <td>35356</td>\n",
       "      <td>5090</td>\n",
       "      <td>1</td>\n",
       "      <td>2005060490</td>\n",
       "      <td>1297.0</td>\n",
       "      <td>NaN</td>\n",
       "      <td>2</td>\n",
       "      <td>20050604900102</td>\n",
       "      <td>60490</td>\n",
       "      <td>...</td>\n",
       "      <td>NaN</td>\n",
       "      <td>NaN</td>\n",
       "      <td>NaN</td>\n",
       "      <td>0.0</td>\n",
       "      <td>9.0</td>\n",
       "      <td>9999.0</td>\n",
       "      <td>NaN</td>\n",
       "      <td>96.0</td>\n",
       "      <td>0.0</td>\n",
       "      <td>0.0</td>\n",
       "    </tr>\n",
       "    <tr>\n",
       "      <th>121751</th>\n",
       "      <td>1991</td>\n",
       "      <td>837</td>\n",
       "      <td>3013</td>\n",
       "      <td>4</td>\n",
       "      <td>19911057078108</td>\n",
       "      <td>1878.0</td>\n",
       "      <td>NaN</td>\n",
       "      <td>1</td>\n",
       "      <td>1991105707810801</td>\n",
       "      <td>NaN</td>\n",
       "      <td>...</td>\n",
       "      <td>7.0</td>\n",
       "      <td>NaN</td>\n",
       "      <td>NaN</td>\n",
       "      <td>NaN</td>\n",
       "      <td>2.0</td>\n",
       "      <td>9999.0</td>\n",
       "      <td>999.0</td>\n",
       "      <td>96.0</td>\n",
       "      <td>2972.0</td>\n",
       "      <td>NaN</td>\n",
       "    </tr>\n",
       "    <tr>\n",
       "      <th>2238928</th>\n",
       "      <td>2012</td>\n",
       "      <td>47267</td>\n",
       "      <td>6107</td>\n",
       "      <td>2</td>\n",
       "      <td>2012071638</td>\n",
       "      <td>3640.0</td>\n",
       "      <td>NaN</td>\n",
       "      <td>3</td>\n",
       "      <td>20120716380103</td>\n",
       "      <td>71638</td>\n",
       "      <td>...</td>\n",
       "      <td>NaN</td>\n",
       "      <td>NaN</td>\n",
       "      <td>NaN</td>\n",
       "      <td>NaN</td>\n",
       "      <td>2.0</td>\n",
       "      <td>9999.0</td>\n",
       "      <td>NaN</td>\n",
       "      <td>96.0</td>\n",
       "      <td>4749.0</td>\n",
       "      <td>0.0</td>\n",
       "    </tr>\n",
       "    <tr>\n",
       "      <th>95209</th>\n",
       "      <td>1990</td>\n",
       "      <td>38568</td>\n",
       "      <td>3011</td>\n",
       "      <td>1</td>\n",
       "      <td>19904181057802</td>\n",
       "      <td>1890.0</td>\n",
       "      <td>NaN</td>\n",
       "      <td>4</td>\n",
       "      <td>1990418105780204</td>\n",
       "      <td>NaN</td>\n",
       "      <td>...</td>\n",
       "      <td>NaN</td>\n",
       "      <td>96.0</td>\n",
       "      <td>96.0</td>\n",
       "      <td>NaN</td>\n",
       "      <td>9.0</td>\n",
       "      <td>9999.0</td>\n",
       "      <td>999.0</td>\n",
       "      <td>96.0</td>\n",
       "      <td>0.0</td>\n",
       "      <td>NaN</td>\n",
       "    </tr>\n",
       "    <tr>\n",
       "      <th>887104</th>\n",
       "      <td>1998</td>\n",
       "      <td>8971</td>\n",
       "      <td>5315</td>\n",
       "      <td>2</td>\n",
       "      <td>1998030326</td>\n",
       "      <td>2491.0</td>\n",
       "      <td>NaN</td>\n",
       "      <td>1</td>\n",
       "      <td>19980303260101</td>\n",
       "      <td>30326</td>\n",
       "      <td>...</td>\n",
       "      <td>7.0</td>\n",
       "      <td>NaN</td>\n",
       "      <td>NaN</td>\n",
       "      <td>NaN</td>\n",
       "      <td>9.0</td>\n",
       "      <td>9999.0</td>\n",
       "      <td>999.0</td>\n",
       "      <td>96.0</td>\n",
       "      <td>0.0</td>\n",
       "      <td>0.0</td>\n",
       "    </tr>\n",
       "  </tbody>\n",
       "</table>\n",
       "<p>5 rows × 89 columns</p>\n",
       "</div>"
      ],
      "text/plain": [
       "         YEAR  SERIAL  STRATA  PSU         NHISHID  HHWEIGHT  URBRRL  PERNUM  \\\n",
       "1619096  2005   35356    5090    1      2005060490    1297.0     NaN       2   \n",
       "121751   1991     837    3013    4  19911057078108    1878.0     NaN       1   \n",
       "2238928  2012   47267    6107    2      2012071638    3640.0     NaN       3   \n",
       "95209    1990   38568    3011    1  19904181057802    1890.0     NaN       4   \n",
       "887104   1998    8971    5315    2      1998030326    2491.0     NaN       1   \n",
       "\n",
       "                  NHISPID    HHX  ...  SMOKESTATUS3  CIGSDAYCSFS  \\\n",
       "1619096    20050604900102  60490  ...           NaN          NaN   \n",
       "121751   1991105707810801    NaN  ...           7.0          NaN   \n",
       "2238928    20120716380103  71638  ...           NaN          NaN   \n",
       "95209    1990418105780204    NaN  ...           NaN         96.0   \n",
       "887104     19980303260101  30326  ...           7.0          NaN   \n",
       "\n",
       "         CIGSDAYCSFS2  CIGSLONGFS  MORTSTAT  MORTDODY  MORTUCOD  MORTUCODLD  \\\n",
       "1619096           NaN         0.0       9.0    9999.0       NaN        96.0   \n",
       "121751            NaN         NaN       2.0    9999.0     999.0        96.0   \n",
       "2238928           NaN         NaN       2.0    9999.0       NaN        96.0   \n",
       "95209            96.0         NaN       9.0    9999.0     999.0        96.0   \n",
       "887104            NaN         NaN       9.0    9999.0     999.0        96.0   \n",
       "\n",
       "         MORTWT  MORTWTSA  \n",
       "1619096     0.0       0.0  \n",
       "121751   2972.0       NaN  \n",
       "2238928  4749.0       0.0  \n",
       "95209       0.0       NaN  \n",
       "887104      0.0       0.0  \n",
       "\n",
       "[5 rows x 89 columns]"
      ]
     },
     "execution_count": 2,
     "metadata": {},
     "output_type": "execute_result"
    }
   ],
   "source": [
    "# loading the data\n",
    "df = pd.read_csv(\"/Users/revanth/Downloads/ipums_06.csv\")\n",
    "df.sample(5)"
   ]
  },
  {
   "cell_type": "code",
   "execution_count": 3,
   "metadata": {},
   "outputs": [
    {
     "name": "stdout",
     "output_type": "stream",
     "text": [
      "Index(['YEAR', 'SERIAL', 'STRATA', 'PSU', 'NHISHID', 'HHWEIGHT', 'URBRRL',\n",
      "       'PERNUM', 'NHISPID', 'HHX', 'FMX', 'PX', 'PERWEIGHT', 'SAMPWEIGHT',\n",
      "       'LONGWEIGHT', 'PARTWEIGHT', 'FWEIGHT', 'SUPP2WT', 'ASTATFLG',\n",
      "       'CSTATFLG', 'AGE', 'SEX', 'BIRTHYR', 'RACENEW', 'OCC', 'POORYN',\n",
      "       'INCFAM97ON2', 'INCFAM07ON', 'FAMTOTINC', 'EARNIMP1', 'HINOTCOVE',\n",
      "       'HICOVSTAT', 'HIOTHGOVYR', 'HINOLAPYMO', 'HINOLASTCOV', 'HINOUNEMPR',\n",
      "       'HINOEMPR', 'HINOFAMR', 'HINOAGER', 'HINOCOSTR', 'HINOREFUSER',\n",
      "       'HINOTHER', 'HINOWANT', 'HINOELIG', 'HINOCONF', 'HINOMEET', 'HINOWAIT',\n",
      "       'HINOMISS', 'HISTOP1', 'HISTOP3', 'HISTOP4', 'HISTOP8', 'HISTOP11',\n",
      "       'HISTOP12', 'HISTOP13', 'HISTOP14', 'HISTOP15', 'HISTOP16', 'HISTOP17',\n",
      "       'HISTOP18', 'HISTOP19', 'HISTOP20', 'HISTOP22', 'HISTOP23', 'HISTOP24',\n",
      "       'HISTOP25', 'HIBUYNOCOND', 'HIBUYNOCOST', 'HIBUYNODENY', 'HIBUYNOSORC',\n",
      "       'HIBUYNOOTHR', 'HISTOP5A', 'CNLUNG', 'CNLUNGAG', 'CANHICHANGE',\n",
      "       'SMOKEV', 'CIGDAYMO', 'SMOKESTATUS2', 'SMOKESTATUS1', 'SMOKESTATUS3',\n",
      "       'CIGSDAYCSFS', 'CIGSDAYCSFS2', 'CIGSLONGFS', 'MORTSTAT', 'MORTDODY',\n",
      "       'MORTUCOD', 'MORTUCODLD', 'MORTWT', 'MORTWTSA'],\n",
      "      dtype='object')\n"
     ]
    }
   ],
   "source": [
    "# printing the columns\n",
    "print(df.columns)"
   ]
  },
  {
   "cell_type": "markdown",
   "metadata": {},
   "source": [
    "- HINOTCOVE (Health Insurance coverage status)\n",
    "- HICOVSTAT (Health insurance coverage status)\n",
    "- HIOTHGOVYR (Had other government program coverage in the past 12 months )\n",
    "- HINOLAPYMO (Months without any health insurance, past 12 months, covered at time of survey)\n",
    "- HINOLASTCOV (When last covered by health insurance)\n",
    "- HINOUNEMPR (Reasons for no insurance: Unemployment)\n",
    "- HINOEMPR (Reasons for no insurance: Employment-related reason)\n",
    "- HINOFAMR (Reasons for no insurance: Family-related)\n",
    "- HINOAGER (Reasons for no insurance: Aged out of family plan)\n",
    "- HINOCOSTR (Reasons for no insurance: Too expensive)\n",
    "- HINOREFUSER (Reasons for no insurance: Poor health/refused coverage)\n",
    "- HINOTHER (Reasons for no insurance: Other)\n",
    "- HINOWANT (Reasons for no insurance: Do not want or need coverage)\n",
    "- HINOELIG (Reasons for no insurance: Not eligible)\n",
    "- HINOCONF (Reasons for no insurance: Too difficult or confusing)\n",
    "- HINOMEET (Reasons for no insurance: Plans don't meet needs)\n",
    "- HINOWAIT (Reasons for no insurance: Coverage has not started yet)\n",
    "- HINOMISS (Reasons for no insurance: Missed Deadline)"
   ]
  },
  {
   "cell_type": "code",
   "execution_count": 4,
   "metadata": {},
   "outputs": [],
   "source": [
    "# including only the above columns and year\n",
    "required_columns = [\n",
    "    \"YEAR\",\n",
    "    \"HINOTCOVE\",\n",
    "    \"HICOVSTAT\",\n",
    "    \"HIOTHGOVYR\",\n",
    "    \"HINOLAPYMO\",\n",
    "    \"HINOLASTCOV\",\n",
    "    \"HINOUNEMPR\",\n",
    "    \"HINOEMPR\",\n",
    "    \"HINOFAMR\",\n",
    "    \"HINOAGER\",\n",
    "    \"HINOCOSTR\",\n",
    "    \"HINOREFUSER\",\n",
    "    \"HINOTHER\",\n",
    "    \"HINOWANT\",\n",
    "    \"HINOELIG\",\n",
    "    \"HINOCONF\",\n",
    "    \"HINOMEET\",\n",
    "    \"HINOWAIT\",\n",
    "    \"HINOMISS\",\n",
    "]"
   ]
  },
  {
   "cell_type": "code",
   "execution_count": 5,
   "metadata": {},
   "outputs": [],
   "source": [
    "df_analysis = df[required_columns]"
   ]
  },
  {
   "cell_type": "code",
   "execution_count": 6,
   "metadata": {},
   "outputs": [
    {
     "data": {
      "text/plain": [
       "(2973180, 19)"
      ]
     },
     "execution_count": 6,
     "metadata": {},
     "output_type": "execute_result"
    }
   ],
   "source": [
    "df_analysis.shape"
   ]
  },
  {
   "cell_type": "code",
   "execution_count": 7,
   "metadata": {},
   "outputs": [
    {
     "data": {
      "text/plain": [
       "YEAR            0.000000\n",
       "HINOTCOVE      25.554928\n",
       "HICOVSTAT      86.824915\n",
       "HIOTHGOVYR     73.815914\n",
       "HINOLAPYMO     86.824915\n",
       "HINOLASTCOV    86.824915\n",
       "HINOUNEMPR     12.379842\n",
       "HINOEMPR       17.472235\n",
       "HINOFAMR       17.472235\n",
       "HINOAGER       17.472235\n",
       "HINOCOSTR      12.379842\n",
       "HINOREFUSER    17.472235\n",
       "HINOTHER       12.379842\n",
       "HINOWANT       94.907607\n",
       "HINOELIG       94.907607\n",
       "HINOCONF       94.907607\n",
       "HINOMEET       94.907607\n",
       "HINOWAIT       94.907607\n",
       "HINOMISS       94.907607\n",
       "dtype: float64"
      ]
     },
     "execution_count": 7,
     "metadata": {},
     "output_type": "execute_result"
    }
   ],
   "source": [
    "# dropping all the rows with missing values\n",
    "df_analysis.isna().sum() / df_analysis.shape[0] * 100"
   ]
  },
  {
   "cell_type": "code",
   "execution_count": 8,
   "metadata": {},
   "outputs": [],
   "source": [
    "# filtering only the rows for people wihout health insurance\n",
    "df_analysis = df_analysis[df_analysis[\"HINOTCOVE\"] == 2]"
   ]
  },
  {
   "cell_type": "code",
   "execution_count": 9,
   "metadata": {},
   "outputs": [
    {
     "data": {
      "text/plain": [
       "YEAR             0.000000\n",
       "HINOTCOVE        0.000000\n",
       "HICOVSTAT      100.000000\n",
       "HIOTHGOVYR      70.270428\n",
       "HINOLAPYMO     100.000000\n",
       "HINOLASTCOV    100.000000\n",
       "HINOUNEMPR       0.000000\n",
       "HINOEMPR         3.396505\n",
       "HINOFAMR         3.396505\n",
       "HINOAGER         3.396505\n",
       "HINOCOSTR        0.000000\n",
       "HINOREFUSER      3.396505\n",
       "HINOTHER         0.000000\n",
       "HINOWANT        96.603495\n",
       "HINOELIG        96.603495\n",
       "HINOCONF        96.603495\n",
       "HINOMEET        96.603495\n",
       "HINOWAIT        96.603495\n",
       "HINOMISS        96.603495\n",
       "dtype: float64"
      ]
     },
     "execution_count": 9,
     "metadata": {},
     "output_type": "execute_result"
    }
   ],
   "source": [
    "df_analysis.isna().sum() / df_analysis.shape[0] * 100"
   ]
  },
  {
   "cell_type": "code",
   "execution_count": null,
   "metadata": {},
   "outputs": [],
   "source": [
    "level_2 = [\n",
    "    \"YEAR\",\n",
    "    \"HINOUNEMPR\",\n",
    "    \"HINOEMPR\",\n",
    "    \"HINOFAMR\",\n",
    "    \"HINOAGER\",\n",
    "    \"HINOCOSTR\",\n",
    "    \"HINOREFUSER\",\n",
    "    \"HINOTHER\",\n",
    "]"
   ]
  }
 ],
 "metadata": {
  "kernelspec": {
   "display_name": "base",
   "language": "python",
   "name": "python3"
  },
  "language_info": {
   "codemirror_mode": {
    "name": "ipython",
    "version": 3
   },
   "file_extension": ".py",
   "mimetype": "text/x-python",
   "name": "python",
   "nbconvert_exporter": "python",
   "pygments_lexer": "ipython3",
   "version": "3.11.5"
  }
 },
 "nbformat": 4,
 "nbformat_minor": 2
}
