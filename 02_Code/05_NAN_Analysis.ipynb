{
 "cells": [
  {
   "cell_type": "code",
   "execution_count": 1,
   "metadata": {},
   "outputs": [],
   "source": [
    "# importing required libraries\n",
    "import numpy as np\n",
    "import pandas as pd\n",
    "import matplotlib.pyplot as plt\n",
    "import warnings\n",
    "\n",
    "# Setting default options\n",
    "warnings.filterwarnings(\"ignore\")\n",
    "pd.set_option(\"mode.copy_on_write\", True)"
   ]
  },
  {
   "cell_type": "code",
   "execution_count": 2,
   "metadata": {},
   "outputs": [
    {
     "data": {
      "text/html": [
       "<div>\n",
       "<style scoped>\n",
       "    .dataframe tbody tr th:only-of-type {\n",
       "        vertical-align: middle;\n",
       "    }\n",
       "\n",
       "    .dataframe tbody tr th {\n",
       "        vertical-align: top;\n",
       "    }\n",
       "\n",
       "    .dataframe thead th {\n",
       "        text-align: right;\n",
       "    }\n",
       "</style>\n",
       "<table border=\"1\" class=\"dataframe\">\n",
       "  <thead>\n",
       "    <tr style=\"text-align: right;\">\n",
       "      <th></th>\n",
       "      <th>YEAR</th>\n",
       "      <th>SEX</th>\n",
       "      <th>RACENEW</th>\n",
       "      <th>INCFAM97ON2</th>\n",
       "      <th>HINOTCOVE</th>\n",
       "      <th>CNLUNG</th>\n",
       "      <th>SMK</th>\n",
       "      <th>Occupation_Code</th>\n",
       "    </tr>\n",
       "  </thead>\n",
       "  <tbody>\n",
       "    <tr>\n",
       "      <th>28202</th>\n",
       "      <td>2012</td>\n",
       "      <td>2</td>\n",
       "      <td>100.0</td>\n",
       "      <td>20.0</td>\n",
       "      <td>1.0</td>\n",
       "      <td>1.0</td>\n",
       "      <td>2</td>\n",
       "      <td>1</td>\n",
       "    </tr>\n",
       "    <tr>\n",
       "      <th>35163</th>\n",
       "      <td>2014</td>\n",
       "      <td>2</td>\n",
       "      <td>100.0</td>\n",
       "      <td>10.0</td>\n",
       "      <td>1.0</td>\n",
       "      <td>1.0</td>\n",
       "      <td>2</td>\n",
       "      <td>1</td>\n",
       "    </tr>\n",
       "    <tr>\n",
       "      <th>13752</th>\n",
       "      <td>2006</td>\n",
       "      <td>2</td>\n",
       "      <td>100.0</td>\n",
       "      <td>10.0</td>\n",
       "      <td>1.0</td>\n",
       "      <td>1.0</td>\n",
       "      <td>2</td>\n",
       "      <td>1</td>\n",
       "    </tr>\n",
       "    <tr>\n",
       "      <th>29656</th>\n",
       "      <td>2013</td>\n",
       "      <td>2</td>\n",
       "      <td>100.0</td>\n",
       "      <td>20.0</td>\n",
       "      <td>1.0</td>\n",
       "      <td>1.0</td>\n",
       "      <td>2</td>\n",
       "      <td>5</td>\n",
       "    </tr>\n",
       "    <tr>\n",
       "      <th>13700</th>\n",
       "      <td>2006</td>\n",
       "      <td>2</td>\n",
       "      <td>200.0</td>\n",
       "      <td>10.0</td>\n",
       "      <td>1.0</td>\n",
       "      <td>1.0</td>\n",
       "      <td>1</td>\n",
       "      <td>0</td>\n",
       "    </tr>\n",
       "  </tbody>\n",
       "</table>\n",
       "</div>"
      ],
      "text/plain": [
       "       YEAR  SEX  RACENEW  INCFAM97ON2  HINOTCOVE  CNLUNG  SMK  \\\n",
       "28202  2012    2    100.0         20.0        1.0     1.0    2   \n",
       "35163  2014    2    100.0         10.0        1.0     1.0    2   \n",
       "13752  2006    2    100.0         10.0        1.0     1.0    2   \n",
       "29656  2013    2    100.0         20.0        1.0     1.0    2   \n",
       "13700  2006    2    200.0         10.0        1.0     1.0    1   \n",
       "\n",
       "       Occupation_Code  \n",
       "28202                1  \n",
       "35163                1  \n",
       "13752                1  \n",
       "29656                5  \n",
       "13700                0  "
      ]
     },
     "execution_count": 2,
     "metadata": {},
     "output_type": "execute_result"
    }
   ],
   "source": [
    "# loading the Data\n",
    "df = pd.read_csv(\"/Users/revanth/Downloads/insurance_data_cleaned.csv\")\n",
    "df.sample(5)"
   ]
  },
  {
   "cell_type": "code",
   "execution_count": 3,
   "metadata": {},
   "outputs": [
    {
     "data": {
      "text/html": [
       "<div>\n",
       "<style scoped>\n",
       "    .dataframe tbody tr th:only-of-type {\n",
       "        vertical-align: middle;\n",
       "    }\n",
       "\n",
       "    .dataframe tbody tr th {\n",
       "        vertical-align: top;\n",
       "    }\n",
       "\n",
       "    .dataframe thead th {\n",
       "        text-align: right;\n",
       "    }\n",
       "</style>\n",
       "<table border=\"1\" class=\"dataframe\">\n",
       "  <thead>\n",
       "    <tr style=\"text-align: right;\">\n",
       "      <th></th>\n",
       "      <th>YEAR</th>\n",
       "      <th>SEX</th>\n",
       "      <th>RACENEW</th>\n",
       "      <th>INCFAM97ON2</th>\n",
       "      <th>HINOTCOVE</th>\n",
       "      <th>CNLUNG</th>\n",
       "      <th>SMK</th>\n",
       "      <th>Occupation_Code</th>\n",
       "    </tr>\n",
       "  </thead>\n",
       "  <tbody>\n",
       "    <tr>\n",
       "      <th>count</th>\n",
       "      <td>48854.000000</td>\n",
       "      <td>48854.000000</td>\n",
       "      <td>48854.000000</td>\n",
       "      <td>48854.000000</td>\n",
       "      <td>48854.000000</td>\n",
       "      <td>48854.000000</td>\n",
       "      <td>48854.000000</td>\n",
       "      <td>48854.000000</td>\n",
       "    </tr>\n",
       "    <tr>\n",
       "      <th>mean</th>\n",
       "      <td>2009.918226</td>\n",
       "      <td>1.603246</td>\n",
       "      <td>121.718078</td>\n",
       "      <td>19.889262</td>\n",
       "      <td>1.049597</td>\n",
       "      <td>1.032198</td>\n",
       "      <td>1.459185</td>\n",
       "      <td>6.947271</td>\n",
       "    </tr>\n",
       "    <tr>\n",
       "      <th>std</th>\n",
       "      <td>5.529163</td>\n",
       "      <td>0.489229</td>\n",
       "      <td>72.960737</td>\n",
       "      <td>18.287774</td>\n",
       "      <td>0.217113</td>\n",
       "      <td>0.176527</td>\n",
       "      <td>0.512591</td>\n",
       "      <td>7.390755</td>\n",
       "    </tr>\n",
       "    <tr>\n",
       "      <th>min</th>\n",
       "      <td>2000.000000</td>\n",
       "      <td>1.000000</td>\n",
       "      <td>100.000000</td>\n",
       "      <td>0.000000</td>\n",
       "      <td>1.000000</td>\n",
       "      <td>1.000000</td>\n",
       "      <td>0.000000</td>\n",
       "      <td>0.000000</td>\n",
       "    </tr>\n",
       "    <tr>\n",
       "      <th>25%</th>\n",
       "      <td>2005.000000</td>\n",
       "      <td>1.000000</td>\n",
       "      <td>100.000000</td>\n",
       "      <td>10.000000</td>\n",
       "      <td>1.000000</td>\n",
       "      <td>1.000000</td>\n",
       "      <td>1.000000</td>\n",
       "      <td>1.000000</td>\n",
       "    </tr>\n",
       "    <tr>\n",
       "      <th>50%</th>\n",
       "      <td>2011.000000</td>\n",
       "      <td>2.000000</td>\n",
       "      <td>100.000000</td>\n",
       "      <td>20.000000</td>\n",
       "      <td>1.000000</td>\n",
       "      <td>1.000000</td>\n",
       "      <td>1.000000</td>\n",
       "      <td>4.000000</td>\n",
       "    </tr>\n",
       "    <tr>\n",
       "      <th>75%</th>\n",
       "      <td>2015.000000</td>\n",
       "      <td>2.000000</td>\n",
       "      <td>100.000000</td>\n",
       "      <td>30.000000</td>\n",
       "      <td>1.000000</td>\n",
       "      <td>1.000000</td>\n",
       "      <td>2.000000</td>\n",
       "      <td>10.000000</td>\n",
       "    </tr>\n",
       "    <tr>\n",
       "      <th>max</th>\n",
       "      <td>2018.000000</td>\n",
       "      <td>2.000000</td>\n",
       "      <td>541.000000</td>\n",
       "      <td>96.000000</td>\n",
       "      <td>2.000000</td>\n",
       "      <td>2.000000</td>\n",
       "      <td>2.000000</td>\n",
       "      <td>33.000000</td>\n",
       "    </tr>\n",
       "  </tbody>\n",
       "</table>\n",
       "</div>"
      ],
      "text/plain": [
       "               YEAR           SEX       RACENEW   INCFAM97ON2     HINOTCOVE  \\\n",
       "count  48854.000000  48854.000000  48854.000000  48854.000000  48854.000000   \n",
       "mean    2009.918226      1.603246    121.718078     19.889262      1.049597   \n",
       "std        5.529163      0.489229     72.960737     18.287774      0.217113   \n",
       "min     2000.000000      1.000000    100.000000      0.000000      1.000000   \n",
       "25%     2005.000000      1.000000    100.000000     10.000000      1.000000   \n",
       "50%     2011.000000      2.000000    100.000000     20.000000      1.000000   \n",
       "75%     2015.000000      2.000000    100.000000     30.000000      1.000000   \n",
       "max     2018.000000      2.000000    541.000000     96.000000      2.000000   \n",
       "\n",
       "             CNLUNG           SMK  Occupation_Code  \n",
       "count  48854.000000  48854.000000     48854.000000  \n",
       "mean       1.032198      1.459185         6.947271  \n",
       "std        0.176527      0.512591         7.390755  \n",
       "min        1.000000      0.000000         0.000000  \n",
       "25%        1.000000      1.000000         1.000000  \n",
       "50%        1.000000      1.000000         4.000000  \n",
       "75%        1.000000      2.000000        10.000000  \n",
       "max        2.000000      2.000000        33.000000  "
      ]
     },
     "execution_count": 3,
     "metadata": {},
     "output_type": "execute_result"
    }
   ],
   "source": [
    "df.describe()"
   ]
  },
  {
   "cell_type": "code",
   "execution_count": 4,
   "metadata": {},
   "outputs": [
    {
     "name": "stdout",
     "output_type": "stream",
     "text": [
      "<class 'pandas.core.frame.DataFrame'>\n",
      "RangeIndex: 48854 entries, 0 to 48853\n",
      "Data columns (total 8 columns):\n",
      " #   Column           Non-Null Count  Dtype  \n",
      "---  ------           --------------  -----  \n",
      " 0   YEAR             48854 non-null  int64  \n",
      " 1   SEX              48854 non-null  int64  \n",
      " 2   RACENEW          48854 non-null  float64\n",
      " 3   INCFAM97ON2      48854 non-null  float64\n",
      " 4   HINOTCOVE        48854 non-null  float64\n",
      " 5   CNLUNG           48854 non-null  float64\n",
      " 6   SMK              48854 non-null  int64  \n",
      " 7   Occupation_Code  48854 non-null  int64  \n",
      "dtypes: float64(4), int64(4)\n",
      "memory usage: 3.0 MB\n"
     ]
    }
   ],
   "source": [
    "df.info()"
   ]
  },
  {
   "cell_type": "code",
   "execution_count": 17,
   "metadata": {},
   "outputs": [
    {
     "data": {
      "text/plain": [
       "YEAR               0\n",
       "SEX                0\n",
       "RACENEW            0\n",
       "INCFAM97ON2        0\n",
       "HINOTCOVE          0\n",
       "CNLUNG             0\n",
       "SMK                0\n",
       "Occupation_Code    0\n",
       "dtype: int64"
      ]
     },
     "execution_count": 17,
     "metadata": {},
     "output_type": "execute_result"
    }
   ],
   "source": [
    "# check if any actual null values\n",
    "df.isnull().sum()"
   ]
  },
  {
   "cell_type": "markdown",
   "metadata": {},
   "source": [
    "Column by column checks"
   ]
  },
  {
   "cell_type": "code",
   "execution_count": 5,
   "metadata": {},
   "outputs": [
    {
     "data": {
      "text/plain": [
       "YEAR\n",
       "2000    2142\n",
       "2001    2311\n",
       "2002    2240\n",
       "2003    2125\n",
       "2004    2313\n",
       "2005    2408\n",
       "2006    1722\n",
       "2007    1770\n",
       "2008    1842\n",
       "2009    2297\n",
       "2010    2315\n",
       "2011    2850\n",
       "2012    3101\n",
       "2013    3072\n",
       "2014    3426\n",
       "2015    3277\n",
       "2016    3666\n",
       "2017    3053\n",
       "2018    2924\n",
       "Name: count, dtype: int64"
      ]
     },
     "execution_count": 5,
     "metadata": {},
     "output_type": "execute_result"
    }
   ],
   "source": [
    "df[\"YEAR\"].value_counts().sort_index()"
   ]
  },
  {
   "cell_type": "code",
   "execution_count": 6,
   "metadata": {},
   "outputs": [
    {
     "data": {
      "text/plain": [
       "SEX\n",
       "2    29471\n",
       "1    19383\n",
       "Name: count, dtype: int64"
      ]
     },
     "execution_count": 6,
     "metadata": {},
     "output_type": "execute_result"
    }
   ],
   "source": [
    "df[\"SEX\"].value_counts()"
   ]
  },
  {
   "cell_type": "code",
   "execution_count": 7,
   "metadata": {},
   "outputs": [
    {
     "data": {
      "text/plain": [
       "RACENEW\n",
       "100.0    43001\n",
       "200.0     3886\n",
       "300.0      268\n",
       "400.0      911\n",
       "520.0       75\n",
       "530.0       38\n",
       "541.0      675\n",
       "Name: count, dtype: int64"
      ]
     },
     "execution_count": 7,
     "metadata": {},
     "output_type": "execute_result"
    }
   ],
   "source": [
    "df[\"RACENEW\"].value_counts().sort_index()"
   ]
  },
  {
   "cell_type": "markdown",
   "metadata": {},
   "source": [
    "consider 530 and 540 as the NaN values"
   ]
  },
  {
   "cell_type": "code",
   "execution_count": 8,
   "metadata": {},
   "outputs": [
    {
     "data": {
      "text/plain": [
       "INCFAM97ON2\n",
       "0.0      3880\n",
       "10.0    19753\n",
       "20.0    12727\n",
       "30.0     2018\n",
       "31.0     3148\n",
       "32.0     5344\n",
       "96.0     1984\n",
       "Name: count, dtype: int64"
      ]
     },
     "execution_count": 8,
     "metadata": {},
     "output_type": "execute_result"
    }
   ],
   "source": [
    "df[\"INCFAM97ON2\"].value_counts().sort_index()"
   ]
  },
  {
   "cell_type": "markdown",
   "metadata": {},
   "source": [
    "0 as Nan, should we consider 96 as well?"
   ]
  },
  {
   "cell_type": "code",
   "execution_count": 9,
   "metadata": {},
   "outputs": [
    {
     "data": {
      "text/plain": [
       "HINOTCOVE\n",
       "1.0    46431\n",
       "2.0     2423\n",
       "Name: count, dtype: int64"
      ]
     },
     "execution_count": 9,
     "metadata": {},
     "output_type": "execute_result"
    }
   ],
   "source": [
    "df[\"HINOTCOVE\"].value_counts().sort_index()"
   ]
  },
  {
   "cell_type": "code",
   "execution_count": 10,
   "metadata": {},
   "outputs": [
    {
     "data": {
      "text/plain": [
       "CNLUNG\n",
       "1.0    47281\n",
       "2.0     1573\n",
       "Name: count, dtype: int64"
      ]
     },
     "execution_count": 10,
     "metadata": {},
     "output_type": "execute_result"
    }
   ],
   "source": [
    "df[\"CNLUNG\"].value_counts().sort_index()"
   ]
  },
  {
   "cell_type": "code",
   "execution_count": 11,
   "metadata": {},
   "outputs": [
    {
     "data": {
      "text/plain": [
       "SMK\n",
       "0      352\n",
       "1    25717\n",
       "2    22785\n",
       "Name: count, dtype: int64"
      ]
     },
     "execution_count": 11,
     "metadata": {},
     "output_type": "execute_result"
    }
   ],
   "source": [
    "df[\"SMK\"].value_counts().sort_index()"
   ]
  },
  {
   "cell_type": "code",
   "execution_count": 12,
   "metadata": {},
   "outputs": [
    {
     "data": {
      "text/plain": [
       "Occupation_Code\n",
       "0     7773\n",
       "1     6292\n",
       "2     3947\n",
       "3     3585\n",
       "4     3393\n",
       "5     3034\n",
       "6     2093\n",
       "7     2070\n",
       "8     1650\n",
       "9     1507\n",
       "10    1346\n",
       "11    1208\n",
       "12    1161\n",
       "13    1119\n",
       "14     848\n",
       "15     808\n",
       "16     697\n",
       "17     680\n",
       "18     674\n",
       "19     611\n",
       "20     553\n",
       "21     524\n",
       "22     516\n",
       "23     444\n",
       "24     373\n",
       "25     370\n",
       "26     363\n",
       "27     363\n",
       "28     290\n",
       "29     226\n",
       "30     111\n",
       "31      96\n",
       "32      70\n",
       "33      59\n",
       "Name: count, dtype: int64"
      ]
     },
     "execution_count": 12,
     "metadata": {},
     "output_type": "execute_result"
    }
   ],
   "source": [
    "df[\"Occupation_Code\"].value_counts().sort_index()"
   ]
  },
  {
   "cell_type": "markdown",
   "metadata": {},
   "source": [
    "## Analysis"
   ]
  },
  {
   "cell_type": "markdown",
   "metadata": {},
   "source": [
    "Only The following columns are required for the analysis:\n",
    "- Race\n",
    "- Income\n",
    "- Smoke\n",
    "- Occupation"
   ]
  },
  {
   "cell_type": "code",
   "execution_count": 13,
   "metadata": {},
   "outputs": [
    {
     "data": {
      "text/html": [
       "<div>\n",
       "<style scoped>\n",
       "    .dataframe tbody tr th:only-of-type {\n",
       "        vertical-align: middle;\n",
       "    }\n",
       "\n",
       "    .dataframe tbody tr th {\n",
       "        vertical-align: top;\n",
       "    }\n",
       "\n",
       "    .dataframe thead th {\n",
       "        text-align: right;\n",
       "    }\n",
       "</style>\n",
       "<table border=\"1\" class=\"dataframe\">\n",
       "  <thead>\n",
       "    <tr style=\"text-align: right;\">\n",
       "      <th></th>\n",
       "      <th>race</th>\n",
       "      <th>inc</th>\n",
       "      <th>smk</th>\n",
       "      <th>occ</th>\n",
       "    </tr>\n",
       "  </thead>\n",
       "  <tbody>\n",
       "    <tr>\n",
       "      <th>48258</th>\n",
       "      <td>100.0</td>\n",
       "      <td>10.0</td>\n",
       "      <td>1</td>\n",
       "      <td>11</td>\n",
       "    </tr>\n",
       "    <tr>\n",
       "      <th>42280</th>\n",
       "      <td>100.0</td>\n",
       "      <td>20.0</td>\n",
       "      <td>2</td>\n",
       "      <td>0</td>\n",
       "    </tr>\n",
       "    <tr>\n",
       "      <th>2240</th>\n",
       "      <td>100.0</td>\n",
       "      <td>10.0</td>\n",
       "      <td>1</td>\n",
       "      <td>20</td>\n",
       "    </tr>\n",
       "    <tr>\n",
       "      <th>14963</th>\n",
       "      <td>200.0</td>\n",
       "      <td>10.0</td>\n",
       "      <td>1</td>\n",
       "      <td>8</td>\n",
       "    </tr>\n",
       "    <tr>\n",
       "      <th>46582</th>\n",
       "      <td>100.0</td>\n",
       "      <td>20.0</td>\n",
       "      <td>1</td>\n",
       "      <td>12</td>\n",
       "    </tr>\n",
       "  </tbody>\n",
       "</table>\n",
       "</div>"
      ],
      "text/plain": [
       "        race   inc  smk  occ\n",
       "48258  100.0  10.0    1   11\n",
       "42280  100.0  20.0    2    0\n",
       "2240   100.0  10.0    1   20\n",
       "14963  200.0  10.0    1    8\n",
       "46582  100.0  20.0    1   12"
      ]
     },
     "execution_count": 13,
     "metadata": {},
     "output_type": "execute_result"
    }
   ],
   "source": [
    "# creating a subset of the data with only the columns we need\n",
    "required_columns = [\"RACENEW\", \"INCFAM97ON2\", \"SMK\", \"Occupation_Code\"]\n",
    "\n",
    "df_analysis = df[required_columns]\n",
    "\n",
    "# rename the columns\n",
    "col_map = {\n",
    "    \"RACENEW\": \"race\",\n",
    "    \"INCFAM97ON2\": \"inc\",\n",
    "    \"SMK\": \"smk\",\n",
    "    \"Occupation_Code\": \"occ\",\n",
    "}\n",
    "df_analysis.rename(columns=col_map, inplace=True)\n",
    "df_analysis.sample(5)"
   ]
  },
  {
   "cell_type": "code",
   "execution_count": 14,
   "metadata": {},
   "outputs": [],
   "source": [
    "# Remapping rules,\n",
    "# Add the values which need to be considered as 1 in remapping, rest will be considered as 0\n",
    "remap_race = [530, 540]\n",
    "remap_smk = [0]\n",
    "remap_inc = [0]\n",
    "remap_occ = [0]"
   ]
  },
  {
   "cell_type": "code",
   "execution_count": 15,
   "metadata": {},
   "outputs": [],
   "source": [
    "def converter(val, remap_list):\n",
    "    # takes in a value and  a list of values to consider as \"missing\" which will be marked as 1 and the rest will be marked as 0\n",
    "    if val in remap_list:\n",
    "        return 1\n",
    "    else:\n",
    "        return 0"
   ]
  },
  {
   "cell_type": "code",
   "execution_count": 16,
   "metadata": {},
   "outputs": [],
   "source": [
    "# applying remapping rules\n",
    "df_analysis[\"inc\"] = df_analysis[\"inc\"].apply(lambda x: converter(x, remap_inc))\n",
    "df_analysis[\"occ\"] = df_analysis[\"occ\"].apply(lambda x: converter(x, remap_occ))\n",
    "df_analysis[\"race\"] = df_analysis[\"race\"].apply(lambda x: converter(x, remap_race))\n",
    "df_analysis[\"smk\"] = df_analysis[\"smk\"].apply(lambda x: converter(x, remap_smk))"
   ]
  },
  {
   "cell_type": "code",
   "execution_count": 18,
   "metadata": {},
   "outputs": [],
   "source": [
    "def any_null(row):\n",
    "    # check if any value in the row is 1 and returns 1 if any value is 1\n",
    "    if 1 in row.values:\n",
    "        return 1\n",
    "    else:\n",
    "        return 0"
   ]
  },
  {
   "cell_type": "code",
   "execution_count": 19,
   "metadata": {},
   "outputs": [],
   "source": [
    "# applying funtion to the dataframe\n",
    "df_analysis[\"any_null\"] = df_analysis.apply(lambda x: any_null(x), axis=1)"
   ]
  },
  {
   "cell_type": "code",
   "execution_count": 20,
   "metadata": {},
   "outputs": [
    {
     "data": {
      "text/html": [
       "<div>\n",
       "<style scoped>\n",
       "    .dataframe tbody tr th:only-of-type {\n",
       "        vertical-align: middle;\n",
       "    }\n",
       "\n",
       "    .dataframe tbody tr th {\n",
       "        vertical-align: top;\n",
       "    }\n",
       "\n",
       "    .dataframe thead th {\n",
       "        text-align: right;\n",
       "    }\n",
       "</style>\n",
       "<table border=\"1\" class=\"dataframe\">\n",
       "  <thead>\n",
       "    <tr style=\"text-align: right;\">\n",
       "      <th></th>\n",
       "      <th>race</th>\n",
       "      <th>inc</th>\n",
       "      <th>smk</th>\n",
       "      <th>occ</th>\n",
       "      <th>any_null</th>\n",
       "    </tr>\n",
       "  </thead>\n",
       "  <tbody>\n",
       "    <tr>\n",
       "      <th>37358</th>\n",
       "      <td>0</td>\n",
       "      <td>0</td>\n",
       "      <td>0</td>\n",
       "      <td>0</td>\n",
       "      <td>0</td>\n",
       "    </tr>\n",
       "    <tr>\n",
       "      <th>10276</th>\n",
       "      <td>0</td>\n",
       "      <td>0</td>\n",
       "      <td>0</td>\n",
       "      <td>0</td>\n",
       "      <td>0</td>\n",
       "    </tr>\n",
       "    <tr>\n",
       "      <th>46214</th>\n",
       "      <td>0</td>\n",
       "      <td>0</td>\n",
       "      <td>0</td>\n",
       "      <td>0</td>\n",
       "      <td>0</td>\n",
       "    </tr>\n",
       "    <tr>\n",
       "      <th>30238</th>\n",
       "      <td>0</td>\n",
       "      <td>0</td>\n",
       "      <td>0</td>\n",
       "      <td>0</td>\n",
       "      <td>0</td>\n",
       "    </tr>\n",
       "    <tr>\n",
       "      <th>17996</th>\n",
       "      <td>0</td>\n",
       "      <td>0</td>\n",
       "      <td>0</td>\n",
       "      <td>0</td>\n",
       "      <td>0</td>\n",
       "    </tr>\n",
       "  </tbody>\n",
       "</table>\n",
       "</div>"
      ],
      "text/plain": [
       "       race  inc  smk  occ  any_null\n",
       "37358     0    0    0    0         0\n",
       "10276     0    0    0    0         0\n",
       "46214     0    0    0    0         0\n",
       "30238     0    0    0    0         0\n",
       "17996     0    0    0    0         0"
      ]
     },
     "execution_count": 20,
     "metadata": {},
     "output_type": "execute_result"
    }
   ],
   "source": [
    "df_analysis.sample(5)"
   ]
  },
  {
   "cell_type": "code",
   "execution_count": 21,
   "metadata": {},
   "outputs": [
    {
     "data": {
      "text/html": [
       "<div>\n",
       "<style scoped>\n",
       "    .dataframe tbody tr th:only-of-type {\n",
       "        vertical-align: middle;\n",
       "    }\n",
       "\n",
       "    .dataframe tbody tr th {\n",
       "        vertical-align: top;\n",
       "    }\n",
       "\n",
       "    .dataframe thead th {\n",
       "        text-align: right;\n",
       "    }\n",
       "</style>\n",
       "<table border=\"1\" class=\"dataframe\">\n",
       "  <thead>\n",
       "    <tr style=\"text-align: right;\">\n",
       "      <th></th>\n",
       "      <th>race</th>\n",
       "      <th>inc</th>\n",
       "      <th>smk</th>\n",
       "      <th>occ</th>\n",
       "      <th>any_null</th>\n",
       "    </tr>\n",
       "  </thead>\n",
       "  <tbody>\n",
       "    <tr>\n",
       "      <th>count</th>\n",
       "      <td>48854.000000</td>\n",
       "      <td>48854.000000</td>\n",
       "      <td>48854.000000</td>\n",
       "      <td>48854.000000</td>\n",
       "      <td>48854.000000</td>\n",
       "    </tr>\n",
       "    <tr>\n",
       "      <th>mean</th>\n",
       "      <td>0.000778</td>\n",
       "      <td>0.079420</td>\n",
       "      <td>0.007205</td>\n",
       "      <td>0.159107</td>\n",
       "      <td>0.226512</td>\n",
       "    </tr>\n",
       "    <tr>\n",
       "      <th>std</th>\n",
       "      <td>0.027879</td>\n",
       "      <td>0.270396</td>\n",
       "      <td>0.084578</td>\n",
       "      <td>0.365779</td>\n",
       "      <td>0.418578</td>\n",
       "    </tr>\n",
       "    <tr>\n",
       "      <th>min</th>\n",
       "      <td>0.000000</td>\n",
       "      <td>0.000000</td>\n",
       "      <td>0.000000</td>\n",
       "      <td>0.000000</td>\n",
       "      <td>0.000000</td>\n",
       "    </tr>\n",
       "    <tr>\n",
       "      <th>25%</th>\n",
       "      <td>0.000000</td>\n",
       "      <td>0.000000</td>\n",
       "      <td>0.000000</td>\n",
       "      <td>0.000000</td>\n",
       "      <td>0.000000</td>\n",
       "    </tr>\n",
       "    <tr>\n",
       "      <th>50%</th>\n",
       "      <td>0.000000</td>\n",
       "      <td>0.000000</td>\n",
       "      <td>0.000000</td>\n",
       "      <td>0.000000</td>\n",
       "      <td>0.000000</td>\n",
       "    </tr>\n",
       "    <tr>\n",
       "      <th>75%</th>\n",
       "      <td>0.000000</td>\n",
       "      <td>0.000000</td>\n",
       "      <td>0.000000</td>\n",
       "      <td>0.000000</td>\n",
       "      <td>0.000000</td>\n",
       "    </tr>\n",
       "    <tr>\n",
       "      <th>max</th>\n",
       "      <td>1.000000</td>\n",
       "      <td>1.000000</td>\n",
       "      <td>1.000000</td>\n",
       "      <td>1.000000</td>\n",
       "      <td>1.000000</td>\n",
       "    </tr>\n",
       "  </tbody>\n",
       "</table>\n",
       "</div>"
      ],
      "text/plain": [
       "               race           inc           smk           occ      any_null\n",
       "count  48854.000000  48854.000000  48854.000000  48854.000000  48854.000000\n",
       "mean       0.000778      0.079420      0.007205      0.159107      0.226512\n",
       "std        0.027879      0.270396      0.084578      0.365779      0.418578\n",
       "min        0.000000      0.000000      0.000000      0.000000      0.000000\n",
       "25%        0.000000      0.000000      0.000000      0.000000      0.000000\n",
       "50%        0.000000      0.000000      0.000000      0.000000      0.000000\n",
       "75%        0.000000      0.000000      0.000000      0.000000      0.000000\n",
       "max        1.000000      1.000000      1.000000      1.000000      1.000000"
      ]
     },
     "execution_count": 21,
     "metadata": {},
     "output_type": "execute_result"
    }
   ],
   "source": [
    "df_analysis.describe()"
   ]
  },
  {
   "cell_type": "code",
   "execution_count": 23,
   "metadata": {},
   "outputs": [],
   "source": [
    "# function to exclude columns and calculate the any_nul\n",
    "def any_null_exclude(row, exclude_lst):\n",
    "    # check if any value in the row is 1 and returns 1 if any value is 1\n",
    "    if 1 in row.drop(exclude_lst).values:\n",
    "        return 1\n",
    "    else:\n",
    "        return 0"
   ]
  },
  {
   "cell_type": "code",
   "execution_count": 24,
   "metadata": {},
   "outputs": [],
   "source": [
    "# excluding the occ and any_null columns\n",
    "df_analysis[\"any_null_exclude_occ\"] = df_analysis.apply(\n",
    "    lambda x: any_null_exclude(x, [\"occ\", \"any_null\"]), axis=1\n",
    ")"
   ]
  },
  {
   "cell_type": "code",
   "execution_count": 25,
   "metadata": {},
   "outputs": [
    {
     "data": {
      "text/html": [
       "<div>\n",
       "<style scoped>\n",
       "    .dataframe tbody tr th:only-of-type {\n",
       "        vertical-align: middle;\n",
       "    }\n",
       "\n",
       "    .dataframe tbody tr th {\n",
       "        vertical-align: top;\n",
       "    }\n",
       "\n",
       "    .dataframe thead th {\n",
       "        text-align: right;\n",
       "    }\n",
       "</style>\n",
       "<table border=\"1\" class=\"dataframe\">\n",
       "  <thead>\n",
       "    <tr style=\"text-align: right;\">\n",
       "      <th></th>\n",
       "      <th>race</th>\n",
       "      <th>inc</th>\n",
       "      <th>smk</th>\n",
       "      <th>occ</th>\n",
       "      <th>any_null</th>\n",
       "      <th>any_null_exclude_occ</th>\n",
       "    </tr>\n",
       "  </thead>\n",
       "  <tbody>\n",
       "    <tr>\n",
       "      <th>count</th>\n",
       "      <td>48854.000000</td>\n",
       "      <td>48854.000000</td>\n",
       "      <td>48854.000000</td>\n",
       "      <td>48854.000000</td>\n",
       "      <td>48854.000000</td>\n",
       "      <td>48854.000000</td>\n",
       "    </tr>\n",
       "    <tr>\n",
       "      <th>mean</th>\n",
       "      <td>0.000778</td>\n",
       "      <td>0.079420</td>\n",
       "      <td>0.007205</td>\n",
       "      <td>0.159107</td>\n",
       "      <td>0.226512</td>\n",
       "      <td>0.085766</td>\n",
       "    </tr>\n",
       "    <tr>\n",
       "      <th>std</th>\n",
       "      <td>0.027879</td>\n",
       "      <td>0.270396</td>\n",
       "      <td>0.084578</td>\n",
       "      <td>0.365779</td>\n",
       "      <td>0.418578</td>\n",
       "      <td>0.280021</td>\n",
       "    </tr>\n",
       "    <tr>\n",
       "      <th>min</th>\n",
       "      <td>0.000000</td>\n",
       "      <td>0.000000</td>\n",
       "      <td>0.000000</td>\n",
       "      <td>0.000000</td>\n",
       "      <td>0.000000</td>\n",
       "      <td>0.000000</td>\n",
       "    </tr>\n",
       "    <tr>\n",
       "      <th>25%</th>\n",
       "      <td>0.000000</td>\n",
       "      <td>0.000000</td>\n",
       "      <td>0.000000</td>\n",
       "      <td>0.000000</td>\n",
       "      <td>0.000000</td>\n",
       "      <td>0.000000</td>\n",
       "    </tr>\n",
       "    <tr>\n",
       "      <th>50%</th>\n",
       "      <td>0.000000</td>\n",
       "      <td>0.000000</td>\n",
       "      <td>0.000000</td>\n",
       "      <td>0.000000</td>\n",
       "      <td>0.000000</td>\n",
       "      <td>0.000000</td>\n",
       "    </tr>\n",
       "    <tr>\n",
       "      <th>75%</th>\n",
       "      <td>0.000000</td>\n",
       "      <td>0.000000</td>\n",
       "      <td>0.000000</td>\n",
       "      <td>0.000000</td>\n",
       "      <td>0.000000</td>\n",
       "      <td>0.000000</td>\n",
       "    </tr>\n",
       "    <tr>\n",
       "      <th>max</th>\n",
       "      <td>1.000000</td>\n",
       "      <td>1.000000</td>\n",
       "      <td>1.000000</td>\n",
       "      <td>1.000000</td>\n",
       "      <td>1.000000</td>\n",
       "      <td>1.000000</td>\n",
       "    </tr>\n",
       "  </tbody>\n",
       "</table>\n",
       "</div>"
      ],
      "text/plain": [
       "               race           inc           smk           occ      any_null  \\\n",
       "count  48854.000000  48854.000000  48854.000000  48854.000000  48854.000000   \n",
       "mean       0.000778      0.079420      0.007205      0.159107      0.226512   \n",
       "std        0.027879      0.270396      0.084578      0.365779      0.418578   \n",
       "min        0.000000      0.000000      0.000000      0.000000      0.000000   \n",
       "25%        0.000000      0.000000      0.000000      0.000000      0.000000   \n",
       "50%        0.000000      0.000000      0.000000      0.000000      0.000000   \n",
       "75%        0.000000      0.000000      0.000000      0.000000      0.000000   \n",
       "max        1.000000      1.000000      1.000000      1.000000      1.000000   \n",
       "\n",
       "       any_null_exclude_occ  \n",
       "count          48854.000000  \n",
       "mean               0.085766  \n",
       "std                0.280021  \n",
       "min                0.000000  \n",
       "25%                0.000000  \n",
       "50%                0.000000  \n",
       "75%                0.000000  \n",
       "max                1.000000  "
      ]
     },
     "execution_count": 25,
     "metadata": {},
     "output_type": "execute_result"
    }
   ],
   "source": [
    "df_analysis.describe()"
   ]
  },
  {
   "cell_type": "code",
   "execution_count": 26,
   "metadata": {},
   "outputs": [],
   "source": [
    "# excluding the inc and any_null columns\n",
    "df_analysis[\"any_null_exclude_occ_inc\"] = df_analysis.apply(\n",
    "    lambda x: any_null_exclude(x, [\"occ\", \"any_null\", \"inc\", \"any_null_exclude_occ\"]),\n",
    "    axis=1,\n",
    ")"
   ]
  },
  {
   "cell_type": "code",
   "execution_count": 28,
   "metadata": {},
   "outputs": [
    {
     "data": {
      "text/html": [
       "<div>\n",
       "<style scoped>\n",
       "    .dataframe tbody tr th:only-of-type {\n",
       "        vertical-align: middle;\n",
       "    }\n",
       "\n",
       "    .dataframe tbody tr th {\n",
       "        vertical-align: top;\n",
       "    }\n",
       "\n",
       "    .dataframe thead th {\n",
       "        text-align: right;\n",
       "    }\n",
       "</style>\n",
       "<table border=\"1\" class=\"dataframe\">\n",
       "  <thead>\n",
       "    <tr style=\"text-align: right;\">\n",
       "      <th></th>\n",
       "      <th>race</th>\n",
       "      <th>inc</th>\n",
       "      <th>smk</th>\n",
       "      <th>occ</th>\n",
       "      <th>any_null</th>\n",
       "      <th>any_null_exclude_occ</th>\n",
       "      <th>any_null_exclude_occ_inc</th>\n",
       "    </tr>\n",
       "  </thead>\n",
       "  <tbody>\n",
       "    <tr>\n",
       "      <th>count</th>\n",
       "      <td>48854.000000</td>\n",
       "      <td>48854.000000</td>\n",
       "      <td>48854.000000</td>\n",
       "      <td>48854.000000</td>\n",
       "      <td>48854.000000</td>\n",
       "      <td>48854.000000</td>\n",
       "      <td>48854.000000</td>\n",
       "    </tr>\n",
       "    <tr>\n",
       "      <th>mean</th>\n",
       "      <td>0.000778</td>\n",
       "      <td>0.079420</td>\n",
       "      <td>0.007205</td>\n",
       "      <td>0.159107</td>\n",
       "      <td>0.226512</td>\n",
       "      <td>0.085766</td>\n",
       "      <td>0.007983</td>\n",
       "    </tr>\n",
       "    <tr>\n",
       "      <th>std</th>\n",
       "      <td>0.027879</td>\n",
       "      <td>0.270396</td>\n",
       "      <td>0.084578</td>\n",
       "      <td>0.365779</td>\n",
       "      <td>0.418578</td>\n",
       "      <td>0.280021</td>\n",
       "      <td>0.088991</td>\n",
       "    </tr>\n",
       "    <tr>\n",
       "      <th>min</th>\n",
       "      <td>0.000000</td>\n",
       "      <td>0.000000</td>\n",
       "      <td>0.000000</td>\n",
       "      <td>0.000000</td>\n",
       "      <td>0.000000</td>\n",
       "      <td>0.000000</td>\n",
       "      <td>0.000000</td>\n",
       "    </tr>\n",
       "    <tr>\n",
       "      <th>25%</th>\n",
       "      <td>0.000000</td>\n",
       "      <td>0.000000</td>\n",
       "      <td>0.000000</td>\n",
       "      <td>0.000000</td>\n",
       "      <td>0.000000</td>\n",
       "      <td>0.000000</td>\n",
       "      <td>0.000000</td>\n",
       "    </tr>\n",
       "    <tr>\n",
       "      <th>50%</th>\n",
       "      <td>0.000000</td>\n",
       "      <td>0.000000</td>\n",
       "      <td>0.000000</td>\n",
       "      <td>0.000000</td>\n",
       "      <td>0.000000</td>\n",
       "      <td>0.000000</td>\n",
       "      <td>0.000000</td>\n",
       "    </tr>\n",
       "    <tr>\n",
       "      <th>75%</th>\n",
       "      <td>0.000000</td>\n",
       "      <td>0.000000</td>\n",
       "      <td>0.000000</td>\n",
       "      <td>0.000000</td>\n",
       "      <td>0.000000</td>\n",
       "      <td>0.000000</td>\n",
       "      <td>0.000000</td>\n",
       "    </tr>\n",
       "    <tr>\n",
       "      <th>max</th>\n",
       "      <td>1.000000</td>\n",
       "      <td>1.000000</td>\n",
       "      <td>1.000000</td>\n",
       "      <td>1.000000</td>\n",
       "      <td>1.000000</td>\n",
       "      <td>1.000000</td>\n",
       "      <td>1.000000</td>\n",
       "    </tr>\n",
       "  </tbody>\n",
       "</table>\n",
       "</div>"
      ],
      "text/plain": [
       "               race           inc           smk           occ      any_null  \\\n",
       "count  48854.000000  48854.000000  48854.000000  48854.000000  48854.000000   \n",
       "mean       0.000778      0.079420      0.007205      0.159107      0.226512   \n",
       "std        0.027879      0.270396      0.084578      0.365779      0.418578   \n",
       "min        0.000000      0.000000      0.000000      0.000000      0.000000   \n",
       "25%        0.000000      0.000000      0.000000      0.000000      0.000000   \n",
       "50%        0.000000      0.000000      0.000000      0.000000      0.000000   \n",
       "75%        0.000000      0.000000      0.000000      0.000000      0.000000   \n",
       "max        1.000000      1.000000      1.000000      1.000000      1.000000   \n",
       "\n",
       "       any_null_exclude_occ  any_null_exclude_occ_inc  \n",
       "count          48854.000000              48854.000000  \n",
       "mean               0.085766                  0.007983  \n",
       "std                0.280021                  0.088991  \n",
       "min                0.000000                  0.000000  \n",
       "25%                0.000000                  0.000000  \n",
       "50%                0.000000                  0.000000  \n",
       "75%                0.000000                  0.000000  \n",
       "max                1.000000                  1.000000  "
      ]
     },
     "execution_count": 28,
     "metadata": {},
     "output_type": "execute_result"
    }
   ],
   "source": [
    "df_analysis.describe()"
   ]
  },
  {
   "cell_type": "code",
   "execution_count": null,
   "metadata": {},
   "outputs": [],
   "source": []
  }
 ],
 "metadata": {
  "kernelspec": {
   "display_name": "base",
   "language": "python",
   "name": "python3"
  },
  "language_info": {
   "codemirror_mode": {
    "name": "ipython",
    "version": 3
   },
   "file_extension": ".py",
   "mimetype": "text/x-python",
   "name": "python",
   "nbconvert_exporter": "python",
   "pygments_lexer": "ipython3",
   "version": "3.11.5"
  }
 },
 "nbformat": 4,
 "nbformat_minor": 2
}
