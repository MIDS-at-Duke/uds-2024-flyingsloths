{
 "cells": [
  {
   "cell_type": "code",
   "execution_count": 1,
   "metadata": {},
   "outputs": [],
   "source": [
    "# importing required libraries\n",
    "import numpy as np\n",
    "import pandas as pd\n",
    "import matplotlib.pyplot as plt\n",
    "import warnings\n",
    "\n",
    "# Setting default options\n",
    "warnings.filterwarnings(\"ignore\")\n",
    "pd.set_option(\"mode.copy_on_write\", True)"
   ]
  },
  {
   "cell_type": "code",
   "execution_count": 2,
   "metadata": {},
   "outputs": [
    {
     "data": {
      "text/html": [
       "<div>\n",
       "<style scoped>\n",
       "    .dataframe tbody tr th:only-of-type {\n",
       "        vertical-align: middle;\n",
       "    }\n",
       "\n",
       "    .dataframe tbody tr th {\n",
       "        vertical-align: top;\n",
       "    }\n",
       "\n",
       "    .dataframe thead th {\n",
       "        text-align: right;\n",
       "    }\n",
       "</style>\n",
       "<table border=\"1\" class=\"dataframe\">\n",
       "  <thead>\n",
       "    <tr style=\"text-align: right;\">\n",
       "      <th></th>\n",
       "      <th>YEAR</th>\n",
       "      <th>SEX</th>\n",
       "      <th>RACENEW</th>\n",
       "      <th>INCFAM97ON2</th>\n",
       "      <th>HINOTCOVE</th>\n",
       "      <th>CNLUNG</th>\n",
       "      <th>SMK</th>\n",
       "      <th>Occupation_Code</th>\n",
       "    </tr>\n",
       "  </thead>\n",
       "  <tbody>\n",
       "    <tr>\n",
       "      <th>1388662</th>\n",
       "      <td>2015</td>\n",
       "      <td>2</td>\n",
       "      <td>100.0</td>\n",
       "      <td>10.0</td>\n",
       "      <td>1.0</td>\n",
       "      <td>1.0</td>\n",
       "      <td>2</td>\n",
       "      <td>1</td>\n",
       "    </tr>\n",
       "    <tr>\n",
       "      <th>849694</th>\n",
       "      <td>2009</td>\n",
       "      <td>2</td>\n",
       "      <td>100.0</td>\n",
       "      <td>10.0</td>\n",
       "      <td>2.0</td>\n",
       "      <td>1.0</td>\n",
       "      <td>2</td>\n",
       "      <td>28</td>\n",
       "    </tr>\n",
       "    <tr>\n",
       "      <th>815109</th>\n",
       "      <td>2009</td>\n",
       "      <td>2</td>\n",
       "      <td>100.0</td>\n",
       "      <td>20.0</td>\n",
       "      <td>1.0</td>\n",
       "      <td>1.0</td>\n",
       "      <td>1</td>\n",
       "      <td>1</td>\n",
       "    </tr>\n",
       "    <tr>\n",
       "      <th>381295</th>\n",
       "      <td>2004</td>\n",
       "      <td>1</td>\n",
       "      <td>100.0</td>\n",
       "      <td>0.0</td>\n",
       "      <td>1.0</td>\n",
       "      <td>1.0</td>\n",
       "      <td>0</td>\n",
       "      <td>0</td>\n",
       "    </tr>\n",
       "    <tr>\n",
       "      <th>1001021</th>\n",
       "      <td>2011</td>\n",
       "      <td>2</td>\n",
       "      <td>100.0</td>\n",
       "      <td>20.0</td>\n",
       "      <td>1.0</td>\n",
       "      <td>1.0</td>\n",
       "      <td>2</td>\n",
       "      <td>2</td>\n",
       "    </tr>\n",
       "  </tbody>\n",
       "</table>\n",
       "</div>"
      ],
      "text/plain": [
       "         YEAR  SEX  RACENEW  INCFAM97ON2  HINOTCOVE  CNLUNG  SMK  \\\n",
       "1388662  2015    2    100.0         10.0        1.0     1.0    2   \n",
       "849694   2009    2    100.0         10.0        2.0     1.0    2   \n",
       "815109   2009    2    100.0         20.0        1.0     1.0    1   \n",
       "381295   2004    1    100.0          0.0        1.0     1.0    0   \n",
       "1001021  2011    2    100.0         20.0        1.0     1.0    2   \n",
       "\n",
       "         Occupation_Code  \n",
       "1388662                1  \n",
       "849694                28  \n",
       "815109                 1  \n",
       "381295                 0  \n",
       "1001021                2  "
      ]
     },
     "execution_count": 2,
     "metadata": {},
     "output_type": "execute_result"
    }
   ],
   "source": [
    "# loading the Data\n",
    "df = pd.read_csv(\"/Users/revanth/Downloads/insurance_data_cleaned (1).csv\")\n",
    "df.sample(5)"
   ]
  },
  {
   "cell_type": "code",
   "execution_count": 3,
   "metadata": {},
   "outputs": [
    {
     "data": {
      "text/html": [
       "<div>\n",
       "<style scoped>\n",
       "    .dataframe tbody tr th:only-of-type {\n",
       "        vertical-align: middle;\n",
       "    }\n",
       "\n",
       "    .dataframe tbody tr th {\n",
       "        vertical-align: top;\n",
       "    }\n",
       "\n",
       "    .dataframe thead th {\n",
       "        text-align: right;\n",
       "    }\n",
       "</style>\n",
       "<table border=\"1\" class=\"dataframe\">\n",
       "  <thead>\n",
       "    <tr style=\"text-align: right;\">\n",
       "      <th></th>\n",
       "      <th>YEAR</th>\n",
       "      <th>SEX</th>\n",
       "      <th>RACENEW</th>\n",
       "      <th>INCFAM97ON2</th>\n",
       "      <th>HINOTCOVE</th>\n",
       "      <th>CNLUNG</th>\n",
       "      <th>SMK</th>\n",
       "      <th>Occupation_Code</th>\n",
       "    </tr>\n",
       "  </thead>\n",
       "  <tbody>\n",
       "    <tr>\n",
       "      <th>count</th>\n",
       "      <td>1.697896e+06</td>\n",
       "      <td>1.697896e+06</td>\n",
       "      <td>1.697896e+06</td>\n",
       "      <td>1.697896e+06</td>\n",
       "      <td>1.697896e+06</td>\n",
       "      <td>1.697896e+06</td>\n",
       "      <td>1.697896e+06</td>\n",
       "      <td>1.697896e+06</td>\n",
       "    </tr>\n",
       "    <tr>\n",
       "      <th>mean</th>\n",
       "      <td>2.008943e+03</td>\n",
       "      <td>1.513977e+00</td>\n",
       "      <td>1.478627e+02</td>\n",
       "      <td>2.220655e+01</td>\n",
       "      <td>1.153564e+00</td>\n",
       "      <td>1.000926e+00</td>\n",
       "      <td>4.867907e-01</td>\n",
       "      <td>2.696913e+00</td>\n",
       "    </tr>\n",
       "    <tr>\n",
       "      <th>std</th>\n",
       "      <td>5.469550e+00</td>\n",
       "      <td>4.998047e-01</td>\n",
       "      <td>1.047671e+02</td>\n",
       "      <td>2.076822e+01</td>\n",
       "      <td>3.605306e-01</td>\n",
       "      <td>3.042340e-02</td>\n",
       "      <td>7.823743e-01</td>\n",
       "      <td>6.277511e+00</td>\n",
       "    </tr>\n",
       "    <tr>\n",
       "      <th>min</th>\n",
       "      <td>2.000000e+03</td>\n",
       "      <td>1.000000e+00</td>\n",
       "      <td>1.000000e+02</td>\n",
       "      <td>0.000000e+00</td>\n",
       "      <td>1.000000e+00</td>\n",
       "      <td>1.000000e+00</td>\n",
       "      <td>0.000000e+00</td>\n",
       "      <td>0.000000e+00</td>\n",
       "    </tr>\n",
       "    <tr>\n",
       "      <th>25%</th>\n",
       "      <td>2.004000e+03</td>\n",
       "      <td>1.000000e+00</td>\n",
       "      <td>1.000000e+02</td>\n",
       "      <td>1.000000e+01</td>\n",
       "      <td>1.000000e+00</td>\n",
       "      <td>1.000000e+00</td>\n",
       "      <td>0.000000e+00</td>\n",
       "      <td>0.000000e+00</td>\n",
       "    </tr>\n",
       "    <tr>\n",
       "      <th>50%</th>\n",
       "      <td>2.009000e+03</td>\n",
       "      <td>2.000000e+00</td>\n",
       "      <td>1.000000e+02</td>\n",
       "      <td>2.000000e+01</td>\n",
       "      <td>1.000000e+00</td>\n",
       "      <td>1.000000e+00</td>\n",
       "      <td>0.000000e+00</td>\n",
       "      <td>0.000000e+00</td>\n",
       "    </tr>\n",
       "    <tr>\n",
       "      <th>75%</th>\n",
       "      <td>2.014000e+03</td>\n",
       "      <td>2.000000e+00</td>\n",
       "      <td>1.000000e+02</td>\n",
       "      <td>3.100000e+01</td>\n",
       "      <td>1.000000e+00</td>\n",
       "      <td>1.000000e+00</td>\n",
       "      <td>1.000000e+00</td>\n",
       "      <td>1.000000e+00</td>\n",
       "    </tr>\n",
       "    <tr>\n",
       "      <th>max</th>\n",
       "      <td>2.018000e+03</td>\n",
       "      <td>2.000000e+00</td>\n",
       "      <td>5.410000e+02</td>\n",
       "      <td>9.600000e+01</td>\n",
       "      <td>2.000000e+00</td>\n",
       "      <td>2.000000e+00</td>\n",
       "      <td>2.000000e+00</td>\n",
       "      <td>3.300000e+01</td>\n",
       "    </tr>\n",
       "  </tbody>\n",
       "</table>\n",
       "</div>"
      ],
      "text/plain": [
       "               YEAR           SEX       RACENEW   INCFAM97ON2     HINOTCOVE  \\\n",
       "count  1.697896e+06  1.697896e+06  1.697896e+06  1.697896e+06  1.697896e+06   \n",
       "mean   2.008943e+03  1.513977e+00  1.478627e+02  2.220655e+01  1.153564e+00   \n",
       "std    5.469550e+00  4.998047e-01  1.047671e+02  2.076822e+01  3.605306e-01   \n",
       "min    2.000000e+03  1.000000e+00  1.000000e+02  0.000000e+00  1.000000e+00   \n",
       "25%    2.004000e+03  1.000000e+00  1.000000e+02  1.000000e+01  1.000000e+00   \n",
       "50%    2.009000e+03  2.000000e+00  1.000000e+02  2.000000e+01  1.000000e+00   \n",
       "75%    2.014000e+03  2.000000e+00  1.000000e+02  3.100000e+01  1.000000e+00   \n",
       "max    2.018000e+03  2.000000e+00  5.410000e+02  9.600000e+01  2.000000e+00   \n",
       "\n",
       "             CNLUNG           SMK  Occupation_Code  \n",
       "count  1.697896e+06  1.697896e+06     1.697896e+06  \n",
       "mean   1.000926e+00  4.867907e-01     2.696913e+00  \n",
       "std    3.042340e-02  7.823743e-01     6.277511e+00  \n",
       "min    1.000000e+00  0.000000e+00     0.000000e+00  \n",
       "25%    1.000000e+00  0.000000e+00     0.000000e+00  \n",
       "50%    1.000000e+00  0.000000e+00     0.000000e+00  \n",
       "75%    1.000000e+00  1.000000e+00     1.000000e+00  \n",
       "max    2.000000e+00  2.000000e+00     3.300000e+01  "
      ]
     },
     "execution_count": 3,
     "metadata": {},
     "output_type": "execute_result"
    }
   ],
   "source": [
    "df.describe()"
   ]
  },
  {
   "cell_type": "code",
   "execution_count": 4,
   "metadata": {},
   "outputs": [
    {
     "name": "stdout",
     "output_type": "stream",
     "text": [
      "<class 'pandas.core.frame.DataFrame'>\n",
      "RangeIndex: 1697896 entries, 0 to 1697895\n",
      "Data columns (total 8 columns):\n",
      " #   Column           Dtype  \n",
      "---  ------           -----  \n",
      " 0   YEAR             int64  \n",
      " 1   SEX              int64  \n",
      " 2   RACENEW          float64\n",
      " 3   INCFAM97ON2      float64\n",
      " 4   HINOTCOVE        float64\n",
      " 5   CNLUNG           float64\n",
      " 6   SMK              int64  \n",
      " 7   Occupation_Code  int64  \n",
      "dtypes: float64(4), int64(4)\n",
      "memory usage: 103.6 MB\n"
     ]
    }
   ],
   "source": [
    "df.info()"
   ]
  },
  {
   "cell_type": "code",
   "execution_count": 5,
   "metadata": {},
   "outputs": [
    {
     "data": {
      "text/plain": [
       "YEAR               0\n",
       "SEX                0\n",
       "RACENEW            0\n",
       "INCFAM97ON2        0\n",
       "HINOTCOVE          0\n",
       "CNLUNG             0\n",
       "SMK                0\n",
       "Occupation_Code    0\n",
       "dtype: int64"
      ]
     },
     "execution_count": 5,
     "metadata": {},
     "output_type": "execute_result"
    }
   ],
   "source": [
    "# check if any actual null values\n",
    "df.isnull().sum()"
   ]
  },
  {
   "cell_type": "markdown",
   "metadata": {},
   "source": [
    "Column by column checks"
   ]
  },
  {
   "cell_type": "code",
   "execution_count": 6,
   "metadata": {},
   "outputs": [
    {
     "data": {
      "text/plain": [
       "YEAR\n",
       "2000     97463\n",
       "2001     97425\n",
       "2002     90187\n",
       "2003     89081\n",
       "2004     91281\n",
       "2005     95362\n",
       "2006     73159\n",
       "2007     73312\n",
       "2008     71748\n",
       "2009     85511\n",
       "2010     86990\n",
       "2011     98195\n",
       "2012    104116\n",
       "2013    100617\n",
       "2014    107565\n",
       "2015     99511\n",
       "2016     92693\n",
       "2017     74441\n",
       "2018     69239\n",
       "Name: count, dtype: int64"
      ]
     },
     "execution_count": 6,
     "metadata": {},
     "output_type": "execute_result"
    }
   ],
   "source": [
    "df[\"YEAR\"].value_counts().sort_index()"
   ]
  },
  {
   "cell_type": "code",
   "execution_count": 7,
   "metadata": {},
   "outputs": [
    {
     "data": {
      "text/plain": [
       "SEX\n",
       "2    872680\n",
       "1    825216\n",
       "Name: count, dtype: int64"
      ]
     },
     "execution_count": 7,
     "metadata": {},
     "output_type": "execute_result"
    }
   ],
   "source": [
    "df[\"SEX\"].value_counts()"
   ]
  },
  {
   "cell_type": "code",
   "execution_count": 8,
   "metadata": {},
   "outputs": [
    {
     "data": {
      "text/plain": [
       "RACENEW\n",
       "100.0    1285378\n",
       "200.0     242032\n",
       "300.0      17587\n",
       "400.0      95747\n",
       "520.0      16430\n",
       "530.0       3443\n",
       "541.0      37279\n",
       "Name: count, dtype: int64"
      ]
     },
     "execution_count": 8,
     "metadata": {},
     "output_type": "execute_result"
    }
   ],
   "source": [
    "df[\"RACENEW\"].value_counts().sort_index()"
   ]
  },
  {
   "cell_type": "markdown",
   "metadata": {},
   "source": [
    "consider 530 and 541 as the NaN values"
   ]
  },
  {
   "cell_type": "code",
   "execution_count": 9,
   "metadata": {},
   "outputs": [
    {
     "data": {
      "text/plain": [
       "INCFAM97ON2\n",
       "0.0     175037\n",
       "10.0    519508\n",
       "20.0    456265\n",
       "30.0    114916\n",
       "31.0    115156\n",
       "32.0    219791\n",
       "96.0     97223\n",
       "Name: count, dtype: int64"
      ]
     },
     "execution_count": 9,
     "metadata": {},
     "output_type": "execute_result"
    }
   ],
   "source": [
    "df[\"INCFAM97ON2\"].value_counts().sort_index()"
   ]
  },
  {
   "cell_type": "markdown",
   "metadata": {},
   "source": [
    "0 as Nan, should we consider 96 as well?"
   ]
  },
  {
   "cell_type": "code",
   "execution_count": 10,
   "metadata": {},
   "outputs": [
    {
     "data": {
      "text/plain": [
       "HINOTCOVE\n",
       "1.0    1437160\n",
       "2.0     260736\n",
       "Name: count, dtype: int64"
      ]
     },
     "execution_count": 10,
     "metadata": {},
     "output_type": "execute_result"
    }
   ],
   "source": [
    "df[\"HINOTCOVE\"].value_counts().sort_index()"
   ]
  },
  {
   "cell_type": "code",
   "execution_count": 11,
   "metadata": {},
   "outputs": [
    {
     "data": {
      "text/plain": [
       "CNLUNG\n",
       "1.0    1696323\n",
       "2.0       1573\n",
       "Name: count, dtype: int64"
      ]
     },
     "execution_count": 11,
     "metadata": {},
     "output_type": "execute_result"
    }
   ],
   "source": [
    "df[\"CNLUNG\"].value_counts().sort_index()"
   ]
  },
  {
   "cell_type": "code",
   "execution_count": 12,
   "metadata": {},
   "outputs": [
    {
     "data": {
      "text/plain": [
       "SMK\n",
       "0    1178936\n",
       "1     211400\n",
       "2     307560\n",
       "Name: count, dtype: int64"
      ]
     },
     "execution_count": 12,
     "metadata": {},
     "output_type": "execute_result"
    }
   ],
   "source": [
    "df[\"SMK\"].value_counts().sort_index()"
   ]
  },
  {
   "cell_type": "code",
   "execution_count": 13,
   "metadata": {},
   "outputs": [
    {
     "data": {
      "text/plain": [
       "Occupation_Code\n",
       "0     1253029\n",
       "1       52589\n",
       "2       30911\n",
       "3       36977\n",
       "4       29478\n",
       "5       23563\n",
       "6       25299\n",
       "7       18055\n",
       "8       15435\n",
       "9       19849\n",
       "10      20819\n",
       "11      17514\n",
       "12      11752\n",
       "13      13359\n",
       "14      10436\n",
       "15       6501\n",
       "16       6320\n",
       "17       7049\n",
       "18       6934\n",
       "19      12328\n",
       "20      10480\n",
       "21       8820\n",
       "22      10194\n",
       "23       3445\n",
       "24       1614\n",
       "25      10909\n",
       "26       3606\n",
       "27       7954\n",
       "28       3632\n",
       "29       7725\n",
       "30       4012\n",
       "31       2593\n",
       "32       1799\n",
       "33       2916\n",
       "Name: count, dtype: int64"
      ]
     },
     "execution_count": 13,
     "metadata": {},
     "output_type": "execute_result"
    }
   ],
   "source": [
    "df[\"Occupation_Code\"].value_counts().sort_index()"
   ]
  },
  {
   "cell_type": "markdown",
   "metadata": {},
   "source": [
    "## Analysis"
   ]
  },
  {
   "cell_type": "markdown",
   "metadata": {},
   "source": [
    "Only The following columns are required for the analysis:\n",
    "- Race\n",
    "- Income\n",
    "- Smoke\n",
    "- Occupation"
   ]
  },
  {
   "cell_type": "code",
   "execution_count": 14,
   "metadata": {},
   "outputs": [
    {
     "data": {
      "text/html": [
       "<div>\n",
       "<style scoped>\n",
       "    .dataframe tbody tr th:only-of-type {\n",
       "        vertical-align: middle;\n",
       "    }\n",
       "\n",
       "    .dataframe tbody tr th {\n",
       "        vertical-align: top;\n",
       "    }\n",
       "\n",
       "    .dataframe thead th {\n",
       "        text-align: right;\n",
       "    }\n",
       "</style>\n",
       "<table border=\"1\" class=\"dataframe\">\n",
       "  <thead>\n",
       "    <tr style=\"text-align: right;\">\n",
       "      <th></th>\n",
       "      <th>race</th>\n",
       "      <th>inc</th>\n",
       "      <th>smk</th>\n",
       "      <th>occ</th>\n",
       "    </tr>\n",
       "  </thead>\n",
       "  <tbody>\n",
       "    <tr>\n",
       "      <th>738483</th>\n",
       "      <td>100.0</td>\n",
       "      <td>10.0</td>\n",
       "      <td>0</td>\n",
       "      <td>0</td>\n",
       "    </tr>\n",
       "    <tr>\n",
       "      <th>1362255</th>\n",
       "      <td>100.0</td>\n",
       "      <td>0.0</td>\n",
       "      <td>0</td>\n",
       "      <td>0</td>\n",
       "    </tr>\n",
       "    <tr>\n",
       "      <th>98392</th>\n",
       "      <td>100.0</td>\n",
       "      <td>96.0</td>\n",
       "      <td>1</td>\n",
       "      <td>0</td>\n",
       "    </tr>\n",
       "    <tr>\n",
       "      <th>126772</th>\n",
       "      <td>100.0</td>\n",
       "      <td>30.0</td>\n",
       "      <td>1</td>\n",
       "      <td>29</td>\n",
       "    </tr>\n",
       "    <tr>\n",
       "      <th>1550784</th>\n",
       "      <td>100.0</td>\n",
       "      <td>31.0</td>\n",
       "      <td>0</td>\n",
       "      <td>0</td>\n",
       "    </tr>\n",
       "  </tbody>\n",
       "</table>\n",
       "</div>"
      ],
      "text/plain": [
       "          race   inc  smk  occ\n",
       "738483   100.0  10.0    0    0\n",
       "1362255  100.0   0.0    0    0\n",
       "98392    100.0  96.0    1    0\n",
       "126772   100.0  30.0    1   29\n",
       "1550784  100.0  31.0    0    0"
      ]
     },
     "execution_count": 14,
     "metadata": {},
     "output_type": "execute_result"
    }
   ],
   "source": [
    "# creating a subset of the data with only the columns we need\n",
    "required_columns = [\"RACENEW\", \"INCFAM97ON2\", \"SMK\", \"Occupation_Code\"]\n",
    "\n",
    "df_analysis = df[required_columns]\n",
    "\n",
    "# rename the columns\n",
    "col_map = {\n",
    "    \"RACENEW\": \"race\",\n",
    "    \"INCFAM97ON2\": \"inc\",\n",
    "    \"SMK\": \"smk\",\n",
    "    \"Occupation_Code\": \"occ\",\n",
    "}\n",
    "df_analysis.rename(columns=col_map, inplace=True)\n",
    "df_analysis.sample(5)"
   ]
  },
  {
   "cell_type": "code",
   "execution_count": 15,
   "metadata": {},
   "outputs": [],
   "source": [
    "# Remapping rules,\n",
    "# Add the values which need to be considered as 1 in remapping, rest will be considered as 0\n",
    "remap_race = [530, 541]\n",
    "remap_smk = [0]\n",
    "remap_inc = [0]\n",
    "remap_occ = [0]"
   ]
  },
  {
   "cell_type": "code",
   "execution_count": 16,
   "metadata": {},
   "outputs": [],
   "source": [
    "def converter(val, remap_list):\n",
    "    # takes in a value and  a list of values to consider as \"missing\" which will be marked as 1 and the rest will be marked as 0\n",
    "    if val in remap_list:\n",
    "        return 1\n",
    "    else:\n",
    "        return 0"
   ]
  },
  {
   "cell_type": "code",
   "execution_count": 17,
   "metadata": {},
   "outputs": [],
   "source": [
    "# applying remapping rules\n",
    "df_analysis[\"inc\"] = df_analysis[\"inc\"].apply(lambda x: converter(x, remap_inc))\n",
    "df_analysis[\"occ\"] = df_analysis[\"occ\"].apply(lambda x: converter(x, remap_occ))\n",
    "df_analysis[\"race\"] = df_analysis[\"race\"].apply(lambda x: converter(x, remap_race))\n",
    "df_analysis[\"smk\"] = df_analysis[\"smk\"].apply(lambda x: converter(x, remap_smk))"
   ]
  },
  {
   "cell_type": "code",
   "execution_count": 18,
   "metadata": {},
   "outputs": [],
   "source": [
    "def any_null(row):\n",
    "    # check if any value in the row is 1 and returns 1 if any value is 1\n",
    "    if 1 in row.values:\n",
    "        return 1\n",
    "    else:\n",
    "        return 0"
   ]
  },
  {
   "cell_type": "code",
   "execution_count": 19,
   "metadata": {},
   "outputs": [],
   "source": [
    "# applying funtion to the dataframe\n",
    "df_analysis[\"any_null\"] = df_analysis.apply(lambda x: any_null(x), axis=1)"
   ]
  },
  {
   "cell_type": "code",
   "execution_count": 20,
   "metadata": {},
   "outputs": [
    {
     "data": {
      "text/html": [
       "<div>\n",
       "<style scoped>\n",
       "    .dataframe tbody tr th:only-of-type {\n",
       "        vertical-align: middle;\n",
       "    }\n",
       "\n",
       "    .dataframe tbody tr th {\n",
       "        vertical-align: top;\n",
       "    }\n",
       "\n",
       "    .dataframe thead th {\n",
       "        text-align: right;\n",
       "    }\n",
       "</style>\n",
       "<table border=\"1\" class=\"dataframe\">\n",
       "  <thead>\n",
       "    <tr style=\"text-align: right;\">\n",
       "      <th></th>\n",
       "      <th>race</th>\n",
       "      <th>inc</th>\n",
       "      <th>smk</th>\n",
       "      <th>occ</th>\n",
       "      <th>any_null</th>\n",
       "    </tr>\n",
       "  </thead>\n",
       "  <tbody>\n",
       "    <tr>\n",
       "      <th>912883</th>\n",
       "      <td>0</td>\n",
       "      <td>0</td>\n",
       "      <td>0</td>\n",
       "      <td>0</td>\n",
       "      <td>0</td>\n",
       "    </tr>\n",
       "    <tr>\n",
       "      <th>109374</th>\n",
       "      <td>0</td>\n",
       "      <td>0</td>\n",
       "      <td>1</td>\n",
       "      <td>1</td>\n",
       "      <td>1</td>\n",
       "    </tr>\n",
       "    <tr>\n",
       "      <th>94230</th>\n",
       "      <td>0</td>\n",
       "      <td>0</td>\n",
       "      <td>0</td>\n",
       "      <td>0</td>\n",
       "      <td>0</td>\n",
       "    </tr>\n",
       "    <tr>\n",
       "      <th>1449949</th>\n",
       "      <td>0</td>\n",
       "      <td>0</td>\n",
       "      <td>1</td>\n",
       "      <td>1</td>\n",
       "      <td>1</td>\n",
       "    </tr>\n",
       "    <tr>\n",
       "      <th>743520</th>\n",
       "      <td>0</td>\n",
       "      <td>0</td>\n",
       "      <td>0</td>\n",
       "      <td>0</td>\n",
       "      <td>0</td>\n",
       "    </tr>\n",
       "  </tbody>\n",
       "</table>\n",
       "</div>"
      ],
      "text/plain": [
       "         race  inc  smk  occ  any_null\n",
       "912883      0    0    0    0         0\n",
       "109374      0    0    1    1         1\n",
       "94230       0    0    0    0         0\n",
       "1449949     0    0    1    1         1\n",
       "743520      0    0    0    0         0"
      ]
     },
     "execution_count": 20,
     "metadata": {},
     "output_type": "execute_result"
    }
   ],
   "source": [
    "df_analysis.sample(5)"
   ]
  },
  {
   "cell_type": "code",
   "execution_count": 21,
   "metadata": {},
   "outputs": [
    {
     "data": {
      "text/html": [
       "<div>\n",
       "<style scoped>\n",
       "    .dataframe tbody tr th:only-of-type {\n",
       "        vertical-align: middle;\n",
       "    }\n",
       "\n",
       "    .dataframe tbody tr th {\n",
       "        vertical-align: top;\n",
       "    }\n",
       "\n",
       "    .dataframe thead th {\n",
       "        text-align: right;\n",
       "    }\n",
       "</style>\n",
       "<table border=\"1\" class=\"dataframe\">\n",
       "  <thead>\n",
       "    <tr style=\"text-align: right;\">\n",
       "      <th></th>\n",
       "      <th>race</th>\n",
       "      <th>inc</th>\n",
       "      <th>smk</th>\n",
       "      <th>occ</th>\n",
       "      <th>any_null</th>\n",
       "    </tr>\n",
       "  </thead>\n",
       "  <tbody>\n",
       "    <tr>\n",
       "      <th>count</th>\n",
       "      <td>1.697896e+06</td>\n",
       "      <td>1.697896e+06</td>\n",
       "      <td>1.697896e+06</td>\n",
       "      <td>1.697896e+06</td>\n",
       "      <td>1.697896e+06</td>\n",
       "    </tr>\n",
       "    <tr>\n",
       "      <th>mean</th>\n",
       "      <td>2.398380e-02</td>\n",
       "      <td>1.030905e-01</td>\n",
       "      <td>6.943511e-01</td>\n",
       "      <td>7.379893e-01</td>\n",
       "      <td>7.587379e-01</td>\n",
       "    </tr>\n",
       "    <tr>\n",
       "      <th>std</th>\n",
       "      <td>1.529987e-01</td>\n",
       "      <td>3.040772e-01</td>\n",
       "      <td>4.606818e-01</td>\n",
       "      <td>4.397286e-01</td>\n",
       "      <td>4.278491e-01</td>\n",
       "    </tr>\n",
       "    <tr>\n",
       "      <th>min</th>\n",
       "      <td>0.000000e+00</td>\n",
       "      <td>0.000000e+00</td>\n",
       "      <td>0.000000e+00</td>\n",
       "      <td>0.000000e+00</td>\n",
       "      <td>0.000000e+00</td>\n",
       "    </tr>\n",
       "    <tr>\n",
       "      <th>25%</th>\n",
       "      <td>0.000000e+00</td>\n",
       "      <td>0.000000e+00</td>\n",
       "      <td>0.000000e+00</td>\n",
       "      <td>0.000000e+00</td>\n",
       "      <td>1.000000e+00</td>\n",
       "    </tr>\n",
       "    <tr>\n",
       "      <th>50%</th>\n",
       "      <td>0.000000e+00</td>\n",
       "      <td>0.000000e+00</td>\n",
       "      <td>1.000000e+00</td>\n",
       "      <td>1.000000e+00</td>\n",
       "      <td>1.000000e+00</td>\n",
       "    </tr>\n",
       "    <tr>\n",
       "      <th>75%</th>\n",
       "      <td>0.000000e+00</td>\n",
       "      <td>0.000000e+00</td>\n",
       "      <td>1.000000e+00</td>\n",
       "      <td>1.000000e+00</td>\n",
       "      <td>1.000000e+00</td>\n",
       "    </tr>\n",
       "    <tr>\n",
       "      <th>max</th>\n",
       "      <td>1.000000e+00</td>\n",
       "      <td>1.000000e+00</td>\n",
       "      <td>1.000000e+00</td>\n",
       "      <td>1.000000e+00</td>\n",
       "      <td>1.000000e+00</td>\n",
       "    </tr>\n",
       "  </tbody>\n",
       "</table>\n",
       "</div>"
      ],
      "text/plain": [
       "               race           inc           smk           occ      any_null\n",
       "count  1.697896e+06  1.697896e+06  1.697896e+06  1.697896e+06  1.697896e+06\n",
       "mean   2.398380e-02  1.030905e-01  6.943511e-01  7.379893e-01  7.587379e-01\n",
       "std    1.529987e-01  3.040772e-01  4.606818e-01  4.397286e-01  4.278491e-01\n",
       "min    0.000000e+00  0.000000e+00  0.000000e+00  0.000000e+00  0.000000e+00\n",
       "25%    0.000000e+00  0.000000e+00  0.000000e+00  0.000000e+00  1.000000e+00\n",
       "50%    0.000000e+00  0.000000e+00  1.000000e+00  1.000000e+00  1.000000e+00\n",
       "75%    0.000000e+00  0.000000e+00  1.000000e+00  1.000000e+00  1.000000e+00\n",
       "max    1.000000e+00  1.000000e+00  1.000000e+00  1.000000e+00  1.000000e+00"
      ]
     },
     "execution_count": 21,
     "metadata": {},
     "output_type": "execute_result"
    }
   ],
   "source": [
    "df_analysis.describe()"
   ]
  },
  {
   "cell_type": "code",
   "execution_count": 22,
   "metadata": {},
   "outputs": [],
   "source": [
    "# function to exclude columns and calculate the any_nul\n",
    "def any_null_exclude(row, exclude_lst):\n",
    "    # check if any value in the row is 1 and returns 1 if any value is 1\n",
    "    if 1 in row.drop(exclude_lst).values:\n",
    "        return 1\n",
    "    else:\n",
    "        return 0"
   ]
  },
  {
   "cell_type": "code",
   "execution_count": 23,
   "metadata": {},
   "outputs": [],
   "source": [
    "# excluding the occ and any_null columns\n",
    "df_analysis[\"any_null_exclude_occ\"] = df_analysis.apply(\n",
    "    lambda x: any_null_exclude(x, [\"occ\", \"any_null\"]), axis=1\n",
    ")"
   ]
  },
  {
   "cell_type": "code",
   "execution_count": 24,
   "metadata": {},
   "outputs": [
    {
     "data": {
      "text/html": [
       "<div>\n",
       "<style scoped>\n",
       "    .dataframe tbody tr th:only-of-type {\n",
       "        vertical-align: middle;\n",
       "    }\n",
       "\n",
       "    .dataframe tbody tr th {\n",
       "        vertical-align: top;\n",
       "    }\n",
       "\n",
       "    .dataframe thead th {\n",
       "        text-align: right;\n",
       "    }\n",
       "</style>\n",
       "<table border=\"1\" class=\"dataframe\">\n",
       "  <thead>\n",
       "    <tr style=\"text-align: right;\">\n",
       "      <th></th>\n",
       "      <th>race</th>\n",
       "      <th>inc</th>\n",
       "      <th>smk</th>\n",
       "      <th>occ</th>\n",
       "      <th>any_null</th>\n",
       "      <th>any_null_exclude_occ</th>\n",
       "    </tr>\n",
       "  </thead>\n",
       "  <tbody>\n",
       "    <tr>\n",
       "      <th>count</th>\n",
       "      <td>1.697896e+06</td>\n",
       "      <td>1.697896e+06</td>\n",
       "      <td>1.697896e+06</td>\n",
       "      <td>1.697896e+06</td>\n",
       "      <td>1.697896e+06</td>\n",
       "      <td>1.697896e+06</td>\n",
       "    </tr>\n",
       "    <tr>\n",
       "      <th>mean</th>\n",
       "      <td>2.398380e-02</td>\n",
       "      <td>1.030905e-01</td>\n",
       "      <td>6.943511e-01</td>\n",
       "      <td>7.379893e-01</td>\n",
       "      <td>7.587379e-01</td>\n",
       "      <td>7.197820e-01</td>\n",
       "    </tr>\n",
       "    <tr>\n",
       "      <th>std</th>\n",
       "      <td>1.529987e-01</td>\n",
       "      <td>3.040772e-01</td>\n",
       "      <td>4.606818e-01</td>\n",
       "      <td>4.397286e-01</td>\n",
       "      <td>4.278491e-01</td>\n",
       "      <td>4.491058e-01</td>\n",
       "    </tr>\n",
       "    <tr>\n",
       "      <th>min</th>\n",
       "      <td>0.000000e+00</td>\n",
       "      <td>0.000000e+00</td>\n",
       "      <td>0.000000e+00</td>\n",
       "      <td>0.000000e+00</td>\n",
       "      <td>0.000000e+00</td>\n",
       "      <td>0.000000e+00</td>\n",
       "    </tr>\n",
       "    <tr>\n",
       "      <th>25%</th>\n",
       "      <td>0.000000e+00</td>\n",
       "      <td>0.000000e+00</td>\n",
       "      <td>0.000000e+00</td>\n",
       "      <td>0.000000e+00</td>\n",
       "      <td>1.000000e+00</td>\n",
       "      <td>0.000000e+00</td>\n",
       "    </tr>\n",
       "    <tr>\n",
       "      <th>50%</th>\n",
       "      <td>0.000000e+00</td>\n",
       "      <td>0.000000e+00</td>\n",
       "      <td>1.000000e+00</td>\n",
       "      <td>1.000000e+00</td>\n",
       "      <td>1.000000e+00</td>\n",
       "      <td>1.000000e+00</td>\n",
       "    </tr>\n",
       "    <tr>\n",
       "      <th>75%</th>\n",
       "      <td>0.000000e+00</td>\n",
       "      <td>0.000000e+00</td>\n",
       "      <td>1.000000e+00</td>\n",
       "      <td>1.000000e+00</td>\n",
       "      <td>1.000000e+00</td>\n",
       "      <td>1.000000e+00</td>\n",
       "    </tr>\n",
       "    <tr>\n",
       "      <th>max</th>\n",
       "      <td>1.000000e+00</td>\n",
       "      <td>1.000000e+00</td>\n",
       "      <td>1.000000e+00</td>\n",
       "      <td>1.000000e+00</td>\n",
       "      <td>1.000000e+00</td>\n",
       "      <td>1.000000e+00</td>\n",
       "    </tr>\n",
       "  </tbody>\n",
       "</table>\n",
       "</div>"
      ],
      "text/plain": [
       "               race           inc           smk           occ      any_null  \\\n",
       "count  1.697896e+06  1.697896e+06  1.697896e+06  1.697896e+06  1.697896e+06   \n",
       "mean   2.398380e-02  1.030905e-01  6.943511e-01  7.379893e-01  7.587379e-01   \n",
       "std    1.529987e-01  3.040772e-01  4.606818e-01  4.397286e-01  4.278491e-01   \n",
       "min    0.000000e+00  0.000000e+00  0.000000e+00  0.000000e+00  0.000000e+00   \n",
       "25%    0.000000e+00  0.000000e+00  0.000000e+00  0.000000e+00  1.000000e+00   \n",
       "50%    0.000000e+00  0.000000e+00  1.000000e+00  1.000000e+00  1.000000e+00   \n",
       "75%    0.000000e+00  0.000000e+00  1.000000e+00  1.000000e+00  1.000000e+00   \n",
       "max    1.000000e+00  1.000000e+00  1.000000e+00  1.000000e+00  1.000000e+00   \n",
       "\n",
       "       any_null_exclude_occ  \n",
       "count          1.697896e+06  \n",
       "mean           7.197820e-01  \n",
       "std            4.491058e-01  \n",
       "min            0.000000e+00  \n",
       "25%            0.000000e+00  \n",
       "50%            1.000000e+00  \n",
       "75%            1.000000e+00  \n",
       "max            1.000000e+00  "
      ]
     },
     "execution_count": 24,
     "metadata": {},
     "output_type": "execute_result"
    }
   ],
   "source": [
    "df_analysis.describe()"
   ]
  },
  {
   "cell_type": "code",
   "execution_count": 25,
   "metadata": {},
   "outputs": [],
   "source": [
    "# excluding the inc and any_null columns\n",
    "df_analysis[\"any_null_exclude_occ_inc\"] = df_analysis.apply(\n",
    "    lambda x: any_null_exclude(x, [\"occ\", \"any_null\", \"inc\", \"any_null_exclude_occ\"]),\n",
    "    axis=1,\n",
    ")"
   ]
  },
  {
   "cell_type": "code",
   "execution_count": 26,
   "metadata": {},
   "outputs": [
    {
     "data": {
      "text/html": [
       "<div>\n",
       "<style scoped>\n",
       "    .dataframe tbody tr th:only-of-type {\n",
       "        vertical-align: middle;\n",
       "    }\n",
       "\n",
       "    .dataframe tbody tr th {\n",
       "        vertical-align: top;\n",
       "    }\n",
       "\n",
       "    .dataframe thead th {\n",
       "        text-align: right;\n",
       "    }\n",
       "</style>\n",
       "<table border=\"1\" class=\"dataframe\">\n",
       "  <thead>\n",
       "    <tr style=\"text-align: right;\">\n",
       "      <th></th>\n",
       "      <th>race</th>\n",
       "      <th>inc</th>\n",
       "      <th>smk</th>\n",
       "      <th>occ</th>\n",
       "      <th>any_null</th>\n",
       "      <th>any_null_exclude_occ</th>\n",
       "      <th>any_null_exclude_occ_inc</th>\n",
       "    </tr>\n",
       "  </thead>\n",
       "  <tbody>\n",
       "    <tr>\n",
       "      <th>count</th>\n",
       "      <td>1.697896e+06</td>\n",
       "      <td>1.697896e+06</td>\n",
       "      <td>1.697896e+06</td>\n",
       "      <td>1.697896e+06</td>\n",
       "      <td>1.697896e+06</td>\n",
       "      <td>1.697896e+06</td>\n",
       "      <td>1.697896e+06</td>\n",
       "    </tr>\n",
       "    <tr>\n",
       "      <th>mean</th>\n",
       "      <td>2.398380e-02</td>\n",
       "      <td>1.030905e-01</td>\n",
       "      <td>6.943511e-01</td>\n",
       "      <td>7.379893e-01</td>\n",
       "      <td>7.587379e-01</td>\n",
       "      <td>7.197820e-01</td>\n",
       "      <td>6.998232e-01</td>\n",
       "    </tr>\n",
       "    <tr>\n",
       "      <th>std</th>\n",
       "      <td>1.529987e-01</td>\n",
       "      <td>3.040772e-01</td>\n",
       "      <td>4.606818e-01</td>\n",
       "      <td>4.397286e-01</td>\n",
       "      <td>4.278491e-01</td>\n",
       "      <td>4.491058e-01</td>\n",
       "      <td>4.583348e-01</td>\n",
       "    </tr>\n",
       "    <tr>\n",
       "      <th>min</th>\n",
       "      <td>0.000000e+00</td>\n",
       "      <td>0.000000e+00</td>\n",
       "      <td>0.000000e+00</td>\n",
       "      <td>0.000000e+00</td>\n",
       "      <td>0.000000e+00</td>\n",
       "      <td>0.000000e+00</td>\n",
       "      <td>0.000000e+00</td>\n",
       "    </tr>\n",
       "    <tr>\n",
       "      <th>25%</th>\n",
       "      <td>0.000000e+00</td>\n",
       "      <td>0.000000e+00</td>\n",
       "      <td>0.000000e+00</td>\n",
       "      <td>0.000000e+00</td>\n",
       "      <td>1.000000e+00</td>\n",
       "      <td>0.000000e+00</td>\n",
       "      <td>0.000000e+00</td>\n",
       "    </tr>\n",
       "    <tr>\n",
       "      <th>50%</th>\n",
       "      <td>0.000000e+00</td>\n",
       "      <td>0.000000e+00</td>\n",
       "      <td>1.000000e+00</td>\n",
       "      <td>1.000000e+00</td>\n",
       "      <td>1.000000e+00</td>\n",
       "      <td>1.000000e+00</td>\n",
       "      <td>1.000000e+00</td>\n",
       "    </tr>\n",
       "    <tr>\n",
       "      <th>75%</th>\n",
       "      <td>0.000000e+00</td>\n",
       "      <td>0.000000e+00</td>\n",
       "      <td>1.000000e+00</td>\n",
       "      <td>1.000000e+00</td>\n",
       "      <td>1.000000e+00</td>\n",
       "      <td>1.000000e+00</td>\n",
       "      <td>1.000000e+00</td>\n",
       "    </tr>\n",
       "    <tr>\n",
       "      <th>max</th>\n",
       "      <td>1.000000e+00</td>\n",
       "      <td>1.000000e+00</td>\n",
       "      <td>1.000000e+00</td>\n",
       "      <td>1.000000e+00</td>\n",
       "      <td>1.000000e+00</td>\n",
       "      <td>1.000000e+00</td>\n",
       "      <td>1.000000e+00</td>\n",
       "    </tr>\n",
       "  </tbody>\n",
       "</table>\n",
       "</div>"
      ],
      "text/plain": [
       "               race           inc           smk           occ      any_null  \\\n",
       "count  1.697896e+06  1.697896e+06  1.697896e+06  1.697896e+06  1.697896e+06   \n",
       "mean   2.398380e-02  1.030905e-01  6.943511e-01  7.379893e-01  7.587379e-01   \n",
       "std    1.529987e-01  3.040772e-01  4.606818e-01  4.397286e-01  4.278491e-01   \n",
       "min    0.000000e+00  0.000000e+00  0.000000e+00  0.000000e+00  0.000000e+00   \n",
       "25%    0.000000e+00  0.000000e+00  0.000000e+00  0.000000e+00  1.000000e+00   \n",
       "50%    0.000000e+00  0.000000e+00  1.000000e+00  1.000000e+00  1.000000e+00   \n",
       "75%    0.000000e+00  0.000000e+00  1.000000e+00  1.000000e+00  1.000000e+00   \n",
       "max    1.000000e+00  1.000000e+00  1.000000e+00  1.000000e+00  1.000000e+00   \n",
       "\n",
       "       any_null_exclude_occ  any_null_exclude_occ_inc  \n",
       "count          1.697896e+06              1.697896e+06  \n",
       "mean           7.197820e-01              6.998232e-01  \n",
       "std            4.491058e-01              4.583348e-01  \n",
       "min            0.000000e+00              0.000000e+00  \n",
       "25%            0.000000e+00              0.000000e+00  \n",
       "50%            1.000000e+00              1.000000e+00  \n",
       "75%            1.000000e+00              1.000000e+00  \n",
       "max            1.000000e+00              1.000000e+00  "
      ]
     },
     "execution_count": 26,
     "metadata": {},
     "output_type": "execute_result"
    }
   ],
   "source": [
    "df_analysis.describe()"
   ]
  }
 ],
 "metadata": {
  "kernelspec": {
   "display_name": "base",
   "language": "python",
   "name": "python3"
  },
  "language_info": {
   "codemirror_mode": {
    "name": "ipython",
    "version": 3
   },
   "file_extension": ".py",
   "mimetype": "text/x-python",
   "name": "python",
   "nbconvert_exporter": "python",
   "pygments_lexer": "ipython3",
   "version": "3.11.5"
  }
 },
 "nbformat": 4,
 "nbformat_minor": 2
}
