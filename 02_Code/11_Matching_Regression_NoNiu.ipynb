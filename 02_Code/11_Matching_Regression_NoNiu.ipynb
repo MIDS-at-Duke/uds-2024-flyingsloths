{
  "cells": [
    {
      "cell_type": "code",
      "execution_count": 1,
      "metadata": {
        "id": "CD7VeHhDq64X"
      },
      "outputs": [],
      "source": [
        "import pandas as pd\n",
        "import numpy as np\n",
        "import warnings\n",
        "import matplotlib.pyplot as plt\n",
        "from statsmodels.stats.power import TTestIndPower\n",
        "import statsmodels.api as sm\n",
        "from scipy import stats\n",
        "import statsmodels.formula.api as smf\n",
        "from scipy.stats import chi2_contingency\n",
        "import matplotlib.pyplot as plt\n",
        "from numpy.polynomial.polynomial import Polynomial\n",
        "\n",
        "warnings.filterwarnings(\"ignore\")\n",
        "\n",
        "pd.set_option(\"mode.copy_on_write\", True)"
      ]
    },
    {
      "cell_type": "code",
      "execution_count": 2,
      "metadata": {
        "id": "bHYQICGxq64b"
      },
      "outputs": [
        {
          "data": {
            "text/html": [
              "<div>\n",
              "<style scoped>\n",
              "    .dataframe tbody tr th:only-of-type {\n",
              "        vertical-align: middle;\n",
              "    }\n",
              "\n",
              "    .dataframe tbody tr th {\n",
              "        vertical-align: top;\n",
              "    }\n",
              "\n",
              "    .dataframe thead th {\n",
              "        text-align: right;\n",
              "    }\n",
              "</style>\n",
              "<table border=\"1\" class=\"dataframe\">\n",
              "  <thead>\n",
              "    <tr style=\"text-align: right;\">\n",
              "      <th></th>\n",
              "      <th>YEAR</th>\n",
              "      <th>SEX</th>\n",
              "      <th>RACENEW</th>\n",
              "      <th>INCFAM97ON2</th>\n",
              "      <th>HINOTCOVE</th>\n",
              "      <th>CNLUNG</th>\n",
              "      <th>SMK</th>\n",
              "      <th>Occupation_Code</th>\n",
              "    </tr>\n",
              "  </thead>\n",
              "  <tbody>\n",
              "    <tr>\n",
              "      <th>222390</th>\n",
              "      <td>2011</td>\n",
              "      <td>2</td>\n",
              "      <td>100.0</td>\n",
              "      <td>10.0</td>\n",
              "      <td>2.0</td>\n",
              "      <td>1.0</td>\n",
              "      <td>2</td>\n",
              "      <td>10</td>\n",
              "    </tr>\n",
              "    <tr>\n",
              "      <th>94210</th>\n",
              "      <td>2005</td>\n",
              "      <td>1</td>\n",
              "      <td>100.0</td>\n",
              "      <td>10.0</td>\n",
              "      <td>1.0</td>\n",
              "      <td>1.0</td>\n",
              "      <td>1</td>\n",
              "      <td>3</td>\n",
              "    </tr>\n",
              "    <tr>\n",
              "      <th>252644</th>\n",
              "      <td>2012</td>\n",
              "      <td>2</td>\n",
              "      <td>100.0</td>\n",
              "      <td>32.0</td>\n",
              "      <td>1.0</td>\n",
              "      <td>1.0</td>\n",
              "      <td>2</td>\n",
              "      <td>23</td>\n",
              "    </tr>\n",
              "    <tr>\n",
              "      <th>375028</th>\n",
              "      <td>2017</td>\n",
              "      <td>2</td>\n",
              "      <td>100.0</td>\n",
              "      <td>32.0</td>\n",
              "      <td>1.0</td>\n",
              "      <td>1.0</td>\n",
              "      <td>1</td>\n",
              "      <td>3</td>\n",
              "    </tr>\n",
              "    <tr>\n",
              "      <th>385235</th>\n",
              "      <td>2017</td>\n",
              "      <td>2</td>\n",
              "      <td>200.0</td>\n",
              "      <td>10.0</td>\n",
              "      <td>1.0</td>\n",
              "      <td>1.0</td>\n",
              "      <td>2</td>\n",
              "      <td>14</td>\n",
              "    </tr>\n",
              "  </tbody>\n",
              "</table>\n",
              "</div>"
            ],
            "text/plain": [
              "        YEAR  SEX  RACENEW  INCFAM97ON2  HINOTCOVE  CNLUNG  SMK  \\\n",
              "222390  2011    2    100.0         10.0        2.0     1.0    2   \n",
              "94210   2005    1    100.0         10.0        1.0     1.0    1   \n",
              "252644  2012    2    100.0         32.0        1.0     1.0    2   \n",
              "375028  2017    2    100.0         32.0        1.0     1.0    1   \n",
              "385235  2017    2    200.0         10.0        1.0     1.0    2   \n",
              "\n",
              "        Occupation_Code  \n",
              "222390               10  \n",
              "94210                 3  \n",
              "252644               23  \n",
              "375028                3  \n",
              "385235               14  "
            ]
          },
          "execution_count": 2,
          "metadata": {},
          "output_type": "execute_result"
        }
      ],
      "source": [
        "insurance = pd.read_csv(\"../01_Data/02_Processed/01_Insurance_NoMissing.csv\")\n",
        "insurance.sample(5)"
      ]
    },
    {
      "cell_type": "code",
      "execution_count": 3,
      "metadata": {
        "colab": {
          "base_uri": "https://localhost:8080/"
        },
        "id": "te3EsTcrq64c",
        "outputId": "1ac48d56-11ba-4328-c56e-e9618073aeeb"
      },
      "outputs": [
        {
          "data": {
            "text/plain": [
              "(409638, 8)"
            ]
          },
          "execution_count": 3,
          "metadata": {},
          "output_type": "execute_result"
        }
      ],
      "source": [
        "insurance.shape"
      ]
    },
    {
      "cell_type": "code",
      "execution_count": 4,
      "metadata": {},
      "outputs": [
        {
          "data": {
            "text/html": [
              "<div>\n",
              "<style scoped>\n",
              "    .dataframe tbody tr th:only-of-type {\n",
              "        vertical-align: middle;\n",
              "    }\n",
              "\n",
              "    .dataframe tbody tr th {\n",
              "        vertical-align: top;\n",
              "    }\n",
              "\n",
              "    .dataframe thead th {\n",
              "        text-align: right;\n",
              "    }\n",
              "</style>\n",
              "<table border=\"1\" class=\"dataframe\">\n",
              "  <thead>\n",
              "    <tr style=\"text-align: right;\">\n",
              "      <th></th>\n",
              "      <th>HINOTCOVE</th>\n",
              "      <th>CNLUNG</th>\n",
              "      <th>count</th>\n",
              "    </tr>\n",
              "  </thead>\n",
              "  <tbody>\n",
              "    <tr>\n",
              "      <th>0</th>\n",
              "      <td>1.0</td>\n",
              "      <td>1.0</td>\n",
              "      <td>342074</td>\n",
              "    </tr>\n",
              "    <tr>\n",
              "      <th>1</th>\n",
              "      <td>2.0</td>\n",
              "      <td>1.0</td>\n",
              "      <td>66453</td>\n",
              "    </tr>\n",
              "    <tr>\n",
              "      <th>2</th>\n",
              "      <td>1.0</td>\n",
              "      <td>2.0</td>\n",
              "      <td>1069</td>\n",
              "    </tr>\n",
              "    <tr>\n",
              "      <th>3</th>\n",
              "      <td>2.0</td>\n",
              "      <td>2.0</td>\n",
              "      <td>42</td>\n",
              "    </tr>\n",
              "  </tbody>\n",
              "</table>\n",
              "</div>"
            ],
            "text/plain": [
              "   HINOTCOVE  CNLUNG   count\n",
              "0        1.0     1.0  342074\n",
              "1        2.0     1.0   66453\n",
              "2        1.0     2.0    1069\n",
              "3        2.0     2.0      42"
            ]
          },
          "execution_count": 4,
          "metadata": {},
          "output_type": "execute_result"
        }
      ],
      "source": [
        "insurance[[\"HINOTCOVE\", \"CNLUNG\"]].value_counts().reset_index()"
      ]
    },
    {
      "cell_type": "markdown",
      "metadata": {
        "id": "zz3suarKq64e"
      },
      "source": [
        "> Drop the year variable"
      ]
    },
    {
      "cell_type": "code",
      "execution_count": null,
      "metadata": {
        "id": "UWxYeUeMq64g"
      },
      "outputs": [],
      "source": [
        "# Drop the 'YEAR' variable\n",
        "insurance = insurance.drop(columns=[\"YEAR\"])"
      ]
    },
    {
      "cell_type": "code",
      "execution_count": null,
      "metadata": {
        "colab": {
          "base_uri": "https://localhost:8080/",
          "height": 206
        },
        "id": "Vp1K_t9Yq64g",
        "outputId": "6b1d8877-484c-40da-8847-e613686c7a48"
      },
      "outputs": [],
      "source": [
        "insurance.head()"
      ]
    },
    {
      "cell_type": "markdown",
      "metadata": {
        "id": "gCXpGf9-q64h"
      },
      "source": [
        "## Matching"
      ]
    },
    {
      "cell_type": "code",
      "execution_count": null,
      "metadata": {
        "id": "feI8LBUAq64h"
      },
      "outputs": [],
      "source": [
        "# Convert all columns to integer type\n",
        "insurance = insurance.astype(int)"
      ]
    },
    {
      "cell_type": "code",
      "execution_count": null,
      "metadata": {
        "colab": {
          "base_uri": "https://localhost:8080/"
        },
        "id": "6fuMxQ0_q64i",
        "outputId": "525d3f0a-ac76-4765-9c37-070d37427fb2"
      },
      "outputs": [],
      "source": [
        "# Display the data types of each column in the DataFrame\n",
        "print(\"Data types of each variable in the DataFrame:\")\n",
        "print(insurance.dtypes)"
      ]
    },
    {
      "cell_type": "code",
      "execution_count": null,
      "metadata": {
        "colab": {
          "base_uri": "https://localhost:8080/"
        },
        "id": "Kjc6xp16q64k",
        "outputId": "374dee6a-5128-43d6-aa1a-5dbb6dd1cbf9"
      },
      "outputs": [],
      "source": [
        "# Map 1 to 1 and 2 to 0 in the \"HINOTCOVE\" column\n",
        "insurance[\"HINOTCOVE\"] = insurance[\"HINOTCOVE\"].map({1: 1, 2: 0})\n",
        "\n",
        "# Check unique values in the \"HINOTCOVE\" column after mapping\n",
        "unique_values = insurance[\"HINOTCOVE\"].unique()\n",
        "print(unique_values)"
      ]
    },
    {
      "cell_type": "code",
      "execution_count": null,
      "metadata": {
        "colab": {
          "base_uri": "https://localhost:8080/"
        },
        "id": "kWdCsgPYq64k",
        "outputId": "21c4d2bf-c6c1-4a3e-d928-97f9ee60d0ed"
      },
      "outputs": [],
      "source": [
        "# Map 1 to 0 and 2 to 1 in the \"CNLUNG\" column\n",
        "insurance[\"CNLUNG\"] = insurance[\"CNLUNG\"].map({1: 0, 2: 1})\n",
        "\n",
        "# Check unique values in the \"CNLUNG\" column after mapping\n",
        "unique_values = insurance[\"CNLUNG\"].unique()\n",
        "print(unique_values)"
      ]
    },
    {
      "cell_type": "code",
      "execution_count": null,
      "metadata": {
        "colab": {
          "base_uri": "https://localhost:8080/"
        },
        "id": "2kWXg4-Uq64m",
        "outputId": "b1a6fc7f-e9f2-4bc3-d5ad-cd38c425198a"
      },
      "outputs": [],
      "source": [
        "import dame_flame\n",
        "\n",
        "model = dame_flame.matching.DAME(\n",
        "    repeats=False,\n",
        "    verbose=3,\n",
        "    want_pe=True,\n",
        "    stop_unmatched_t=True,\n",
        ")\n",
        "model.fit(\n",
        "    insurance,\n",
        "    treatment_column_name=\"HINOTCOVE\",\n",
        "    outcome_column_name=\"CNLUNG\",\n",
        ")\n",
        "result = model.predict(insurance)"
      ]
    },
    {
      "cell_type": "code",
      "execution_count": null,
      "metadata": {
        "colab": {
          "base_uri": "https://localhost:8080/",
          "height": 564
        },
        "id": "AXB6ZeG8q64n",
        "outputId": "2cbdca24-b9cb-4f9f-93dc-88a10fa12c31"
      },
      "outputs": [],
      "source": [
        "# Retrieve the prediction errors for each iteration\n",
        "prediction_errors = model.pe_each_iter\n",
        "\n",
        "# Plotting the prediction errors\n",
        "plt.figure(figsize=(10, 6))\n",
        "plt.plot(prediction_errors, marker=\"o\", linestyle=\"-\", markersize=8)\n",
        "plt.title(\"Prediction Error by Iteration\")\n",
        "plt.xlabel(\"Iteration Number\")\n",
        "plt.ylabel(\"Prediction Error\")\n",
        "plt.grid(True)\n",
        "plt.show()"
      ]
    },
    {
      "cell_type": "markdown",
      "metadata": {
        "id": "IwFxOguFq64o"
      },
      "source": [
        "> I choose my stopping point at iteration number 0."
      ]
    },
    {
      "cell_type": "code",
      "execution_count": null,
      "metadata": {
        "colab": {
          "base_uri": "https://localhost:8080/"
        },
        "id": "HW2AsRgjq64o",
        "outputId": "1411f1e4-6c67-4f1b-dcdb-248f4cf24d0b"
      },
      "outputs": [],
      "source": [
        "model_new = dame_flame.matching.DAME(\n",
        "    repeats=False,\n",
        "    verbose=3,\n",
        "    want_pe=True,\n",
        "    stop_unmatched_t=True,\n",
        "    early_stop_iterations=3,  # Stop after iteration 1\n",
        ")\n",
        "model_new.fit(\n",
        "    insurance,\n",
        "    treatment_column_name=\"HINOTCOVE\",\n",
        "    outcome_column_name=\"CNLUNG\",\n",
        ")\n",
        "result_new = model_new.predict(insurance)"
      ]
    },
    {
      "cell_type": "code",
      "execution_count": null,
      "metadata": {
        "id": "ffaLlxtRq64p"
      },
      "outputs": [],
      "source": [
        "def get_dataframe(model, result_of_fit):\n",
        "\n",
        "    # Get original data\n",
        "    better = model.input_data.loc[result_of_fit.index]\n",
        "    if not better.index.is_unique:\n",
        "        raise ValueError(\"Need index values in input data to be unique\")\n",
        "\n",
        "    # Get match groups for clustering\n",
        "    better[\"match_group\"] = np.nan\n",
        "    better[\"match_group_size\"] = np.nan\n",
        "    for idx, group in enumerate(model.units_per_group):\n",
        "        better.loc[group, \"match_group\"] = idx\n",
        "        better.loc[group, \"match_group_size\"] = len(group)\n",
        "\n",
        "    # Get weights. I THINK this is right?! At least for with repeat=False?\n",
        "    t = model.treatment_column_name\n",
        "    better[\"t_in_group\"] = better.groupby(\"match_group\")[t].transform(np.sum)\n",
        "\n",
        "    # Make weights\n",
        "    better[\"weights\"] = np.nan\n",
        "    better.loc[better[t] == 1, \"weights\"] = 1  # treaments are 1\n",
        "\n",
        "    # Controls start as proportional to num of treatments\n",
        "    # each observation is matched to.\n",
        "    better.loc[better[t] == 0, \"weights\"] = better[\"t_in_group\"] / (\n",
        "        better[\"match_group_size\"] - better[\"t_in_group\"]\n",
        "    )\n",
        "\n",
        "    # Then re-normalize for num unique control observations.\n",
        "    control_weights = better[better[t] == 0][\"weights\"].sum()\n",
        "\n",
        "    num_control_obs = len(better[better[t] == 0].index.drop_duplicates())\n",
        "    renormalization = num_control_obs / control_weights\n",
        "    better.loc[better[t] == 0, \"weights\"] = (\n",
        "        better.loc[better[t] == 0, \"weights\"] * renormalization\n",
        "    )\n",
        "    assert better.weights.notnull().all()\n",
        "\n",
        "    better = better.drop([\"t_in_group\"], axis=\"columns\")\n",
        "\n",
        "    # Make sure right length and values!\n",
        "    assert len(result_of_fit) == len(better)\n",
        "    assert better.loc[better[t] == 0, \"weights\"].sum() == num_control_obs\n",
        "\n",
        "    return better"
      ]
    },
    {
      "cell_type": "code",
      "execution_count": null,
      "metadata": {
        "colab": {
          "base_uri": "https://localhost:8080/",
          "height": 206
        },
        "id": "cCT-AbsWq64q",
        "outputId": "b5e36f40-fb81-41d5-a3fd-5d4e9d5b40f6"
      },
      "outputs": [],
      "source": [
        "matched_data = get_dataframe(model_new, result_new)\n",
        "matched_data.head()"
      ]
    },
    {
      "cell_type": "code",
      "execution_count": null,
      "metadata": {
        "colab": {
          "base_uri": "https://localhost:8080/"
        },
        "id": "S8Ui6pm_q64r",
        "outputId": "cef3324d-0a92-443a-c02d-8aff3307cc8c"
      },
      "outputs": [],
      "source": [
        "matched_data.shape"
      ]
    },
    {
      "cell_type": "code",
      "execution_count": null,
      "metadata": {
        "colab": {
          "base_uri": "https://localhost:8080/"
        },
        "id": "hQi8_MNvq64s",
        "outputId": "698a4757-df2e-4cd8-9ec4-bea722abe241"
      },
      "outputs": [],
      "source": [
        "print(f\"Checking the Columns in matched data:\")\n",
        "matched_data.columns"
      ]
    },
    {
      "cell_type": "code",
      "execution_count": null,
      "metadata": {
        "id": "tw8AMGR6q64s"
      },
      "outputs": [],
      "source": [
        "# Model with controls and robustness check\n",
        "model_with_controls = smf.wls(\n",
        "    \"CNLUNG ~ C(HINOTCOVE) + C(SEX) + C(RACENEW) + C(INCFAM97ON2) + C(SMK) + C(Occupation_Code)\",\n",
        "    data=matched_data,\n",
        "    weights=matched_data[\"weights\"],\n",
        ").fit(cov_type=\"HC3\")"
      ]
    },
    {
      "cell_type": "code",
      "execution_count": null,
      "metadata": {
        "colab": {
          "base_uri": "https://localhost:8080/",
          "height": 1000
        },
        "id": "ANCoGSjHq64t",
        "outputId": "980c2fc7-5e71-44b3-a892-0928948028b7"
      },
      "outputs": [],
      "source": [
        "model_with_controls.summary()"
      ]
    },
    {
      "cell_type": "code",
      "execution_count": null,
      "metadata": {
        "colab": {
          "base_uri": "https://localhost:8080/"
        },
        "id": "jCRgK3YQq64u",
        "outputId": "c960620b-2e8f-46ac-be58-41bb4ffc6918"
      },
      "outputs": [],
      "source": [
        "# To get the coefficient for the 'HINOTCOVE' variable\n",
        "insurance_coefficient_control = model_with_controls.params[\"HINOTCOVE\"]\n",
        "print(f\"Coefficient for 'HINOTCOVE' with controls: {insurance_coefficient_control:.4f}\")"
      ]
    },
    {
      "cell_type": "code",
      "execution_count": null,
      "metadata": {
        "colab": {
          "base_uri": "https://localhost:8080/"
        },
        "id": "NJBfVngXq64u",
        "outputId": "8363509c-c154-4c98-b949-b3f1bf4b9854"
      },
      "outputs": [],
      "source": [
        "# To get the p-value for the coefficient of 'HINOTCOVE' variable\n",
        "insurance_p_value_control = model_with_controls.pvalues[\"HINOTCOVE\"]\n",
        "print(f\"P-value for 'HINOTCOVE' with controls: {insurance_p_value_control:.4f}\")"
      ]
    },
    {
      "cell_type": "markdown",
      "metadata": {
        "id": "ERR54wxLq64v"
      },
      "source": [
        ">- Coefficient (0.0008): The coefficient for 'HINOTCOVE' with controls (0.0008) suggests that, after controlling for other variables, there is a positive association between having insurance coverage and the outcome variable (lung cancer diagnosis status). \n",
        ">- The p-value is less than the conventional threshold of 0.05, suggesting that the estimated effect of insurance coverage on lung cancer diagnosis is statistically significant.\n",
        ">- There is evidence to support the hypothesis that having insurance coverage increases the likelihood of lung cancer diagnosis, after controlling for other covariates and potential confounders."
      ]
    }
  ],
  "metadata": {
    "accelerator": "GPU",
    "colab": {
      "gpuType": "V100",
      "machine_shape": "hm",
      "provenance": []
    },
    "kernelspec": {
      "display_name": "Python 3",
      "name": "python3"
    },
    "language_info": {
      "codemirror_mode": {
        "name": "ipython",
        "version": 3
      },
      "file_extension": ".py",
      "mimetype": "text/x-python",
      "name": "python",
      "nbconvert_exporter": "python",
      "pygments_lexer": "ipython3",
      "version": "3.11.5"
    }
  },
  "nbformat": 4,
  "nbformat_minor": 0
}
