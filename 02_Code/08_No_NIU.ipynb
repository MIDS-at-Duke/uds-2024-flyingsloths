{
 "cells": [
  {
   "cell_type": "code",
   "execution_count": 1,
   "metadata": {},
   "outputs": [],
   "source": [
    "# importing required libraries\n",
    "import numpy as np\n",
    "import pandas as pd\n",
    "import matplotlib.pyplot as plt\n",
    "import warnings\n",
    "\n",
    "# Setting default options\n",
    "warnings.filterwarnings(\"ignore\")\n",
    "pd.set_option(\"mode.copy_on_write\", True)"
   ]
  },
  {
   "cell_type": "code",
   "execution_count": 2,
   "metadata": {},
   "outputs": [
    {
     "data": {
      "text/html": [
       "<div>\n",
       "<style scoped>\n",
       "    .dataframe tbody tr th:only-of-type {\n",
       "        vertical-align: middle;\n",
       "    }\n",
       "\n",
       "    .dataframe tbody tr th {\n",
       "        vertical-align: top;\n",
       "    }\n",
       "\n",
       "    .dataframe thead th {\n",
       "        text-align: right;\n",
       "    }\n",
       "</style>\n",
       "<table border=\"1\" class=\"dataframe\">\n",
       "  <thead>\n",
       "    <tr style=\"text-align: right;\">\n",
       "      <th></th>\n",
       "      <th>YEAR</th>\n",
       "      <th>SEX</th>\n",
       "      <th>RACENEW</th>\n",
       "      <th>INCFAM97ON2</th>\n",
       "      <th>HINOTCOVE</th>\n",
       "      <th>CNLUNG</th>\n",
       "      <th>SMK</th>\n",
       "      <th>Occupation_Code</th>\n",
       "    </tr>\n",
       "  </thead>\n",
       "  <tbody>\n",
       "    <tr>\n",
       "      <th>585061</th>\n",
       "      <td>2006</td>\n",
       "      <td>2</td>\n",
       "      <td>200.0</td>\n",
       "      <td>10.0</td>\n",
       "      <td>2.0</td>\n",
       "      <td>1.0</td>\n",
       "      <td>2</td>\n",
       "      <td>11</td>\n",
       "    </tr>\n",
       "    <tr>\n",
       "      <th>180608</th>\n",
       "      <td>2001</td>\n",
       "      <td>1</td>\n",
       "      <td>100.0</td>\n",
       "      <td>30.0</td>\n",
       "      <td>1.0</td>\n",
       "      <td>1.0</td>\n",
       "      <td>0</td>\n",
       "      <td>0</td>\n",
       "    </tr>\n",
       "    <tr>\n",
       "      <th>581041</th>\n",
       "      <td>2006</td>\n",
       "      <td>1</td>\n",
       "      <td>100.0</td>\n",
       "      <td>30.0</td>\n",
       "      <td>1.0</td>\n",
       "      <td>1.0</td>\n",
       "      <td>0</td>\n",
       "      <td>0</td>\n",
       "    </tr>\n",
       "    <tr>\n",
       "      <th>1085518</th>\n",
       "      <td>2012</td>\n",
       "      <td>1</td>\n",
       "      <td>100.0</td>\n",
       "      <td>31.0</td>\n",
       "      <td>1.0</td>\n",
       "      <td>1.0</td>\n",
       "      <td>1</td>\n",
       "      <td>12</td>\n",
       "    </tr>\n",
       "    <tr>\n",
       "      <th>215818</th>\n",
       "      <td>2002</td>\n",
       "      <td>1</td>\n",
       "      <td>541.0</td>\n",
       "      <td>20.0</td>\n",
       "      <td>1.0</td>\n",
       "      <td>1.0</td>\n",
       "      <td>0</td>\n",
       "      <td>0</td>\n",
       "    </tr>\n",
       "  </tbody>\n",
       "</table>\n",
       "</div>"
      ],
      "text/plain": [
       "         YEAR  SEX  RACENEW  INCFAM97ON2  HINOTCOVE  CNLUNG  SMK  \\\n",
       "585061   2006    2    200.0         10.0        2.0     1.0    2   \n",
       "180608   2001    1    100.0         30.0        1.0     1.0    0   \n",
       "581041   2006    1    100.0         30.0        1.0     1.0    0   \n",
       "1085518  2012    1    100.0         31.0        1.0     1.0    1   \n",
       "215818   2002    1    541.0         20.0        1.0     1.0    0   \n",
       "\n",
       "         Occupation_Code  \n",
       "585061                11  \n",
       "180608                 0  \n",
       "581041                 0  \n",
       "1085518               12  \n",
       "215818                 0  "
      ]
     },
     "execution_count": 2,
     "metadata": {},
     "output_type": "execute_result"
    }
   ],
   "source": [
    "# loading the Data\n",
    "# df = pd.read_csv(\"../01_Data/01_Raw/insurance_data_cleaned.csv\")\n",
    "df = pd.read_csv(\"/Users/revanth/Downloads/insurance_data_cleaned (1).csv\")\n",
    "df.sample(5)"
   ]
  },
  {
   "cell_type": "code",
   "execution_count": 3,
   "metadata": {},
   "outputs": [
    {
     "name": "stdout",
     "output_type": "stream",
     "text": [
      "<class 'pandas.core.frame.DataFrame'>\n",
      "RangeIndex: 1697896 entries, 0 to 1697895\n",
      "Data columns (total 8 columns):\n",
      " #   Column           Dtype  \n",
      "---  ------           -----  \n",
      " 0   YEAR             int64  \n",
      " 1   SEX              int64  \n",
      " 2   RACENEW          float64\n",
      " 3   INCFAM97ON2      float64\n",
      " 4   HINOTCOVE        float64\n",
      " 5   CNLUNG           float64\n",
      " 6   SMK              int64  \n",
      " 7   Occupation_Code  int64  \n",
      "dtypes: float64(4), int64(4)\n",
      "memory usage: 103.6 MB\n"
     ]
    }
   ],
   "source": [
    "df.info()"
   ]
  },
  {
   "cell_type": "code",
   "execution_count": 4,
   "metadata": {},
   "outputs": [
    {
     "data": {
      "text/html": [
       "<div>\n",
       "<style scoped>\n",
       "    .dataframe tbody tr th:only-of-type {\n",
       "        vertical-align: middle;\n",
       "    }\n",
       "\n",
       "    .dataframe tbody tr th {\n",
       "        vertical-align: top;\n",
       "    }\n",
       "\n",
       "    .dataframe thead th {\n",
       "        text-align: right;\n",
       "    }\n",
       "</style>\n",
       "<table border=\"1\" class=\"dataframe\">\n",
       "  <thead>\n",
       "    <tr style=\"text-align: right;\">\n",
       "      <th></th>\n",
       "      <th>YEAR</th>\n",
       "      <th>SEX</th>\n",
       "      <th>RACENEW</th>\n",
       "      <th>INCFAM97ON2</th>\n",
       "      <th>HINOTCOVE</th>\n",
       "      <th>CNLUNG</th>\n",
       "      <th>SMK</th>\n",
       "      <th>Occupation_Code</th>\n",
       "    </tr>\n",
       "  </thead>\n",
       "  <tbody>\n",
       "    <tr>\n",
       "      <th>count</th>\n",
       "      <td>1.697896e+06</td>\n",
       "      <td>1.697896e+06</td>\n",
       "      <td>1.697896e+06</td>\n",
       "      <td>1.697896e+06</td>\n",
       "      <td>1.697896e+06</td>\n",
       "      <td>1.697896e+06</td>\n",
       "      <td>1.697896e+06</td>\n",
       "      <td>1.697896e+06</td>\n",
       "    </tr>\n",
       "    <tr>\n",
       "      <th>mean</th>\n",
       "      <td>2.008943e+03</td>\n",
       "      <td>1.513977e+00</td>\n",
       "      <td>1.478627e+02</td>\n",
       "      <td>2.220655e+01</td>\n",
       "      <td>1.153564e+00</td>\n",
       "      <td>1.000926e+00</td>\n",
       "      <td>4.867907e-01</td>\n",
       "      <td>2.696913e+00</td>\n",
       "    </tr>\n",
       "    <tr>\n",
       "      <th>std</th>\n",
       "      <td>5.469550e+00</td>\n",
       "      <td>4.998047e-01</td>\n",
       "      <td>1.047671e+02</td>\n",
       "      <td>2.076822e+01</td>\n",
       "      <td>3.605306e-01</td>\n",
       "      <td>3.042340e-02</td>\n",
       "      <td>7.823743e-01</td>\n",
       "      <td>6.277511e+00</td>\n",
       "    </tr>\n",
       "    <tr>\n",
       "      <th>min</th>\n",
       "      <td>2.000000e+03</td>\n",
       "      <td>1.000000e+00</td>\n",
       "      <td>1.000000e+02</td>\n",
       "      <td>0.000000e+00</td>\n",
       "      <td>1.000000e+00</td>\n",
       "      <td>1.000000e+00</td>\n",
       "      <td>0.000000e+00</td>\n",
       "      <td>0.000000e+00</td>\n",
       "    </tr>\n",
       "    <tr>\n",
       "      <th>25%</th>\n",
       "      <td>2.004000e+03</td>\n",
       "      <td>1.000000e+00</td>\n",
       "      <td>1.000000e+02</td>\n",
       "      <td>1.000000e+01</td>\n",
       "      <td>1.000000e+00</td>\n",
       "      <td>1.000000e+00</td>\n",
       "      <td>0.000000e+00</td>\n",
       "      <td>0.000000e+00</td>\n",
       "    </tr>\n",
       "    <tr>\n",
       "      <th>50%</th>\n",
       "      <td>2.009000e+03</td>\n",
       "      <td>2.000000e+00</td>\n",
       "      <td>1.000000e+02</td>\n",
       "      <td>2.000000e+01</td>\n",
       "      <td>1.000000e+00</td>\n",
       "      <td>1.000000e+00</td>\n",
       "      <td>0.000000e+00</td>\n",
       "      <td>0.000000e+00</td>\n",
       "    </tr>\n",
       "    <tr>\n",
       "      <th>75%</th>\n",
       "      <td>2.014000e+03</td>\n",
       "      <td>2.000000e+00</td>\n",
       "      <td>1.000000e+02</td>\n",
       "      <td>3.100000e+01</td>\n",
       "      <td>1.000000e+00</td>\n",
       "      <td>1.000000e+00</td>\n",
       "      <td>1.000000e+00</td>\n",
       "      <td>1.000000e+00</td>\n",
       "    </tr>\n",
       "    <tr>\n",
       "      <th>max</th>\n",
       "      <td>2.018000e+03</td>\n",
       "      <td>2.000000e+00</td>\n",
       "      <td>5.410000e+02</td>\n",
       "      <td>9.600000e+01</td>\n",
       "      <td>2.000000e+00</td>\n",
       "      <td>2.000000e+00</td>\n",
       "      <td>2.000000e+00</td>\n",
       "      <td>3.300000e+01</td>\n",
       "    </tr>\n",
       "  </tbody>\n",
       "</table>\n",
       "</div>"
      ],
      "text/plain": [
       "               YEAR           SEX       RACENEW   INCFAM97ON2     HINOTCOVE  \\\n",
       "count  1.697896e+06  1.697896e+06  1.697896e+06  1.697896e+06  1.697896e+06   \n",
       "mean   2.008943e+03  1.513977e+00  1.478627e+02  2.220655e+01  1.153564e+00   \n",
       "std    5.469550e+00  4.998047e-01  1.047671e+02  2.076822e+01  3.605306e-01   \n",
       "min    2.000000e+03  1.000000e+00  1.000000e+02  0.000000e+00  1.000000e+00   \n",
       "25%    2.004000e+03  1.000000e+00  1.000000e+02  1.000000e+01  1.000000e+00   \n",
       "50%    2.009000e+03  2.000000e+00  1.000000e+02  2.000000e+01  1.000000e+00   \n",
       "75%    2.014000e+03  2.000000e+00  1.000000e+02  3.100000e+01  1.000000e+00   \n",
       "max    2.018000e+03  2.000000e+00  5.410000e+02  9.600000e+01  2.000000e+00   \n",
       "\n",
       "             CNLUNG           SMK  Occupation_Code  \n",
       "count  1.697896e+06  1.697896e+06     1.697896e+06  \n",
       "mean   1.000926e+00  4.867907e-01     2.696913e+00  \n",
       "std    3.042340e-02  7.823743e-01     6.277511e+00  \n",
       "min    1.000000e+00  0.000000e+00     0.000000e+00  \n",
       "25%    1.000000e+00  0.000000e+00     0.000000e+00  \n",
       "50%    1.000000e+00  0.000000e+00     0.000000e+00  \n",
       "75%    1.000000e+00  1.000000e+00     1.000000e+00  \n",
       "max    2.000000e+00  2.000000e+00     3.300000e+01  "
      ]
     },
     "execution_count": 4,
     "metadata": {},
     "output_type": "execute_result"
    }
   ],
   "source": [
    "df.describe()"
   ]
  },
  {
   "cell_type": "code",
   "execution_count": 5,
   "metadata": {},
   "outputs": [],
   "source": [
    "rows_before = df.shape[0]"
   ]
  },
  {
   "cell_type": "code",
   "execution_count": 6,
   "metadata": {},
   "outputs": [],
   "source": [
    "# NIU List, values which need to be removed\n",
    "remap_race = [530, 541]\n",
    "remap_smk = [0]\n",
    "remap_inc = [0]\n",
    "remap_occ = [0]"
   ]
  },
  {
   "cell_type": "code",
   "execution_count": 7,
   "metadata": {},
   "outputs": [],
   "source": [
    "# Removing the NIU values\n",
    "df = df[~df[\"RACENEW\"].isin(remap_race)]\n",
    "df = df[~df[\"SMK\"].isin(remap_smk)]\n",
    "df = df[~df[\"INCFAM97ON2\"].isin(remap_inc)]\n",
    "df = df[~df[\"Occupation_Code\"].isin(remap_occ)]"
   ]
  },
  {
   "cell_type": "code",
   "execution_count": 8,
   "metadata": {},
   "outputs": [
    {
     "name": "stdout",
     "output_type": "stream",
     "text": [
      "Inital Rows: 1697896\n",
      "Final Rows: 409638\n",
      "Rows Removed: 1288258\n",
      "Percentage Removed: 75.87%\n"
     ]
    }
   ],
   "source": [
    "rows_after = df.shape[0]\n",
    "\n",
    "print(f\"Inital Rows: {rows_before}\")\n",
    "print(f\"Final Rows: {rows_after}\")\n",
    "print(f\"Rows Removed: {rows_before - rows_after}\")\n",
    "print(f\"Percentage Removed: {((rows_before - rows_after) / rows_before) * 100:.2f}%\")"
   ]
  },
  {
   "cell_type": "markdown",
   "metadata": {},
   "source": [
    "Validation"
   ]
  },
  {
   "cell_type": "code",
   "execution_count": 9,
   "metadata": {},
   "outputs": [
    {
     "name": "stdout",
     "output_type": "stream",
     "text": [
      "YEAR: [2000 2001 2002 2003 2004 2005 2006 2007 2008 2009 2010 2011 2012 2013\n",
      " 2014 2015 2016 2017 2018]\n",
      "SEX: [2 1]\n",
      "RACENEW: [100. 200. 400. 300. 520.]\n",
      "INCFAM97ON2: [30. 96. 10. 20. 32. 31.]\n",
      "HINOTCOVE: [1. 2.]\n",
      "CNLUNG: [1. 2.]\n",
      "SMK: [1 2]\n",
      "Occupation_Code: [25 30 22 20 19 27  6 33 32 29 31 24  2  3 16  9 11  8 12 13 18  5  1  4\n",
      " 23  7 21 10 17 15 14 26 28]\n"
     ]
    }
   ],
   "source": [
    "df_cols = df.columns\n",
    "\n",
    "for col in df_cols:\n",
    "    print(f\"{col}: {df[col].unique()}\")"
   ]
  },
  {
   "cell_type": "code",
   "execution_count": 10,
   "metadata": {},
   "outputs": [],
   "source": [
    "# saving the cleaned data\n",
    "df.to_csv(\"../01_Data/02_Processed/01_Insurance_NoMissing.csv\", index=False)"
   ]
  }
 ],
 "metadata": {
  "kernelspec": {
   "display_name": "base",
   "language": "python",
   "name": "python3"
  },
  "language_info": {
   "codemirror_mode": {
    "name": "ipython",
    "version": 3
   },
   "file_extension": ".py",
   "mimetype": "text/x-python",
   "name": "python",
   "nbconvert_exporter": "python",
   "pygments_lexer": "ipython3",
   "version": "3.11.5"
  }
 },
 "nbformat": 4,
 "nbformat_minor": 2
}
