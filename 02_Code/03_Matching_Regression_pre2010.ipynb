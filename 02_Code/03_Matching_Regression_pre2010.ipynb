{
  "cells": [
    {
      "cell_type": "code",
      "execution_count": 1,
      "metadata": {
        "id": "CD7VeHhDq64X"
      },
      "outputs": [],
      "source": [
        "import pandas as pd\n",
        "import numpy as np\n",
        "import warnings\n",
        "import matplotlib.pyplot as plt\n",
        "from statsmodels.stats.power import TTestIndPower\n",
        "import statsmodels.api as sm\n",
        "from scipy import stats\n",
        "import statsmodels.formula.api as smf\n",
        "from scipy.stats import chi2_contingency\n",
        "import matplotlib.pyplot as plt\n",
        "from numpy.polynomial.polynomial import Polynomial\n",
        "\n",
        "warnings.filterwarnings(\"ignore\")\n",
        "\n",
        "pd.set_option(\"mode.copy_on_write\", True)"
      ]
    },
    {
      "cell_type": "code",
      "execution_count": 2,
      "metadata": {
        "id": "bHYQICGxq64b"
      },
      "outputs": [],
      "source": [
        "insurance = pd.read_csv(\"before_Obamacare.csv\")"
      ]
    },
    {
      "cell_type": "code",
      "execution_count": 3,
      "metadata": {
        "colab": {
          "base_uri": "https://localhost:8080/"
        },
        "id": "te3EsTcrq64c",
        "outputId": "1ac48d56-11ba-4328-c56e-e9618073aeeb"
      },
      "outputs": [
        {
          "data": {
            "text/plain": [
              "(864529, 8)"
            ]
          },
          "execution_count": 3,
          "metadata": {},
          "output_type": "execute_result"
        }
      ],
      "source": [
        "insurance.shape"
      ]
    },
    {
      "cell_type": "markdown",
      "metadata": {
        "id": "zz3suarKq64e"
      },
      "source": [
        "> Drop the year variable"
      ]
    },
    {
      "cell_type": "code",
      "execution_count": 4,
      "metadata": {
        "id": "UWxYeUeMq64g"
      },
      "outputs": [],
      "source": [
        "# Drop the 'YEAR' variable\n",
        "insurance = insurance.drop(columns=[\"YEAR\"])"
      ]
    },
    {
      "cell_type": "code",
      "execution_count": 5,
      "metadata": {
        "colab": {
          "base_uri": "https://localhost:8080/",
          "height": 206
        },
        "id": "Vp1K_t9Yq64g",
        "outputId": "6b1d8877-484c-40da-8847-e613686c7a48"
      },
      "outputs": [
        {
          "data": {
            "text/html": [
              "<div>\n",
              "<style scoped>\n",
              "    .dataframe tbody tr th:only-of-type {\n",
              "        vertical-align: middle;\n",
              "    }\n",
              "\n",
              "    .dataframe tbody tr th {\n",
              "        vertical-align: top;\n",
              "    }\n",
              "\n",
              "    .dataframe thead th {\n",
              "        text-align: right;\n",
              "    }\n",
              "</style>\n",
              "<table border=\"1\" class=\"dataframe\">\n",
              "  <thead>\n",
              "    <tr style=\"text-align: right;\">\n",
              "      <th></th>\n",
              "      <th>SEX</th>\n",
              "      <th>RACENEW</th>\n",
              "      <th>INCFAM97ON2</th>\n",
              "      <th>HINOTCOVE</th>\n",
              "      <th>CNLUNG</th>\n",
              "      <th>SMK</th>\n",
              "      <th>Occupation_Code</th>\n",
              "    </tr>\n",
              "  </thead>\n",
              "  <tbody>\n",
              "    <tr>\n",
              "      <th>0</th>\n",
              "      <td>1</td>\n",
              "      <td>100.0</td>\n",
              "      <td>30.0</td>\n",
              "      <td>1.0</td>\n",
              "      <td>1.0</td>\n",
              "      <td>0</td>\n",
              "      <td>0</td>\n",
              "    </tr>\n",
              "    <tr>\n",
              "      <th>1</th>\n",
              "      <td>2</td>\n",
              "      <td>100.0</td>\n",
              "      <td>30.0</td>\n",
              "      <td>1.0</td>\n",
              "      <td>1.0</td>\n",
              "      <td>1</td>\n",
              "      <td>25</td>\n",
              "    </tr>\n",
              "    <tr>\n",
              "      <th>2</th>\n",
              "      <td>2</td>\n",
              "      <td>100.0</td>\n",
              "      <td>30.0</td>\n",
              "      <td>1.0</td>\n",
              "      <td>1.0</td>\n",
              "      <td>0</td>\n",
              "      <td>0</td>\n",
              "    </tr>\n",
              "    <tr>\n",
              "      <th>3</th>\n",
              "      <td>1</td>\n",
              "      <td>100.0</td>\n",
              "      <td>30.0</td>\n",
              "      <td>1.0</td>\n",
              "      <td>1.0</td>\n",
              "      <td>0</td>\n",
              "      <td>0</td>\n",
              "    </tr>\n",
              "    <tr>\n",
              "      <th>4</th>\n",
              "      <td>1</td>\n",
              "      <td>100.0</td>\n",
              "      <td>30.0</td>\n",
              "      <td>1.0</td>\n",
              "      <td>1.0</td>\n",
              "      <td>0</td>\n",
              "      <td>0</td>\n",
              "    </tr>\n",
              "  </tbody>\n",
              "</table>\n",
              "</div>"
            ],
            "text/plain": [
              "   SEX  RACENEW  INCFAM97ON2  HINOTCOVE  CNLUNG  SMK  Occupation_Code\n",
              "0    1    100.0         30.0        1.0     1.0    0                0\n",
              "1    2    100.0         30.0        1.0     1.0    1               25\n",
              "2    2    100.0         30.0        1.0     1.0    0                0\n",
              "3    1    100.0         30.0        1.0     1.0    0                0\n",
              "4    1    100.0         30.0        1.0     1.0    0                0"
            ]
          },
          "execution_count": 5,
          "metadata": {},
          "output_type": "execute_result"
        }
      ],
      "source": [
        "insurance.head()"
      ]
    },
    {
      "cell_type": "markdown",
      "metadata": {
        "id": "gCXpGf9-q64h"
      },
      "source": [
        "## Matching"
      ]
    },
    {
      "cell_type": "code",
      "execution_count": 6,
      "metadata": {
        "id": "feI8LBUAq64h"
      },
      "outputs": [],
      "source": [
        "# Convert all columns to integer type\n",
        "insurance = insurance.astype(int)"
      ]
    },
    {
      "cell_type": "code",
      "execution_count": 7,
      "metadata": {
        "colab": {
          "base_uri": "https://localhost:8080/"
        },
        "id": "6fuMxQ0_q64i",
        "outputId": "525d3f0a-ac76-4765-9c37-070d37427fb2"
      },
      "outputs": [
        {
          "name": "stdout",
          "output_type": "stream",
          "text": [
            "Data types of each variable in the DataFrame:\n",
            "SEX                int64\n",
            "RACENEW            int64\n",
            "INCFAM97ON2        int64\n",
            "HINOTCOVE          int64\n",
            "CNLUNG             int64\n",
            "SMK                int64\n",
            "Occupation_Code    int64\n",
            "dtype: object\n"
          ]
        }
      ],
      "source": [
        "# Display the data types of each column in the DataFrame\n",
        "print(\"Data types of each variable in the DataFrame:\")\n",
        "print(insurance.dtypes)"
      ]
    },
    {
      "cell_type": "code",
      "execution_count": 8,
      "metadata": {
        "colab": {
          "base_uri": "https://localhost:8080/"
        },
        "id": "Kjc6xp16q64k",
        "outputId": "374dee6a-5128-43d6-aa1a-5dbb6dd1cbf9"
      },
      "outputs": [
        {
          "name": "stdout",
          "output_type": "stream",
          "text": [
            "[1 0]\n"
          ]
        }
      ],
      "source": [
        "# Map 1 to 1 and 2 to 0 in the \"HINOTCOVE\" column\n",
        "insurance[\"HINOTCOVE\"] = insurance[\"HINOTCOVE\"].map({1: 1, 2: 0})\n",
        "\n",
        "# Check unique values in the \"HINOTCOVE\" column after mapping\n",
        "unique_values = insurance[\"HINOTCOVE\"].unique()\n",
        "print(unique_values)"
      ]
    },
    {
      "cell_type": "code",
      "execution_count": 9,
      "metadata": {
        "colab": {
          "base_uri": "https://localhost:8080/"
        },
        "id": "kWdCsgPYq64k",
        "outputId": "21c4d2bf-c6c1-4a3e-d928-97f9ee60d0ed"
      },
      "outputs": [
        {
          "name": "stdout",
          "output_type": "stream",
          "text": [
            "[0 1]\n"
          ]
        }
      ],
      "source": [
        "# Map 1 to 0 and 2 to 1 in the \"CNLUNG\" column\n",
        "insurance[\"CNLUNG\"] = insurance[\"CNLUNG\"].map({1: 0, 2: 1})\n",
        "\n",
        "# Check unique values in the \"CNLUNG\" column after mapping\n",
        "unique_values = insurance[\"CNLUNG\"].unique()\n",
        "print(unique_values)"
      ]
    },
    {
      "cell_type": "code",
      "execution_count": 10,
      "metadata": {
        "colab": {
          "base_uri": "https://localhost:8080/"
        },
        "id": "2kWXg4-Uq64m",
        "outputId": "b1a6fc7f-e9f2-4bc3-d5ad-cd38c425198a"
      },
      "outputs": [
        {
          "name": "stdout",
          "output_type": "stream",
          "text": [
            "Completed iteration 0 of matching\n",
            "\tNumber of matched groups formed in total:  2404\n",
            "\tUnmatched treated units:  7981 out of a total of  715323 treated units\n",
            "\tUnmatched control units:  265 out of a total of  149206 control units\n",
            "\tNumber of matches made this iteration:  856283\n",
            "\tNumber of matches made so far:  856283\n",
            "\tCovariates dropped so far:  set()\n",
            "\tPredictive error of covariate set used to match:  0.0011094063618850136\n",
            "Completed iteration 1 of matching\n",
            "\tNumber of matched groups formed in total:  2456\n",
            "\tUnmatched treated units:  7883 out of a total of  715323 treated units\n",
            "\tUnmatched control units:  199 out of a total of  149206 control units\n",
            "\tNumber of matches made this iteration:  164\n",
            "\tNumber of matches made so far:  856447\n",
            "\tCovariates dropped so far:  frozenset({'SEX'})\n",
            "\tPredictive error of covariate set used to match:  0.001109422050949223\n",
            "Completed iteration 2 of matching\n",
            "\tNumber of matched groups formed in total:  2546\n",
            "\tUnmatched treated units:  7544 out of a total of  715323 treated units\n",
            "\tUnmatched control units:  65 out of a total of  149206 control units\n",
            "\tNumber of matches made this iteration:  473\n",
            "\tNumber of matches made so far:  856920\n",
            "\tCovariates dropped so far:  frozenset({'INCFAM97ON2'})\n",
            "\tPredictive error of covariate set used to match:  0.0011094335875739816\n",
            "Completed iteration 3 of matching\n",
            "\tNumber of matched groups formed in total:  2561\n",
            "\tUnmatched treated units:  7508 out of a total of  715323 treated units\n",
            "\tUnmatched control units:  46 out of a total of  149206 control units\n",
            "\tNumber of matches made this iteration:  55\n",
            "\tNumber of matches made so far:  856975\n",
            "\tCovariates dropped so far:  frozenset({'SEX', 'INCFAM97ON2'})\n",
            "\tPredictive error of covariate set used to match:  0.0011094487225629752\n",
            "Completed iteration 4 of matching\n",
            "\tNumber of matched groups formed in total:  2582\n",
            "\tUnmatched treated units:  7376 out of a total of  715323 treated units\n",
            "\tUnmatched control units:  23 out of a total of  149206 control units\n",
            "\tNumber of matches made this iteration:  155\n",
            "\tNumber of matches made so far:  857130\n",
            "\tCovariates dropped so far:  frozenset({'RACENEW'})\n",
            "\tPredictive error of covariate set used to match:  0.0011094492644511966\n",
            "Completed iteration 5 of matching\n",
            "\tNumber of matched groups formed in total:  2583\n",
            "\tUnmatched treated units:  7374 out of a total of  715323 treated units\n",
            "\tUnmatched control units:  20 out of a total of  149206 control units\n",
            "\tNumber of matches made this iteration:  5\n",
            "\tNumber of matches made so far:  857135\n",
            "\tCovariates dropped so far:  frozenset({'SEX', 'RACENEW'})\n",
            "\tPredictive error of covariate set used to match:  0.0011094655003993702\n",
            "Completed iteration 6 of matching\n",
            "\tNumber of matched groups formed in total:  2593\n",
            "\tUnmatched treated units:  7292 out of a total of  715323 treated units\n",
            "\tUnmatched control units:  0 out of a total of  149206 control units\n",
            "\tNumber of matches made this iteration:  102\n",
            "\tNumber of matches made so far:  857237\n",
            "\tCovariates dropped so far:  frozenset({'INCFAM97ON2', 'RACENEW'})\n",
            "\tPredictive error of covariate set used to match:  0.0011094741264133573\n",
            "857237 units matched. We finished with no more control units to match\n"
          ]
        }
      ],
      "source": [
        "import dame_flame\n",
        "\n",
        "model = dame_flame.matching.DAME(\n",
        "    repeats=False,\n",
        "    verbose=3,\n",
        "    want_pe=True,\n",
        "    stop_unmatched_t=True,\n",
        ")\n",
        "model.fit(\n",
        "    insurance,\n",
        "    treatment_column_name=\"HINOTCOVE\",\n",
        "    outcome_column_name=\"CNLUNG\",\n",
        ")\n",
        "result = model.predict(insurance)"
      ]
    },
    {
      "cell_type": "code",
      "execution_count": 11,
      "metadata": {
        "colab": {
          "base_uri": "https://localhost:8080/",
          "height": 564
        },
        "id": "AXB6ZeG8q64n",
        "outputId": "2cbdca24-b9cb-4f9f-93dc-88a10fa12c31"
      },
      "outputs": [
        {
          "data": {
            "image/png": "[encoded data removed]",
            "text/plain": [
              "<Figure size 1000x600 with 1 Axes>"
            ]
          },
          "metadata": {},
          "output_type": "display_data"
        }
      ],
      "source": [
        "# Retrieve the prediction errors for each iteration\n",
        "prediction_errors = model.pe_each_iter\n",
        "\n",
        "# Plotting the prediction errors\n",
        "plt.figure(figsize=(10, 6))\n",
        "plt.plot(prediction_errors, marker=\"o\", linestyle=\"-\", markersize=8)\n",
        "plt.title(\"Prediction Error by Iteration (Pre-2010 Data)\")\n",
        "plt.xlabel(\"Iteration Number\")\n",
        "plt.ylabel(\"Prediction Error\")\n",
        "plt.grid(True)\n",
        "plt.show()"
      ]
    },
    {
      "cell_type": "markdown",
      "metadata": {
        "id": "IwFxOguFq64o"
      },
      "source": [
        "> I choose my stopping point at iteration number 0."
      ]
    },
    {
      "cell_type": "code",
      "execution_count": 12,
      "metadata": {
        "colab": {
          "base_uri": "https://localhost:8080/"
        },
        "id": "HW2AsRgjq64o",
        "outputId": "1411f1e4-6c67-4f1b-dcdb-248f4cf24d0b"
      },
      "outputs": [
        {
          "name": "stdout",
          "output_type": "stream",
          "text": [
            "Completed iteration 0 of matching\n",
            "\tNumber of matched groups formed in total:  2404\n",
            "\tUnmatched treated units:  7981 out of a total of  715323 treated units\n",
            "\tUnmatched control units:  265 out of a total of  149206 control units\n",
            "\tNumber of matches made this iteration:  856283\n",
            "\tNumber of matches made so far:  856283\n",
            "\tCovariates dropped so far:  set()\n",
            "\tPredictive error of covariate set used to match:  0.0011094063618850136\n",
            "856283 units matched. We stopped after iteration 0\n"
          ]
        }
      ],
      "source": [
        "model_new = dame_flame.matching.DAME(\n",
        "    repeats=False,\n",
        "    verbose=3,\n",
        "    want_pe=True,\n",
        "    stop_unmatched_t=True,\n",
        "    early_stop_iterations=0,  # Stop after iteration 1\n",
        ")\n",
        "model_new.fit(\n",
        "    insurance,\n",
        "    treatment_column_name=\"HINOTCOVE\",\n",
        "    outcome_column_name=\"CNLUNG\",\n",
        ")\n",
        "result_new = model_new.predict(insurance)"
      ]
    },
    {
      "cell_type": "code",
      "execution_count": 13,
      "metadata": {
        "id": "ffaLlxtRq64p"
      },
      "outputs": [],
      "source": [
        "def get_dataframe(model, result_of_fit):\n",
        "\n",
        "    # Get original data\n",
        "    better = model.input_data.loc[result_of_fit.index]\n",
        "    if not better.index.is_unique:\n",
        "        raise ValueError(\"Need index values in input data to be unique\")\n",
        "\n",
        "    # Get match groups for clustering\n",
        "    better[\"match_group\"] = np.nan\n",
        "    better[\"match_group_size\"] = np.nan\n",
        "    for idx, group in enumerate(model.units_per_group):\n",
        "        better.loc[group, \"match_group\"] = idx\n",
        "        better.loc[group, \"match_group_size\"] = len(group)\n",
        "\n",
        "    # Get weights. I THINK this is right?! At least for with repeat=False?\n",
        "    t = model.treatment_column_name\n",
        "    better[\"t_in_group\"] = better.groupby(\"match_group\")[t].transform(np.sum)\n",
        "\n",
        "    # Make weights\n",
        "    better[\"weights\"] = np.nan\n",
        "    better.loc[better[t] == 1, \"weights\"] = 1  # treaments are 1\n",
        "\n",
        "    # Controls start as proportional to num of treatments\n",
        "    # each observation is matched to.\n",
        "    better.loc[better[t] == 0, \"weights\"] = better[\"t_in_group\"] / (\n",
        "        better[\"match_group_size\"] - better[\"t_in_group\"]\n",
        "    )\n",
        "\n",
        "    # Then re-normalize for num unique control observations.\n",
        "    control_weights = better[better[t] == 0][\"weights\"].sum()\n",
        "\n",
        "    num_control_obs = len(better[better[t] == 0].index.drop_duplicates())\n",
        "    renormalization = num_control_obs / control_weights\n",
        "    better.loc[better[t] == 0, \"weights\"] = (\n",
        "        better.loc[better[t] == 0, \"weights\"] * renormalization\n",
        "    )\n",
        "    assert better.weights.notnull().all()\n",
        "\n",
        "    better = better.drop([\"t_in_group\"], axis=\"columns\")\n",
        "\n",
        "    # Make sure right length and values!\n",
        "    assert len(result_of_fit) == len(better)\n",
        "    assert better.loc[better[t] == 0, \"weights\"].sum() == num_control_obs\n",
        "\n",
        "    return better"
      ]
    },
    {
      "cell_type": "code",
      "execution_count": 14,
      "metadata": {
        "colab": {
          "base_uri": "https://localhost:8080/",
          "height": 206
        },
        "id": "cCT-AbsWq64q",
        "outputId": "b5e36f40-fb81-41d5-a3fd-5d4e9d5b40f6"
      },
      "outputs": [
        {
          "data": {
            "text/html": [
              "<div>\n",
              "<style scoped>\n",
              "    .dataframe tbody tr th:only-of-type {\n",
              "        vertical-align: middle;\n",
              "    }\n",
              "\n",
              "    .dataframe tbody tr th {\n",
              "        vertical-align: top;\n",
              "    }\n",
              "\n",
              "    .dataframe thead th {\n",
              "        text-align: right;\n",
              "    }\n",
              "</style>\n",
              "<table border=\"1\" class=\"dataframe\">\n",
              "  <thead>\n",
              "    <tr style=\"text-align: right;\">\n",
              "      <th></th>\n",
              "      <th>SEX</th>\n",
              "      <th>RACENEW</th>\n",
              "      <th>INCFAM97ON2</th>\n",
              "      <th>HINOTCOVE</th>\n",
              "      <th>CNLUNG</th>\n",
              "      <th>SMK</th>\n",
              "      <th>Occupation_Code</th>\n",
              "      <th>match_group</th>\n",
              "      <th>match_group_size</th>\n",
              "      <th>weights</th>\n",
              "    </tr>\n",
              "  </thead>\n",
              "  <tbody>\n",
              "    <tr>\n",
              "      <th>0</th>\n",
              "      <td>1</td>\n",
              "      <td>100</td>\n",
              "      <td>30</td>\n",
              "      <td>1</td>\n",
              "      <td>0</td>\n",
              "      <td>0</td>\n",
              "      <td>0</td>\n",
              "      <td>463.0</td>\n",
              "      <td>36124.0</td>\n",
              "      <td>1.0</td>\n",
              "    </tr>\n",
              "    <tr>\n",
              "      <th>1</th>\n",
              "      <td>2</td>\n",
              "      <td>100</td>\n",
              "      <td>30</td>\n",
              "      <td>1</td>\n",
              "      <td>0</td>\n",
              "      <td>1</td>\n",
              "      <td>25</td>\n",
              "      <td>551.0</td>\n",
              "      <td>137.0</td>\n",
              "      <td>1.0</td>\n",
              "    </tr>\n",
              "    <tr>\n",
              "      <th>2</th>\n",
              "      <td>2</td>\n",
              "      <td>100</td>\n",
              "      <td>30</td>\n",
              "      <td>1</td>\n",
              "      <td>0</td>\n",
              "      <td>0</td>\n",
              "      <td>0</td>\n",
              "      <td>464.0</td>\n",
              "      <td>34036.0</td>\n",
              "      <td>1.0</td>\n",
              "    </tr>\n",
              "    <tr>\n",
              "      <th>3</th>\n",
              "      <td>1</td>\n",
              "      <td>100</td>\n",
              "      <td>30</td>\n",
              "      <td>1</td>\n",
              "      <td>0</td>\n",
              "      <td>0</td>\n",
              "      <td>0</td>\n",
              "      <td>463.0</td>\n",
              "      <td>36124.0</td>\n",
              "      <td>1.0</td>\n",
              "    </tr>\n",
              "    <tr>\n",
              "      <th>4</th>\n",
              "      <td>1</td>\n",
              "      <td>100</td>\n",
              "      <td>30</td>\n",
              "      <td>1</td>\n",
              "      <td>0</td>\n",
              "      <td>0</td>\n",
              "      <td>0</td>\n",
              "      <td>463.0</td>\n",
              "      <td>36124.0</td>\n",
              "      <td>1.0</td>\n",
              "    </tr>\n",
              "  </tbody>\n",
              "</table>\n",
              "</div>"
            ],
            "text/plain": [
              "   SEX  RACENEW  INCFAM97ON2  HINOTCOVE  CNLUNG  SMK  Occupation_Code  \\\n",
              "0    1      100           30          1       0    0                0   \n",
              "1    2      100           30          1       0    1               25   \n",
              "2    2      100           30          1       0    0                0   \n",
              "3    1      100           30          1       0    0                0   \n",
              "4    1      100           30          1       0    0                0   \n",
              "\n",
              "   match_group  match_group_size  weights  \n",
              "0        463.0           36124.0      1.0  \n",
              "1        551.0             137.0      1.0  \n",
              "2        464.0           34036.0      1.0  \n",
              "3        463.0           36124.0      1.0  \n",
              "4        463.0           36124.0      1.0  "
            ]
          },
          "execution_count": 14,
          "metadata": {},
          "output_type": "execute_result"
        }
      ],
      "source": [
        "matched_data = get_dataframe(model_new, result_new)\n",
        "matched_data.head()"
      ]
    },
    {
      "cell_type": "code",
      "execution_count": 15,
      "metadata": {
        "colab": {
          "base_uri": "https://localhost:8080/"
        },
        "id": "S8Ui6pm_q64r",
        "outputId": "cef3324d-0a92-443a-c02d-8aff3307cc8c"
      },
      "outputs": [
        {
          "data": {
            "text/plain": [
              "(856283, 10)"
            ]
          },
          "execution_count": 15,
          "metadata": {},
          "output_type": "execute_result"
        }
      ],
      "source": [
        "matched_data.shape"
      ]
    },
    {
      "cell_type": "code",
      "execution_count": 16,
      "metadata": {
        "colab": {
          "base_uri": "https://localhost:8080/"
        },
        "id": "hQi8_MNvq64s",
        "outputId": "698a4757-df2e-4cd8-9ec4-bea722abe241"
      },
      "outputs": [
        {
          "name": "stdout",
          "output_type": "stream",
          "text": [
            "Checking the Columns in matched data:\n"
          ]
        },
        {
          "data": {
            "text/plain": [
              "Index(['SEX', 'RACENEW', 'INCFAM97ON2', 'HINOTCOVE', 'CNLUNG', 'SMK',\n",
              "       'Occupation_Code', 'match_group', 'match_group_size', 'weights'],\n",
              "      dtype='object')"
            ]
          },
          "execution_count": 16,
          "metadata": {},
          "output_type": "execute_result"
        }
      ],
      "source": [
        "print(f\"Checking the Columns in matched data:\")\n",
        "matched_data.columns"
      ]
    },
    {
      "cell_type": "code",
      "execution_count": 17,
      "metadata": {
        "id": "tw8AMGR6q64s"
      },
      "outputs": [],
      "source": [
        "# Model with controls and robustness check\n",
        "model_with_controls = smf.wls(\n",
        "    \"CNLUNG ~ C(HINOTCOVE) + C(SEX) + C(RACENEW) + C(INCFAM97ON2) + C(SMK) + C(Occupation_Code)\",\n",
        "    data=matched_data,\n",
        "    weights=matched_data[\"weights\"],\n",
        ").fit(cov_type=\"HC3\")"
      ]
    },
    {
      "cell_type": "code",
      "execution_count": 18,
      "metadata": {
        "colab": {
          "base_uri": "https://localhost:8080/",
          "height": 1000
        },
        "id": "ANCoGSjHq64t",
        "outputId": "980c2fc7-5e71-44b3-a892-0928948028b7"
      },
      "outputs": [
        {
          "data": {
            "text/html": [
              "<table class=\"simpletable\">\n",
              "<caption>WLS Regression Results</caption>\n",
              "<tr>\n",
              "  <th>Dep. Variable:</th>         <td>CNLUNG</td>      <th>  R-squared:         </th>  <td>   0.005</td> \n",
              "</tr>\n",
              "<tr>\n",
              "  <th>Model:</th>                   <td>WLS</td>       <th>  Adj. R-squared:    </th>  <td>   0.005</td> \n",
              "</tr>\n",
              "<tr>\n",
              "  <th>Method:</th>             <td>Least Squares</td>  <th>  F-statistic:       </th>  <td>   13.61</td> \n",
              "</tr>\n",
              "<tr>\n",
              "  <th>Date:</th>             <td>Wed, 01 May 2024</td> <th>  Prob (F-statistic):</th>  <td>3.19e-109</td>\n",
              "</tr>\n",
              "<tr>\n",
              "  <th>Time:</th>                 <td>00:29:44</td>     <th>  Log-Likelihood:    </th> <td>1.8243e+06</td>\n",
              "</tr>\n",
              "<tr>\n",
              "  <th>No. Observations:</th>      <td>856283</td>      <th>  AIC:               </th> <td>-3.648e+06</td>\n",
              "</tr>\n",
              "<tr>\n",
              "  <th>Df Residuals:</th>          <td>856233</td>      <th>  BIC:               </th> <td>-3.648e+06</td>\n",
              "</tr>\n",
              "<tr>\n",
              "  <th>Df Model:</th>              <td>    49</td>      <th>                     </th>      <td> </td>    \n",
              "</tr>\n",
              "<tr>\n",
              "  <th>Covariance Type:</th>         <td>HC3</td>       <th>                     </th>      <td> </td>    \n",
              "</tr>\n",
              "</table>\n",
              "<table class=\"simpletable\">\n",
              "<tr>\n",
              "              <td></td>                <th>coef</th>     <th>std err</th>      <th>z</th>      <th>P>|z|</th>  <th>[0.025</th>    <th>0.975]</th>  \n",
              "</tr>\n",
              "<tr>\n",
              "  <th>Intercept</th>                <td>   -0.0005</td> <td> 9.73e-05</td> <td>   -4.736</td> <td> 0.000</td> <td>   -0.001</td> <td>   -0.000</td>\n",
              "</tr>\n",
              "<tr>\n",
              "  <th>C(HINOTCOVE)[T.1]</th>        <td>    0.0008</td> <td> 5.66e-05</td> <td>   13.598</td> <td> 0.000</td> <td>    0.001</td> <td>    0.001</td>\n",
              "</tr>\n",
              "<tr>\n",
              "  <th>C(SEX)[T.2]</th>              <td>   -0.0001</td> <td> 5.99e-05</td> <td>   -2.420</td> <td> 0.016</td> <td>   -0.000</td> <td>-2.76e-05</td>\n",
              "</tr>\n",
              "<tr>\n",
              "  <th>C(RACENEW)[T.200]</th>        <td>   -0.0002</td> <td> 8.07e-05</td> <td>   -2.966</td> <td> 0.003</td> <td>   -0.000</td> <td>-8.12e-05</td>\n",
              "</tr>\n",
              "<tr>\n",
              "  <th>C(RACENEW)[T.300]</th>        <td>   -0.0001</td> <td>    0.000</td> <td>   -0.326</td> <td> 0.744</td> <td>   -0.001</td> <td>    0.001</td>\n",
              "</tr>\n",
              "<tr>\n",
              "  <th>C(RACENEW)[T.400]</th>        <td>   -0.0002</td> <td>    0.000</td> <td>   -1.519</td> <td> 0.129</td> <td>   -0.000</td> <td> 5.91e-05</td>\n",
              "</tr>\n",
              "<tr>\n",
              "  <th>C(RACENEW)[T.520]</th>        <td>   -0.0004</td> <td>    0.000</td> <td>   -3.453</td> <td> 0.001</td> <td>   -0.001</td> <td>   -0.000</td>\n",
              "</tr>\n",
              "<tr>\n",
              "  <th>C(RACENEW)[T.530]</th>        <td>   -0.0002</td> <td> 4.17e-05</td> <td>   -5.536</td> <td> 0.000</td> <td>   -0.000</td> <td>   -0.000</td>\n",
              "</tr>\n",
              "<tr>\n",
              "  <th>C(RACENEW)[T.541]</th>        <td>   -0.0003</td> <td>    0.000</td> <td>   -1.909</td> <td> 0.056</td> <td>   -0.001</td> <td> 8.02e-06</td>\n",
              "</tr>\n",
              "<tr>\n",
              "  <th>C(INCFAM97ON2)[T.10]</th>     <td>    0.0003</td> <td>    0.000</td> <td>    3.094</td> <td> 0.002</td> <td>    0.000</td> <td>    0.001</td>\n",
              "</tr>\n",
              "<tr>\n",
              "  <th>C(INCFAM97ON2)[T.20]</th>     <td>   -0.0002</td> <td>    0.000</td> <td>   -1.526</td> <td> 0.127</td> <td>   -0.000</td> <td> 4.44e-05</td>\n",
              "</tr>\n",
              "<tr>\n",
              "  <th>C(INCFAM97ON2)[T.30]</th>     <td>   -0.0003</td> <td>    0.000</td> <td>   -2.682</td> <td> 0.007</td> <td>   -0.000</td> <td>-7.25e-05</td>\n",
              "</tr>\n",
              "<tr>\n",
              "  <th>C(INCFAM97ON2)[T.31]</th>     <td>   -0.0004</td> <td>    0.000</td> <td>   -2.673</td> <td> 0.008</td> <td>   -0.001</td> <td>-9.71e-05</td>\n",
              "</tr>\n",
              "<tr>\n",
              "  <th>C(INCFAM97ON2)[T.32]</th>     <td>   -0.0003</td> <td>    0.000</td> <td>   -2.606</td> <td> 0.009</td> <td>   -0.001</td> <td>-7.54e-05</td>\n",
              "</tr>\n",
              "<tr>\n",
              "  <th>C(INCFAM97ON2)[T.96]</th>     <td> -1.09e-05</td> <td>    0.000</td> <td>   -0.093</td> <td> 0.926</td> <td>   -0.000</td> <td>    0.000</td>\n",
              "</tr>\n",
              "<tr>\n",
              "  <th>C(SMK)[T.1]</th>              <td>    0.0074</td> <td>    0.000</td> <td>   19.149</td> <td> 0.000</td> <td>    0.007</td> <td>    0.008</td>\n",
              "</tr>\n",
              "<tr>\n",
              "  <th>C(SMK)[T.2]</th>              <td>    0.0029</td> <td>    0.000</td> <td>   11.042</td> <td> 0.000</td> <td>    0.002</td> <td>    0.003</td>\n",
              "</tr>\n",
              "<tr>\n",
              "  <th>C(Occupation_Code)[T.1]</th>  <td>   -0.0018</td> <td>    0.000</td> <td>   -3.758</td> <td> 0.000</td> <td>   -0.003</td> <td>   -0.001</td>\n",
              "</tr>\n",
              "<tr>\n",
              "  <th>C(Occupation_Code)[T.2]</th>  <td>   -0.0021</td> <td>    0.001</td> <td>   -3.463</td> <td> 0.001</td> <td>   -0.003</td> <td>   -0.001</td>\n",
              "</tr>\n",
              "<tr>\n",
              "  <th>C(Occupation_Code)[T.3]</th>  <td>   -0.0025</td> <td>    0.001</td> <td>   -4.982</td> <td> 0.000</td> <td>   -0.004</td> <td>   -0.002</td>\n",
              "</tr>\n",
              "<tr>\n",
              "  <th>C(Occupation_Code)[T.4]</th>  <td>   -0.0004</td> <td>    0.001</td> <td>   -0.456</td> <td> 0.648</td> <td>   -0.002</td> <td>    0.001</td>\n",
              "</tr>\n",
              "<tr>\n",
              "  <th>C(Occupation_Code)[T.5]</th>  <td>   -0.0023</td> <td>    0.001</td> <td>   -4.515</td> <td> 0.000</td> <td>   -0.003</td> <td>   -0.001</td>\n",
              "</tr>\n",
              "<tr>\n",
              "  <th>C(Occupation_Code)[T.6]</th>  <td>   -0.0022</td> <td>    0.001</td> <td>   -3.432</td> <td> 0.001</td> <td>   -0.003</td> <td>   -0.001</td>\n",
              "</tr>\n",
              "<tr>\n",
              "  <th>C(Occupation_Code)[T.7]</th>  <td>   -0.0023</td> <td>    0.001</td> <td>   -3.638</td> <td> 0.000</td> <td>   -0.004</td> <td>   -0.001</td>\n",
              "</tr>\n",
              "<tr>\n",
              "  <th>C(Occupation_Code)[T.8]</th>  <td>   -0.0014</td> <td>    0.001</td> <td>   -1.656</td> <td> 0.098</td> <td>   -0.003</td> <td>    0.000</td>\n",
              "</tr>\n",
              "<tr>\n",
              "  <th>C(Occupation_Code)[T.9]</th>  <td>   -0.0021</td> <td>    0.001</td> <td>   -2.446</td> <td> 0.014</td> <td>   -0.004</td> <td>   -0.000</td>\n",
              "</tr>\n",
              "<tr>\n",
              "  <th>C(Occupation_Code)[T.10]</th> <td>   -0.0003</td> <td>    0.001</td> <td>   -0.272</td> <td> 0.786</td> <td>   -0.002</td> <td>    0.002</td>\n",
              "</tr>\n",
              "<tr>\n",
              "  <th>C(Occupation_Code)[T.11]</th> <td>   -0.0031</td> <td>    0.001</td> <td>   -4.440</td> <td> 0.000</td> <td>   -0.004</td> <td>   -0.002</td>\n",
              "</tr>\n",
              "<tr>\n",
              "  <th>C(Occupation_Code)[T.12]</th> <td>   -0.0024</td> <td>    0.001</td> <td>   -2.590</td> <td> 0.010</td> <td>   -0.004</td> <td>   -0.001</td>\n",
              "</tr>\n",
              "<tr>\n",
              "  <th>C(Occupation_Code)[T.13]</th> <td>   -0.0026</td> <td>    0.001</td> <td>   -3.378</td> <td> 0.001</td> <td>   -0.004</td> <td>   -0.001</td>\n",
              "</tr>\n",
              "<tr>\n",
              "  <th>C(Occupation_Code)[T.14]</th> <td>   -0.0036</td> <td>    0.001</td> <td>   -5.417</td> <td> 0.000</td> <td>   -0.005</td> <td>   -0.002</td>\n",
              "</tr>\n",
              "<tr>\n",
              "  <th>C(Occupation_Code)[T.15]</th> <td>   -0.0028</td> <td>    0.001</td> <td>   -2.795</td> <td> 0.005</td> <td>   -0.005</td> <td>   -0.001</td>\n",
              "</tr>\n",
              "<tr>\n",
              "  <th>C(Occupation_Code)[T.16]</th> <td>   -0.0032</td> <td>    0.001</td> <td>   -4.031</td> <td> 0.000</td> <td>   -0.005</td> <td>   -0.002</td>\n",
              "</tr>\n",
              "<tr>\n",
              "  <th>C(Occupation_Code)[T.17]</th> <td>   -0.0024</td> <td>    0.001</td> <td>   -2.041</td> <td> 0.041</td> <td>   -0.005</td> <td>-9.38e-05</td>\n",
              "</tr>\n",
              "<tr>\n",
              "  <th>C(Occupation_Code)[T.18]</th> <td>   -0.0027</td> <td>    0.001</td> <td>   -2.677</td> <td> 0.007</td> <td>   -0.005</td> <td>   -0.001</td>\n",
              "</tr>\n",
              "<tr>\n",
              "  <th>C(Occupation_Code)[T.19]</th> <td>   -0.0036</td> <td>    0.000</td> <td>   -9.928</td> <td> 0.000</td> <td>   -0.004</td> <td>   -0.003</td>\n",
              "</tr>\n",
              "<tr>\n",
              "  <th>C(Occupation_Code)[T.20]</th> <td>   -0.0038</td> <td>    0.000</td> <td>   -9.783</td> <td> 0.000</td> <td>   -0.005</td> <td>   -0.003</td>\n",
              "</tr>\n",
              "<tr>\n",
              "  <th>C(Occupation_Code)[T.21]</th> <td>   -0.0035</td> <td>    0.001</td> <td>   -6.119</td> <td> 0.000</td> <td>   -0.005</td> <td>   -0.002</td>\n",
              "</tr>\n",
              "<tr>\n",
              "  <th>C(Occupation_Code)[T.22]</th> <td>   -0.0041</td> <td>    0.000</td> <td>  -10.683</td> <td> 0.000</td> <td>   -0.005</td> <td>   -0.003</td>\n",
              "</tr>\n",
              "<tr>\n",
              "  <th>C(Occupation_Code)[T.23]</th> <td>   -0.0041</td> <td>    0.000</td> <td>  -13.713</td> <td> 0.000</td> <td>   -0.005</td> <td>   -0.004</td>\n",
              "</tr>\n",
              "<tr>\n",
              "  <th>C(Occupation_Code)[T.24]</th> <td>   -0.0007</td> <td>    0.006</td> <td>   -0.118</td> <td> 0.906</td> <td>   -0.012</td> <td>    0.010</td>\n",
              "</tr>\n",
              "<tr>\n",
              "  <th>C(Occupation_Code)[T.25]</th> <td>   -0.0047</td> <td>    0.000</td> <td>  -13.764</td> <td> 0.000</td> <td>   -0.005</td> <td>   -0.004</td>\n",
              "</tr>\n",
              "<tr>\n",
              "  <th>C(Occupation_Code)[T.26]</th> <td>   -0.0020</td> <td>    0.002</td> <td>   -1.113</td> <td> 0.266</td> <td>   -0.005</td> <td>    0.001</td>\n",
              "</tr>\n",
              "<tr>\n",
              "  <th>C(Occupation_Code)[T.27]</th> <td>   -0.0043</td> <td>    0.000</td> <td>  -10.912</td> <td> 0.000</td> <td>   -0.005</td> <td>   -0.004</td>\n",
              "</tr>\n",
              "<tr>\n",
              "  <th>C(Occupation_Code)[T.28]</th> <td>   -0.0039</td> <td>    0.001</td> <td>   -3.274</td> <td> 0.001</td> <td>   -0.006</td> <td>   -0.002</td>\n",
              "</tr>\n",
              "<tr>\n",
              "  <th>C(Occupation_Code)[T.29]</th> <td>   -0.0048</td> <td>    0.000</td> <td>  -10.942</td> <td> 0.000</td> <td>   -0.006</td> <td>   -0.004</td>\n",
              "</tr>\n",
              "<tr>\n",
              "  <th>C(Occupation_Code)[T.30]</th> <td>   -0.0049</td> <td>    0.000</td> <td>  -11.925</td> <td> 0.000</td> <td>   -0.006</td> <td>   -0.004</td>\n",
              "</tr>\n",
              "<tr>\n",
              "  <th>C(Occupation_Code)[T.31]</th> <td>   -0.0044</td> <td>    0.000</td> <td>   -8.985</td> <td> 0.000</td> <td>   -0.005</td> <td>   -0.003</td>\n",
              "</tr>\n",
              "<tr>\n",
              "  <th>C(Occupation_Code)[T.32]</th> <td>   -0.0043</td> <td>    0.001</td> <td>   -4.899</td> <td> 0.000</td> <td>   -0.006</td> <td>   -0.003</td>\n",
              "</tr>\n",
              "<tr>\n",
              "  <th>C(Occupation_Code)[T.33]</th> <td>   -0.0037</td> <td>    0.001</td> <td>   -4.442</td> <td> 0.000</td> <td>   -0.005</td> <td>   -0.002</td>\n",
              "</tr>\n",
              "</table>\n",
              "<table class=\"simpletable\">\n",
              "<tr>\n",
              "  <th>Omnibus:</th>       <td>2356779.765</td> <th>  Durbin-Watson:     </th>    <td>   1.999</td>    \n",
              "</tr>\n",
              "<tr>\n",
              "  <th>Prob(Omnibus):</th>   <td> 0.000</td>    <th>  Jarque-Bera (JB):  </th> <td>57981416489.081</td>\n",
              "</tr>\n",
              "<tr>\n",
              "  <th>Skew:</th>            <td>35.441</td>    <th>  Prob(JB):          </th>    <td>    0.00</td>    \n",
              "</tr>\n",
              "<tr>\n",
              "  <th>Kurtosis:</th>       <td>1275.826</td>   <th>  Cond. No.          </th>    <td>    105.</td>    \n",
              "</tr>\n",
              "</table><br/><br/>Notes:<br/>[1] Standard Errors are heteroscedasticity robust (HC3)"
            ],
            "text/latex": [
              "\\begin{center}\n",
              "\\begin{tabular}{lclc}\n",
              "\\toprule\n",
              "\\textbf{Dep. Variable:}            &      CNLUNG      & \\textbf{  R-squared:         } &        0.005     \\\\\n",
              "\\textbf{Model:}                    &       WLS        & \\textbf{  Adj. R-squared:    } &        0.005     \\\\\n",
              "\\textbf{Method:}                   &  Least Squares   & \\textbf{  F-statistic:       } &        13.61     \\\\\n",
              "\\textbf{Date:}                     & Wed, 01 May 2024 & \\textbf{  Prob (F-statistic):} &    3.19e-109     \\\\\n",
              "\\textbf{Time:}                     &     00:29:44     & \\textbf{  Log-Likelihood:    } &    1.8243e+06    \\\\\n",
              "\\textbf{No. Observations:}         &      856283      & \\textbf{  AIC:               } &    -3.648e+06    \\\\\n",
              "\\textbf{Df Residuals:}             &      856233      & \\textbf{  BIC:               } &    -3.648e+06    \\\\\n",
              "\\textbf{Df Model:}                 &          49      & \\textbf{                     } &                  \\\\\n",
              "\\textbf{Covariance Type:}          &       HC3        & \\textbf{                     } &                  \\\\\n",
              "\\bottomrule\n",
              "\\end{tabular}\n",
              "\\begin{tabular}{lcccccc}\n",
              "                                   & \\textbf{coef} & \\textbf{std err} & \\textbf{z} & \\textbf{P$> |$z$|$} & \\textbf{[0.025} & \\textbf{0.975]}  \\\\\n",
              "\\midrule\n",
              "\\textbf{Intercept}                 &      -0.0005  &     9.73e-05     &    -4.736  &         0.000        &       -0.001    &       -0.000     \\\\\n",
              "\\textbf{C(HINOTCOVE)[T.1]}         &       0.0008  &     5.66e-05     &    13.598  &         0.000        &        0.001    &        0.001     \\\\\n",
              "\\textbf{C(SEX)[T.2]}               &      -0.0001  &     5.99e-05     &    -2.420  &         0.016        &       -0.000    &    -2.76e-05     \\\\\n",
              "\\textbf{C(RACENEW)[T.200]}         &      -0.0002  &     8.07e-05     &    -2.966  &         0.003        &       -0.000    &    -8.12e-05     \\\\\n",
              "\\textbf{C(RACENEW)[T.300]}         &      -0.0001  &        0.000     &    -0.326  &         0.744        &       -0.001    &        0.001     \\\\\n",
              "\\textbf{C(RACENEW)[T.400]}         &      -0.0002  &        0.000     &    -1.519  &         0.129        &       -0.000    &     5.91e-05     \\\\\n",
              "\\textbf{C(RACENEW)[T.520]}         &      -0.0004  &        0.000     &    -3.453  &         0.001        &       -0.001    &       -0.000     \\\\\n",
              "\\textbf{C(RACENEW)[T.530]}         &      -0.0002  &     4.17e-05     &    -5.536  &         0.000        &       -0.000    &       -0.000     \\\\\n",
              "\\textbf{C(RACENEW)[T.541]}         &      -0.0003  &        0.000     &    -1.909  &         0.056        &       -0.001    &     8.02e-06     \\\\\n",
              "\\textbf{C(INCFAM97ON2)[T.10]}      &       0.0003  &        0.000     &     3.094  &         0.002        &        0.000    &        0.001     \\\\\n",
              "\\textbf{C(INCFAM97ON2)[T.20]}      &      -0.0002  &        0.000     &    -1.526  &         0.127        &       -0.000    &     4.44e-05     \\\\\n",
              "\\textbf{C(INCFAM97ON2)[T.30]}      &      -0.0003  &        0.000     &    -2.682  &         0.007        &       -0.000    &    -7.25e-05     \\\\\n",
              "\\textbf{C(INCFAM97ON2)[T.31]}      &      -0.0004  &        0.000     &    -2.673  &         0.008        &       -0.001    &    -9.71e-05     \\\\\n",
              "\\textbf{C(INCFAM97ON2)[T.32]}      &      -0.0003  &        0.000     &    -2.606  &         0.009        &       -0.001    &    -7.54e-05     \\\\\n",
              "\\textbf{C(INCFAM97ON2)[T.96]}      &    -1.09e-05  &        0.000     &    -0.093  &         0.926        &       -0.000    &        0.000     \\\\\n",
              "\\textbf{C(SMK)[T.1]}               &       0.0074  &        0.000     &    19.149  &         0.000        &        0.007    &        0.008     \\\\\n",
              "\\textbf{C(SMK)[T.2]}               &       0.0029  &        0.000     &    11.042  &         0.000        &        0.002    &        0.003     \\\\\n",
              "\\textbf{C(Occupation\\_Code)[T.1]}  &      -0.0018  &        0.000     &    -3.758  &         0.000        &       -0.003    &       -0.001     \\\\\n",
              "\\textbf{C(Occupation\\_Code)[T.2]}  &      -0.0021  &        0.001     &    -3.463  &         0.001        &       -0.003    &       -0.001     \\\\\n",
              "\\textbf{C(Occupation\\_Code)[T.3]}  &      -0.0025  &        0.001     &    -4.982  &         0.000        &       -0.004    &       -0.002     \\\\\n",
              "\\textbf{C(Occupation\\_Code)[T.4]}  &      -0.0004  &        0.001     &    -0.456  &         0.648        &       -0.002    &        0.001     \\\\\n",
              "\\textbf{C(Occupation\\_Code)[T.5]}  &      -0.0023  &        0.001     &    -4.515  &         0.000        &       -0.003    &       -0.001     \\\\\n",
              "\\textbf{C(Occupation\\_Code)[T.6]}  &      -0.0022  &        0.001     &    -3.432  &         0.001        &       -0.003    &       -0.001     \\\\\n",
              "\\textbf{C(Occupation\\_Code)[T.7]}  &      -0.0023  &        0.001     &    -3.638  &         0.000        &       -0.004    &       -0.001     \\\\\n",
              "\\textbf{C(Occupation\\_Code)[T.8]}  &      -0.0014  &        0.001     &    -1.656  &         0.098        &       -0.003    &        0.000     \\\\\n",
              "\\textbf{C(Occupation\\_Code)[T.9]}  &      -0.0021  &        0.001     &    -2.446  &         0.014        &       -0.004    &       -0.000     \\\\\n",
              "\\textbf{C(Occupation\\_Code)[T.10]} &      -0.0003  &        0.001     &    -0.272  &         0.786        &       -0.002    &        0.002     \\\\\n",
              "\\textbf{C(Occupation\\_Code)[T.11]} &      -0.0031  &        0.001     &    -4.440  &         0.000        &       -0.004    &       -0.002     \\\\\n",
              "\\textbf{C(Occupation\\_Code)[T.12]} &      -0.0024  &        0.001     &    -2.590  &         0.010        &       -0.004    &       -0.001     \\\\\n",
              "\\textbf{C(Occupation\\_Code)[T.13]} &      -0.0026  &        0.001     &    -3.378  &         0.001        &       -0.004    &       -0.001     \\\\\n",
              "\\textbf{C(Occupation\\_Code)[T.14]} &      -0.0036  &        0.001     &    -5.417  &         0.000        &       -0.005    &       -0.002     \\\\\n",
              "\\textbf{C(Occupation\\_Code)[T.15]} &      -0.0028  &        0.001     &    -2.795  &         0.005        &       -0.005    &       -0.001     \\\\\n",
              "\\textbf{C(Occupation\\_Code)[T.16]} &      -0.0032  &        0.001     &    -4.031  &         0.000        &       -0.005    &       -0.002     \\\\\n",
              "\\textbf{C(Occupation\\_Code)[T.17]} &      -0.0024  &        0.001     &    -2.041  &         0.041        &       -0.005    &    -9.38e-05     \\\\\n",
              "\\textbf{C(Occupation\\_Code)[T.18]} &      -0.0027  &        0.001     &    -2.677  &         0.007        &       -0.005    &       -0.001     \\\\\n",
              "\\textbf{C(Occupation\\_Code)[T.19]} &      -0.0036  &        0.000     &    -9.928  &         0.000        &       -0.004    &       -0.003     \\\\\n",
              "\\textbf{C(Occupation\\_Code)[T.20]} &      -0.0038  &        0.000     &    -9.783  &         0.000        &       -0.005    &       -0.003     \\\\\n",
              "\\textbf{C(Occupation\\_Code)[T.21]} &      -0.0035  &        0.001     &    -6.119  &         0.000        &       -0.005    &       -0.002     \\\\\n",
              "\\textbf{C(Occupation\\_Code)[T.22]} &      -0.0041  &        0.000     &   -10.683  &         0.000        &       -0.005    &       -0.003     \\\\\n",
              "\\textbf{C(Occupation\\_Code)[T.23]} &      -0.0041  &        0.000     &   -13.713  &         0.000        &       -0.005    &       -0.004     \\\\\n",
              "\\textbf{C(Occupation\\_Code)[T.24]} &      -0.0007  &        0.006     &    -0.118  &         0.906        &       -0.012    &        0.010     \\\\\n",
              "\\textbf{C(Occupation\\_Code)[T.25]} &      -0.0047  &        0.000     &   -13.764  &         0.000        &       -0.005    &       -0.004     \\\\\n",
              "\\textbf{C(Occupation\\_Code)[T.26]} &      -0.0020  &        0.002     &    -1.113  &         0.266        &       -0.005    &        0.001     \\\\\n",
              "\\textbf{C(Occupation\\_Code)[T.27]} &      -0.0043  &        0.000     &   -10.912  &         0.000        &       -0.005    &       -0.004     \\\\\n",
              "\\textbf{C(Occupation\\_Code)[T.28]} &      -0.0039  &        0.001     &    -3.274  &         0.001        &       -0.006    &       -0.002     \\\\\n",
              "\\textbf{C(Occupation\\_Code)[T.29]} &      -0.0048  &        0.000     &   -10.942  &         0.000        &       -0.006    &       -0.004     \\\\\n",
              "\\textbf{C(Occupation\\_Code)[T.30]} &      -0.0049  &        0.000     &   -11.925  &         0.000        &       -0.006    &       -0.004     \\\\\n",
              "\\textbf{C(Occupation\\_Code)[T.31]} &      -0.0044  &        0.000     &    -8.985  &         0.000        &       -0.005    &       -0.003     \\\\\n",
              "\\textbf{C(Occupation\\_Code)[T.32]} &      -0.0043  &        0.001     &    -4.899  &         0.000        &       -0.006    &       -0.003     \\\\\n",
              "\\textbf{C(Occupation\\_Code)[T.33]} &      -0.0037  &        0.001     &    -4.442  &         0.000        &       -0.005    &       -0.002     \\\\\n",
              "\\bottomrule\n",
              "\\end{tabular}\n",
              "\\begin{tabular}{lclc}\n",
              "\\textbf{Omnibus:}       & 2356779.765 & \\textbf{  Durbin-Watson:     } &        1.999     \\\\\n",
              "\\textbf{Prob(Omnibus):} &     0.000   & \\textbf{  Jarque-Bera (JB):  } & 57981416489.081  \\\\\n",
              "\\textbf{Skew:}          &    35.441   & \\textbf{  Prob(JB):          } &         0.00     \\\\\n",
              "\\textbf{Kurtosis:}      &   1275.826  & \\textbf{  Cond. No.          } &         105.     \\\\\n",
              "\\bottomrule\n",
              "\\end{tabular}\n",
              "%\\caption{WLS Regression Results}\n",
              "\\end{center}\n",
              "\n",
              "Notes: \\newline\n",
              " [1] Standard Errors are heteroscedasticity robust (HC3)"
            ],
            "text/plain": [
              "<class 'statsmodels.iolib.summary.Summary'>\n",
              "\"\"\"\n",
              "                            WLS Regression Results                            \n",
              "==============================================================================\n",
              "Dep. Variable:                 CNLUNG   R-squared:                       0.005\n",
              "Model:                            WLS   Adj. R-squared:                  0.005\n",
              "Method:                 Least Squares   F-statistic:                     13.61\n",
              "Date:                Wed, 01 May 2024   Prob (F-statistic):          3.19e-109\n",
              "Time:                        00:29:44   Log-Likelihood:             1.8243e+06\n",
              "No. Observations:              856283   AIC:                        -3.648e+06\n",
              "Df Residuals:                  856233   BIC:                        -3.648e+06\n",
              "Df Model:                          49                                         \n",
              "Covariance Type:                  HC3                                         \n",
              "============================================================================================\n",
              "                               coef    std err          z      P>|z|      [0.025      0.975]\n",
              "--------------------------------------------------------------------------------------------\n",
              "Intercept                   -0.0005   9.73e-05     -4.736      0.000      -0.001      -0.000\n",
              "C(HINOTCOVE)[T.1]            0.0008   5.66e-05     13.598      0.000       0.001       0.001\n",
              "C(SEX)[T.2]                 -0.0001   5.99e-05     -2.420      0.016      -0.000   -2.76e-05\n",
              "C(RACENEW)[T.200]           -0.0002   8.07e-05     -2.966      0.003      -0.000   -8.12e-05\n",
              "C(RACENEW)[T.300]           -0.0001      0.000     -0.326      0.744      -0.001       0.001\n",
              "C(RACENEW)[T.400]           -0.0002      0.000     -1.519      0.129      -0.000    5.91e-05\n",
              "C(RACENEW)[T.520]           -0.0004      0.000     -3.453      0.001      -0.001      -0.000\n",
              "C(RACENEW)[T.530]           -0.0002   4.17e-05     -5.536      0.000      -0.000      -0.000\n",
              "C(RACENEW)[T.541]           -0.0003      0.000     -1.909      0.056      -0.001    8.02e-06\n",
              "C(INCFAM97ON2)[T.10]         0.0003      0.000      3.094      0.002       0.000       0.001\n",
              "C(INCFAM97ON2)[T.20]        -0.0002      0.000     -1.526      0.127      -0.000    4.44e-05\n",
              "C(INCFAM97ON2)[T.30]        -0.0003      0.000     -2.682      0.007      -0.000   -7.25e-05\n",
              "C(INCFAM97ON2)[T.31]        -0.0004      0.000     -2.673      0.008      -0.001   -9.71e-05\n",
              "C(INCFAM97ON2)[T.32]        -0.0003      0.000     -2.606      0.009      -0.001   -7.54e-05\n",
              "C(INCFAM97ON2)[T.96]      -1.09e-05      0.000     -0.093      0.926      -0.000       0.000\n",
              "C(SMK)[T.1]                  0.0074      0.000     19.149      0.000       0.007       0.008\n",
              "C(SMK)[T.2]                  0.0029      0.000     11.042      0.000       0.002       0.003\n",
              "C(Occupation_Code)[T.1]     -0.0018      0.000     -3.758      0.000      -0.003      -0.001\n",
              "C(Occupation_Code)[T.2]     -0.0021      0.001     -3.463      0.001      -0.003      -0.001\n",
              "C(Occupation_Code)[T.3]     -0.0025      0.001     -4.982      0.000      -0.004      -0.002\n",
              "C(Occupation_Code)[T.4]     -0.0004      0.001     -0.456      0.648      -0.002       0.001\n",
              "C(Occupation_Code)[T.5]     -0.0023      0.001     -4.515      0.000      -0.003      -0.001\n",
              "C(Occupation_Code)[T.6]     -0.0022      0.001     -3.432      0.001      -0.003      -0.001\n",
              "C(Occupation_Code)[T.7]     -0.0023      0.001     -3.638      0.000      -0.004      -0.001\n",
              "C(Occupation_Code)[T.8]     -0.0014      0.001     -1.656      0.098      -0.003       0.000\n",
              "C(Occupation_Code)[T.9]     -0.0021      0.001     -2.446      0.014      -0.004      -0.000\n",
              "C(Occupation_Code)[T.10]    -0.0003      0.001     -0.272      0.786      -0.002       0.002\n",
              "C(Occupation_Code)[T.11]    -0.0031      0.001     -4.440      0.000      -0.004      -0.002\n",
              "C(Occupation_Code)[T.12]    -0.0024      0.001     -2.590      0.010      -0.004      -0.001\n",
              "C(Occupation_Code)[T.13]    -0.0026      0.001     -3.378      0.001      -0.004      -0.001\n",
              "C(Occupation_Code)[T.14]    -0.0036      0.001     -5.417      0.000      -0.005      -0.002\n",
              "C(Occupation_Code)[T.15]    -0.0028      0.001     -2.795      0.005      -0.005      -0.001\n",
              "C(Occupation_Code)[T.16]    -0.0032      0.001     -4.031      0.000      -0.005      -0.002\n",
              "C(Occupation_Code)[T.17]    -0.0024      0.001     -2.041      0.041      -0.005   -9.38e-05\n",
              "C(Occupation_Code)[T.18]    -0.0027      0.001     -2.677      0.007      -0.005      -0.001\n",
              "C(Occupation_Code)[T.19]    -0.0036      0.000     -9.928      0.000      -0.004      -0.003\n",
              "C(Occupation_Code)[T.20]    -0.0038      0.000     -9.783      0.000      -0.005      -0.003\n",
              "C(Occupation_Code)[T.21]    -0.0035      0.001     -6.119      0.000      -0.005      -0.002\n",
              "C(Occupation_Code)[T.22]    -0.0041      0.000    -10.683      0.000      -0.005      -0.003\n",
              "C(Occupation_Code)[T.23]    -0.0041      0.000    -13.713      0.000      -0.005      -0.004\n",
              "C(Occupation_Code)[T.24]    -0.0007      0.006     -0.118      0.906      -0.012       0.010\n",
              "C(Occupation_Code)[T.25]    -0.0047      0.000    -13.764      0.000      -0.005      -0.004\n",
              "C(Occupation_Code)[T.26]    -0.0020      0.002     -1.113      0.266      -0.005       0.001\n",
              "C(Occupation_Code)[T.27]    -0.0043      0.000    -10.912      0.000      -0.005      -0.004\n",
              "C(Occupation_Code)[T.28]    -0.0039      0.001     -3.274      0.001      -0.006      -0.002\n",
              "C(Occupation_Code)[T.29]    -0.0048      0.000    -10.942      0.000      -0.006      -0.004\n",
              "C(Occupation_Code)[T.30]    -0.0049      0.000    -11.925      0.000      -0.006      -0.004\n",
              "C(Occupation_Code)[T.31]    -0.0044      0.000     -8.985      0.000      -0.005      -0.003\n",
              "C(Occupation_Code)[T.32]    -0.0043      0.001     -4.899      0.000      -0.006      -0.003\n",
              "C(Occupation_Code)[T.33]    -0.0037      0.001     -4.442      0.000      -0.005      -0.002\n",
              "==============================================================================\n",
              "Omnibus:                  2356779.765   Durbin-Watson:                   1.999\n",
              "Prob(Omnibus):                  0.000   Jarque-Bera (JB):      57981416489.081\n",
              "Skew:                          35.441   Prob(JB):                         0.00\n",
              "Kurtosis:                    1275.826   Cond. No.                         105.\n",
              "==============================================================================\n",
              "\n",
              "Notes:\n",
              "[1] Standard Errors are heteroscedasticity robust (HC3)\n",
              "\"\"\""
            ]
          },
          "execution_count": 18,
          "metadata": {},
          "output_type": "execute_result"
        }
      ],
      "source": [
        "model_with_controls.summary()"
      ]
    },
    {
      "cell_type": "code",
      "execution_count": 21,
      "metadata": {
        "colab": {
          "base_uri": "https://localhost:8080/"
        },
        "id": "jCRgK3YQq64u",
        "outputId": "c960620b-2e8f-46ac-be58-41bb4ffc6918"
      },
      "outputs": [
        {
          "name": "stdout",
          "output_type": "stream",
          "text": [
            "Coefficient for 'HINOTCOVE' with controls: 0.0008\n"
          ]
        }
      ],
      "source": [
        "# To get the coefficient for the 'HINOTCOVE' variable\n",
        "insurance_coefficient_control = model_with_controls.params[\"C(HINOTCOVE)[T.1]\"]\n",
        "print(f\"Coefficient for 'HINOTCOVE' with controls: {insurance_coefficient_control:.4f}\")"
      ]
    },
    {
      "cell_type": "code",
      "execution_count": 22,
      "metadata": {
        "colab": {
          "base_uri": "https://localhost:8080/"
        },
        "id": "NJBfVngXq64u",
        "outputId": "8363509c-c154-4c98-b949-b3f1bf4b9854"
      },
      "outputs": [
        {
          "name": "stdout",
          "output_type": "stream",
          "text": [
            "P-value for 'HINOTCOVE' with controls: 0.0000\n"
          ]
        }
      ],
      "source": [
        "# To get the p-value for the coefficient of 'HINOTCOVE' variable\n",
        "insurance_p_value_control = model_with_controls.pvalues[\"C(HINOTCOVE)[T.1]\"]\n",
        "print(f\"P-value for 'HINOTCOVE' with controls: {insurance_p_value_control:.4f}\")"
      ]
    },
    {
      "cell_type": "markdown",
      "metadata": {
        "id": "ERR54wxLq64v"
      },
      "source": [
        ">- Coefficient (0.0008): The coefficient for 'HINOTCOVE' with controls (0.0008) suggests that, after controlling for other variables, there is a positive association between having insurance coverage and the outcome variable (lung cancer diagnosis status). \n",
        ">- The p-value is less than the conventional threshold of 0.05, suggesting that the estimated effect of insurance coverage on lung cancer diagnosis is statistically significant.\n",
        ">- There is evidence to support the hypothesis that having insurance coverage increases the likelihood of lung cancer diagnosis, after controlling for other covariates and potential confounders."
      ]
    }
  ],
  "metadata": {
    "accelerator": "GPU",
    "colab": {
      "gpuType": "V100",
      "machine_shape": "hm",
      "provenance": []
    },
    "kernelspec": {
      "display_name": "Python 3",
      "name": "python3"
    },
    "language_info": {
      "codemirror_mode": {
        "name": "ipython",
        "version": 3
      },
      "file_extension": ".py",
      "mimetype": "text/x-python",
      "name": "python",
      "nbconvert_exporter": "python",
      "pygments_lexer": "ipython3",
      "version": "3.11.5"
    }
  },
  "nbformat": 4,
  "nbformat_minor": 0
}
