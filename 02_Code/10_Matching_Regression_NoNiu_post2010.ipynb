{
 "cells": [
  {
   "cell_type": "code",
   "execution_count": 1,
   "metadata": {},
   "outputs": [],
   "source": [
    "import pandas as pd\n",
    "import numpy as np\n",
    "import warnings\n",
    "import matplotlib.pyplot as plt\n",
    "from statsmodels.stats.power import TTestIndPower\n",
    "import statsmodels.api as sm\n",
    "from scipy import stats\n",
    "import statsmodels.formula.api as smf\n",
    "from scipy.stats import chi2_contingency\n",
    "import matplotlib.pyplot as plt\n",
    "from numpy.polynomial.polynomial import Polynomial\n",
    "\n",
    "warnings.filterwarnings(\"ignore\")\n",
    "\n",
    "pd.set_option(\"mode.copy_on_write\", True)"
   ]
  },
  {
   "cell_type": "code",
   "execution_count": 2,
   "metadata": {},
   "outputs": [
    {
     "data": {
      "text/html": [
       "<div>\n",
       "<style scoped>\n",
       "    .dataframe tbody tr th:only-of-type {\n",
       "        vertical-align: middle;\n",
       "    }\n",
       "\n",
       "    .dataframe tbody tr th {\n",
       "        vertical-align: top;\n",
       "    }\n",
       "\n",
       "    .dataframe thead th {\n",
       "        text-align: right;\n",
       "    }\n",
       "</style>\n",
       "<table border=\"1\" class=\"dataframe\">\n",
       "  <thead>\n",
       "    <tr style=\"text-align: right;\">\n",
       "      <th></th>\n",
       "      <th>YEAR</th>\n",
       "      <th>SEX</th>\n",
       "      <th>RACENEW</th>\n",
       "      <th>INCFAM97ON2</th>\n",
       "      <th>HINOTCOVE</th>\n",
       "      <th>CNLUNG</th>\n",
       "      <th>SMK</th>\n",
       "      <th>Occupation_Code</th>\n",
       "    </tr>\n",
       "  </thead>\n",
       "  <tbody>\n",
       "    <tr>\n",
       "      <th>20358</th>\n",
       "      <td>2001</td>\n",
       "      <td>1</td>\n",
       "      <td>100.0</td>\n",
       "      <td>96.0</td>\n",
       "      <td>2.0</td>\n",
       "      <td>1.0</td>\n",
       "      <td>2</td>\n",
       "      <td>6</td>\n",
       "    </tr>\n",
       "    <tr>\n",
       "      <th>36594</th>\n",
       "      <td>2002</td>\n",
       "      <td>1</td>\n",
       "      <td>100.0</td>\n",
       "      <td>30.0</td>\n",
       "      <td>1.0</td>\n",
       "      <td>1.0</td>\n",
       "      <td>1</td>\n",
       "      <td>27</td>\n",
       "    </tr>\n",
       "    <tr>\n",
       "      <th>19047</th>\n",
       "      <td>2001</td>\n",
       "      <td>1</td>\n",
       "      <td>100.0</td>\n",
       "      <td>20.0</td>\n",
       "      <td>1.0</td>\n",
       "      <td>1.0</td>\n",
       "      <td>1</td>\n",
       "      <td>22</td>\n",
       "    </tr>\n",
       "    <tr>\n",
       "      <th>344274</th>\n",
       "      <td>2015</td>\n",
       "      <td>2</td>\n",
       "      <td>100.0</td>\n",
       "      <td>10.0</td>\n",
       "      <td>1.0</td>\n",
       "      <td>1.0</td>\n",
       "      <td>2</td>\n",
       "      <td>11</td>\n",
       "    </tr>\n",
       "    <tr>\n",
       "      <th>153346</th>\n",
       "      <td>2008</td>\n",
       "      <td>2</td>\n",
       "      <td>100.0</td>\n",
       "      <td>10.0</td>\n",
       "      <td>1.0</td>\n",
       "      <td>1.0</td>\n",
       "      <td>2</td>\n",
       "      <td>15</td>\n",
       "    </tr>\n",
       "  </tbody>\n",
       "</table>\n",
       "</div>"
      ],
      "text/plain": [
       "        YEAR  SEX  RACENEW  INCFAM97ON2  HINOTCOVE  CNLUNG  SMK  \\\n",
       "20358   2001    1    100.0         96.0        2.0     1.0    2   \n",
       "36594   2002    1    100.0         30.0        1.0     1.0    1   \n",
       "19047   2001    1    100.0         20.0        1.0     1.0    1   \n",
       "344274  2015    2    100.0         10.0        1.0     1.0    2   \n",
       "153346  2008    2    100.0         10.0        1.0     1.0    2   \n",
       "\n",
       "        Occupation_Code  \n",
       "20358                 6  \n",
       "36594                27  \n",
       "19047                22  \n",
       "344274               11  \n",
       "153346               15  "
      ]
     },
     "execution_count": 2,
     "metadata": {},
     "output_type": "execute_result"
    }
   ],
   "source": [
    "insurance = pd.read_csv(\"../01_Data/02_Processed/01_Insurance_NoMissing.csv\")\n",
    "insurance.sample(5)"
   ]
  },
  {
   "cell_type": "code",
   "execution_count": 3,
   "metadata": {},
   "outputs": [],
   "source": [
    "# dropping all values where year is < 2010\n",
    "insurance = insurance[insurance[\"YEAR\"] >= 2010]"
   ]
  },
  {
   "cell_type": "code",
   "execution_count": 4,
   "metadata": {},
   "outputs": [
    {
     "data": {
      "text/html": [
       "<div>\n",
       "<style scoped>\n",
       "    .dataframe tbody tr th:only-of-type {\n",
       "        vertical-align: middle;\n",
       "    }\n",
       "\n",
       "    .dataframe tbody tr th {\n",
       "        vertical-align: top;\n",
       "    }\n",
       "\n",
       "    .dataframe thead th {\n",
       "        text-align: right;\n",
       "    }\n",
       "</style>\n",
       "<table border=\"1\" class=\"dataframe\">\n",
       "  <thead>\n",
       "    <tr style=\"text-align: right;\">\n",
       "      <th></th>\n",
       "      <th>HINOTCOVE</th>\n",
       "      <th>CNLUNG</th>\n",
       "      <th>count</th>\n",
       "    </tr>\n",
       "  </thead>\n",
       "  <tbody>\n",
       "    <tr>\n",
       "      <th>0</th>\n",
       "      <td>1.0</td>\n",
       "      <td>1.0</td>\n",
       "      <td>185178</td>\n",
       "    </tr>\n",
       "    <tr>\n",
       "      <th>1</th>\n",
       "      <td>2.0</td>\n",
       "      <td>1.0</td>\n",
       "      <td>32064</td>\n",
       "    </tr>\n",
       "    <tr>\n",
       "      <th>2</th>\n",
       "      <td>1.0</td>\n",
       "      <td>2.0</td>\n",
       "      <td>714</td>\n",
       "    </tr>\n",
       "    <tr>\n",
       "      <th>3</th>\n",
       "      <td>2.0</td>\n",
       "      <td>2.0</td>\n",
       "      <td>24</td>\n",
       "    </tr>\n",
       "  </tbody>\n",
       "</table>\n",
       "</div>"
      ],
      "text/plain": [
       "   HINOTCOVE  CNLUNG   count\n",
       "0        1.0     1.0  185178\n",
       "1        2.0     1.0   32064\n",
       "2        1.0     2.0     714\n",
       "3        2.0     2.0      24"
      ]
     },
     "execution_count": 4,
     "metadata": {},
     "output_type": "execute_result"
    }
   ],
   "source": [
    "insurance[[\"HINOTCOVE\", \"CNLUNG\"]].value_counts().reset_index()"
   ]
  },
  {
   "cell_type": "code",
   "execution_count": 5,
   "metadata": {},
   "outputs": [
    {
     "data": {
      "text/plain": [
       "(217980, 8)"
      ]
     },
     "execution_count": 5,
     "metadata": {},
     "output_type": "execute_result"
    }
   ],
   "source": [
    "insurance.shape"
   ]
  },
  {
   "cell_type": "markdown",
   "metadata": {},
   "source": [
    "> Drop the year variable "
   ]
  },
  {
   "cell_type": "code",
   "execution_count": 6,
   "metadata": {},
   "outputs": [],
   "source": [
    "# Drop the 'YEAR' variable\n",
    "insurance = insurance.drop(columns=[\"YEAR\"])"
   ]
  },
  {
   "cell_type": "code",
   "execution_count": 7,
   "metadata": {},
   "outputs": [
    {
     "data": {
      "text/html": [
       "<div>\n",
       "<style scoped>\n",
       "    .dataframe tbody tr th:only-of-type {\n",
       "        vertical-align: middle;\n",
       "    }\n",
       "\n",
       "    .dataframe tbody tr th {\n",
       "        vertical-align: top;\n",
       "    }\n",
       "\n",
       "    .dataframe thead th {\n",
       "        text-align: right;\n",
       "    }\n",
       "</style>\n",
       "<table border=\"1\" class=\"dataframe\">\n",
       "  <thead>\n",
       "    <tr style=\"text-align: right;\">\n",
       "      <th></th>\n",
       "      <th>SEX</th>\n",
       "      <th>RACENEW</th>\n",
       "      <th>INCFAM97ON2</th>\n",
       "      <th>HINOTCOVE</th>\n",
       "      <th>CNLUNG</th>\n",
       "      <th>SMK</th>\n",
       "      <th>Occupation_Code</th>\n",
       "    </tr>\n",
       "  </thead>\n",
       "  <tbody>\n",
       "    <tr>\n",
       "      <th>191658</th>\n",
       "      <td>2</td>\n",
       "      <td>100.0</td>\n",
       "      <td>32.0</td>\n",
       "      <td>1.0</td>\n",
       "      <td>1.0</td>\n",
       "      <td>1</td>\n",
       "      <td>1</td>\n",
       "    </tr>\n",
       "    <tr>\n",
       "      <th>191659</th>\n",
       "      <td>1</td>\n",
       "      <td>100.0</td>\n",
       "      <td>20.0</td>\n",
       "      <td>2.0</td>\n",
       "      <td>1.0</td>\n",
       "      <td>2</td>\n",
       "      <td>10</td>\n",
       "    </tr>\n",
       "    <tr>\n",
       "      <th>191660</th>\n",
       "      <td>1</td>\n",
       "      <td>100.0</td>\n",
       "      <td>20.0</td>\n",
       "      <td>1.0</td>\n",
       "      <td>1.0</td>\n",
       "      <td>1</td>\n",
       "      <td>9</td>\n",
       "    </tr>\n",
       "    <tr>\n",
       "      <th>191661</th>\n",
       "      <td>2</td>\n",
       "      <td>100.0</td>\n",
       "      <td>10.0</td>\n",
       "      <td>1.0</td>\n",
       "      <td>1.0</td>\n",
       "      <td>2</td>\n",
       "      <td>10</td>\n",
       "    </tr>\n",
       "    <tr>\n",
       "      <th>191662</th>\n",
       "      <td>1</td>\n",
       "      <td>100.0</td>\n",
       "      <td>32.0</td>\n",
       "      <td>1.0</td>\n",
       "      <td>1.0</td>\n",
       "      <td>1</td>\n",
       "      <td>1</td>\n",
       "    </tr>\n",
       "  </tbody>\n",
       "</table>\n",
       "</div>"
      ],
      "text/plain": [
       "        SEX  RACENEW  INCFAM97ON2  HINOTCOVE  CNLUNG  SMK  Occupation_Code\n",
       "191658    2    100.0         32.0        1.0     1.0    1                1\n",
       "191659    1    100.0         20.0        2.0     1.0    2               10\n",
       "191660    1    100.0         20.0        1.0     1.0    1                9\n",
       "191661    2    100.0         10.0        1.0     1.0    2               10\n",
       "191662    1    100.0         32.0        1.0     1.0    1                1"
      ]
     },
     "execution_count": 7,
     "metadata": {},
     "output_type": "execute_result"
    }
   ],
   "source": [
    "insurance.head()"
   ]
  },
  {
   "cell_type": "markdown",
   "metadata": {},
   "source": [
    "## Matching"
   ]
  },
  {
   "cell_type": "code",
   "execution_count": 8,
   "metadata": {},
   "outputs": [],
   "source": [
    "# Convert all columns to integer type\n",
    "insurance = insurance.astype(int)"
   ]
  },
  {
   "cell_type": "code",
   "execution_count": 9,
   "metadata": {},
   "outputs": [
    {
     "name": "stdout",
     "output_type": "stream",
     "text": [
      "Data types of each variable in the DataFrame:\n",
      "SEX                int64\n",
      "RACENEW            int64\n",
      "INCFAM97ON2        int64\n",
      "HINOTCOVE          int64\n",
      "CNLUNG             int64\n",
      "SMK                int64\n",
      "Occupation_Code    int64\n",
      "dtype: object\n"
     ]
    }
   ],
   "source": [
    "# Display the data types of each column in the DataFrame\n",
    "print(\"Data types of each variable in the DataFrame:\")\n",
    "print(insurance.dtypes)"
   ]
  },
  {
   "cell_type": "code",
   "execution_count": 10,
   "metadata": {},
   "outputs": [
    {
     "name": "stdout",
     "output_type": "stream",
     "text": [
      "[1 0]\n"
     ]
    }
   ],
   "source": [
    "# Map 1 to 1 and 2 to 0 in the \"HINOTCOVE\" column\n",
    "insurance[\"HINOTCOVE\"] = insurance[\"HINOTCOVE\"].map({1: 1, 2: 0})\n",
    "\n",
    "# Check unique values in the \"HINOTCOVE\" column after mapping\n",
    "unique_values = insurance[\"HINOTCOVE\"].unique()\n",
    "print(unique_values)"
   ]
  },
  {
   "cell_type": "code",
   "execution_count": 11,
   "metadata": {},
   "outputs": [
    {
     "name": "stdout",
     "output_type": "stream",
     "text": [
      "[0 1]\n"
     ]
    }
   ],
   "source": [
    "# Map 1 to 0 and 2 to 1 in the \"CNLUNG\" column\n",
    "insurance[\"CNLUNG\"] = insurance[\"CNLUNG\"].map({1: 0, 2: 1})\n",
    "\n",
    "# Check unique values in the \"CNLUNG\" column after mapping\n",
    "unique_values = insurance[\"CNLUNG\"].unique()\n",
    "print(unique_values)"
   ]
  },
  {
   "cell_type": "code",
   "execution_count": 12,
   "metadata": {},
   "outputs": [
    {
     "name": "stdout",
     "output_type": "stream",
     "text": [
      "Completed iteration 0 of matching\n",
      "\tNumber of matched groups formed in total:  991\n",
      "\tUnmatched treated units:  3378 out of a total of  185892 treated units\n",
      "\tUnmatched control units:  33 out of a total of  32088 control units\n",
      "\tNumber of matches made this iteration:  214569\n",
      "\tNumber of matches made so far:  214569\n",
      "\tCovariates dropped so far:  set()\n",
      "\tPredictive error of covariate set used to match:  0.004559796810897787\n",
      "Completed iteration 1 of matching\n",
      "\tNumber of matched groups formed in total:  1000\n",
      "\tUnmatched treated units:  3359 out of a total of  185892 treated units\n",
      "\tUnmatched control units:  18 out of a total of  32088 control units\n",
      "\tNumber of matches made this iteration:  34\n",
      "\tNumber of matches made so far:  214603\n",
      "\tCovariates dropped so far:  frozenset({'SEX'})\n",
      "\tPredictive error of covariate set used to match:  0.004559841288322196\n",
      "Completed iteration 2 of matching\n",
      "\tNumber of matched groups formed in total:  1010\n",
      "\tUnmatched treated units:  3167 out of a total of  185892 treated units\n",
      "\tUnmatched control units:  0 out of a total of  32088 control units\n",
      "\tNumber of matches made this iteration:  210\n",
      "\tNumber of matches made so far:  214813\n",
      "\tCovariates dropped so far:  frozenset({'Occupation_Code'})\n",
      "\tPredictive error of covariate set used to match:  0.004559876821086298\n",
      "214813 units matched. We finished with no more control units to match\n"
     ]
    }
   ],
   "source": [
    "import dame_flame\n",
    "\n",
    "model = dame_flame.matching.DAME(\n",
    "    repeats=False,\n",
    "    verbose=3,\n",
    "    want_pe=True,\n",
    "    stop_unmatched_t=True,\n",
    ")\n",
    "model.fit(\n",
    "    insurance,\n",
    "    treatment_column_name=\"HINOTCOVE\",\n",
    "    outcome_column_name=\"CNLUNG\",\n",
    ")\n",
    "result = model.predict(insurance)"
   ]
  },
  {
   "cell_type": "code",
   "execution_count": 13,
   "metadata": {},
   "outputs": [
    {
     "data": {
      "image/png": "[encoded data removed]",
      "text/plain": [
       "<Figure size 1000x600 with 1 Axes>"
      ]
     },
     "metadata": {},
     "output_type": "display_data"
    }
   ],
   "source": [
    "# Retrieve the prediction errors for each iteration\n",
    "prediction_errors = model.pe_each_iter\n",
    "\n",
    "# Plotting the prediction errors\n",
    "plt.figure(figsize=(10, 6))\n",
    "plt.plot(prediction_errors, marker=\"o\", linestyle=\"-\", markersize=8)\n",
    "plt.title(\"Prediction Error by Iteration\")\n",
    "plt.xlabel(\"Iteration Number\")\n",
    "plt.ylabel(\"Prediction Error\")\n",
    "plt.grid(True)\n",
    "plt.show()"
   ]
  },
  {
   "cell_type": "markdown",
   "metadata": {},
   "source": [
    "> I choose my stopping point at iteration number 1."
   ]
  },
  {
   "cell_type": "code",
   "execution_count": 14,
   "metadata": {},
   "outputs": [
    {
     "name": "stdout",
     "output_type": "stream",
     "text": [
      "Completed iteration 0 of matching\n",
      "\tNumber of matched groups formed in total:  991\n",
      "\tUnmatched treated units:  3378 out of a total of  185892 treated units\n",
      "\tUnmatched control units:  33 out of a total of  32088 control units\n",
      "\tNumber of matches made this iteration:  214569\n",
      "\tNumber of matches made so far:  214569\n",
      "\tCovariates dropped so far:  set()\n",
      "\tPredictive error of covariate set used to match:  0.004559796810897787\n",
      "214569 units matched. We stopped after iteration 0\n"
     ]
    }
   ],
   "source": [
    "model_new = dame_flame.matching.DAME(\n",
    "    repeats=False,\n",
    "    verbose=3,\n",
    "    want_pe=True,\n",
    "    stop_unmatched_t=True,\n",
    "    early_stop_iterations=0,  # Stop after iteration 1\n",
    ")\n",
    "model_new.fit(\n",
    "    insurance,\n",
    "    treatment_column_name=\"HINOTCOVE\",\n",
    "    outcome_column_name=\"CNLUNG\",\n",
    ")\n",
    "result_new = model_new.predict(insurance)"
   ]
  },
  {
   "cell_type": "code",
   "execution_count": 15,
   "metadata": {},
   "outputs": [],
   "source": [
    "def get_dataframe(model, result_of_fit):\n",
    "\n",
    "    # Get original data\n",
    "    better = model.input_data.loc[result_of_fit.index]\n",
    "    if not better.index.is_unique:\n",
    "        raise ValueError(\"Need index values in input data to be unique\")\n",
    "\n",
    "    # Get match groups for clustering\n",
    "    better[\"match_group\"] = np.nan\n",
    "    better[\"match_group_size\"] = np.nan\n",
    "    for idx, group in enumerate(model.units_per_group):\n",
    "        better.loc[group, \"match_group\"] = idx\n",
    "        better.loc[group, \"match_group_size\"] = len(group)\n",
    "\n",
    "    # Get weights. I THINK this is right?! At least for with repeat=False?\n",
    "    t = model.treatment_column_name\n",
    "    better[\"t_in_group\"] = better.groupby(\"match_group\")[t].transform(np.sum)\n",
    "\n",
    "    # Make weights\n",
    "    better[\"weights\"] = np.nan\n",
    "    better.loc[better[t] == 1, \"weights\"] = 1  # treaments are 1\n",
    "\n",
    "    # Controls start as proportional to num of treatments\n",
    "    # each observation is matched to.\n",
    "    better.loc[better[t] == 0, \"weights\"] = better[\"t_in_group\"] / (\n",
    "        better[\"match_group_size\"] - better[\"t_in_group\"]\n",
    "    )\n",
    "\n",
    "    # Then re-normalize for num unique control observations.\n",
    "    control_weights = better[better[t] == 0][\"weights\"].sum()\n",
    "\n",
    "    num_control_obs = len(better[better[t] == 0].index.drop_duplicates())\n",
    "    renormalization = num_control_obs / control_weights\n",
    "    better.loc[better[t] == 0, \"weights\"] = (\n",
    "        better.loc[better[t] == 0, \"weights\"] * renormalization\n",
    "    )\n",
    "    assert better.weights.notnull().all()\n",
    "\n",
    "    better = better.drop([\"t_in_group\"], axis=\"columns\")\n",
    "\n",
    "    # Make sure right length and values!\n",
    "    # assert len(result_of_fit) == len(better)\n",
    "    # assert better.loc[better[t] == 0, \"weights\"].sum() == num_control_obs\n",
    "\n",
    "    return better"
   ]
  },
  {
   "cell_type": "code",
   "execution_count": 16,
   "metadata": {},
   "outputs": [
    {
     "data": {
      "text/html": [
       "<div>\n",
       "<style scoped>\n",
       "    .dataframe tbody tr th:only-of-type {\n",
       "        vertical-align: middle;\n",
       "    }\n",
       "\n",
       "    .dataframe tbody tr th {\n",
       "        vertical-align: top;\n",
       "    }\n",
       "\n",
       "    .dataframe thead th {\n",
       "        text-align: right;\n",
       "    }\n",
       "</style>\n",
       "<table border=\"1\" class=\"dataframe\">\n",
       "  <thead>\n",
       "    <tr style=\"text-align: right;\">\n",
       "      <th></th>\n",
       "      <th>SEX</th>\n",
       "      <th>RACENEW</th>\n",
       "      <th>INCFAM97ON2</th>\n",
       "      <th>HINOTCOVE</th>\n",
       "      <th>CNLUNG</th>\n",
       "      <th>SMK</th>\n",
       "      <th>Occupation_Code</th>\n",
       "      <th>match_group</th>\n",
       "      <th>match_group_size</th>\n",
       "      <th>weights</th>\n",
       "    </tr>\n",
       "  </thead>\n",
       "  <tbody>\n",
       "    <tr>\n",
       "      <th>191658</th>\n",
       "      <td>2</td>\n",
       "      <td>100</td>\n",
       "      <td>32</td>\n",
       "      <td>1</td>\n",
       "      <td>0</td>\n",
       "      <td>1</td>\n",
       "      <td>1</td>\n",
       "      <td>262.0</td>\n",
       "      <td>1070.0</td>\n",
       "      <td>1.000000</td>\n",
       "    </tr>\n",
       "    <tr>\n",
       "      <th>191659</th>\n",
       "      <td>1</td>\n",
       "      <td>100</td>\n",
       "      <td>20</td>\n",
       "      <td>0</td>\n",
       "      <td>0</td>\n",
       "      <td>2</td>\n",
       "      <td>10</td>\n",
       "      <td>128.0</td>\n",
       "      <td>447.0</td>\n",
       "      <td>0.275558</td>\n",
       "    </tr>\n",
       "    <tr>\n",
       "      <th>191660</th>\n",
       "      <td>1</td>\n",
       "      <td>100</td>\n",
       "      <td>20</td>\n",
       "      <td>1</td>\n",
       "      <td>0</td>\n",
       "      <td>1</td>\n",
       "      <td>9</td>\n",
       "      <td>122.0</td>\n",
       "      <td>1861.0</td>\n",
       "      <td>1.000000</td>\n",
       "    </tr>\n",
       "    <tr>\n",
       "      <th>191661</th>\n",
       "      <td>2</td>\n",
       "      <td>100</td>\n",
       "      <td>10</td>\n",
       "      <td>1</td>\n",
       "      <td>0</td>\n",
       "      <td>2</td>\n",
       "      <td>10</td>\n",
       "      <td>39.0</td>\n",
       "      <td>1959.0</td>\n",
       "      <td>1.000000</td>\n",
       "    </tr>\n",
       "    <tr>\n",
       "      <th>191662</th>\n",
       "      <td>1</td>\n",
       "      <td>100</td>\n",
       "      <td>32</td>\n",
       "      <td>1</td>\n",
       "      <td>0</td>\n",
       "      <td>1</td>\n",
       "      <td>1</td>\n",
       "      <td>261.0</td>\n",
       "      <td>296.0</td>\n",
       "      <td>1.000000</td>\n",
       "    </tr>\n",
       "  </tbody>\n",
       "</table>\n",
       "</div>"
      ],
      "text/plain": [
       "        SEX  RACENEW  INCFAM97ON2  HINOTCOVE  CNLUNG  SMK  Occupation_Code  \\\n",
       "191658    2      100           32          1       0    1                1   \n",
       "191659    1      100           20          0       0    2               10   \n",
       "191660    1      100           20          1       0    1                9   \n",
       "191661    2      100           10          1       0    2               10   \n",
       "191662    1      100           32          1       0    1                1   \n",
       "\n",
       "        match_group  match_group_size   weights  \n",
       "191658        262.0            1070.0  1.000000  \n",
       "191659        128.0             447.0  0.275558  \n",
       "191660        122.0            1861.0  1.000000  \n",
       "191661         39.0            1959.0  1.000000  \n",
       "191662        261.0             296.0  1.000000  "
      ]
     },
     "execution_count": 16,
     "metadata": {},
     "output_type": "execute_result"
    }
   ],
   "source": [
    "matched_data = get_dataframe(model_new, result_new)\n",
    "matched_data.head()"
   ]
  },
  {
   "cell_type": "code",
   "execution_count": 17,
   "metadata": {},
   "outputs": [
    {
     "data": {
      "text/plain": [
       "(214569, 10)"
      ]
     },
     "execution_count": 17,
     "metadata": {},
     "output_type": "execute_result"
    }
   ],
   "source": [
    "matched_data.shape"
   ]
  },
  {
   "cell_type": "code",
   "execution_count": 18,
   "metadata": {},
   "outputs": [
    {
     "name": "stdout",
     "output_type": "stream",
     "text": [
      "Count of each unique value in CNLUNG:\n",
      "CNLUNG\n",
      "0    213842\n",
      "1       727\n",
      "Name: count, dtype: int64\n"
     ]
    }
   ],
   "source": [
    "cnlung_counts = matched_data[\"CNLUNG\"].value_counts()\n",
    "\n",
    "print(\"Count of each unique value in CNLUNG:\")\n",
    "print(cnlung_counts)"
   ]
  },
  {
   "cell_type": "code",
   "execution_count": 19,
   "metadata": {},
   "outputs": [
    {
     "name": "stdout",
     "output_type": "stream",
     "text": [
      "Checking the Columns in matched data:\n"
     ]
    },
    {
     "data": {
      "text/plain": [
       "Index(['SEX', 'RACENEW', 'INCFAM97ON2', 'HINOTCOVE', 'CNLUNG', 'SMK',\n",
       "       'Occupation_Code', 'match_group', 'match_group_size', 'weights'],\n",
       "      dtype='object')"
      ]
     },
     "execution_count": 19,
     "metadata": {},
     "output_type": "execute_result"
    }
   ],
   "source": [
    "print(f\"Checking the Columns in matched data:\")\n",
    "matched_data.columns"
   ]
  },
  {
   "cell_type": "code",
   "execution_count": 20,
   "metadata": {},
   "outputs": [],
   "source": [
    "# Model with controls and robustness check\n",
    "model_with_controls = smf.wls(\n",
    "    \"CNLUNG ~ C(HINOTCOVE) + C(SEX) + C(RACENEW) + C(INCFAM97ON2) + C(SMK) + C(Occupation_Code)\",\n",
    "    data=matched_data,\n",
    "    weights=matched_data[\"weights\"],\n",
    ").fit(cov_type=\"HC3\")"
   ]
  },
  {
   "cell_type": "code",
   "execution_count": 21,
   "metadata": {},
   "outputs": [
    {
     "data": {
      "text/html": [
       "<table class=\"simpletable\">\n",
       "<caption>WLS Regression Results</caption>\n",
       "<tr>\n",
       "  <th>Dep. Variable:</th>         <td>CNLUNG</td>      <th>  R-squared:         </th>  <td>   0.004</td> \n",
       "</tr>\n",
       "<tr>\n",
       "  <th>Model:</th>                   <td>WLS</td>       <th>  Adj. R-squared:    </th>  <td>   0.004</td> \n",
       "</tr>\n",
       "<tr>\n",
       "  <th>Method:</th>             <td>Least Squares</td>  <th>  F-statistic:       </th>  <td>   16.30</td> \n",
       "</tr>\n",
       "<tr>\n",
       "  <th>Date:</th>             <td>Wed, 01 May 2024</td> <th>  Prob (F-statistic):</th>  <td>5.57e-87</td> \n",
       "</tr>\n",
       "<tr>\n",
       "  <th>Time:</th>                 <td>06:57:03</td>     <th>  Log-Likelihood:    </th> <td>3.0038e+05</td>\n",
       "</tr>\n",
       "<tr>\n",
       "  <th>No. Observations:</th>      <td>214569</td>      <th>  AIC:               </th> <td>-6.007e+05</td>\n",
       "</tr>\n",
       "<tr>\n",
       "  <th>Df Residuals:</th>          <td>214537</td>      <th>  BIC:               </th> <td>-6.004e+05</td>\n",
       "</tr>\n",
       "<tr>\n",
       "  <th>Df Model:</th>              <td>    31</td>      <th>                     </th>      <td> </td>    \n",
       "</tr>\n",
       "<tr>\n",
       "  <th>Covariance Type:</th>         <td>HC3</td>       <th>                     </th>      <td> </td>    \n",
       "</tr>\n",
       "</table>\n",
       "<table class=\"simpletable\">\n",
       "<tr>\n",
       "              <td></td>                <th>coef</th>     <th>std err</th>      <th>z</th>      <th>P>|z|</th>  <th>[0.025</th>    <th>0.975]</th>  \n",
       "</tr>\n",
       "<tr>\n",
       "  <th>Intercept</th>                <td>    0.0051</td> <td>    0.001</td> <td>    9.943</td> <td> 0.000</td> <td>    0.004</td> <td>    0.006</td>\n",
       "</tr>\n",
       "<tr>\n",
       "  <th>C(HINOTCOVE)[T.1]</th>        <td>    0.0032</td> <td>    0.000</td> <td>   15.199</td> <td> 0.000</td> <td>    0.003</td> <td>    0.004</td>\n",
       "</tr>\n",
       "<tr>\n",
       "  <th>C(SEX)[T.2]</th>              <td>    0.0007</td> <td>    0.000</td> <td>    2.332</td> <td> 0.020</td> <td>    0.000</td> <td>    0.001</td>\n",
       "</tr>\n",
       "<tr>\n",
       "  <th>C(RACENEW)[T.200]</th>        <td>   -0.0004</td> <td>    0.000</td> <td>   -0.995</td> <td> 0.320</td> <td>   -0.001</td> <td>    0.000</td>\n",
       "</tr>\n",
       "<tr>\n",
       "  <th>C(RACENEW)[T.300]</th>        <td>   -0.0024</td> <td>    0.001</td> <td>   -2.196</td> <td> 0.028</td> <td>   -0.005</td> <td>   -0.000</td>\n",
       "</tr>\n",
       "<tr>\n",
       "  <th>C(RACENEW)[T.400]</th>        <td>   -0.0009</td> <td>    0.000</td> <td>   -2.468</td> <td> 0.014</td> <td>   -0.002</td> <td>   -0.000</td>\n",
       "</tr>\n",
       "<tr>\n",
       "  <th>C(INCFAM97ON2)[T.20]</th>     <td>   -0.0016</td> <td>    0.000</td> <td>   -4.664</td> <td> 0.000</td> <td>   -0.002</td> <td>   -0.001</td>\n",
       "</tr>\n",
       "<tr>\n",
       "  <th>C(INCFAM97ON2)[T.31]</th>     <td>   -0.0023</td> <td>    0.000</td> <td>   -5.268</td> <td> 0.000</td> <td>   -0.003</td> <td>   -0.001</td>\n",
       "</tr>\n",
       "<tr>\n",
       "  <th>C(INCFAM97ON2)[T.32]</th>     <td>   -0.0032</td> <td>    0.000</td> <td>   -9.571</td> <td> 0.000</td> <td>   -0.004</td> <td>   -0.003</td>\n",
       "</tr>\n",
       "<tr>\n",
       "  <th>C(SMK)[T.2]</th>              <td>   -0.0058</td> <td>    0.000</td> <td>  -19.656</td> <td> 0.000</td> <td>   -0.006</td> <td>   -0.005</td>\n",
       "</tr>\n",
       "<tr>\n",
       "  <th>C(Occupation_Code)[T.2]</th>  <td>    0.0010</td> <td>    0.001</td> <td>    1.789</td> <td> 0.074</td> <td>-9.31e-05</td> <td>    0.002</td>\n",
       "</tr>\n",
       "<tr>\n",
       "  <th>C(Occupation_Code)[T.3]</th>  <td>   -0.0003</td> <td>    0.001</td> <td>   -0.578</td> <td> 0.563</td> <td>   -0.001</td> <td>    0.001</td>\n",
       "</tr>\n",
       "<tr>\n",
       "  <th>C(Occupation_Code)[T.4]</th>  <td>    0.0021</td> <td>    0.001</td> <td>    2.905</td> <td> 0.004</td> <td>    0.001</td> <td>    0.003</td>\n",
       "</tr>\n",
       "<tr>\n",
       "  <th>C(Occupation_Code)[T.5]</th>  <td>   -0.0001</td> <td>    0.000</td> <td>   -0.212</td> <td> 0.832</td> <td>   -0.001</td> <td>    0.001</td>\n",
       "</tr>\n",
       "<tr>\n",
       "  <th>C(Occupation_Code)[T.6]</th>  <td>    0.0003</td> <td>    0.001</td> <td>    0.466</td> <td> 0.641</td> <td>   -0.001</td> <td>    0.002</td>\n",
       "</tr>\n",
       "<tr>\n",
       "  <th>C(Occupation_Code)[T.7]</th>  <td>    0.0006</td> <td>    0.001</td> <td>    1.009</td> <td> 0.313</td> <td>   -0.001</td> <td>    0.002</td>\n",
       "</tr>\n",
       "<tr>\n",
       "  <th>C(Occupation_Code)[T.8]</th>  <td>    0.0006</td> <td>    0.001</td> <td>    0.979</td> <td> 0.328</td> <td>   -0.001</td> <td>    0.002</td>\n",
       "</tr>\n",
       "<tr>\n",
       "  <th>C(Occupation_Code)[T.9]</th>  <td>    0.0003</td> <td>    0.001</td> <td>    0.316</td> <td> 0.752</td> <td>   -0.001</td> <td>    0.002</td>\n",
       "</tr>\n",
       "<tr>\n",
       "  <th>C(Occupation_Code)[T.10]</th> <td>   -0.0013</td> <td>    0.001</td> <td>   -2.085</td> <td> 0.037</td> <td>   -0.003</td> <td>-7.87e-05</td>\n",
       "</tr>\n",
       "<tr>\n",
       "  <th>C(Occupation_Code)[T.11]</th> <td>   -0.0002</td> <td>    0.001</td> <td>   -0.282</td> <td> 0.778</td> <td>   -0.002</td> <td>    0.001</td>\n",
       "</tr>\n",
       "<tr>\n",
       "  <th>C(Occupation_Code)[T.12]</th> <td>    0.0016</td> <td>    0.001</td> <td>    1.612</td> <td> 0.107</td> <td>   -0.000</td> <td>    0.003</td>\n",
       "</tr>\n",
       "<tr>\n",
       "  <th>C(Occupation_Code)[T.13]</th> <td>   -0.0014</td> <td>    0.001</td> <td>   -2.289</td> <td> 0.022</td> <td>   -0.003</td> <td>   -0.000</td>\n",
       "</tr>\n",
       "<tr>\n",
       "  <th>C(Occupation_Code)[T.14]</th> <td>   -0.0012</td> <td>    0.001</td> <td>   -1.553</td> <td> 0.120</td> <td>   -0.003</td> <td>    0.000</td>\n",
       "</tr>\n",
       "<tr>\n",
       "  <th>C(Occupation_Code)[T.15]</th> <td>    0.0010</td> <td>    0.001</td> <td>    1.132</td> <td> 0.258</td> <td>   -0.001</td> <td>    0.003</td>\n",
       "</tr>\n",
       "<tr>\n",
       "  <th>C(Occupation_Code)[T.16]</th> <td>   -0.0004</td> <td>    0.001</td> <td>   -0.532</td> <td> 0.595</td> <td>   -0.002</td> <td>    0.001</td>\n",
       "</tr>\n",
       "<tr>\n",
       "  <th>C(Occupation_Code)[T.17]</th> <td>   -0.0005</td> <td>    0.001</td> <td>   -0.567</td> <td> 0.571</td> <td>   -0.002</td> <td>    0.001</td>\n",
       "</tr>\n",
       "<tr>\n",
       "  <th>C(Occupation_Code)[T.18]</th> <td>   -0.0009</td> <td>    0.001</td> <td>   -1.334</td> <td> 0.182</td> <td>   -0.002</td> <td>    0.000</td>\n",
       "</tr>\n",
       "<tr>\n",
       "  <th>C(Occupation_Code)[T.21]</th> <td>-7.396e-05</td> <td>    0.001</td> <td>   -0.117</td> <td> 0.907</td> <td>   -0.001</td> <td>    0.001</td>\n",
       "</tr>\n",
       "<tr>\n",
       "  <th>C(Occupation_Code)[T.23]</th> <td>   -0.0006</td> <td>    0.001</td> <td>   -0.705</td> <td> 0.481</td> <td>   -0.002</td> <td>    0.001</td>\n",
       "</tr>\n",
       "<tr>\n",
       "  <th>C(Occupation_Code)[T.24]</th> <td>    0.0110</td> <td>    0.005</td> <td>    2.337</td> <td> 0.019</td> <td>    0.002</td> <td>    0.020</td>\n",
       "</tr>\n",
       "<tr>\n",
       "  <th>C(Occupation_Code)[T.26]</th> <td>    0.0008</td> <td>    0.001</td> <td>    0.675</td> <td> 0.499</td> <td>   -0.002</td> <td>    0.003</td>\n",
       "</tr>\n",
       "<tr>\n",
       "  <th>C(Occupation_Code)[T.28]</th> <td> 1.245e-05</td> <td>    0.002</td> <td>    0.008</td> <td> 0.994</td> <td>   -0.003</td> <td>    0.003</td>\n",
       "</tr>\n",
       "</table>\n",
       "<table class=\"simpletable\">\n",
       "<tr>\n",
       "  <th>Omnibus:</th>       <td>431977.838</td> <th>  Durbin-Watson:     </th>   <td>   2.002</td>   \n",
       "</tr>\n",
       "<tr>\n",
       "  <th>Prob(Omnibus):</th>   <td> 0.000</td>   <th>  Jarque-Bera (JB):  </th> <td>768807067.159</td>\n",
       "</tr>\n",
       "<tr>\n",
       "  <th>Skew:</th>            <td>17.068</td>   <th>  Prob(JB):          </th>   <td>    0.00</td>   \n",
       "</tr>\n",
       "<tr>\n",
       "  <th>Kurtosis:</th>        <td>294.252</td>  <th>  Cond. No.          </th>   <td>    29.9</td>   \n",
       "</tr>\n",
       "</table><br/><br/>Notes:<br/>[1] Standard Errors are heteroscedasticity robust (HC3)"
      ],
      "text/latex": [
       "\\begin{center}\n",
       "\\begin{tabular}{lclc}\n",
       "\\toprule\n",
       "\\textbf{Dep. Variable:}            &      CNLUNG      & \\textbf{  R-squared:         } &       0.004    \\\\\n",
       "\\textbf{Model:}                    &       WLS        & \\textbf{  Adj. R-squared:    } &       0.004    \\\\\n",
       "\\textbf{Method:}                   &  Least Squares   & \\textbf{  F-statistic:       } &       16.30    \\\\\n",
       "\\textbf{Date:}                     & Wed, 01 May 2024 & \\textbf{  Prob (F-statistic):} &    5.57e-87    \\\\\n",
       "\\textbf{Time:}                     &     06:57:03     & \\textbf{  Log-Likelihood:    } &   3.0038e+05   \\\\\n",
       "\\textbf{No. Observations:}         &      214569      & \\textbf{  AIC:               } &   -6.007e+05   \\\\\n",
       "\\textbf{Df Residuals:}             &      214537      & \\textbf{  BIC:               } &   -6.004e+05   \\\\\n",
       "\\textbf{Df Model:}                 &          31      & \\textbf{                     } &                \\\\\n",
       "\\textbf{Covariance Type:}          &       HC3        & \\textbf{                     } &                \\\\\n",
       "\\bottomrule\n",
       "\\end{tabular}\n",
       "\\begin{tabular}{lcccccc}\n",
       "                                   & \\textbf{coef} & \\textbf{std err} & \\textbf{z} & \\textbf{P$> |$z$|$} & \\textbf{[0.025} & \\textbf{0.975]}  \\\\\n",
       "\\midrule\n",
       "\\textbf{Intercept}                 &       0.0051  &        0.001     &     9.943  &         0.000        &        0.004    &        0.006     \\\\\n",
       "\\textbf{C(HINOTCOVE)[T.1]}         &       0.0032  &        0.000     &    15.199  &         0.000        &        0.003    &        0.004     \\\\\n",
       "\\textbf{C(SEX)[T.2]}               &       0.0007  &        0.000     &     2.332  &         0.020        &        0.000    &        0.001     \\\\\n",
       "\\textbf{C(RACENEW)[T.200]}         &      -0.0004  &        0.000     &    -0.995  &         0.320        &       -0.001    &        0.000     \\\\\n",
       "\\textbf{C(RACENEW)[T.300]}         &      -0.0024  &        0.001     &    -2.196  &         0.028        &       -0.005    &       -0.000     \\\\\n",
       "\\textbf{C(RACENEW)[T.400]}         &      -0.0009  &        0.000     &    -2.468  &         0.014        &       -0.002    &       -0.000     \\\\\n",
       "\\textbf{C(INCFAM97ON2)[T.20]}      &      -0.0016  &        0.000     &    -4.664  &         0.000        &       -0.002    &       -0.001     \\\\\n",
       "\\textbf{C(INCFAM97ON2)[T.31]}      &      -0.0023  &        0.000     &    -5.268  &         0.000        &       -0.003    &       -0.001     \\\\\n",
       "\\textbf{C(INCFAM97ON2)[T.32]}      &      -0.0032  &        0.000     &    -9.571  &         0.000        &       -0.004    &       -0.003     \\\\\n",
       "\\textbf{C(SMK)[T.2]}               &      -0.0058  &        0.000     &   -19.656  &         0.000        &       -0.006    &       -0.005     \\\\\n",
       "\\textbf{C(Occupation\\_Code)[T.2]}  &       0.0010  &        0.001     &     1.789  &         0.074        &    -9.31e-05    &        0.002     \\\\\n",
       "\\textbf{C(Occupation\\_Code)[T.3]}  &      -0.0003  &        0.001     &    -0.578  &         0.563        &       -0.001    &        0.001     \\\\\n",
       "\\textbf{C(Occupation\\_Code)[T.4]}  &       0.0021  &        0.001     &     2.905  &         0.004        &        0.001    &        0.003     \\\\\n",
       "\\textbf{C(Occupation\\_Code)[T.5]}  &      -0.0001  &        0.000     &    -0.212  &         0.832        &       -0.001    &        0.001     \\\\\n",
       "\\textbf{C(Occupation\\_Code)[T.6]}  &       0.0003  &        0.001     &     0.466  &         0.641        &       -0.001    &        0.002     \\\\\n",
       "\\textbf{C(Occupation\\_Code)[T.7]}  &       0.0006  &        0.001     &     1.009  &         0.313        &       -0.001    &        0.002     \\\\\n",
       "\\textbf{C(Occupation\\_Code)[T.8]}  &       0.0006  &        0.001     &     0.979  &         0.328        &       -0.001    &        0.002     \\\\\n",
       "\\textbf{C(Occupation\\_Code)[T.9]}  &       0.0003  &        0.001     &     0.316  &         0.752        &       -0.001    &        0.002     \\\\\n",
       "\\textbf{C(Occupation\\_Code)[T.10]} &      -0.0013  &        0.001     &    -2.085  &         0.037        &       -0.003    &    -7.87e-05     \\\\\n",
       "\\textbf{C(Occupation\\_Code)[T.11]} &      -0.0002  &        0.001     &    -0.282  &         0.778        &       -0.002    &        0.001     \\\\\n",
       "\\textbf{C(Occupation\\_Code)[T.12]} &       0.0016  &        0.001     &     1.612  &         0.107        &       -0.000    &        0.003     \\\\\n",
       "\\textbf{C(Occupation\\_Code)[T.13]} &      -0.0014  &        0.001     &    -2.289  &         0.022        &       -0.003    &       -0.000     \\\\\n",
       "\\textbf{C(Occupation\\_Code)[T.14]} &      -0.0012  &        0.001     &    -1.553  &         0.120        &       -0.003    &        0.000     \\\\\n",
       "\\textbf{C(Occupation\\_Code)[T.15]} &       0.0010  &        0.001     &     1.132  &         0.258        &       -0.001    &        0.003     \\\\\n",
       "\\textbf{C(Occupation\\_Code)[T.16]} &      -0.0004  &        0.001     &    -0.532  &         0.595        &       -0.002    &        0.001     \\\\\n",
       "\\textbf{C(Occupation\\_Code)[T.17]} &      -0.0005  &        0.001     &    -0.567  &         0.571        &       -0.002    &        0.001     \\\\\n",
       "\\textbf{C(Occupation\\_Code)[T.18]} &      -0.0009  &        0.001     &    -1.334  &         0.182        &       -0.002    &        0.000     \\\\\n",
       "\\textbf{C(Occupation\\_Code)[T.21]} &   -7.396e-05  &        0.001     &    -0.117  &         0.907        &       -0.001    &        0.001     \\\\\n",
       "\\textbf{C(Occupation\\_Code)[T.23]} &      -0.0006  &        0.001     &    -0.705  &         0.481        &       -0.002    &        0.001     \\\\\n",
       "\\textbf{C(Occupation\\_Code)[T.24]} &       0.0110  &        0.005     &     2.337  &         0.019        &        0.002    &        0.020     \\\\\n",
       "\\textbf{C(Occupation\\_Code)[T.26]} &       0.0008  &        0.001     &     0.675  &         0.499        &       -0.002    &        0.003     \\\\\n",
       "\\textbf{C(Occupation\\_Code)[T.28]} &    1.245e-05  &        0.002     &     0.008  &         0.994        &       -0.003    &        0.003     \\\\\n",
       "\\bottomrule\n",
       "\\end{tabular}\n",
       "\\begin{tabular}{lclc}\n",
       "\\textbf{Omnibus:}       & 431977.838 & \\textbf{  Durbin-Watson:     } &       2.002    \\\\\n",
       "\\textbf{Prob(Omnibus):} &    0.000   & \\textbf{  Jarque-Bera (JB):  } & 768807067.159  \\\\\n",
       "\\textbf{Skew:}          &   17.068   & \\textbf{  Prob(JB):          } &        0.00    \\\\\n",
       "\\textbf{Kurtosis:}      &  294.252   & \\textbf{  Cond. No.          } &        29.9    \\\\\n",
       "\\bottomrule\n",
       "\\end{tabular}\n",
       "%\\caption{WLS Regression Results}\n",
       "\\end{center}\n",
       "\n",
       "Notes: \\newline\n",
       " [1] Standard Errors are heteroscedasticity robust (HC3)"
      ],
      "text/plain": [
       "<class 'statsmodels.iolib.summary.Summary'>\n",
       "\"\"\"\n",
       "                            WLS Regression Results                            \n",
       "==============================================================================\n",
       "Dep. Variable:                 CNLUNG   R-squared:                       0.004\n",
       "Model:                            WLS   Adj. R-squared:                  0.004\n",
       "Method:                 Least Squares   F-statistic:                     16.30\n",
       "Date:                Wed, 01 May 2024   Prob (F-statistic):           5.57e-87\n",
       "Time:                        06:57:03   Log-Likelihood:             3.0038e+05\n",
       "No. Observations:              214569   AIC:                        -6.007e+05\n",
       "Df Residuals:                  214537   BIC:                        -6.004e+05\n",
       "Df Model:                          31                                         \n",
       "Covariance Type:                  HC3                                         \n",
       "============================================================================================\n",
       "                               coef    std err          z      P>|z|      [0.025      0.975]\n",
       "--------------------------------------------------------------------------------------------\n",
       "Intercept                    0.0051      0.001      9.943      0.000       0.004       0.006\n",
       "C(HINOTCOVE)[T.1]            0.0032      0.000     15.199      0.000       0.003       0.004\n",
       "C(SEX)[T.2]                  0.0007      0.000      2.332      0.020       0.000       0.001\n",
       "C(RACENEW)[T.200]           -0.0004      0.000     -0.995      0.320      -0.001       0.000\n",
       "C(RACENEW)[T.300]           -0.0024      0.001     -2.196      0.028      -0.005      -0.000\n",
       "C(RACENEW)[T.400]           -0.0009      0.000     -2.468      0.014      -0.002      -0.000\n",
       "C(INCFAM97ON2)[T.20]        -0.0016      0.000     -4.664      0.000      -0.002      -0.001\n",
       "C(INCFAM97ON2)[T.31]        -0.0023      0.000     -5.268      0.000      -0.003      -0.001\n",
       "C(INCFAM97ON2)[T.32]        -0.0032      0.000     -9.571      0.000      -0.004      -0.003\n",
       "C(SMK)[T.2]                 -0.0058      0.000    -19.656      0.000      -0.006      -0.005\n",
       "C(Occupation_Code)[T.2]      0.0010      0.001      1.789      0.074   -9.31e-05       0.002\n",
       "C(Occupation_Code)[T.3]     -0.0003      0.001     -0.578      0.563      -0.001       0.001\n",
       "C(Occupation_Code)[T.4]      0.0021      0.001      2.905      0.004       0.001       0.003\n",
       "C(Occupation_Code)[T.5]     -0.0001      0.000     -0.212      0.832      -0.001       0.001\n",
       "C(Occupation_Code)[T.6]      0.0003      0.001      0.466      0.641      -0.001       0.002\n",
       "C(Occupation_Code)[T.7]      0.0006      0.001      1.009      0.313      -0.001       0.002\n",
       "C(Occupation_Code)[T.8]      0.0006      0.001      0.979      0.328      -0.001       0.002\n",
       "C(Occupation_Code)[T.9]      0.0003      0.001      0.316      0.752      -0.001       0.002\n",
       "C(Occupation_Code)[T.10]    -0.0013      0.001     -2.085      0.037      -0.003   -7.87e-05\n",
       "C(Occupation_Code)[T.11]    -0.0002      0.001     -0.282      0.778      -0.002       0.001\n",
       "C(Occupation_Code)[T.12]     0.0016      0.001      1.612      0.107      -0.000       0.003\n",
       "C(Occupation_Code)[T.13]    -0.0014      0.001     -2.289      0.022      -0.003      -0.000\n",
       "C(Occupation_Code)[T.14]    -0.0012      0.001     -1.553      0.120      -0.003       0.000\n",
       "C(Occupation_Code)[T.15]     0.0010      0.001      1.132      0.258      -0.001       0.003\n",
       "C(Occupation_Code)[T.16]    -0.0004      0.001     -0.532      0.595      -0.002       0.001\n",
       "C(Occupation_Code)[T.17]    -0.0005      0.001     -0.567      0.571      -0.002       0.001\n",
       "C(Occupation_Code)[T.18]    -0.0009      0.001     -1.334      0.182      -0.002       0.000\n",
       "C(Occupation_Code)[T.21] -7.396e-05      0.001     -0.117      0.907      -0.001       0.001\n",
       "C(Occupation_Code)[T.23]    -0.0006      0.001     -0.705      0.481      -0.002       0.001\n",
       "C(Occupation_Code)[T.24]     0.0110      0.005      2.337      0.019       0.002       0.020\n",
       "C(Occupation_Code)[T.26]     0.0008      0.001      0.675      0.499      -0.002       0.003\n",
       "C(Occupation_Code)[T.28]  1.245e-05      0.002      0.008      0.994      -0.003       0.003\n",
       "==============================================================================\n",
       "Omnibus:                   431977.838   Durbin-Watson:                   2.002\n",
       "Prob(Omnibus):                  0.000   Jarque-Bera (JB):        768807067.159\n",
       "Skew:                          17.068   Prob(JB):                         0.00\n",
       "Kurtosis:                     294.252   Cond. No.                         29.9\n",
       "==============================================================================\n",
       "\n",
       "Notes:\n",
       "[1] Standard Errors are heteroscedasticity robust (HC3)\n",
       "\"\"\""
      ]
     },
     "execution_count": 21,
     "metadata": {},
     "output_type": "execute_result"
    }
   ],
   "source": [
    "model_with_controls.summary()"
   ]
  },
  {
   "cell_type": "code",
   "execution_count": 22,
   "metadata": {},
   "outputs": [
    {
     "ename": "KeyError",
     "evalue": "'HINOTCOVE'",
     "output_type": "error",
     "traceback": [
      "\u001b[0;31m---------------------------------------------------------------------------\u001b[0m",
      "\u001b[0;31mKeyError\u001b[0m                                  Traceback (most recent call last)",
      "File \u001b[0;32m~/miniconda3/lib/python3.11/site-packages/pandas/core/indexes/base.py:3790\u001b[0m, in \u001b[0;36mIndex.get_loc\u001b[0;34m(self, key)\u001b[0m\n\u001b[1;32m   3789\u001b[0m \u001b[38;5;28;01mtry\u001b[39;00m:\n\u001b[0;32m-> 3790\u001b[0m     \u001b[38;5;28;01mreturn\u001b[39;00m \u001b[38;5;28;43mself\u001b[39;49m\u001b[38;5;241;43m.\u001b[39;49m\u001b[43m_engine\u001b[49m\u001b[38;5;241;43m.\u001b[39;49m\u001b[43mget_loc\u001b[49m\u001b[43m(\u001b[49m\u001b[43mcasted_key\u001b[49m\u001b[43m)\u001b[49m\n\u001b[1;32m   3791\u001b[0m \u001b[38;5;28;01mexcept\u001b[39;00m \u001b[38;5;167;01mKeyError\u001b[39;00m \u001b[38;5;28;01mas\u001b[39;00m err:\n",
      "File \u001b[0;32mindex.pyx:152\u001b[0m, in \u001b[0;36mpandas._libs.index.IndexEngine.get_loc\u001b[0;34m()\u001b[0m\n",
      "File \u001b[0;32mindex.pyx:181\u001b[0m, in \u001b[0;36mpandas._libs.index.IndexEngine.get_loc\u001b[0;34m()\u001b[0m\n",
      "File \u001b[0;32mpandas/_libs/hashtable_class_helper.pxi:7080\u001b[0m, in \u001b[0;36mpandas._libs.hashtable.PyObjectHashTable.get_item\u001b[0;34m()\u001b[0m\n",
      "File \u001b[0;32mpandas/_libs/hashtable_class_helper.pxi:7088\u001b[0m, in \u001b[0;36mpandas._libs.hashtable.PyObjectHashTable.get_item\u001b[0;34m()\u001b[0m\n",
      "\u001b[0;31mKeyError\u001b[0m: 'HINOTCOVE'",
      "\nThe above exception was the direct cause of the following exception:\n",
      "\u001b[0;31mKeyError\u001b[0m                                  Traceback (most recent call last)",
      "Cell \u001b[0;32mIn[22], line 2\u001b[0m\n\u001b[1;32m      1\u001b[0m \u001b[38;5;66;03m# To get the coefficient for the 'HINOTCOVE' variable\u001b[39;00m\n\u001b[0;32m----> 2\u001b[0m insurance_coefficient_control \u001b[38;5;241m=\u001b[39m \u001b[43mmodel_with_controls\u001b[49m\u001b[38;5;241;43m.\u001b[39;49m\u001b[43mparams\u001b[49m\u001b[43m[\u001b[49m\u001b[38;5;124;43m\"\u001b[39;49m\u001b[38;5;124;43mHINOTCOVE\u001b[39;49m\u001b[38;5;124;43m\"\u001b[39;49m\u001b[43m]\u001b[49m\n\u001b[1;32m      3\u001b[0m \u001b[38;5;28mprint\u001b[39m(\u001b[38;5;124mf\u001b[39m\u001b[38;5;124m\"\u001b[39m\u001b[38;5;124mCoefficient for \u001b[39m\u001b[38;5;124m'\u001b[39m\u001b[38;5;124mHINOTCOVE\u001b[39m\u001b[38;5;124m'\u001b[39m\u001b[38;5;124m with controls: \u001b[39m\u001b[38;5;132;01m{\u001b[39;00minsurance_coefficient_control\u001b[38;5;132;01m:\u001b[39;00m\u001b[38;5;124m.4f\u001b[39m\u001b[38;5;132;01m}\u001b[39;00m\u001b[38;5;124m\"\u001b[39m)\n",
      "File \u001b[0;32m~/miniconda3/lib/python3.11/site-packages/pandas/core/series.py:1040\u001b[0m, in \u001b[0;36mSeries.__getitem__\u001b[0;34m(self, key)\u001b[0m\n\u001b[1;32m   1037\u001b[0m     \u001b[38;5;28;01mreturn\u001b[39;00m \u001b[38;5;28mself\u001b[39m\u001b[38;5;241m.\u001b[39m_values[key]\n\u001b[1;32m   1039\u001b[0m \u001b[38;5;28;01melif\u001b[39;00m key_is_scalar:\n\u001b[0;32m-> 1040\u001b[0m     \u001b[38;5;28;01mreturn\u001b[39;00m \u001b[38;5;28;43mself\u001b[39;49m\u001b[38;5;241;43m.\u001b[39;49m\u001b[43m_get_value\u001b[49m\u001b[43m(\u001b[49m\u001b[43mkey\u001b[49m\u001b[43m)\u001b[49m\n\u001b[1;32m   1042\u001b[0m \u001b[38;5;66;03m# Convert generator to list before going through hashable part\u001b[39;00m\n\u001b[1;32m   1043\u001b[0m \u001b[38;5;66;03m# (We will iterate through the generator there to check for slices)\u001b[39;00m\n\u001b[1;32m   1044\u001b[0m \u001b[38;5;28;01mif\u001b[39;00m is_iterator(key):\n",
      "File \u001b[0;32m~/miniconda3/lib/python3.11/site-packages/pandas/core/series.py:1156\u001b[0m, in \u001b[0;36mSeries._get_value\u001b[0;34m(self, label, takeable)\u001b[0m\n\u001b[1;32m   1153\u001b[0m     \u001b[38;5;28;01mreturn\u001b[39;00m \u001b[38;5;28mself\u001b[39m\u001b[38;5;241m.\u001b[39m_values[label]\n\u001b[1;32m   1155\u001b[0m \u001b[38;5;66;03m# Similar to Index.get_value, but we do not fall back to positional\u001b[39;00m\n\u001b[0;32m-> 1156\u001b[0m loc \u001b[38;5;241m=\u001b[39m \u001b[38;5;28;43mself\u001b[39;49m\u001b[38;5;241;43m.\u001b[39;49m\u001b[43mindex\u001b[49m\u001b[38;5;241;43m.\u001b[39;49m\u001b[43mget_loc\u001b[49m\u001b[43m(\u001b[49m\u001b[43mlabel\u001b[49m\u001b[43m)\u001b[49m\n\u001b[1;32m   1158\u001b[0m \u001b[38;5;28;01mif\u001b[39;00m is_integer(loc):\n\u001b[1;32m   1159\u001b[0m     \u001b[38;5;28;01mreturn\u001b[39;00m \u001b[38;5;28mself\u001b[39m\u001b[38;5;241m.\u001b[39m_values[loc]\n",
      "File \u001b[0;32m~/miniconda3/lib/python3.11/site-packages/pandas/core/indexes/base.py:3797\u001b[0m, in \u001b[0;36mIndex.get_loc\u001b[0;34m(self, key)\u001b[0m\n\u001b[1;32m   3792\u001b[0m     \u001b[38;5;28;01mif\u001b[39;00m \u001b[38;5;28misinstance\u001b[39m(casted_key, \u001b[38;5;28mslice\u001b[39m) \u001b[38;5;129;01mor\u001b[39;00m (\n\u001b[1;32m   3793\u001b[0m         \u001b[38;5;28misinstance\u001b[39m(casted_key, abc\u001b[38;5;241m.\u001b[39mIterable)\n\u001b[1;32m   3794\u001b[0m         \u001b[38;5;129;01mand\u001b[39;00m \u001b[38;5;28many\u001b[39m(\u001b[38;5;28misinstance\u001b[39m(x, \u001b[38;5;28mslice\u001b[39m) \u001b[38;5;28;01mfor\u001b[39;00m x \u001b[38;5;129;01min\u001b[39;00m casted_key)\n\u001b[1;32m   3795\u001b[0m     ):\n\u001b[1;32m   3796\u001b[0m         \u001b[38;5;28;01mraise\u001b[39;00m InvalidIndexError(key)\n\u001b[0;32m-> 3797\u001b[0m     \u001b[38;5;28;01mraise\u001b[39;00m \u001b[38;5;167;01mKeyError\u001b[39;00m(key) \u001b[38;5;28;01mfrom\u001b[39;00m \u001b[38;5;21;01merr\u001b[39;00m\n\u001b[1;32m   3798\u001b[0m \u001b[38;5;28;01mexcept\u001b[39;00m \u001b[38;5;167;01mTypeError\u001b[39;00m:\n\u001b[1;32m   3799\u001b[0m     \u001b[38;5;66;03m# If we have a listlike key, _check_indexing_error will raise\u001b[39;00m\n\u001b[1;32m   3800\u001b[0m     \u001b[38;5;66;03m#  InvalidIndexError. Otherwise we fall through and re-raise\u001b[39;00m\n\u001b[1;32m   3801\u001b[0m     \u001b[38;5;66;03m#  the TypeError.\u001b[39;00m\n\u001b[1;32m   3802\u001b[0m     \u001b[38;5;28mself\u001b[39m\u001b[38;5;241m.\u001b[39m_check_indexing_error(key)\n",
      "\u001b[0;31mKeyError\u001b[0m: 'HINOTCOVE'"
     ]
    }
   ],
   "source": [
    "# To get the coefficient for the 'HINOTCOVE' variable\n",
    "insurance_coefficient_control = model_with_controls.params[\"HINOTCOVE\"]\n",
    "print(f\"Coefficient for 'HINOTCOVE' with controls: {insurance_coefficient_control:.4f}\")"
   ]
  },
  {
   "cell_type": "code",
   "execution_count": null,
   "metadata": {},
   "outputs": [],
   "source": [
    "# To get the p-value for the coefficient of 'HINOTCOVE' variable\n",
    "insurance_p_value_control = model_with_controls.pvalues[\"HINOTCOVE\"]\n",
    "print(f\"P-value for 'HINOTCOVE' with controls: {insurance_p_value_control:.4f}\")"
   ]
  },
  {
   "cell_type": "markdown",
   "metadata": {},
   "source": [
    ">- The coefficient for 'HINOTCOVE' with controls (0.0010) suggests that, after controlling for other variables, there is a positive association between having insurance coverage and the outcome variable (lung cancer diagnosis status). \n",
    ">- The p-value is less than the conventional threshold of 0.05, suggesting that the estimated effect of insurance coverage on lung cancer diagnosis is statistically significant.\n",
    ">- There is evidence to support the hypothesis that having insurance coverage increases the likelihood of lung cancer diagnosis, after controlling for other covariates and potential confounders."
   ]
  }
 ],
 "metadata": {
  "kernelspec": {
   "display_name": "base",
   "language": "python",
   "name": "python3"
  },
  "language_info": {
   "codemirror_mode": {
    "name": "ipython",
    "version": 3
   },
   "file_extension": ".py",
   "mimetype": "text/x-python",
   "name": "python",
   "nbconvert_exporter": "python",
   "pygments_lexer": "ipython3",
   "version": "3.11.5"
  }
 },
 "nbformat": 4,
 "nbformat_minor": 2
}
