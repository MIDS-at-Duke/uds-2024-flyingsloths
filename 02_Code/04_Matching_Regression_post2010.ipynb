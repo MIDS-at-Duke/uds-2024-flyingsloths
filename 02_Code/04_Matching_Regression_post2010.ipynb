{
 "cells": [
  {
   "cell_type": "code",
   "execution_count": 1,
   "metadata": {},
   "outputs": [],
   "source": [
    "import pandas as pd\n",
    "import numpy as np\n",
    "import warnings\n",
    "import matplotlib.pyplot as plt\n",
    "from statsmodels.stats.power import TTestIndPower\n",
    "import statsmodels.api as sm\n",
    "from scipy import stats\n",
    "import statsmodels.formula.api as smf\n",
    "from scipy.stats import chi2_contingency\n",
    "import matplotlib.pyplot as plt\n",
    "from numpy.polynomial.polynomial import Polynomial\n",
    "\n",
    "warnings.filterwarnings(\"ignore\")\n",
    "\n",
    "pd.set_option(\"mode.copy_on_write\", True)"
   ]
  },
  {
   "cell_type": "code",
   "execution_count": 2,
   "metadata": {},
   "outputs": [],
   "source": [
    "insurance = pd.read_csv(\"after_Obamacare.csv\")"
   ]
  },
  {
   "cell_type": "code",
   "execution_count": 3,
   "metadata": {},
   "outputs": [
    {
     "data": {
      "text/plain": [
       "(833367, 8)"
      ]
     },
     "execution_count": 3,
     "metadata": {},
     "output_type": "execute_result"
    }
   ],
   "source": [
    "insurance.shape"
   ]
  },
  {
   "cell_type": "markdown",
   "metadata": {},
   "source": [
    "> Drop the year variable "
   ]
  },
  {
   "cell_type": "code",
   "execution_count": 4,
   "metadata": {},
   "outputs": [],
   "source": [
    "# Drop the 'YEAR' variable\n",
    "insurance = insurance.drop(columns=[\"YEAR\"])"
   ]
  },
  {
   "cell_type": "code",
   "execution_count": 5,
   "metadata": {},
   "outputs": [
    {
     "data": {
      "text/html": [
       "<div>\n",
       "<style scoped>\n",
       "    .dataframe tbody tr th:only-of-type {\n",
       "        vertical-align: middle;\n",
       "    }\n",
       "\n",
       "    .dataframe tbody tr th {\n",
       "        vertical-align: top;\n",
       "    }\n",
       "\n",
       "    .dataframe thead th {\n",
       "        text-align: right;\n",
       "    }\n",
       "</style>\n",
       "<table border=\"1\" class=\"dataframe\">\n",
       "  <thead>\n",
       "    <tr style=\"text-align: right;\">\n",
       "      <th></th>\n",
       "      <th>SEX</th>\n",
       "      <th>RACENEW</th>\n",
       "      <th>INCFAM97ON2</th>\n",
       "      <th>HINOTCOVE</th>\n",
       "      <th>CNLUNG</th>\n",
       "      <th>SMK</th>\n",
       "      <th>Occupation_Code</th>\n",
       "    </tr>\n",
       "  </thead>\n",
       "  <tbody>\n",
       "    <tr>\n",
       "      <th>0</th>\n",
       "      <td>2</td>\n",
       "      <td>100.0</td>\n",
       "      <td>32.0</td>\n",
       "      <td>1.0</td>\n",
       "      <td>1.0</td>\n",
       "      <td>1</td>\n",
       "      <td>1</td>\n",
       "    </tr>\n",
       "    <tr>\n",
       "      <th>1</th>\n",
       "      <td>1</td>\n",
       "      <td>100.0</td>\n",
       "      <td>32.0</td>\n",
       "      <td>1.0</td>\n",
       "      <td>1.0</td>\n",
       "      <td>0</td>\n",
       "      <td>0</td>\n",
       "    </tr>\n",
       "    <tr>\n",
       "      <th>2</th>\n",
       "      <td>2</td>\n",
       "      <td>100.0</td>\n",
       "      <td>32.0</td>\n",
       "      <td>1.0</td>\n",
       "      <td>1.0</td>\n",
       "      <td>0</td>\n",
       "      <td>0</td>\n",
       "    </tr>\n",
       "    <tr>\n",
       "      <th>3</th>\n",
       "      <td>2</td>\n",
       "      <td>100.0</td>\n",
       "      <td>20.0</td>\n",
       "      <td>2.0</td>\n",
       "      <td>1.0</td>\n",
       "      <td>0</td>\n",
       "      <td>0</td>\n",
       "    </tr>\n",
       "    <tr>\n",
       "      <th>4</th>\n",
       "      <td>2</td>\n",
       "      <td>100.0</td>\n",
       "      <td>20.0</td>\n",
       "      <td>2.0</td>\n",
       "      <td>1.0</td>\n",
       "      <td>0</td>\n",
       "      <td>0</td>\n",
       "    </tr>\n",
       "  </tbody>\n",
       "</table>\n",
       "</div>"
      ],
      "text/plain": [
       "   SEX  RACENEW  INCFAM97ON2  HINOTCOVE  CNLUNG  SMK  Occupation_Code\n",
       "0    2    100.0         32.0        1.0     1.0    1                1\n",
       "1    1    100.0         32.0        1.0     1.0    0                0\n",
       "2    2    100.0         32.0        1.0     1.0    0                0\n",
       "3    2    100.0         20.0        2.0     1.0    0                0\n",
       "4    2    100.0         20.0        2.0     1.0    0                0"
      ]
     },
     "execution_count": 5,
     "metadata": {},
     "output_type": "execute_result"
    }
   ],
   "source": [
    "insurance.head()"
   ]
  },
  {
   "cell_type": "markdown",
   "metadata": {},
   "source": [
    "## Matching"
   ]
  },
  {
   "cell_type": "code",
   "execution_count": 6,
   "metadata": {},
   "outputs": [],
   "source": [
    "# Convert all columns to integer type\n",
    "insurance = insurance.astype(int)"
   ]
  },
  {
   "cell_type": "code",
   "execution_count": 7,
   "metadata": {},
   "outputs": [
    {
     "name": "stdout",
     "output_type": "stream",
     "text": [
      "Data types of each variable in the DataFrame:\n",
      "SEX                int64\n",
      "RACENEW            int64\n",
      "INCFAM97ON2        int64\n",
      "HINOTCOVE          int64\n",
      "CNLUNG             int64\n",
      "SMK                int64\n",
      "Occupation_Code    int64\n",
      "dtype: object\n"
     ]
    }
   ],
   "source": [
    "# Display the data types of each column in the DataFrame\n",
    "print(\"Data types of each variable in the DataFrame:\")\n",
    "print(insurance.dtypes)"
   ]
  },
  {
   "cell_type": "code",
   "execution_count": 8,
   "metadata": {},
   "outputs": [
    {
     "name": "stdout",
     "output_type": "stream",
     "text": [
      "[1 0]\n"
     ]
    }
   ],
   "source": [
    "# Map 1 to 1 and 2 to 0 in the \"HINOTCOVE\" column\n",
    "insurance[\"HINOTCOVE\"] = insurance[\"HINOTCOVE\"].map({1: 1, 2: 0})\n",
    "\n",
    "# Check unique values in the \"HINOTCOVE\" column after mapping\n",
    "unique_values = insurance[\"HINOTCOVE\"].unique()\n",
    "print(unique_values)"
   ]
  },
  {
   "cell_type": "code",
   "execution_count": 9,
   "metadata": {},
   "outputs": [
    {
     "name": "stdout",
     "output_type": "stream",
     "text": [
      "[0 1]\n"
     ]
    }
   ],
   "source": [
    "# Map 1 to 0 and 2 to 1 in the \"CNLUNG\" column\n",
    "insurance[\"CNLUNG\"] = insurance[\"CNLUNG\"].map({1: 0, 2: 1})\n",
    "\n",
    "# Check unique values in the \"CNLUNG\" column after mapping\n",
    "unique_values = insurance[\"CNLUNG\"].unique()\n",
    "print(unique_values)"
   ]
  },
  {
   "cell_type": "code",
   "execution_count": 10,
   "metadata": {},
   "outputs": [
    {
     "name": "stdout",
     "output_type": "stream",
     "text": [
      "Completed iteration 0 of matching\n",
      "\tNumber of matched groups formed in total:  1634\n",
      "\tUnmatched treated units:  5804 out of a total of  721837 treated units\n",
      "\tUnmatched control units:  79 out of a total of  111530 control units\n",
      "\tNumber of matches made this iteration:  827484\n",
      "\tNumber of matches made so far:  827484\n",
      "\tCovariates dropped so far:  set()\n",
      "\tPredictive error of covariate set used to match:  0.0014109739486449185\n",
      "Completed iteration 1 of matching\n",
      "\tNumber of matched groups formed in total:  1660\n",
      "\tUnmatched treated units:  5763 out of a total of  721837 treated units\n",
      "\tUnmatched control units:  46 out of a total of  111530 control units\n",
      "\tNumber of matches made this iteration:  74\n",
      "\tNumber of matches made so far:  827558\n",
      "\tCovariates dropped so far:  frozenset({'SEX'})\n",
      "\tPredictive error of covariate set used to match:  0.0014109765229733178\n",
      "Completed iteration 2 of matching\n",
      "\tNumber of matched groups formed in total:  1691\n",
      "\tUnmatched treated units:  5439 out of a total of  721837 treated units\n",
      "\tUnmatched control units:  9 out of a total of  111530 control units\n",
      "\tNumber of matches made this iteration:  361\n",
      "\tNumber of matches made so far:  827919\n",
      "\tCovariates dropped so far:  frozenset({'RACENEW'})\n",
      "\tPredictive error of covariate set used to match:  0.0014110235280382331\n",
      "Completed iteration 3 of matching\n",
      "\tNumber of matched groups formed in total:  1696\n",
      "\tUnmatched treated units:  5426 out of a total of  721837 treated units\n",
      "\tUnmatched control units:  4 out of a total of  111530 control units\n",
      "\tNumber of matches made this iteration:  18\n",
      "\tNumber of matches made so far:  827937\n",
      "\tCovariates dropped so far:  frozenset({'RACENEW', 'SEX'})\n",
      "\tPredictive error of covariate set used to match:  0.001411026001706874\n",
      "Completed iteration 4 of matching\n",
      "\tNumber of matched groups formed in total:  1697\n",
      "\tUnmatched treated units:  5425 out of a total of  721837 treated units\n",
      "\tUnmatched control units:  3 out of a total of  111530 control units\n",
      "\tNumber of matches made this iteration:  2\n",
      "\tNumber of matches made so far:  827939\n",
      "\tCovariates dropped so far:  frozenset({'SMK'})\n",
      "\tPredictive error of covariate set used to match:  0.00141111797866334\n",
      "Completed iteration 5 of matching\n",
      "\tNumber of matched groups formed in total:  1697\n",
      "\tUnmatched treated units:  5425 out of a total of  721837 treated units\n",
      "\tUnmatched control units:  3 out of a total of  111530 control units\n",
      "\tNumber of matches made this iteration:  0\n",
      "\tNumber of matches made so far:  827939\n",
      "\tCovariates dropped so far:  frozenset({'SEX', 'SMK'})\n",
      "\tPredictive error of covariate set used to match:  0.0014111242186938175\n",
      "Completed iteration 6 of matching\n",
      "\tNumber of matched groups formed in total:  1698\n",
      "\tUnmatched treated units:  5424 out of a total of  721837 treated units\n",
      "\tUnmatched control units:  1 out of a total of  111530 control units\n",
      "\tNumber of matches made this iteration:  3\n",
      "\tNumber of matches made so far:  827942\n",
      "\tCovariates dropped so far:  frozenset({'RACENEW', 'SMK'})\n",
      "\tPredictive error of covariate set used to match:  0.0014111693320378682\n",
      "Completed iteration 7 of matching\n",
      "\tNumber of matched groups formed in total:  1699\n",
      "\tUnmatched treated units:  5420 out of a total of  721837 treated units\n",
      "\tUnmatched control units:  0 out of a total of  111530 control units\n",
      "\tNumber of matches made this iteration:  5\n",
      "\tNumber of matches made so far:  827947\n",
      "\tCovariates dropped so far:  frozenset({'RACENEW', 'SEX', 'SMK'})\n",
      "\tPredictive error of covariate set used to match:  0.0014111753621437627\n",
      "827947 units matched. We finished with no more control units to match\n"
     ]
    }
   ],
   "source": [
    "import dame_flame\n",
    "\n",
    "model = dame_flame.matching.DAME(\n",
    "    repeats=False,\n",
    "    verbose=3,\n",
    "    want_pe=True,\n",
    "    stop_unmatched_t=True,\n",
    ")\n",
    "model.fit(\n",
    "    insurance,\n",
    "    treatment_column_name=\"HINOTCOVE\",\n",
    "    outcome_column_name=\"CNLUNG\",\n",
    ")\n",
    "result = model.predict(insurance)"
   ]
  },
  {
   "cell_type": "code",
   "execution_count": 11,
   "metadata": {},
   "outputs": [
    {
     "data": {
      "image/png": "[encoded data removed]",
      "text/plain": [
       "<Figure size 1000x600 with 1 Axes>"
      ]
     },
     "metadata": {},
     "output_type": "display_data"
    }
   ],
   "source": [
    "# Retrieve the prediction errors for each iteration\n",
    "prediction_errors = model.pe_each_iter\n",
    "\n",
    "# Plotting the prediction errors\n",
    "plt.figure(figsize=(10, 6))\n",
    "plt.plot(prediction_errors, marker=\"o\", linestyle=\"-\", markersize=8)\n",
    "plt.title(\"Prediction Error by Iteration\")\n",
    "plt.xlabel(\"Iteration Number\")\n",
    "plt.ylabel(\"Prediction Error\")\n",
    "plt.grid(True)\n",
    "plt.show()"
   ]
  },
  {
   "cell_type": "markdown",
   "metadata": {},
   "source": [
    "> I choose my stopping point at iteration number 1."
   ]
  },
  {
   "cell_type": "code",
   "execution_count": 12,
   "metadata": {},
   "outputs": [
    {
     "name": "stdout",
     "output_type": "stream",
     "text": [
      "Completed iteration 0 of matching\n",
      "\tNumber of matched groups formed in total:  1634\n",
      "\tUnmatched treated units:  5804 out of a total of  721837 treated units\n",
      "\tUnmatched control units:  79 out of a total of  111530 control units\n",
      "\tNumber of matches made this iteration:  827484\n",
      "\tNumber of matches made so far:  827484\n",
      "\tCovariates dropped so far:  set()\n",
      "\tPredictive error of covariate set used to match:  0.0014109739486449185\n",
      "Completed iteration 1 of matching\n",
      "\tNumber of matched groups formed in total:  1660\n",
      "\tUnmatched treated units:  5763 out of a total of  721837 treated units\n",
      "\tUnmatched control units:  46 out of a total of  111530 control units\n",
      "\tNumber of matches made this iteration:  74\n",
      "\tNumber of matches made so far:  827558\n",
      "\tCovariates dropped so far:  frozenset({'SEX'})\n",
      "\tPredictive error of covariate set used to match:  0.0014109765229733178\n",
      "827558 units matched. We stopped after iteration 1\n"
     ]
    }
   ],
   "source": [
    "model_new = dame_flame.matching.DAME(\n",
    "    repeats=False,\n",
    "    verbose=3,\n",
    "    want_pe=True,\n",
    "    stop_unmatched_t=True,\n",
    "    early_stop_iterations=1,  # Stop after iteration 1\n",
    ")\n",
    "model_new.fit(\n",
    "    insurance,\n",
    "    treatment_column_name=\"HINOTCOVE\",\n",
    "    outcome_column_name=\"CNLUNG\",\n",
    ")\n",
    "result_new = model_new.predict(insurance)"
   ]
  },
  {
   "cell_type": "code",
   "execution_count": 13,
   "metadata": {},
   "outputs": [],
   "source": [
    "def get_dataframe(model, result_of_fit):\n",
    "\n",
    "    # Get original data\n",
    "    better = model.input_data.loc[result_of_fit.index]\n",
    "    if not better.index.is_unique:\n",
    "        raise ValueError(\"Need index values in input data to be unique\")\n",
    "\n",
    "    # Get match groups for clustering\n",
    "    better[\"match_group\"] = np.nan\n",
    "    better[\"match_group_size\"] = np.nan\n",
    "    for idx, group in enumerate(model.units_per_group):\n",
    "        better.loc[group, \"match_group\"] = idx\n",
    "        better.loc[group, \"match_group_size\"] = len(group)\n",
    "\n",
    "    # Get weights. I THINK this is right?! At least for with repeat=False?\n",
    "    t = model.treatment_column_name\n",
    "    better[\"t_in_group\"] = better.groupby(\"match_group\")[t].transform(np.sum)\n",
    "\n",
    "    # Make weights\n",
    "    better[\"weights\"] = np.nan\n",
    "    better.loc[better[t] == 1, \"weights\"] = 1  # treaments are 1\n",
    "\n",
    "    # Controls start as proportional to num of treatments\n",
    "    # each observation is matched to.\n",
    "    better.loc[better[t] == 0, \"weights\"] = better[\"t_in_group\"] / (\n",
    "        better[\"match_group_size\"] - better[\"t_in_group\"]\n",
    "    )\n",
    "\n",
    "    # Then re-normalize for num unique control observations.\n",
    "    control_weights = better[better[t] == 0][\"weights\"].sum()\n",
    "\n",
    "    num_control_obs = len(better[better[t] == 0].index.drop_duplicates())\n",
    "    renormalization = num_control_obs / control_weights\n",
    "    better.loc[better[t] == 0, \"weights\"] = (\n",
    "        better.loc[better[t] == 0, \"weights\"] * renormalization\n",
    "    )\n",
    "    assert better.weights.notnull().all()\n",
    "\n",
    "    better = better.drop([\"t_in_group\"], axis=\"columns\")\n",
    "\n",
    "    # Make sure right length and values!\n",
    "    # assert len(result_of_fit) == len(better)\n",
    "    # assert better.loc[better[t] == 0, \"weights\"].sum() == num_control_obs\n",
    "\n",
    "    return better"
   ]
  },
  {
   "cell_type": "code",
   "execution_count": 14,
   "metadata": {},
   "outputs": [
    {
     "data": {
      "text/html": [
       "<div>\n",
       "<style scoped>\n",
       "    .dataframe tbody tr th:only-of-type {\n",
       "        vertical-align: middle;\n",
       "    }\n",
       "\n",
       "    .dataframe tbody tr th {\n",
       "        vertical-align: top;\n",
       "    }\n",
       "\n",
       "    .dataframe thead th {\n",
       "        text-align: right;\n",
       "    }\n",
       "</style>\n",
       "<table border=\"1\" class=\"dataframe\">\n",
       "  <thead>\n",
       "    <tr style=\"text-align: right;\">\n",
       "      <th></th>\n",
       "      <th>SEX</th>\n",
       "      <th>RACENEW</th>\n",
       "      <th>INCFAM97ON2</th>\n",
       "      <th>HINOTCOVE</th>\n",
       "      <th>CNLUNG</th>\n",
       "      <th>SMK</th>\n",
       "      <th>Occupation_Code</th>\n",
       "      <th>match_group</th>\n",
       "      <th>match_group_size</th>\n",
       "      <th>weights</th>\n",
       "    </tr>\n",
       "  </thead>\n",
       "  <tbody>\n",
       "    <tr>\n",
       "      <th>0</th>\n",
       "      <td>2</td>\n",
       "      <td>100</td>\n",
       "      <td>32</td>\n",
       "      <td>1</td>\n",
       "      <td>0</td>\n",
       "      <td>1</td>\n",
       "      <td>1</td>\n",
       "      <td>411.0</td>\n",
       "      <td>1070.0</td>\n",
       "      <td>1.000000</td>\n",
       "    </tr>\n",
       "    <tr>\n",
       "      <th>1</th>\n",
       "      <td>1</td>\n",
       "      <td>100</td>\n",
       "      <td>32</td>\n",
       "      <td>1</td>\n",
       "      <td>0</td>\n",
       "      <td>0</td>\n",
       "      <td>0</td>\n",
       "      <td>404.0</td>\n",
       "      <td>55916.0</td>\n",
       "      <td>1.000000</td>\n",
       "    </tr>\n",
       "    <tr>\n",
       "      <th>2</th>\n",
       "      <td>2</td>\n",
       "      <td>100</td>\n",
       "      <td>32</td>\n",
       "      <td>1</td>\n",
       "      <td>0</td>\n",
       "      <td>0</td>\n",
       "      <td>0</td>\n",
       "      <td>405.0</td>\n",
       "      <td>53084.0</td>\n",
       "      <td>1.000000</td>\n",
       "    </tr>\n",
       "    <tr>\n",
       "      <th>3</th>\n",
       "      <td>2</td>\n",
       "      <td>100</td>\n",
       "      <td>20</td>\n",
       "      <td>0</td>\n",
       "      <td>0</td>\n",
       "      <td>0</td>\n",
       "      <td>0</td>\n",
       "      <td>206.0</td>\n",
       "      <td>59285.0</td>\n",
       "      <td>0.939855</td>\n",
       "    </tr>\n",
       "    <tr>\n",
       "      <th>4</th>\n",
       "      <td>2</td>\n",
       "      <td>100</td>\n",
       "      <td>20</td>\n",
       "      <td>0</td>\n",
       "      <td>0</td>\n",
       "      <td>0</td>\n",
       "      <td>0</td>\n",
       "      <td>206.0</td>\n",
       "      <td>59285.0</td>\n",
       "      <td>0.939855</td>\n",
       "    </tr>\n",
       "  </tbody>\n",
       "</table>\n",
       "</div>"
      ],
      "text/plain": [
       "   SEX  RACENEW  INCFAM97ON2  HINOTCOVE  CNLUNG  SMK  Occupation_Code  \\\n",
       "0    2      100           32          1       0    1                1   \n",
       "1    1      100           32          1       0    0                0   \n",
       "2    2      100           32          1       0    0                0   \n",
       "3    2      100           20          0       0    0                0   \n",
       "4    2      100           20          0       0    0                0   \n",
       "\n",
       "   match_group  match_group_size   weights  \n",
       "0        411.0            1070.0  1.000000  \n",
       "1        404.0           55916.0  1.000000  \n",
       "2        405.0           53084.0  1.000000  \n",
       "3        206.0           59285.0  0.939855  \n",
       "4        206.0           59285.0  0.939855  "
      ]
     },
     "execution_count": 14,
     "metadata": {},
     "output_type": "execute_result"
    }
   ],
   "source": [
    "matched_data = get_dataframe(model_new, result_new)\n",
    "matched_data.head()"
   ]
  },
  {
   "cell_type": "code",
   "execution_count": 15,
   "metadata": {},
   "outputs": [
    {
     "data": {
      "text/plain": [
       "(827558, 10)"
      ]
     },
     "execution_count": 15,
     "metadata": {},
     "output_type": "execute_result"
    }
   ],
   "source": [
    "matched_data.shape"
   ]
  },
  {
   "cell_type": "code",
   "execution_count": 26,
   "metadata": {},
   "outputs": [
    {
     "name": "stdout",
     "output_type": "stream",
     "text": [
      "Count of each unique value in CNLUNG:\n",
      "CNLUNG\n",
      "0    826705\n",
      "1       853\n",
      "Name: count, dtype: int64\n"
     ]
    }
   ],
   "source": [
    "cnlung_counts = matched_data[\"CNLUNG\"].value_counts()\n",
    "\n",
    "print(\"Count of each unique value in CNLUNG:\")\n",
    "print(cnlung_counts)"
   ]
  },
  {
   "cell_type": "code",
   "execution_count": 16,
   "metadata": {},
   "outputs": [
    {
     "name": "stdout",
     "output_type": "stream",
     "text": [
      "Checking the Columns in matched data:\n"
     ]
    },
    {
     "data": {
      "text/plain": [
       "Index(['SEX', 'RACENEW', 'INCFAM97ON2', 'HINOTCOVE', 'CNLUNG', 'SMK',\n",
       "       'Occupation_Code', 'match_group', 'match_group_size', 'weights'],\n",
       "      dtype='object')"
      ]
     },
     "execution_count": 16,
     "metadata": {},
     "output_type": "execute_result"
    }
   ],
   "source": [
    "print(f\"Checking the Columns in matched data:\")\n",
    "matched_data.columns"
   ]
  },
  {
   "cell_type": "code",
   "execution_count": 21,
   "metadata": {},
   "outputs": [],
   "source": [
    "# Model with controls and robustness check\n",
    "model_with_controls = smf.wls(\n",
    "    \"CNLUNG ~ C(HINOTCOVE) + C(SEX) + C(RACENEW) + C(INCFAM97ON2) + C(SMK) + C(Occupation_Code)\",\n",
    "    data=matched_data,\n",
    "    weights=matched_data[\"weights\"],\n",
    ").fit(cov_type=\"HC3\")"
   ]
  },
  {
   "cell_type": "code",
   "execution_count": 22,
   "metadata": {},
   "outputs": [
    {
     "data": {
      "text/html": [
       "<table class=\"simpletable\">\n",
       "<caption>WLS Regression Results</caption>\n",
       "<tr>\n",
       "  <th>Dep. Variable:</th>         <td>CNLUNG</td>      <th>  R-squared:         </th>  <td>   0.006</td> \n",
       "</tr>\n",
       "<tr>\n",
       "  <th>Model:</th>                   <td>WLS</td>       <th>  Adj. R-squared:    </th>  <td>   0.006</td> \n",
       "</tr>\n",
       "<tr>\n",
       "  <th>Method:</th>             <td>Least Squares</td>  <th>  F-statistic:       </th>  <td>   23.40</td> \n",
       "</tr>\n",
       "<tr>\n",
       "  <th>Date:</th>             <td>Mon, 29 Apr 2024</td> <th>  Prob (F-statistic):</th>  <td>1.61e-153</td>\n",
       "</tr>\n",
       "<tr>\n",
       "  <th>Time:</th>                 <td>20:47:05</td>     <th>  Log-Likelihood:    </th> <td>1.6611e+06</td>\n",
       "</tr>\n",
       "<tr>\n",
       "  <th>No. Observations:</th>      <td>827558</td>      <th>  AIC:               </th> <td>-3.322e+06</td>\n",
       "</tr>\n",
       "<tr>\n",
       "  <th>Df Residuals:</th>          <td>827521</td>      <th>  BIC:               </th> <td>-3.322e+06</td>\n",
       "</tr>\n",
       "<tr>\n",
       "  <th>Df Model:</th>              <td>    36</td>      <th>                     </th>      <td> </td>    \n",
       "</tr>\n",
       "<tr>\n",
       "  <th>Covariance Type:</th>         <td>HC3</td>       <th>                     </th>      <td> </td>    \n",
       "</tr>\n",
       "</table>\n",
       "<table class=\"simpletable\">\n",
       "<tr>\n",
       "              <td></td>                <th>coef</th>     <th>std err</th>      <th>z</th>      <th>P>|z|</th>  <th>[0.025</th>    <th>0.975]</th>  \n",
       "</tr>\n",
       "<tr>\n",
       "  <th>Intercept</th>                <td>   -0.0007</td> <td>    0.000</td> <td>   -5.975</td> <td> 0.000</td> <td>   -0.001</td> <td>   -0.000</td>\n",
       "</tr>\n",
       "<tr>\n",
       "  <th>C(SEX)[T.2]</th>              <td>    0.0002</td> <td> 6.45e-05</td> <td>    3.544</td> <td> 0.000</td> <td>    0.000</td> <td>    0.000</td>\n",
       "</tr>\n",
       "<tr>\n",
       "  <th>C(RACENEW)[T.200]</th>        <td>   -0.0002</td> <td>    0.000</td> <td>   -1.996</td> <td> 0.046</td> <td>   -0.000</td> <td>-3.61e-06</td>\n",
       "</tr>\n",
       "<tr>\n",
       "  <th>C(RACENEW)[T.300]</th>        <td>   -0.0006</td> <td>    0.000</td> <td>   -2.296</td> <td> 0.022</td> <td>   -0.001</td> <td>-8.23e-05</td>\n",
       "</tr>\n",
       "<tr>\n",
       "  <th>C(RACENEW)[T.400]</th>        <td>   -0.0002</td> <td> 8.83e-05</td> <td>   -2.343</td> <td> 0.019</td> <td>   -0.000</td> <td>-3.38e-05</td>\n",
       "</tr>\n",
       "<tr>\n",
       "  <th>C(RACENEW)[T.530]</th>        <td>   -0.0003</td> <td> 3.92e-05</td> <td>   -8.796</td> <td> 0.000</td> <td>   -0.000</td> <td>   -0.000</td>\n",
       "</tr>\n",
       "<tr>\n",
       "  <th>C(RACENEW)[T.541]</th>        <td>   -0.0001</td> <td>    0.000</td> <td>   -0.637</td> <td> 0.524</td> <td>   -0.000</td> <td>    0.000</td>\n",
       "</tr>\n",
       "<tr>\n",
       "  <th>C(INCFAM97ON2)[T.10]</th>     <td>    0.0003</td> <td>    0.000</td> <td>    2.257</td> <td> 0.024</td> <td> 3.92e-05</td> <td>    0.001</td>\n",
       "</tr>\n",
       "<tr>\n",
       "  <th>C(INCFAM97ON2)[T.20]</th>     <td>   -0.0002</td> <td>    0.000</td> <td>   -2.081</td> <td> 0.037</td> <td>   -0.000</td> <td>-1.44e-05</td>\n",
       "</tr>\n",
       "<tr>\n",
       "  <th>C(INCFAM97ON2)[T.31]</th>     <td>   -0.0004</td> <td>    0.000</td> <td>   -3.180</td> <td> 0.001</td> <td>   -0.001</td> <td>   -0.000</td>\n",
       "</tr>\n",
       "<tr>\n",
       "  <th>C(INCFAM97ON2)[T.32]</th>     <td>   -0.0006</td> <td>    0.000</td> <td>   -5.339</td> <td> 0.000</td> <td>   -0.001</td> <td>   -0.000</td>\n",
       "</tr>\n",
       "<tr>\n",
       "  <th>C(SMK)[T.1]</th>              <td>    0.0071</td> <td>    0.001</td> <td>   14.080</td> <td> 0.000</td> <td>    0.006</td> <td>    0.008</td>\n",
       "</tr>\n",
       "<tr>\n",
       "  <th>C(SMK)[T.2]</th>              <td>    0.0010</td> <td>    0.000</td> <td>    2.332</td> <td> 0.020</td> <td>    0.000</td> <td>    0.002</td>\n",
       "</tr>\n",
       "<tr>\n",
       "  <th>C(Occupation_Code)[T.1]</th>  <td>  8.11e-07</td> <td>    0.001</td> <td>    0.002</td> <td> 0.999</td> <td>   -0.001</td> <td>    0.001</td>\n",
       "</tr>\n",
       "<tr>\n",
       "  <th>C(Occupation_Code)[T.2]</th>  <td>    0.0006</td> <td>    0.001</td> <td>    0.950</td> <td> 0.342</td> <td>   -0.001</td> <td>    0.002</td>\n",
       "</tr>\n",
       "<tr>\n",
       "  <th>C(Occupation_Code)[T.3]</th>  <td>   -0.0007</td> <td>    0.001</td> <td>   -1.227</td> <td> 0.220</td> <td>   -0.002</td> <td>    0.000</td>\n",
       "</tr>\n",
       "<tr>\n",
       "  <th>C(Occupation_Code)[T.4]</th>  <td>    0.0024</td> <td>    0.001</td> <td>    3.245</td> <td> 0.001</td> <td>    0.001</td> <td>    0.004</td>\n",
       "</tr>\n",
       "<tr>\n",
       "  <th>C(Occupation_Code)[T.5]</th>  <td>   -0.0004</td> <td>    0.001</td> <td>   -0.814</td> <td> 0.416</td> <td>   -0.002</td> <td>    0.001</td>\n",
       "</tr>\n",
       "<tr>\n",
       "  <th>C(Occupation_Code)[T.6]</th>  <td>    0.0004</td> <td>    0.001</td> <td>    0.516</td> <td> 0.606</td> <td>   -0.001</td> <td>    0.002</td>\n",
       "</tr>\n",
       "<tr>\n",
       "  <th>C(Occupation_Code)[T.7]</th>  <td> 4.663e-05</td> <td>    0.001</td> <td>    0.074</td> <td> 0.941</td> <td>   -0.001</td> <td>    0.001</td>\n",
       "</tr>\n",
       "<tr>\n",
       "  <th>C(Occupation_Code)[T.8]</th>  <td>   -0.0003</td> <td>    0.001</td> <td>   -0.443</td> <td> 0.658</td> <td>   -0.002</td> <td>    0.001</td>\n",
       "</tr>\n",
       "<tr>\n",
       "  <th>C(Occupation_Code)[T.9]</th>  <td>   -0.0002</td> <td>    0.001</td> <td>   -0.215</td> <td> 0.830</td> <td>   -0.002</td> <td>    0.001</td>\n",
       "</tr>\n",
       "<tr>\n",
       "  <th>C(Occupation_Code)[T.10]</th> <td>   -0.0010</td> <td>    0.001</td> <td>   -1.473</td> <td> 0.141</td> <td>   -0.002</td> <td>    0.000</td>\n",
       "</tr>\n",
       "<tr>\n",
       "  <th>C(Occupation_Code)[T.11]</th> <td>    0.0004</td> <td>    0.001</td> <td>    0.455</td> <td> 0.649</td> <td>   -0.001</td> <td>    0.002</td>\n",
       "</tr>\n",
       "<tr>\n",
       "  <th>C(Occupation_Code)[T.12]</th> <td>    0.0012</td> <td>    0.001</td> <td>    1.237</td> <td> 0.216</td> <td>   -0.001</td> <td>    0.003</td>\n",
       "</tr>\n",
       "<tr>\n",
       "  <th>C(Occupation_Code)[T.13]</th> <td>   -0.0014</td> <td>    0.001</td> <td>   -2.213</td> <td> 0.027</td> <td>   -0.003</td> <td>   -0.000</td>\n",
       "</tr>\n",
       "<tr>\n",
       "  <th>C(Occupation_Code)[T.14]</th> <td>   -0.0007</td> <td>    0.001</td> <td>   -0.937</td> <td> 0.349</td> <td>   -0.002</td> <td>    0.001</td>\n",
       "</tr>\n",
       "<tr>\n",
       "  <th>C(Occupation_Code)[T.15]</th> <td>-9.309e-05</td> <td>    0.001</td> <td>   -0.105</td> <td> 0.916</td> <td>   -0.002</td> <td>    0.002</td>\n",
       "</tr>\n",
       "<tr>\n",
       "  <th>C(Occupation_Code)[T.16]</th> <td>   -0.0005</td> <td>    0.001</td> <td>   -0.625</td> <td> 0.532</td> <td>   -0.002</td> <td>    0.001</td>\n",
       "</tr>\n",
       "<tr>\n",
       "  <th>C(Occupation_Code)[T.17]</th> <td>   -0.0007</td> <td>    0.001</td> <td>   -0.812</td> <td> 0.417</td> <td>   -0.002</td> <td>    0.001</td>\n",
       "</tr>\n",
       "<tr>\n",
       "  <th>C(Occupation_Code)[T.18]</th> <td>   -0.0010</td> <td>    0.001</td> <td>   -1.312</td> <td> 0.190</td> <td>   -0.003</td> <td>    0.001</td>\n",
       "</tr>\n",
       "<tr>\n",
       "  <th>C(Occupation_Code)[T.21]</th> <td>   -0.0011</td> <td>    0.001</td> <td>   -1.803</td> <td> 0.071</td> <td>   -0.002</td> <td> 9.93e-05</td>\n",
       "</tr>\n",
       "<tr>\n",
       "  <th>C(Occupation_Code)[T.23]</th> <td>   -0.0015</td> <td>    0.001</td> <td>   -1.633</td> <td> 0.102</td> <td>   -0.003</td> <td>    0.000</td>\n",
       "</tr>\n",
       "<tr>\n",
       "  <th>C(Occupation_Code)[T.24]</th> <td>    0.0103</td> <td>    0.005</td> <td>    2.243</td> <td> 0.025</td> <td>    0.001</td> <td>    0.019</td>\n",
       "</tr>\n",
       "<tr>\n",
       "  <th>C(Occupation_Code)[T.26]</th> <td> 6.922e-05</td> <td>    0.001</td> <td>    0.059</td> <td> 0.953</td> <td>   -0.002</td> <td>    0.002</td>\n",
       "</tr>\n",
       "<tr>\n",
       "  <th>C(Occupation_Code)[T.28]</th> <td>   -0.0001</td> <td>    0.001</td> <td>   -0.097</td> <td> 0.922</td> <td>   -0.003</td> <td>    0.003</td>\n",
       "</tr>\n",
       "<tr>\n",
       "  <th>HINOTCOVE</th>                <td>    0.0010</td> <td> 6.21e-05</td> <td>   15.390</td> <td> 0.000</td> <td>    0.001</td> <td>    0.001</td>\n",
       "</tr>\n",
       "</table>\n",
       "<table class=\"simpletable\">\n",
       "<tr>\n",
       "  <th>Omnibus:</th>       <td>2159103.026</td> <th>  Durbin-Watson:     </th>    <td>   2.002</td>    \n",
       "</tr>\n",
       "<tr>\n",
       "  <th>Prob(Omnibus):</th>   <td> 0.000</td>    <th>  Jarque-Bera (JB):  </th> <td>32287965242.669</td>\n",
       "</tr>\n",
       "<tr>\n",
       "  <th>Skew:</th>            <td>30.971</td>    <th>  Prob(JB):          </th>    <td>    0.00</td>    \n",
       "</tr>\n",
       "<tr>\n",
       "  <th>Kurtosis:</th>        <td>968.684</td>   <th>  Cond. No.          </th>    <td>    60.0</td>    \n",
       "</tr>\n",
       "</table><br/><br/>Notes:<br/>[1] Standard Errors are heteroscedasticity robust (HC3)"
      ],
      "text/latex": [
       "\\begin{center}\n",
       "\\begin{tabular}{lclc}\n",
       "\\toprule\n",
       "\\textbf{Dep. Variable:}            &      CNLUNG      & \\textbf{  R-squared:         } &        0.006     \\\\\n",
       "\\textbf{Model:}                    &       WLS        & \\textbf{  Adj. R-squared:    } &        0.006     \\\\\n",
       "\\textbf{Method:}                   &  Least Squares   & \\textbf{  F-statistic:       } &        23.40     \\\\\n",
       "\\textbf{Date:}                     & Mon, 29 Apr 2024 & \\textbf{  Prob (F-statistic):} &    1.61e-153     \\\\\n",
       "\\textbf{Time:}                     &     20:47:05     & \\textbf{  Log-Likelihood:    } &    1.6611e+06    \\\\\n",
       "\\textbf{No. Observations:}         &      827558      & \\textbf{  AIC:               } &    -3.322e+06    \\\\\n",
       "\\textbf{Df Residuals:}             &      827521      & \\textbf{  BIC:               } &    -3.322e+06    \\\\\n",
       "\\textbf{Df Model:}                 &          36      & \\textbf{                     } &                  \\\\\n",
       "\\textbf{Covariance Type:}          &       HC3        & \\textbf{                     } &                  \\\\\n",
       "\\bottomrule\n",
       "\\end{tabular}\n",
       "\\begin{tabular}{lcccccc}\n",
       "                                   & \\textbf{coef} & \\textbf{std err} & \\textbf{z} & \\textbf{P$> |$z$|$} & \\textbf{[0.025} & \\textbf{0.975]}  \\\\\n",
       "\\midrule\n",
       "\\textbf{Intercept}                 &      -0.0007  &        0.000     &    -5.975  &         0.000        &       -0.001    &       -0.000     \\\\\n",
       "\\textbf{C(SEX)[T.2]}               &       0.0002  &     6.45e-05     &     3.544  &         0.000        &        0.000    &        0.000     \\\\\n",
       "\\textbf{C(RACENEW)[T.200]}         &      -0.0002  &        0.000     &    -1.996  &         0.046        &       -0.000    &    -3.61e-06     \\\\\n",
       "\\textbf{C(RACENEW)[T.300]}         &      -0.0006  &        0.000     &    -2.296  &         0.022        &       -0.001    &    -8.23e-05     \\\\\n",
       "\\textbf{C(RACENEW)[T.400]}         &      -0.0002  &     8.83e-05     &    -2.343  &         0.019        &       -0.000    &    -3.38e-05     \\\\\n",
       "\\textbf{C(RACENEW)[T.530]}         &      -0.0003  &     3.92e-05     &    -8.796  &         0.000        &       -0.000    &       -0.000     \\\\\n",
       "\\textbf{C(RACENEW)[T.541]}         &      -0.0001  &        0.000     &    -0.637  &         0.524        &       -0.000    &        0.000     \\\\\n",
       "\\textbf{C(INCFAM97ON2)[T.10]}      &       0.0003  &        0.000     &     2.257  &         0.024        &     3.92e-05    &        0.001     \\\\\n",
       "\\textbf{C(INCFAM97ON2)[T.20]}      &      -0.0002  &        0.000     &    -2.081  &         0.037        &       -0.000    &    -1.44e-05     \\\\\n",
       "\\textbf{C(INCFAM97ON2)[T.31]}      &      -0.0004  &        0.000     &    -3.180  &         0.001        &       -0.001    &       -0.000     \\\\\n",
       "\\textbf{C(INCFAM97ON2)[T.32]}      &      -0.0006  &        0.000     &    -5.339  &         0.000        &       -0.001    &       -0.000     \\\\\n",
       "\\textbf{C(SMK)[T.1]}               &       0.0071  &        0.001     &    14.080  &         0.000        &        0.006    &        0.008     \\\\\n",
       "\\textbf{C(SMK)[T.2]}               &       0.0010  &        0.000     &     2.332  &         0.020        &        0.000    &        0.002     \\\\\n",
       "\\textbf{C(Occupation\\_Code)[T.1]}  &     8.11e-07  &        0.001     &     0.002  &         0.999        &       -0.001    &        0.001     \\\\\n",
       "\\textbf{C(Occupation\\_Code)[T.2]}  &       0.0006  &        0.001     &     0.950  &         0.342        &       -0.001    &        0.002     \\\\\n",
       "\\textbf{C(Occupation\\_Code)[T.3]}  &      -0.0007  &        0.001     &    -1.227  &         0.220        &       -0.002    &        0.000     \\\\\n",
       "\\textbf{C(Occupation\\_Code)[T.4]}  &       0.0024  &        0.001     &     3.245  &         0.001        &        0.001    &        0.004     \\\\\n",
       "\\textbf{C(Occupation\\_Code)[T.5]}  &      -0.0004  &        0.001     &    -0.814  &         0.416        &       -0.002    &        0.001     \\\\\n",
       "\\textbf{C(Occupation\\_Code)[T.6]}  &       0.0004  &        0.001     &     0.516  &         0.606        &       -0.001    &        0.002     \\\\\n",
       "\\textbf{C(Occupation\\_Code)[T.7]}  &    4.663e-05  &        0.001     &     0.074  &         0.941        &       -0.001    &        0.001     \\\\\n",
       "\\textbf{C(Occupation\\_Code)[T.8]}  &      -0.0003  &        0.001     &    -0.443  &         0.658        &       -0.002    &        0.001     \\\\\n",
       "\\textbf{C(Occupation\\_Code)[T.9]}  &      -0.0002  &        0.001     &    -0.215  &         0.830        &       -0.002    &        0.001     \\\\\n",
       "\\textbf{C(Occupation\\_Code)[T.10]} &      -0.0010  &        0.001     &    -1.473  &         0.141        &       -0.002    &        0.000     \\\\\n",
       "\\textbf{C(Occupation\\_Code)[T.11]} &       0.0004  &        0.001     &     0.455  &         0.649        &       -0.001    &        0.002     \\\\\n",
       "\\textbf{C(Occupation\\_Code)[T.12]} &       0.0012  &        0.001     &     1.237  &         0.216        &       -0.001    &        0.003     \\\\\n",
       "\\textbf{C(Occupation\\_Code)[T.13]} &      -0.0014  &        0.001     &    -2.213  &         0.027        &       -0.003    &       -0.000     \\\\\n",
       "\\textbf{C(Occupation\\_Code)[T.14]} &      -0.0007  &        0.001     &    -0.937  &         0.349        &       -0.002    &        0.001     \\\\\n",
       "\\textbf{C(Occupation\\_Code)[T.15]} &   -9.309e-05  &        0.001     &    -0.105  &         0.916        &       -0.002    &        0.002     \\\\\n",
       "\\textbf{C(Occupation\\_Code)[T.16]} &      -0.0005  &        0.001     &    -0.625  &         0.532        &       -0.002    &        0.001     \\\\\n",
       "\\textbf{C(Occupation\\_Code)[T.17]} &      -0.0007  &        0.001     &    -0.812  &         0.417        &       -0.002    &        0.001     \\\\\n",
       "\\textbf{C(Occupation\\_Code)[T.18]} &      -0.0010  &        0.001     &    -1.312  &         0.190        &       -0.003    &        0.001     \\\\\n",
       "\\textbf{C(Occupation\\_Code)[T.21]} &      -0.0011  &        0.001     &    -1.803  &         0.071        &       -0.002    &     9.93e-05     \\\\\n",
       "\\textbf{C(Occupation\\_Code)[T.23]} &      -0.0015  &        0.001     &    -1.633  &         0.102        &       -0.003    &        0.000     \\\\\n",
       "\\textbf{C(Occupation\\_Code)[T.24]} &       0.0103  &        0.005     &     2.243  &         0.025        &        0.001    &        0.019     \\\\\n",
       "\\textbf{C(Occupation\\_Code)[T.26]} &    6.922e-05  &        0.001     &     0.059  &         0.953        &       -0.002    &        0.002     \\\\\n",
       "\\textbf{C(Occupation\\_Code)[T.28]} &      -0.0001  &        0.001     &    -0.097  &         0.922        &       -0.003    &        0.003     \\\\\n",
       "\\textbf{HINOTCOVE}                 &       0.0010  &     6.21e-05     &    15.390  &         0.000        &        0.001    &        0.001     \\\\\n",
       "\\bottomrule\n",
       "\\end{tabular}\n",
       "\\begin{tabular}{lclc}\n",
       "\\textbf{Omnibus:}       & 2159103.026 & \\textbf{  Durbin-Watson:     } &        2.002     \\\\\n",
       "\\textbf{Prob(Omnibus):} &     0.000   & \\textbf{  Jarque-Bera (JB):  } & 32287965242.669  \\\\\n",
       "\\textbf{Skew:}          &    30.971   & \\textbf{  Prob(JB):          } &         0.00     \\\\\n",
       "\\textbf{Kurtosis:}      &   968.684   & \\textbf{  Cond. No.          } &         60.0     \\\\\n",
       "\\bottomrule\n",
       "\\end{tabular}\n",
       "%\\caption{WLS Regression Results}\n",
       "\\end{center}\n",
       "\n",
       "Notes: \\newline\n",
       " [1] Standard Errors are heteroscedasticity robust (HC3)"
      ],
      "text/plain": [
       "<class 'statsmodels.iolib.summary.Summary'>\n",
       "\"\"\"\n",
       "                            WLS Regression Results                            \n",
       "==============================================================================\n",
       "Dep. Variable:                 CNLUNG   R-squared:                       0.006\n",
       "Model:                            WLS   Adj. R-squared:                  0.006\n",
       "Method:                 Least Squares   F-statistic:                     23.40\n",
       "Date:                Mon, 29 Apr 2024   Prob (F-statistic):          1.61e-153\n",
       "Time:                        20:47:05   Log-Likelihood:             1.6611e+06\n",
       "No. Observations:              827558   AIC:                        -3.322e+06\n",
       "Df Residuals:                  827521   BIC:                        -3.322e+06\n",
       "Df Model:                          36                                         \n",
       "Covariance Type:                  HC3                                         \n",
       "============================================================================================\n",
       "                               coef    std err          z      P>|z|      [0.025      0.975]\n",
       "--------------------------------------------------------------------------------------------\n",
       "Intercept                   -0.0007      0.000     -5.975      0.000      -0.001      -0.000\n",
       "C(SEX)[T.2]                  0.0002   6.45e-05      3.544      0.000       0.000       0.000\n",
       "C(RACENEW)[T.200]           -0.0002      0.000     -1.996      0.046      -0.000   -3.61e-06\n",
       "C(RACENEW)[T.300]           -0.0006      0.000     -2.296      0.022      -0.001   -8.23e-05\n",
       "C(RACENEW)[T.400]           -0.0002   8.83e-05     -2.343      0.019      -0.000   -3.38e-05\n",
       "C(RACENEW)[T.530]           -0.0003   3.92e-05     -8.796      0.000      -0.000      -0.000\n",
       "C(RACENEW)[T.541]           -0.0001      0.000     -0.637      0.524      -0.000       0.000\n",
       "C(INCFAM97ON2)[T.10]         0.0003      0.000      2.257      0.024    3.92e-05       0.001\n",
       "C(INCFAM97ON2)[T.20]        -0.0002      0.000     -2.081      0.037      -0.000   -1.44e-05\n",
       "C(INCFAM97ON2)[T.31]        -0.0004      0.000     -3.180      0.001      -0.001      -0.000\n",
       "C(INCFAM97ON2)[T.32]        -0.0006      0.000     -5.339      0.000      -0.001      -0.000\n",
       "C(SMK)[T.1]                  0.0071      0.001     14.080      0.000       0.006       0.008\n",
       "C(SMK)[T.2]                  0.0010      0.000      2.332      0.020       0.000       0.002\n",
       "C(Occupation_Code)[T.1]    8.11e-07      0.001      0.002      0.999      -0.001       0.001\n",
       "C(Occupation_Code)[T.2]      0.0006      0.001      0.950      0.342      -0.001       0.002\n",
       "C(Occupation_Code)[T.3]     -0.0007      0.001     -1.227      0.220      -0.002       0.000\n",
       "C(Occupation_Code)[T.4]      0.0024      0.001      3.245      0.001       0.001       0.004\n",
       "C(Occupation_Code)[T.5]     -0.0004      0.001     -0.814      0.416      -0.002       0.001\n",
       "C(Occupation_Code)[T.6]      0.0004      0.001      0.516      0.606      -0.001       0.002\n",
       "C(Occupation_Code)[T.7]   4.663e-05      0.001      0.074      0.941      -0.001       0.001\n",
       "C(Occupation_Code)[T.8]     -0.0003      0.001     -0.443      0.658      -0.002       0.001\n",
       "C(Occupation_Code)[T.9]     -0.0002      0.001     -0.215      0.830      -0.002       0.001\n",
       "C(Occupation_Code)[T.10]    -0.0010      0.001     -1.473      0.141      -0.002       0.000\n",
       "C(Occupation_Code)[T.11]     0.0004      0.001      0.455      0.649      -0.001       0.002\n",
       "C(Occupation_Code)[T.12]     0.0012      0.001      1.237      0.216      -0.001       0.003\n",
       "C(Occupation_Code)[T.13]    -0.0014      0.001     -2.213      0.027      -0.003      -0.000\n",
       "C(Occupation_Code)[T.14]    -0.0007      0.001     -0.937      0.349      -0.002       0.001\n",
       "C(Occupation_Code)[T.15] -9.309e-05      0.001     -0.105      0.916      -0.002       0.002\n",
       "C(Occupation_Code)[T.16]    -0.0005      0.001     -0.625      0.532      -0.002       0.001\n",
       "C(Occupation_Code)[T.17]    -0.0007      0.001     -0.812      0.417      -0.002       0.001\n",
       "C(Occupation_Code)[T.18]    -0.0010      0.001     -1.312      0.190      -0.003       0.001\n",
       "C(Occupation_Code)[T.21]    -0.0011      0.001     -1.803      0.071      -0.002    9.93e-05\n",
       "C(Occupation_Code)[T.23]    -0.0015      0.001     -1.633      0.102      -0.003       0.000\n",
       "C(Occupation_Code)[T.24]     0.0103      0.005      2.243      0.025       0.001       0.019\n",
       "C(Occupation_Code)[T.26]  6.922e-05      0.001      0.059      0.953      -0.002       0.002\n",
       "C(Occupation_Code)[T.28]    -0.0001      0.001     -0.097      0.922      -0.003       0.003\n",
       "HINOTCOVE                    0.0010   6.21e-05     15.390      0.000       0.001       0.001\n",
       "==============================================================================\n",
       "Omnibus:                  2159103.026   Durbin-Watson:                   2.002\n",
       "Prob(Omnibus):                  0.000   Jarque-Bera (JB):      32287965242.669\n",
       "Skew:                          30.971   Prob(JB):                         0.00\n",
       "Kurtosis:                     968.684   Cond. No.                         60.0\n",
       "==============================================================================\n",
       "\n",
       "Notes:\n",
       "[1] Standard Errors are heteroscedasticity robust (HC3)\n",
       "\"\"\""
      ]
     },
     "execution_count": 22,
     "metadata": {},
     "output_type": "execute_result"
    }
   ],
   "source": [
    "model_with_controls.summary()"
   ]
  },
  {
   "cell_type": "code",
   "execution_count": 24,
   "metadata": {},
   "outputs": [
    {
     "name": "stdout",
     "output_type": "stream",
     "text": [
      "Coefficient for 'HINOTCOVE' with controls: 0.0010\n"
     ]
    }
   ],
   "source": [
    "# To get the coefficient for the 'HINOTCOVE' variable\n",
    "insurance_coefficient_control = model_with_controls.params[\"HINOTCOVE\"]\n",
    "print(f\"Coefficient for 'HINOTCOVE' with controls: {insurance_coefficient_control:.4f}\")"
   ]
  },
  {
   "cell_type": "code",
   "execution_count": 25,
   "metadata": {},
   "outputs": [
    {
     "name": "stdout",
     "output_type": "stream",
     "text": [
      "P-value for 'HINOTCOVE' with controls: 0.0000\n"
     ]
    }
   ],
   "source": [
    "# To get the p-value for the coefficient of 'HINOTCOVE' variable\n",
    "insurance_p_value_control = model_with_controls.pvalues[\"HINOTCOVE\"]\n",
    "print(f\"P-value for 'HINOTCOVE' with controls: {insurance_p_value_control:.4f}\")"
   ]
  },
  {
   "cell_type": "markdown",
   "metadata": {},
   "source": [
    ">- The coefficient for 'HINOTCOVE' with controls (0.0010) suggests that, after controlling for other variables, there is a positive association between having insurance coverage and the outcome variable (lung cancer diagnosis status). \n",
    ">- The p-value is less than the conventional threshold of 0.05, suggesting that the estimated effect of insurance coverage on lung cancer diagnosis is statistically significant.\n",
    ">- There is evidence to support the hypothesis that having insurance coverage increases the likelihood of lung cancer diagnosis, after controlling for other covariates and potential confounders."
   ]
  }
 ],
 "metadata": {
  "kernelspec": {
   "display_name": "base",
   "language": "python",
   "name": "python3"
  },
  "language_info": {
   "codemirror_mode": {
    "name": "ipython",
    "version": 3
   },
   "file_extension": ".py",
   "mimetype": "text/x-python",
   "name": "python",
   "nbconvert_exporter": "python",
   "pygments_lexer": "ipython3",
   "version": "3.11.5"
  }
 },
 "nbformat": 4,
 "nbformat_minor": 2
}
