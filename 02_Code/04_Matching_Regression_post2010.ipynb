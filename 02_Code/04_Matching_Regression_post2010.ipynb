{
 "cells": [
  {
   "cell_type": "code",
   "execution_count": 41,
   "metadata": {},
   "outputs": [],
   "source": [
    "import pandas as pd\n",
    "import numpy as np\n",
    "import warnings\n",
    "import matplotlib.pyplot as plt\n",
    "from statsmodels.stats.power import TTestIndPower\n",
    "import statsmodels.api as sm\n",
    "from scipy import stats\n",
    "import statsmodels.formula.api as smf\n",
    "from scipy.stats import chi2_contingency\n",
    "import matplotlib.pyplot as plt\n",
    "from numpy.polynomial.polynomial import Polynomial\n",
    "\n",
    "warnings.filterwarnings(\"ignore\")\n",
    "\n",
    "pd.set_option(\"mode.copy_on_write\", True)"
   ]
  },
  {
   "cell_type": "code",
   "execution_count": 42,
   "metadata": {},
   "outputs": [],
   "source": [
    "insurance = pd.read_csv(\"after_Obamacare.csv\")"
   ]
  },
  {
   "cell_type": "code",
   "execution_count": 43,
   "metadata": {},
   "outputs": [
    {
     "data": {
      "text/plain": [
       "(27684, 8)"
      ]
     },
     "execution_count": 43,
     "metadata": {},
     "output_type": "execute_result"
    }
   ],
   "source": [
    "insurance.shape"
   ]
  },
  {
   "cell_type": "markdown",
   "metadata": {},
   "source": [
    "> Drop the year variable "
   ]
  },
  {
   "cell_type": "code",
   "execution_count": 44,
   "metadata": {},
   "outputs": [],
   "source": [
    "# Drop the 'YEAR' variable\n",
    "insurance = insurance.drop(columns=[\"YEAR\"])"
   ]
  },
  {
   "cell_type": "code",
   "execution_count": 45,
   "metadata": {},
   "outputs": [
    {
     "data": {
      "text/html": [
       "<div>\n",
       "<style scoped>\n",
       "    .dataframe tbody tr th:only-of-type {\n",
       "        vertical-align: middle;\n",
       "    }\n",
       "\n",
       "    .dataframe tbody tr th {\n",
       "        vertical-align: top;\n",
       "    }\n",
       "\n",
       "    .dataframe thead th {\n",
       "        text-align: right;\n",
       "    }\n",
       "</style>\n",
       "<table border=\"1\" class=\"dataframe\">\n",
       "  <thead>\n",
       "    <tr style=\"text-align: right;\">\n",
       "      <th></th>\n",
       "      <th>SEX</th>\n",
       "      <th>RACENEW</th>\n",
       "      <th>INCFAM97ON2</th>\n",
       "      <th>HINOTCOVE</th>\n",
       "      <th>CNLUNG</th>\n",
       "      <th>SMK</th>\n",
       "      <th>Occupation_Code</th>\n",
       "    </tr>\n",
       "  </thead>\n",
       "  <tbody>\n",
       "    <tr>\n",
       "      <th>0</th>\n",
       "      <td>1</td>\n",
       "      <td>100.0</td>\n",
       "      <td>20.0</td>\n",
       "      <td>1.0</td>\n",
       "      <td>1.0</td>\n",
       "      <td>1</td>\n",
       "      <td>3</td>\n",
       "    </tr>\n",
       "    <tr>\n",
       "      <th>1</th>\n",
       "      <td>1</td>\n",
       "      <td>100.0</td>\n",
       "      <td>32.0</td>\n",
       "      <td>1.0</td>\n",
       "      <td>1.0</td>\n",
       "      <td>2</td>\n",
       "      <td>5</td>\n",
       "    </tr>\n",
       "    <tr>\n",
       "      <th>2</th>\n",
       "      <td>2</td>\n",
       "      <td>100.0</td>\n",
       "      <td>10.0</td>\n",
       "      <td>1.0</td>\n",
       "      <td>1.0</td>\n",
       "      <td>1</td>\n",
       "      <td>1</td>\n",
       "    </tr>\n",
       "    <tr>\n",
       "      <th>3</th>\n",
       "      <td>1</td>\n",
       "      <td>100.0</td>\n",
       "      <td>32.0</td>\n",
       "      <td>1.0</td>\n",
       "      <td>1.0</td>\n",
       "      <td>1</td>\n",
       "      <td>8</td>\n",
       "    </tr>\n",
       "    <tr>\n",
       "      <th>4</th>\n",
       "      <td>1</td>\n",
       "      <td>100.0</td>\n",
       "      <td>20.0</td>\n",
       "      <td>1.0</td>\n",
       "      <td>1.0</td>\n",
       "      <td>1</td>\n",
       "      <td>2</td>\n",
       "    </tr>\n",
       "  </tbody>\n",
       "</table>\n",
       "</div>"
      ],
      "text/plain": [
       "   SEX  RACENEW  INCFAM97ON2  HINOTCOVE  CNLUNG  SMK  Occupation_Code\n",
       "0    1    100.0         20.0        1.0     1.0    1                3\n",
       "1    1    100.0         32.0        1.0     1.0    2                5\n",
       "2    2    100.0         10.0        1.0     1.0    1                1\n",
       "3    1    100.0         32.0        1.0     1.0    1                8\n",
       "4    1    100.0         20.0        1.0     1.0    1                2"
      ]
     },
     "execution_count": 45,
     "metadata": {},
     "output_type": "execute_result"
    }
   ],
   "source": [
    "insurance.head()"
   ]
  },
  {
   "cell_type": "markdown",
   "metadata": {},
   "source": [
    "## Matching"
   ]
  },
  {
   "cell_type": "code",
   "execution_count": 46,
   "metadata": {},
   "outputs": [],
   "source": [
    "# Convert all columns to integer type\n",
    "insurance = insurance.astype(int)"
   ]
  },
  {
   "cell_type": "code",
   "execution_count": 47,
   "metadata": {},
   "outputs": [
    {
     "name": "stdout",
     "output_type": "stream",
     "text": [
      "Data types of each variable in the DataFrame:\n",
      "SEX                int64\n",
      "RACENEW            int64\n",
      "INCFAM97ON2        int64\n",
      "HINOTCOVE          int64\n",
      "CNLUNG             int64\n",
      "SMK                int64\n",
      "Occupation_Code    int64\n",
      "dtype: object\n"
     ]
    }
   ],
   "source": [
    "# Display the data types of each column in the DataFrame\n",
    "print(\"Data types of each variable in the DataFrame:\")\n",
    "print(insurance.dtypes)"
   ]
  },
  {
   "cell_type": "code",
   "execution_count": 48,
   "metadata": {},
   "outputs": [
    {
     "name": "stdout",
     "output_type": "stream",
     "text": [
      "[1 0]\n"
     ]
    }
   ],
   "source": [
    "# Map 1 to 1 and 2 to 0 in the \"HINOTCOVE\" column\n",
    "insurance[\"HINOTCOVE\"] = insurance[\"HINOTCOVE\"].map({1: 1, 2: 0})\n",
    "\n",
    "# Check unique values in the \"HINOTCOVE\" column after mapping\n",
    "unique_values = insurance[\"HINOTCOVE\"].unique()\n",
    "print(unique_values)"
   ]
  },
  {
   "cell_type": "code",
   "execution_count": 49,
   "metadata": {},
   "outputs": [
    {
     "name": "stdout",
     "output_type": "stream",
     "text": [
      "[0 1]\n"
     ]
    }
   ],
   "source": [
    "# Map 1 to 0 and 2 to 1 in the \"CNLUNG\" column\n",
    "insurance[\"CNLUNG\"] = insurance[\"CNLUNG\"].map({1: 0, 2: 1})\n",
    "\n",
    "# Check unique values in the \"CNLUNG\" column after mapping\n",
    "unique_values = insurance[\"CNLUNG\"].unique()\n",
    "print(unique_values)"
   ]
  },
  {
   "cell_type": "code",
   "execution_count": 50,
   "metadata": {},
   "outputs": [
    {
     "name": "stdout",
     "output_type": "stream",
     "text": [
      "Completed iteration 0 of matching\n",
      "\tNumber of matched groups formed in total:  345\n",
      "\tUnmatched treated units:  6466 out of a total of  26529 treated units\n",
      "\tUnmatched control units:  32 out of a total of  1155 control units\n",
      "\tNumber of matches made this iteration:  21186\n",
      "\tNumber of matches made so far:  21186\n",
      "\tCovariates dropped so far:  set()\n",
      "\tPredictive error of covariate set used to match:  0.05283716907186434\n",
      "Completed iteration 1 of matching\n",
      "\tNumber of matched groups formed in total:  367\n",
      "\tUnmatched treated units:  6136 out of a total of  26529 treated units\n",
      "\tUnmatched control units:  6 out of a total of  1155 control units\n",
      "\tNumber of matches made this iteration:  356\n",
      "\tNumber of matches made so far:  21542\n",
      "\tCovariates dropped so far:  frozenset({'RACENEW'})\n",
      "\tPredictive error of covariate set used to match:  0.052847333848940185\n",
      "Completed iteration 2 of matching\n",
      "\tNumber of matched groups formed in total:  371\n",
      "\tUnmatched treated units:  6005 out of a total of  26529 treated units\n",
      "\tUnmatched control units:  1 out of a total of  1155 control units\n",
      "\tNumber of matches made this iteration:  136\n",
      "\tNumber of matches made so far:  21678\n",
      "\tCovariates dropped so far:  frozenset({'Occupation_Code'})\n",
      "\tPredictive error of covariate set used to match:  0.052896198416954164\n",
      "Completed iteration 3 of matching\n",
      "\tNumber of matched groups formed in total:  372\n",
      "\tUnmatched treated units:  5989 out of a total of  26529 treated units\n",
      "\tUnmatched control units:  0 out of a total of  1155 control units\n",
      "\tNumber of matches made this iteration:  17\n",
      "\tNumber of matches made so far:  21695\n",
      "\tCovariates dropped so far:  frozenset({'RACENEW', 'Occupation_Code'})\n",
      "\tPredictive error of covariate set used to match:  0.052907326232930575\n",
      "21695 units matched. We finished with no more control units to match\n"
     ]
    }
   ],
   "source": [
    "import dame_flame\n",
    "\n",
    "model = dame_flame.matching.DAME(\n",
    "    repeats=False,\n",
    "    verbose=3,\n",
    "    want_pe=True,\n",
    "    stop_unmatched_t=True,\n",
    ")\n",
    "model.fit(\n",
    "    insurance,\n",
    "    treatment_column_name=\"HINOTCOVE\",\n",
    "    outcome_column_name=\"CNLUNG\",\n",
    ")\n",
    "result = model.predict(insurance)"
   ]
  },
  {
   "cell_type": "code",
   "execution_count": 51,
   "metadata": {},
   "outputs": [
    {
     "data": {
      "image/png": "[encoded data removed]",
      "text/plain": [
       "<Figure size 1000x600 with 1 Axes>"
      ]
     },
     "metadata": {},
     "output_type": "display_data"
    }
   ],
   "source": [
    "# Retrieve the prediction errors for each iteration\n",
    "prediction_errors = model.pe_each_iter\n",
    "\n",
    "# Plotting the prediction errors\n",
    "plt.figure(figsize=(10, 6))\n",
    "plt.plot(prediction_errors, marker=\"o\", linestyle=\"-\", markersize=8)\n",
    "plt.title(\"Prediction Error by Iteration\")\n",
    "plt.xlabel(\"Iteration Number\")\n",
    "plt.ylabel(\"Prediction Error\")\n",
    "plt.grid(True)\n",
    "plt.show()"
   ]
  },
  {
   "cell_type": "markdown",
   "metadata": {},
   "source": [
    "> I choose my stopping point at iteration number 1."
   ]
  },
  {
   "cell_type": "code",
   "execution_count": 52,
   "metadata": {},
   "outputs": [
    {
     "name": "stdout",
     "output_type": "stream",
     "text": [
      "Completed iteration 0 of matching\n",
      "\tNumber of matched groups formed in total:  345\n",
      "\tUnmatched treated units:  6466 out of a total of  26529 treated units\n",
      "\tUnmatched control units:  32 out of a total of  1155 control units\n",
      "\tNumber of matches made this iteration:  21186\n",
      "\tNumber of matches made so far:  21186\n",
      "\tCovariates dropped so far:  set()\n",
      "\tPredictive error of covariate set used to match:  0.05283716907186434\n",
      "Completed iteration 1 of matching\n",
      "\tNumber of matched groups formed in total:  367\n",
      "\tUnmatched treated units:  6136 out of a total of  26529 treated units\n",
      "\tUnmatched control units:  6 out of a total of  1155 control units\n",
      "\tNumber of matches made this iteration:  356\n",
      "\tNumber of matches made so far:  21542\n",
      "\tCovariates dropped so far:  frozenset({'RACENEW'})\n",
      "\tPredictive error of covariate set used to match:  0.052847333848940185\n",
      "21542 units matched. We stopped after iteration 1\n"
     ]
    }
   ],
   "source": [
    "model_new = dame_flame.matching.DAME(\n",
    "    repeats=False,\n",
    "    verbose=3,\n",
    "    want_pe=True,\n",
    "    stop_unmatched_t=True,\n",
    "    early_stop_iterations=1,  # Stop after iteration 1\n",
    ")\n",
    "model_new.fit(\n",
    "    insurance,\n",
    "    treatment_column_name=\"HINOTCOVE\",\n",
    "    outcome_column_name=\"CNLUNG\",\n",
    ")\n",
    "result_new = model_new.predict(insurance)"
   ]
  },
  {
   "cell_type": "code",
   "execution_count": 53,
   "metadata": {},
   "outputs": [],
   "source": [
    "def get_dataframe(model, result_of_fit):\n",
    "\n",
    "    # Get original data\n",
    "    better = model.input_data.loc[result_of_fit.index]\n",
    "    if not better.index.is_unique:\n",
    "        raise ValueError(\"Need index values in input data to be unique\")\n",
    "\n",
    "    # Get match groups for clustering\n",
    "    better[\"match_group\"] = np.nan\n",
    "    better[\"match_group_size\"] = np.nan\n",
    "    for idx, group in enumerate(model.units_per_group):\n",
    "        better.loc[group, \"match_group\"] = idx\n",
    "        better.loc[group, \"match_group_size\"] = len(group)\n",
    "\n",
    "    # Get weights. I THINK this is right?! At least for with repeat=False?\n",
    "    t = model.treatment_column_name\n",
    "    better[\"t_in_group\"] = better.groupby(\"match_group\")[t].transform(np.sum)\n",
    "\n",
    "    # Make weights\n",
    "    better[\"weights\"] = np.nan\n",
    "    better.loc[better[t] == 1, \"weights\"] = 1  # treaments are 1\n",
    "\n",
    "    # Controls start as proportional to num of treatments\n",
    "    # each observation is matched to.\n",
    "    better.loc[better[t] == 0, \"weights\"] = better[\"t_in_group\"] / (\n",
    "        better[\"match_group_size\"] - better[\"t_in_group\"]\n",
    "    )\n",
    "\n",
    "    # Then re-normalize for num unique control observations.\n",
    "    control_weights = better[better[t] == 0][\"weights\"].sum()\n",
    "\n",
    "    num_control_obs = len(better[better[t] == 0].index.drop_duplicates())\n",
    "    renormalization = num_control_obs / control_weights\n",
    "    better.loc[better[t] == 0, \"weights\"] = (\n",
    "        better.loc[better[t] == 0, \"weights\"] * renormalization\n",
    "    )\n",
    "    assert better.weights.notnull().all()\n",
    "\n",
    "    better = better.drop([\"t_in_group\"], axis=\"columns\")\n",
    "\n",
    "    # Make sure right length and values!\n",
    "    assert len(result_of_fit) == len(better)\n",
    "    assert better.loc[better[t] == 0, \"weights\"].sum() == num_control_obs\n",
    "\n",
    "    return better"
   ]
  },
  {
   "cell_type": "code",
   "execution_count": 54,
   "metadata": {},
   "outputs": [
    {
     "data": {
      "text/html": [
       "<div>\n",
       "<style scoped>\n",
       "    .dataframe tbody tr th:only-of-type {\n",
       "        vertical-align: middle;\n",
       "    }\n",
       "\n",
       "    .dataframe tbody tr th {\n",
       "        vertical-align: top;\n",
       "    }\n",
       "\n",
       "    .dataframe thead th {\n",
       "        text-align: right;\n",
       "    }\n",
       "</style>\n",
       "<table border=\"1\" class=\"dataframe\">\n",
       "  <thead>\n",
       "    <tr style=\"text-align: right;\">\n",
       "      <th></th>\n",
       "      <th>SEX</th>\n",
       "      <th>RACENEW</th>\n",
       "      <th>INCFAM97ON2</th>\n",
       "      <th>HINOTCOVE</th>\n",
       "      <th>CNLUNG</th>\n",
       "      <th>SMK</th>\n",
       "      <th>Occupation_Code</th>\n",
       "      <th>match_group</th>\n",
       "      <th>match_group_size</th>\n",
       "      <th>weights</th>\n",
       "    </tr>\n",
       "  </thead>\n",
       "  <tbody>\n",
       "    <tr>\n",
       "      <th>0</th>\n",
       "      <td>1</td>\n",
       "      <td>100</td>\n",
       "      <td>20</td>\n",
       "      <td>1</td>\n",
       "      <td>0</td>\n",
       "      <td>1</td>\n",
       "      <td>3</td>\n",
       "      <td>117.0</td>\n",
       "      <td>160.0</td>\n",
       "      <td>1.0</td>\n",
       "    </tr>\n",
       "    <tr>\n",
       "      <th>2</th>\n",
       "      <td>2</td>\n",
       "      <td>100</td>\n",
       "      <td>10</td>\n",
       "      <td>1</td>\n",
       "      <td>0</td>\n",
       "      <td>1</td>\n",
       "      <td>1</td>\n",
       "      <td>34.0</td>\n",
       "      <td>623.0</td>\n",
       "      <td>1.0</td>\n",
       "    </tr>\n",
       "    <tr>\n",
       "      <th>4</th>\n",
       "      <td>1</td>\n",
       "      <td>100</td>\n",
       "      <td>20</td>\n",
       "      <td>1</td>\n",
       "      <td>0</td>\n",
       "      <td>1</td>\n",
       "      <td>2</td>\n",
       "      <td>113.0</td>\n",
       "      <td>217.0</td>\n",
       "      <td>1.0</td>\n",
       "    </tr>\n",
       "    <tr>\n",
       "      <th>5</th>\n",
       "      <td>2</td>\n",
       "      <td>100</td>\n",
       "      <td>10</td>\n",
       "      <td>1</td>\n",
       "      <td>0</td>\n",
       "      <td>1</td>\n",
       "      <td>1</td>\n",
       "      <td>34.0</td>\n",
       "      <td>623.0</td>\n",
       "      <td>1.0</td>\n",
       "    </tr>\n",
       "    <tr>\n",
       "      <th>6</th>\n",
       "      <td>1</td>\n",
       "      <td>100</td>\n",
       "      <td>10</td>\n",
       "      <td>1</td>\n",
       "      <td>0</td>\n",
       "      <td>1</td>\n",
       "      <td>6</td>\n",
       "      <td>54.0</td>\n",
       "      <td>249.0</td>\n",
       "      <td>1.0</td>\n",
       "    </tr>\n",
       "  </tbody>\n",
       "</table>\n",
       "</div>"
      ],
      "text/plain": [
       "   SEX  RACENEW  INCFAM97ON2  HINOTCOVE  CNLUNG  SMK  Occupation_Code  \\\n",
       "0    1      100           20          1       0    1                3   \n",
       "2    2      100           10          1       0    1                1   \n",
       "4    1      100           20          1       0    1                2   \n",
       "5    2      100           10          1       0    1                1   \n",
       "6    1      100           10          1       0    1                6   \n",
       "\n",
       "   match_group  match_group_size  weights  \n",
       "0        117.0             160.0      1.0  \n",
       "2         34.0             623.0      1.0  \n",
       "4        113.0             217.0      1.0  \n",
       "5         34.0             623.0      1.0  \n",
       "6         54.0             249.0      1.0  "
      ]
     },
     "execution_count": 54,
     "metadata": {},
     "output_type": "execute_result"
    }
   ],
   "source": [
    "matched_data = get_dataframe(model_new, result_new)\n",
    "matched_data.head()"
   ]
  },
  {
   "cell_type": "code",
   "execution_count": 55,
   "metadata": {},
   "outputs": [
    {
     "data": {
      "text/plain": [
       "(21542, 10)"
      ]
     },
     "execution_count": 55,
     "metadata": {},
     "output_type": "execute_result"
    }
   ],
   "source": [
    "matched_data.shape"
   ]
  },
  {
   "cell_type": "code",
   "execution_count": 56,
   "metadata": {},
   "outputs": [
    {
     "name": "stdout",
     "output_type": "stream",
     "text": [
      "Checking the Columns in matched data:\n"
     ]
    },
    {
     "data": {
      "text/plain": [
       "Index(['SEX', 'RACENEW', 'INCFAM97ON2', 'HINOTCOVE', 'CNLUNG', 'SMK',\n",
       "       'Occupation_Code', 'match_group', 'match_group_size', 'weights'],\n",
       "      dtype='object')"
      ]
     },
     "execution_count": 56,
     "metadata": {},
     "output_type": "execute_result"
    }
   ],
   "source": [
    "print(f\"Checking the Columns in matched data:\")\n",
    "matched_data.columns"
   ]
  },
  {
   "cell_type": "code",
   "execution_count": 57,
   "metadata": {},
   "outputs": [],
   "source": [
    "# Model with controls except County\n",
    "model_with_controls = smf.wls(\n",
    "    \"CNLUNG ~ HINOTCOVE + C(SEX) + C(RACENEW) + C(INCFAM97ON2) + C(SMK) + C(Occupation_Code)\",\n",
    "    data=matched_data,\n",
    "    weights=matched_data[\"weights\"],\n",
    ").fit()"
   ]
  },
  {
   "cell_type": "code",
   "execution_count": 58,
   "metadata": {},
   "outputs": [
    {
     "data": {
      "text/html": [
       "<table class=\"simpletable\">\n",
       "<caption>WLS Regression Results</caption>\n",
       "<tr>\n",
       "  <th>Dep. Variable:</th>         <td>CNLUNG</td>      <th>  R-squared:         </th>  <td>   0.018</td> \n",
       "</tr>\n",
       "<tr>\n",
       "  <th>Model:</th>                   <td>WLS</td>       <th>  Adj. R-squared:    </th>  <td>   0.016</td> \n",
       "</tr>\n",
       "<tr>\n",
       "  <th>Method:</th>             <td>Least Squares</td>  <th>  F-statistic:       </th>  <td>   11.32</td> \n",
       "</tr>\n",
       "<tr>\n",
       "  <th>Date:</th>             <td>Sun, 28 Apr 2024</td> <th>  Prob (F-statistic):</th>  <td>4.22e-62</td> \n",
       "</tr>\n",
       "<tr>\n",
       "  <th>Time:</th>                 <td>18:05:02</td>     <th>  Log-Likelihood:    </th>  <td>  6457.2</td> \n",
       "</tr>\n",
       "<tr>\n",
       "  <th>No. Observations:</th>      <td> 21542</td>      <th>  AIC:               </th> <td>-1.284e+04</td>\n",
       "</tr>\n",
       "<tr>\n",
       "  <th>Df Residuals:</th>          <td> 21506</td>      <th>  BIC:               </th> <td>-1.256e+04</td>\n",
       "</tr>\n",
       "<tr>\n",
       "  <th>Df Model:</th>              <td>    35</td>      <th>                     </th>      <td> </td>    \n",
       "</tr>\n",
       "<tr>\n",
       "  <th>Covariance Type:</th>      <td>nonrobust</td>    <th>                     </th>      <td> </td>    \n",
       "</tr>\n",
       "</table>\n",
       "<table class=\"simpletable\">\n",
       "<tr>\n",
       "              <td></td>                <th>coef</th>     <th>std err</th>      <th>t</th>      <th>P>|t|</th>  <th>[0.025</th>    <th>0.975]</th>  \n",
       "</tr>\n",
       "<tr>\n",
       "  <th>Intercept</th>                <td>    0.0094</td> <td>    0.062</td> <td>    0.152</td> <td> 0.880</td> <td>   -0.112</td> <td>    0.131</td>\n",
       "</tr>\n",
       "<tr>\n",
       "  <th>C(SEX)[T.2]</th>              <td>    0.0032</td> <td>    0.003</td> <td>    1.054</td> <td> 0.292</td> <td>   -0.003</td> <td>    0.009</td>\n",
       "</tr>\n",
       "<tr>\n",
       "  <th>C(RACENEW)[T.200]</th>        <td>    0.0165</td> <td>    0.005</td> <td>    3.156</td> <td> 0.002</td> <td>    0.006</td> <td>    0.027</td>\n",
       "</tr>\n",
       "<tr>\n",
       "  <th>C(RACENEW)[T.300]</th>        <td>    0.0513</td> <td>    0.030</td> <td>    1.740</td> <td> 0.082</td> <td>   -0.006</td> <td>    0.109</td>\n",
       "</tr>\n",
       "<tr>\n",
       "  <th>C(RACENEW)[T.400]</th>        <td>    0.0082</td> <td>    0.017</td> <td>    0.490</td> <td> 0.624</td> <td>   -0.024</td> <td>    0.041</td>\n",
       "</tr>\n",
       "<tr>\n",
       "  <th>C(RACENEW)[T.530]</th>        <td>   -0.0043</td> <td>    0.108</td> <td>   -0.039</td> <td> 0.969</td> <td>   -0.217</td> <td>    0.208</td>\n",
       "</tr>\n",
       "<tr>\n",
       "  <th>C(RACENEW)[T.541]</th>        <td>    0.0231</td> <td>    0.016</td> <td>    1.423</td> <td> 0.155</td> <td>   -0.009</td> <td>    0.055</td>\n",
       "</tr>\n",
       "<tr>\n",
       "  <th>C(INCFAM97ON2)[T.10]</th>     <td>   -0.0045</td> <td>    0.005</td> <td>   -0.839</td> <td> 0.401</td> <td>   -0.015</td> <td>    0.006</td>\n",
       "</tr>\n",
       "<tr>\n",
       "  <th>C(INCFAM97ON2)[T.20]</th>     <td>   -0.0117</td> <td>    0.005</td> <td>   -2.152</td> <td> 0.031</td> <td>   -0.022</td> <td>   -0.001</td>\n",
       "</tr>\n",
       "<tr>\n",
       "  <th>C(INCFAM97ON2)[T.31]</th>     <td>   -0.0145</td> <td>    0.007</td> <td>   -2.082</td> <td> 0.037</td> <td>   -0.028</td> <td>   -0.001</td>\n",
       "</tr>\n",
       "<tr>\n",
       "  <th>C(INCFAM97ON2)[T.32]</th>     <td>   -0.0237</td> <td>    0.006</td> <td>   -3.901</td> <td> 0.000</td> <td>   -0.036</td> <td>   -0.012</td>\n",
       "</tr>\n",
       "<tr>\n",
       "  <th>C(SMK)[T.1]</th>              <td>    0.0541</td> <td>    0.061</td> <td>    0.883</td> <td> 0.377</td> <td>   -0.066</td> <td>    0.174</td>\n",
       "</tr>\n",
       "<tr>\n",
       "  <th>C(SMK)[T.2]</th>              <td>    0.0147</td> <td>    0.061</td> <td>    0.239</td> <td> 0.811</td> <td>   -0.105</td> <td>    0.135</td>\n",
       "</tr>\n",
       "<tr>\n",
       "  <th>C(Occupation_Code)[T.1]</th>  <td>   -0.0175</td> <td>    0.006</td> <td>   -2.698</td> <td> 0.007</td> <td>   -0.030</td> <td>   -0.005</td>\n",
       "</tr>\n",
       "<tr>\n",
       "  <th>C(Occupation_Code)[T.2]</th>  <td>   -0.0063</td> <td>    0.007</td> <td>   -0.892</td> <td> 0.372</td> <td>   -0.020</td> <td>    0.008</td>\n",
       "</tr>\n",
       "<tr>\n",
       "  <th>C(Occupation_Code)[T.3]</th>  <td>   -0.0121</td> <td>    0.007</td> <td>   -1.723</td> <td> 0.085</td> <td>   -0.026</td> <td>    0.002</td>\n",
       "</tr>\n",
       "<tr>\n",
       "  <th>C(Occupation_Code)[T.4]</th>  <td>    0.0030</td> <td>    0.007</td> <td>    0.414</td> <td> 0.679</td> <td>   -0.011</td> <td>    0.017</td>\n",
       "</tr>\n",
       "<tr>\n",
       "  <th>C(Occupation_Code)[T.5]</th>  <td>   -0.0189</td> <td>    0.007</td> <td>   -2.582</td> <td> 0.010</td> <td>   -0.033</td> <td>   -0.005</td>\n",
       "</tr>\n",
       "<tr>\n",
       "  <th>C(Occupation_Code)[T.6]</th>  <td>   -0.0070</td> <td>    0.008</td> <td>   -0.850</td> <td> 0.395</td> <td>   -0.023</td> <td>    0.009</td>\n",
       "</tr>\n",
       "<tr>\n",
       "  <th>C(Occupation_Code)[T.7]</th>  <td>   -0.0125</td> <td>    0.008</td> <td>   -1.528</td> <td> 0.126</td> <td>   -0.029</td> <td>    0.004</td>\n",
       "</tr>\n",
       "<tr>\n",
       "  <th>C(Occupation_Code)[T.8]</th>  <td>   -0.0112</td> <td>    0.009</td> <td>   -1.310</td> <td> 0.190</td> <td>   -0.028</td> <td>    0.006</td>\n",
       "</tr>\n",
       "<tr>\n",
       "  <th>C(Occupation_Code)[T.9]</th>  <td>   -0.0037</td> <td>    0.009</td> <td>   -0.419</td> <td> 0.675</td> <td>   -0.021</td> <td>    0.013</td>\n",
       "</tr>\n",
       "<tr>\n",
       "  <th>C(Occupation_Code)[T.10]</th> <td>   -0.0111</td> <td>    0.009</td> <td>   -1.271</td> <td> 0.204</td> <td>   -0.028</td> <td>    0.006</td>\n",
       "</tr>\n",
       "<tr>\n",
       "  <th>C(Occupation_Code)[T.11]</th> <td>    0.0035</td> <td>    0.009</td> <td>    0.387</td> <td> 0.699</td> <td>   -0.014</td> <td>    0.021</td>\n",
       "</tr>\n",
       "<tr>\n",
       "  <th>C(Occupation_Code)[T.12]</th> <td>    0.0037</td> <td>    0.009</td> <td>    0.393</td> <td> 0.694</td> <td>   -0.015</td> <td>    0.022</td>\n",
       "</tr>\n",
       "<tr>\n",
       "  <th>C(Occupation_Code)[T.13]</th> <td>   -0.0272</td> <td>    0.009</td> <td>   -2.861</td> <td> 0.004</td> <td>   -0.046</td> <td>   -0.009</td>\n",
       "</tr>\n",
       "<tr>\n",
       "  <th>C(Occupation_Code)[T.14]</th> <td>   -0.0157</td> <td>    0.010</td> <td>   -1.579</td> <td> 0.114</td> <td>   -0.035</td> <td>    0.004</td>\n",
       "</tr>\n",
       "<tr>\n",
       "  <th>C(Occupation_Code)[T.15]</th> <td>   -0.0150</td> <td>    0.014</td> <td>   -1.095</td> <td> 0.274</td> <td>   -0.042</td> <td>    0.012</td>\n",
       "</tr>\n",
       "<tr>\n",
       "  <th>C(Occupation_Code)[T.16]</th> <td>   -0.0275</td> <td>    0.013</td> <td>   -2.156</td> <td> 0.031</td> <td>   -0.053</td> <td>   -0.003</td>\n",
       "</tr>\n",
       "<tr>\n",
       "  <th>C(Occupation_Code)[T.17]</th> <td>   -0.0320</td> <td>    0.014</td> <td>   -2.346</td> <td> 0.019</td> <td>   -0.059</td> <td>   -0.005</td>\n",
       "</tr>\n",
       "<tr>\n",
       "  <th>C(Occupation_Code)[T.18]</th> <td>   -0.0218</td> <td>    0.012</td> <td>   -1.825</td> <td> 0.068</td> <td>   -0.045</td> <td>    0.002</td>\n",
       "</tr>\n",
       "<tr>\n",
       "  <th>C(Occupation_Code)[T.21]</th> <td>   -0.0028</td> <td>    0.018</td> <td>   -0.159</td> <td> 0.874</td> <td>   -0.037</td> <td>    0.032</td>\n",
       "</tr>\n",
       "<tr>\n",
       "  <th>C(Occupation_Code)[T.23]</th> <td>   -0.0476</td> <td>    0.024</td> <td>   -2.011</td> <td> 0.044</td> <td>   -0.094</td> <td>   -0.001</td>\n",
       "</tr>\n",
       "<tr>\n",
       "  <th>C(Occupation_Code)[T.26]</th> <td>   -0.0644</td> <td>    0.055</td> <td>   -1.169</td> <td> 0.242</td> <td>   -0.172</td> <td>    0.044</td>\n",
       "</tr>\n",
       "<tr>\n",
       "  <th>C(Occupation_Code)[T.28]</th> <td>   -0.0128</td> <td>    0.017</td> <td>   -0.767</td> <td> 0.443</td> <td>   -0.046</td> <td>    0.020</td>\n",
       "</tr>\n",
       "<tr>\n",
       "  <th>HINOTCOVE</th>                <td>    0.0057</td> <td>    0.005</td> <td>    1.054</td> <td> 0.292</td> <td>   -0.005</td> <td>    0.016</td>\n",
       "</tr>\n",
       "</table>\n",
       "<table class=\"simpletable\">\n",
       "<tr>\n",
       "  <th>Omnibus:</th>       <td>21208.332</td> <th>  Durbin-Watson:     </th>  <td>   2.008</td> \n",
       "</tr>\n",
       "<tr>\n",
       "  <th>Prob(Omnibus):</th>  <td> 0.000</td>   <th>  Jarque-Bera (JB):  </th> <td>671361.240</td>\n",
       "</tr>\n",
       "<tr>\n",
       "  <th>Skew:</th>           <td> 5.142</td>   <th>  Prob(JB):          </th>  <td>    0.00</td> \n",
       "</tr>\n",
       "<tr>\n",
       "  <th>Kurtosis:</th>       <td>28.341</td>   <th>  Cond. No.          </th>  <td>    162.</td> \n",
       "</tr>\n",
       "</table><br/><br/>Notes:<br/>[1] Standard Errors assume that the covariance matrix of the errors is correctly specified."
      ],
      "text/latex": [
       "\\begin{center}\n",
       "\\begin{tabular}{lclc}\n",
       "\\toprule\n",
       "\\textbf{Dep. Variable:}            &      CNLUNG      & \\textbf{  R-squared:         } &     0.018   \\\\\n",
       "\\textbf{Model:}                    &       WLS        & \\textbf{  Adj. R-squared:    } &     0.016   \\\\\n",
       "\\textbf{Method:}                   &  Least Squares   & \\textbf{  F-statistic:       } &     11.32   \\\\\n",
       "\\textbf{Date:}                     & Sun, 28 Apr 2024 & \\textbf{  Prob (F-statistic):} &  4.22e-62   \\\\\n",
       "\\textbf{Time:}                     &     18:05:02     & \\textbf{  Log-Likelihood:    } &    6457.2   \\\\\n",
       "\\textbf{No. Observations:}         &       21542      & \\textbf{  AIC:               } & -1.284e+04  \\\\\n",
       "\\textbf{Df Residuals:}             &       21506      & \\textbf{  BIC:               } & -1.256e+04  \\\\\n",
       "\\textbf{Df Model:}                 &          35      & \\textbf{                     } &             \\\\\n",
       "\\textbf{Covariance Type:}          &    nonrobust     & \\textbf{                     } &             \\\\\n",
       "\\bottomrule\n",
       "\\end{tabular}\n",
       "\\begin{tabular}{lcccccc}\n",
       "                                   & \\textbf{coef} & \\textbf{std err} & \\textbf{t} & \\textbf{P$> |$t$|$} & \\textbf{[0.025} & \\textbf{0.975]}  \\\\\n",
       "\\midrule\n",
       "\\textbf{Intercept}                 &       0.0094  &        0.062     &     0.152  &         0.880        &       -0.112    &        0.131     \\\\\n",
       "\\textbf{C(SEX)[T.2]}               &       0.0032  &        0.003     &     1.054  &         0.292        &       -0.003    &        0.009     \\\\\n",
       "\\textbf{C(RACENEW)[T.200]}         &       0.0165  &        0.005     &     3.156  &         0.002        &        0.006    &        0.027     \\\\\n",
       "\\textbf{C(RACENEW)[T.300]}         &       0.0513  &        0.030     &     1.740  &         0.082        &       -0.006    &        0.109     \\\\\n",
       "\\textbf{C(RACENEW)[T.400]}         &       0.0082  &        0.017     &     0.490  &         0.624        &       -0.024    &        0.041     \\\\\n",
       "\\textbf{C(RACENEW)[T.530]}         &      -0.0043  &        0.108     &    -0.039  &         0.969        &       -0.217    &        0.208     \\\\\n",
       "\\textbf{C(RACENEW)[T.541]}         &       0.0231  &        0.016     &     1.423  &         0.155        &       -0.009    &        0.055     \\\\\n",
       "\\textbf{C(INCFAM97ON2)[T.10]}      &      -0.0045  &        0.005     &    -0.839  &         0.401        &       -0.015    &        0.006     \\\\\n",
       "\\textbf{C(INCFAM97ON2)[T.20]}      &      -0.0117  &        0.005     &    -2.152  &         0.031        &       -0.022    &       -0.001     \\\\\n",
       "\\textbf{C(INCFAM97ON2)[T.31]}      &      -0.0145  &        0.007     &    -2.082  &         0.037        &       -0.028    &       -0.001     \\\\\n",
       "\\textbf{C(INCFAM97ON2)[T.32]}      &      -0.0237  &        0.006     &    -3.901  &         0.000        &       -0.036    &       -0.012     \\\\\n",
       "\\textbf{C(SMK)[T.1]}               &       0.0541  &        0.061     &     0.883  &         0.377        &       -0.066    &        0.174     \\\\\n",
       "\\textbf{C(SMK)[T.2]}               &       0.0147  &        0.061     &     0.239  &         0.811        &       -0.105    &        0.135     \\\\\n",
       "\\textbf{C(Occupation\\_Code)[T.1]}  &      -0.0175  &        0.006     &    -2.698  &         0.007        &       -0.030    &       -0.005     \\\\\n",
       "\\textbf{C(Occupation\\_Code)[T.2]}  &      -0.0063  &        0.007     &    -0.892  &         0.372        &       -0.020    &        0.008     \\\\\n",
       "\\textbf{C(Occupation\\_Code)[T.3]}  &      -0.0121  &        0.007     &    -1.723  &         0.085        &       -0.026    &        0.002     \\\\\n",
       "\\textbf{C(Occupation\\_Code)[T.4]}  &       0.0030  &        0.007     &     0.414  &         0.679        &       -0.011    &        0.017     \\\\\n",
       "\\textbf{C(Occupation\\_Code)[T.5]}  &      -0.0189  &        0.007     &    -2.582  &         0.010        &       -0.033    &       -0.005     \\\\\n",
       "\\textbf{C(Occupation\\_Code)[T.6]}  &      -0.0070  &        0.008     &    -0.850  &         0.395        &       -0.023    &        0.009     \\\\\n",
       "\\textbf{C(Occupation\\_Code)[T.7]}  &      -0.0125  &        0.008     &    -1.528  &         0.126        &       -0.029    &        0.004     \\\\\n",
       "\\textbf{C(Occupation\\_Code)[T.8]}  &      -0.0112  &        0.009     &    -1.310  &         0.190        &       -0.028    &        0.006     \\\\\n",
       "\\textbf{C(Occupation\\_Code)[T.9]}  &      -0.0037  &        0.009     &    -0.419  &         0.675        &       -0.021    &        0.013     \\\\\n",
       "\\textbf{C(Occupation\\_Code)[T.10]} &      -0.0111  &        0.009     &    -1.271  &         0.204        &       -0.028    &        0.006     \\\\\n",
       "\\textbf{C(Occupation\\_Code)[T.11]} &       0.0035  &        0.009     &     0.387  &         0.699        &       -0.014    &        0.021     \\\\\n",
       "\\textbf{C(Occupation\\_Code)[T.12]} &       0.0037  &        0.009     &     0.393  &         0.694        &       -0.015    &        0.022     \\\\\n",
       "\\textbf{C(Occupation\\_Code)[T.13]} &      -0.0272  &        0.009     &    -2.861  &         0.004        &       -0.046    &       -0.009     \\\\\n",
       "\\textbf{C(Occupation\\_Code)[T.14]} &      -0.0157  &        0.010     &    -1.579  &         0.114        &       -0.035    &        0.004     \\\\\n",
       "\\textbf{C(Occupation\\_Code)[T.15]} &      -0.0150  &        0.014     &    -1.095  &         0.274        &       -0.042    &        0.012     \\\\\n",
       "\\textbf{C(Occupation\\_Code)[T.16]} &      -0.0275  &        0.013     &    -2.156  &         0.031        &       -0.053    &       -0.003     \\\\\n",
       "\\textbf{C(Occupation\\_Code)[T.17]} &      -0.0320  &        0.014     &    -2.346  &         0.019        &       -0.059    &       -0.005     \\\\\n",
       "\\textbf{C(Occupation\\_Code)[T.18]} &      -0.0218  &        0.012     &    -1.825  &         0.068        &       -0.045    &        0.002     \\\\\n",
       "\\textbf{C(Occupation\\_Code)[T.21]} &      -0.0028  &        0.018     &    -0.159  &         0.874        &       -0.037    &        0.032     \\\\\n",
       "\\textbf{C(Occupation\\_Code)[T.23]} &      -0.0476  &        0.024     &    -2.011  &         0.044        &       -0.094    &       -0.001     \\\\\n",
       "\\textbf{C(Occupation\\_Code)[T.26]} &      -0.0644  &        0.055     &    -1.169  &         0.242        &       -0.172    &        0.044     \\\\\n",
       "\\textbf{C(Occupation\\_Code)[T.28]} &      -0.0128  &        0.017     &    -0.767  &         0.443        &       -0.046    &        0.020     \\\\\n",
       "\\textbf{HINOTCOVE}                 &       0.0057  &        0.005     &     1.054  &         0.292        &       -0.005    &        0.016     \\\\\n",
       "\\bottomrule\n",
       "\\end{tabular}\n",
       "\\begin{tabular}{lclc}\n",
       "\\textbf{Omnibus:}       & 21208.332 & \\textbf{  Durbin-Watson:     } &     2.008   \\\\\n",
       "\\textbf{Prob(Omnibus):} &    0.000  & \\textbf{  Jarque-Bera (JB):  } & 671361.240  \\\\\n",
       "\\textbf{Skew:}          &    5.142  & \\textbf{  Prob(JB):          } &      0.00   \\\\\n",
       "\\textbf{Kurtosis:}      &   28.341  & \\textbf{  Cond. No.          } &      162.   \\\\\n",
       "\\bottomrule\n",
       "\\end{tabular}\n",
       "%\\caption{WLS Regression Results}\n",
       "\\end{center}\n",
       "\n",
       "Notes: \\newline\n",
       " [1] Standard Errors assume that the covariance matrix of the errors is correctly specified."
      ],
      "text/plain": [
       "<class 'statsmodels.iolib.summary.Summary'>\n",
       "\"\"\"\n",
       "                            WLS Regression Results                            \n",
       "==============================================================================\n",
       "Dep. Variable:                 CNLUNG   R-squared:                       0.018\n",
       "Model:                            WLS   Adj. R-squared:                  0.016\n",
       "Method:                 Least Squares   F-statistic:                     11.32\n",
       "Date:                Sun, 28 Apr 2024   Prob (F-statistic):           4.22e-62\n",
       "Time:                        18:05:02   Log-Likelihood:                 6457.2\n",
       "No. Observations:               21542   AIC:                        -1.284e+04\n",
       "Df Residuals:                   21506   BIC:                        -1.256e+04\n",
       "Df Model:                          35                                         \n",
       "Covariance Type:            nonrobust                                         \n",
       "============================================================================================\n",
       "                               coef    std err          t      P>|t|      [0.025      0.975]\n",
       "--------------------------------------------------------------------------------------------\n",
       "Intercept                    0.0094      0.062      0.152      0.880      -0.112       0.131\n",
       "C(SEX)[T.2]                  0.0032      0.003      1.054      0.292      -0.003       0.009\n",
       "C(RACENEW)[T.200]            0.0165      0.005      3.156      0.002       0.006       0.027\n",
       "C(RACENEW)[T.300]            0.0513      0.030      1.740      0.082      -0.006       0.109\n",
       "C(RACENEW)[T.400]            0.0082      0.017      0.490      0.624      -0.024       0.041\n",
       "C(RACENEW)[T.530]           -0.0043      0.108     -0.039      0.969      -0.217       0.208\n",
       "C(RACENEW)[T.541]            0.0231      0.016      1.423      0.155      -0.009       0.055\n",
       "C(INCFAM97ON2)[T.10]        -0.0045      0.005     -0.839      0.401      -0.015       0.006\n",
       "C(INCFAM97ON2)[T.20]        -0.0117      0.005     -2.152      0.031      -0.022      -0.001\n",
       "C(INCFAM97ON2)[T.31]        -0.0145      0.007     -2.082      0.037      -0.028      -0.001\n",
       "C(INCFAM97ON2)[T.32]        -0.0237      0.006     -3.901      0.000      -0.036      -0.012\n",
       "C(SMK)[T.1]                  0.0541      0.061      0.883      0.377      -0.066       0.174\n",
       "C(SMK)[T.2]                  0.0147      0.061      0.239      0.811      -0.105       0.135\n",
       "C(Occupation_Code)[T.1]     -0.0175      0.006     -2.698      0.007      -0.030      -0.005\n",
       "C(Occupation_Code)[T.2]     -0.0063      0.007     -0.892      0.372      -0.020       0.008\n",
       "C(Occupation_Code)[T.3]     -0.0121      0.007     -1.723      0.085      -0.026       0.002\n",
       "C(Occupation_Code)[T.4]      0.0030      0.007      0.414      0.679      -0.011       0.017\n",
       "C(Occupation_Code)[T.5]     -0.0189      0.007     -2.582      0.010      -0.033      -0.005\n",
       "C(Occupation_Code)[T.6]     -0.0070      0.008     -0.850      0.395      -0.023       0.009\n",
       "C(Occupation_Code)[T.7]     -0.0125      0.008     -1.528      0.126      -0.029       0.004\n",
       "C(Occupation_Code)[T.8]     -0.0112      0.009     -1.310      0.190      -0.028       0.006\n",
       "C(Occupation_Code)[T.9]     -0.0037      0.009     -0.419      0.675      -0.021       0.013\n",
       "C(Occupation_Code)[T.10]    -0.0111      0.009     -1.271      0.204      -0.028       0.006\n",
       "C(Occupation_Code)[T.11]     0.0035      0.009      0.387      0.699      -0.014       0.021\n",
       "C(Occupation_Code)[T.12]     0.0037      0.009      0.393      0.694      -0.015       0.022\n",
       "C(Occupation_Code)[T.13]    -0.0272      0.009     -2.861      0.004      -0.046      -0.009\n",
       "C(Occupation_Code)[T.14]    -0.0157      0.010     -1.579      0.114      -0.035       0.004\n",
       "C(Occupation_Code)[T.15]    -0.0150      0.014     -1.095      0.274      -0.042       0.012\n",
       "C(Occupation_Code)[T.16]    -0.0275      0.013     -2.156      0.031      -0.053      -0.003\n",
       "C(Occupation_Code)[T.17]    -0.0320      0.014     -2.346      0.019      -0.059      -0.005\n",
       "C(Occupation_Code)[T.18]    -0.0218      0.012     -1.825      0.068      -0.045       0.002\n",
       "C(Occupation_Code)[T.21]    -0.0028      0.018     -0.159      0.874      -0.037       0.032\n",
       "C(Occupation_Code)[T.23]    -0.0476      0.024     -2.011      0.044      -0.094      -0.001\n",
       "C(Occupation_Code)[T.26]    -0.0644      0.055     -1.169      0.242      -0.172       0.044\n",
       "C(Occupation_Code)[T.28]    -0.0128      0.017     -0.767      0.443      -0.046       0.020\n",
       "HINOTCOVE                    0.0057      0.005      1.054      0.292      -0.005       0.016\n",
       "==============================================================================\n",
       "Omnibus:                    21208.332   Durbin-Watson:                   2.008\n",
       "Prob(Omnibus):                  0.000   Jarque-Bera (JB):           671361.240\n",
       "Skew:                           5.142   Prob(JB):                         0.00\n",
       "Kurtosis:                      28.341   Cond. No.                         162.\n",
       "==============================================================================\n",
       "\n",
       "Notes:\n",
       "[1] Standard Errors assume that the covariance matrix of the errors is correctly specified.\n",
       "\"\"\""
      ]
     },
     "execution_count": 58,
     "metadata": {},
     "output_type": "execute_result"
    }
   ],
   "source": [
    "model_with_controls.summary()"
   ]
  },
  {
   "cell_type": "code",
   "execution_count": 59,
   "metadata": {},
   "outputs": [
    {
     "name": "stdout",
     "output_type": "stream",
     "text": [
      "Coefficient for 'HINOTCOVE' with controls: 0.0057\n"
     ]
    }
   ],
   "source": [
    "# To get the coefficient for the 'HINOTCOVE' variable\n",
    "insurance_coefficient_control = model_with_controls.params[\"HINOTCOVE\"]\n",
    "print(f\"Coefficient for 'HINOTCOVE' with controls: {insurance_coefficient_control:.4f}\")"
   ]
  },
  {
   "cell_type": "code",
   "execution_count": 60,
   "metadata": {},
   "outputs": [
    {
     "name": "stdout",
     "output_type": "stream",
     "text": [
      "P-value for 'HINOTCOVE' with controls: 0.2917\n"
     ]
    }
   ],
   "source": [
    "# To get the p-value for the coefficient of 'HINOTCOVE' variable\n",
    "insurance_p_value_control = model_with_controls.pvalues[\"HINOTCOVE\"]\n",
    "print(f\"P-value for 'HINOTCOVE' with controls: {insurance_p_value_control:.4f}\")"
   ]
  },
  {
   "cell_type": "markdown",
   "metadata": {},
   "source": [
    ">- The coefficient for 'HINOTCOVE' with controls (0.0057) suggests that, after controlling for other variables, there is a positive association between having insurance coverage and the outcome variable (lung cancer diagnosis status). However, the p-value associated with this coefficient (0.2917) indicates that this association is not statistically significant at conventional levels (e.g., α = 0.05). Therefore, we cannot confidently conclude that there is a significant effect of insurance coverage on lung cancer diagnosis status based on this analysis."
   ]
  }
 ],
 "metadata": {
  "kernelspec": {
   "display_name": "base",
   "language": "python",
   "name": "python3"
  },
  "language_info": {
   "codemirror_mode": {
    "name": "ipython",
    "version": 3
   },
   "file_extension": ".py",
   "mimetype": "text/x-python",
   "name": "python",
   "nbconvert_exporter": "python",
   "pygments_lexer": "ipython3",
   "version": "3.11.5"
  }
 },
 "nbformat": 4,
 "nbformat_minor": 2
}
