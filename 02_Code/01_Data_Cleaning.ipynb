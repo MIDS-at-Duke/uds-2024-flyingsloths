{
 "cells": [
  {
   "cell_type": "markdown",
   "metadata": {},
   "source": [
    "#### loading data and looking at missing values"
   ]
  },
  {
   "cell_type": "code",
   "execution_count": 1,
   "metadata": {},
   "outputs": [
    {
     "name": "stderr",
     "output_type": "stream",
     "text": [
      "C:\\Users\\afraa\\AppData\\Local\\Temp\\ipykernel_21152\\1897879383.py:3: DtypeWarning: Columns (4,8,9) have mixed types. Specify dtype option on import or set low_memory=False.\n",
      "  df = pd.read_csv(\"ipums_06.csv\")\n"
     ]
    }
   ],
   "source": [
    "import pandas as pd\n",
    "\n",
    "df = pd.read_csv(\"ipums_06.csv\")"
   ]
  },
  {
   "cell_type": "code",
   "execution_count": 2,
   "metadata": {},
   "outputs": [
    {
     "name": "stdout",
     "output_type": "stream",
     "text": [
      "Missing Value Percentage:\n",
      "YEAR             0.000000\n",
      "SERIAL           0.000000\n",
      "STRATA           0.000000\n",
      "PSU              0.000000\n",
      "NHISHID          0.000000\n",
      "HHWEIGHT         5.092393\n",
      "URBRRL          94.907607\n",
      "PERNUM           0.000000\n",
      "NHISPID          0.000000\n",
      "HHX             25.554928\n",
      "FMX             30.647320\n",
      "PX               5.092393\n",
      "PERWEIGHT        5.092393\n",
      "SAMPWEIGHT       9.486408\n",
      "LONGWEIGHT      98.743500\n",
      "PARTWEIGHT      98.743500\n",
      "FWEIGHT         30.647320\n",
      "SUPP2WT         52.843050\n",
      "ASTATFLG        25.554928\n",
      "CSTATFLG        25.554928\n",
      "AGE              0.000000\n",
      "SEX              0.000000\n",
      "BIRTHYR         35.724813\n",
      "RACENEW         32.357812\n",
      "OCC              2.566444\n",
      "POORYN           5.092393\n",
      "INCFAM97ON2     30.647320\n",
      "INCFAM07ON      60.127877\n",
      "FAMTOTINC       97.358115\n",
      "EARNIMP1        30.647320\n",
      "HINOTCOVE       25.554928\n",
      "HICOVSTAT       86.824915\n",
      "HIOTHGOVYR      73.815914\n",
      "HINOLAPYMO      86.824915\n",
      "HINOLASTCOV     86.824915\n",
      "HINOUNEMPR      12.379842\n",
      "HINOEMPR        17.472235\n",
      "HINOFAMR        17.472235\n",
      "HINOAGER        17.472235\n",
      "HINOCOSTR       12.379842\n",
      "HINOREFUSER     17.472235\n",
      "HINOTHER        12.379842\n",
      "HINOWANT        94.907607\n",
      "HINOELIG        94.907607\n",
      "HINOCONF        94.907607\n",
      "HINOMEET        94.907607\n",
      "HINOWAIT        94.907607\n",
      "HINOMISS        94.907607\n",
      "HISTOP1         25.554928\n",
      "HISTOP3         30.647320\n",
      "HISTOP4         25.554928\n",
      "HISTOP8         34.127668\n",
      "HISTOP11        30.647320\n",
      "HISTOP12        30.647320\n",
      "HISTOP13        30.647320\n",
      "HISTOP14        30.647320\n",
      "HISTOP15        30.647320\n",
      "HISTOP16        34.127668\n",
      "HISTOP17        34.127668\n",
      "HISTOP18        34.127668\n",
      "HISTOP19        34.127668\n",
      "HISTOP20        34.127668\n",
      "HISTOP22        30.647320\n",
      "HISTOP23        94.907607\n",
      "HISTOP24        94.907607\n",
      "HISTOP25        94.907607\n",
      "HIBUYNOCOND     85.652433\n",
      "HIBUYNOCOST     85.652433\n",
      "HIBUYNODENY     85.652433\n",
      "HIBUYNOSORC     85.652433\n",
      "HIBUYNOOTHR     85.652433\n",
      "HISTOP5A        67.309312\n",
      "CNLUNG          25.554928\n",
      "CNLUNGAG        25.554928\n",
      "CANHICHANGE     95.680988\n",
      "SMOKEV           2.132464\n",
      "CIGDAYMO         6.156136\n",
      "SMOKESTATUS2     6.156136\n",
      "SMOKESTATUS1    53.496761\n",
      "SMOKESTATUS3    57.520433\n",
      "CIGSDAYCSFS     95.976328\n",
      "CIGSDAYCSFS2    95.976328\n",
      "CIGSLONGFS      88.908441\n",
      "MORTSTAT         5.092393\n",
      "MORTDODY         5.092393\n",
      "MORTUCOD        48.187227\n",
      "MORTUCODLD       5.092393\n",
      "MORTWT          16.928911\n",
      "MORTWTSA        30.647320\n",
      "dtype: float64\n"
     ]
    }
   ],
   "source": [
    "# show all rows and columns\n",
    "pd.set_option(\"display.max_rows\", None)\n",
    "pd.set_option(\"display.max_columns\", None)\n",
    "\n",
    "# calculate missing percentages\n",
    "total_values = df.shape[0]\n",
    "missing_values = df.isna().sum()\n",
    "missing_percentage = (missing_values / total_values) * 100\n",
    "\n",
    "# print missing percentages\n",
    "print(\"Missing Value Percentage:\")\n",
    "print(missing_percentage)"
   ]
  },
  {
   "cell_type": "markdown",
   "metadata": {},
   "source": [
    "#### Columns with more than 80% missing values were dropped because imputing missing data would result in artificial or unreliable data."
   ]
  },
  {
   "cell_type": "code",
   "execution_count": 3,
   "metadata": {},
   "outputs": [],
   "source": [
    "# identify columns with more than 80% missing values\n",
    "threshold = 80\n",
    "columns_to_drop = missing_percentage[missing_percentage > threshold].index\n",
    "\n",
    "# drop columns with more than 80% missing values\n",
    "df_cleaned = df.drop(columns=columns_to_drop)"
   ]
  },
  {
   "cell_type": "code",
   "execution_count": 4,
   "metadata": {},
   "outputs": [
    {
     "name": "stdout",
     "output_type": "stream",
     "text": [
      "Missing Value Percentage of cleaned DF:\n",
      "YEAR             0.000000\n",
      "SERIAL           0.000000\n",
      "STRATA           0.000000\n",
      "PSU              0.000000\n",
      "NHISHID          0.000000\n",
      "HHWEIGHT         5.092393\n",
      "PERNUM           0.000000\n",
      "NHISPID          0.000000\n",
      "HHX             25.554928\n",
      "FMX             30.647320\n",
      "PX               5.092393\n",
      "PERWEIGHT        5.092393\n",
      "SAMPWEIGHT       9.486408\n",
      "FWEIGHT         30.647320\n",
      "SUPP2WT         52.843050\n",
      "ASTATFLG        25.554928\n",
      "CSTATFLG        25.554928\n",
      "AGE              0.000000\n",
      "SEX              0.000000\n",
      "BIRTHYR         35.724813\n",
      "RACENEW         32.357812\n",
      "OCC              2.566444\n",
      "POORYN           5.092393\n",
      "INCFAM97ON2     30.647320\n",
      "INCFAM07ON      60.127877\n",
      "EARNIMP1        30.647320\n",
      "HINOTCOVE       25.554928\n",
      "HIOTHGOVYR      73.815914\n",
      "HINOUNEMPR      12.379842\n",
      "HINOEMPR        17.472235\n",
      "HINOFAMR        17.472235\n",
      "HINOAGER        17.472235\n",
      "HINOCOSTR       12.379842\n",
      "HINOREFUSER     17.472235\n",
      "HINOTHER        12.379842\n",
      "HISTOP1         25.554928\n",
      "HISTOP3         30.647320\n",
      "HISTOP4         25.554928\n",
      "HISTOP8         34.127668\n",
      "HISTOP11        30.647320\n",
      "HISTOP12        30.647320\n",
      "HISTOP13        30.647320\n",
      "HISTOP14        30.647320\n",
      "HISTOP15        30.647320\n",
      "HISTOP16        34.127668\n",
      "HISTOP17        34.127668\n",
      "HISTOP18        34.127668\n",
      "HISTOP19        34.127668\n",
      "HISTOP20        34.127668\n",
      "HISTOP22        30.647320\n",
      "HISTOP5A        67.309312\n",
      "CNLUNG          25.554928\n",
      "CNLUNGAG        25.554928\n",
      "SMOKEV           2.132464\n",
      "CIGDAYMO         6.156136\n",
      "SMOKESTATUS2     6.156136\n",
      "SMOKESTATUS1    53.496761\n",
      "SMOKESTATUS3    57.520433\n",
      "MORTSTAT         5.092393\n",
      "MORTDODY         5.092393\n",
      "MORTUCOD        48.187227\n",
      "MORTUCODLD       5.092393\n",
      "MORTWT          16.928911\n",
      "MORTWTSA        30.647320\n",
      "dtype: float64\n"
     ]
    }
   ],
   "source": [
    "# calculate missing percentages\n",
    "total_values = df_cleaned.shape[0]\n",
    "missing_values = df_cleaned.isna().sum()\n",
    "missing_percentage = (missing_values / total_values) * 100\n",
    "\n",
    "# print missing percentages\n",
    "print(\"Missing Value Percentage of cleaned DF:\")\n",
    "print(missing_percentage)"
   ]
  },
  {
   "cell_type": "markdown",
   "metadata": {},
   "source": [
    "#### Dropped columns that weren't required for analyses"
   ]
  },
  {
   "cell_type": "code",
   "execution_count": 5,
   "metadata": {},
   "outputs": [],
   "source": [
    "columns_to_drop = [\n",
    "    \"STRATA\",\n",
    "    \"PSU\",\n",
    "    \"HHWEIGHT\",\n",
    "    \"HHX\",\n",
    "    \"FMX\",\n",
    "    \"PX\",\n",
    "    \"PERWEIGHT\",\n",
    "    \"SAMPWEIGHT\",\n",
    "    \"FWEIGHT\",\n",
    "    \"SUPP2WT\",\n",
    "    \"ASTATFLG\",\n",
    "    \"CSTATFLG\",\n",
    "    \"BIRTHYR\",\n",
    "    \"INCFAM07ON\",\n",
    "    \"HIOTHGOVYR\",\n",
    "    \"CIGDAYMO\",\n",
    "    \"SMOKESTATUS3\",\n",
    "    \"MORTSTAT\",\n",
    "    \"MORTDODY\",\n",
    "    \"MORTUCOD\",\n",
    "    \"MORTUCODLD\",\n",
    "    \"MORTWT\",\n",
    "    \"MORTWTSA\",\n",
    "    \"POORYN\",\n",
    "    \"SMOKESTATUS1\",\n",
    "    \"SMOKESTATUS3\",\n",
    "    \"SMOKEV\",\n",
    "]\n",
    "\n",
    "# drop columns we do not need\n",
    "df_cleaned_new = df_cleaned.drop(columns=columns_to_drop)\n",
    "\n",
    "# comment code below if you want to keep variables indicating why insurance coverage stopped (likely do not need for analyses)\n",
    "column_insurance_stopped = [\n",
    "    \"HISTOP1\",\n",
    "    \"HISTOP3\",\n",
    "    \"HISTOP4\",\n",
    "    \"HISTOP8\",\n",
    "    \"HISTOP11\",\n",
    "    \"HISTOP12\",\n",
    "    \"HISTOP13\",\n",
    "    \"HISTOP14\",\n",
    "    \"HISTOP15\",\n",
    "    \"HISTOP16\",\n",
    "    \"HISTOP17\",\n",
    "    \"HISTOP18\",\n",
    "    \"HISTOP19\",\n",
    "    \"HISTOP20\",\n",
    "    \"HISTOP22\",\n",
    "    \"HISTOP5A\",\n",
    "]\n",
    "\n",
    "insurance_data = df_cleaned_new.drop(columns=column_insurance_stopped)"
   ]
  },
  {
   "cell_type": "code",
   "execution_count": 6,
   "metadata": {},
   "outputs": [
    {
     "data": {
      "text/plain": [
       "Index(['YEAR', 'SERIAL', 'NHISHID', 'PERNUM', 'NHISPID', 'AGE', 'SEX',\n",
       "       'RACENEW', 'OCC', 'INCFAM97ON2', 'EARNIMP1', 'HINOTCOVE', 'HINOUNEMPR',\n",
       "       'HINOEMPR', 'HINOFAMR', 'HINOAGER', 'HINOCOSTR', 'HINOREFUSER',\n",
       "       'HINOTHER', 'CNLUNG', 'CNLUNGAG', 'SMOKESTATUS2'],\n",
       "      dtype='object')"
      ]
     },
     "execution_count": 6,
     "metadata": {},
     "output_type": "execute_result"
    }
   ],
   "source": [
    "insurance_data.columns"
   ]
  },
  {
   "cell_type": "markdown",
   "metadata": {},
   "source": [
    "---"
   ]
  },
  {
   "cell_type": "code",
   "execution_count": 7,
   "metadata": {},
   "outputs": [
    {
     "name": "stdout",
     "output_type": "stream",
     "text": [
      "Missing Value Percentage of cleaned DF:\n",
      "YEAR            0.0\n",
      "SERIAL          0.0\n",
      "NHISHID         0.0\n",
      "PERNUM          0.0\n",
      "NHISPID         0.0\n",
      "AGE             0.0\n",
      "SEX             0.0\n",
      "RACENEW         0.0\n",
      "OCC             0.0\n",
      "INCFAM97ON2     0.0\n",
      "EARNIMP1        0.0\n",
      "HINOTCOVE       0.0\n",
      "HINOUNEMPR      0.0\n",
      "HINOEMPR        0.0\n",
      "HINOFAMR        0.0\n",
      "HINOAGER        0.0\n",
      "HINOCOSTR       0.0\n",
      "HINOREFUSER     0.0\n",
      "HINOTHER        0.0\n",
      "CNLUNG          0.0\n",
      "CNLUNGAG        0.0\n",
      "SMOKESTATUS2    0.0\n",
      "dtype: float64\n"
     ]
    }
   ],
   "source": [
    "# drop rows where 'YEAR' > 2018 or 'YEAR' < 2000\n",
    "insurance_data = insurance_data[\n",
    "    (insurance_data[\"YEAR\"] >= 2000) & (insurance_data[\"YEAR\"] <= 2018)\n",
    "]\n",
    "\n",
    "# calculate missing percentages\n",
    "total_values = insurance_data.shape[0]\n",
    "missing_values = insurance_data.isna().sum()\n",
    "missing_percentage = (missing_values / total_values) * 100\n",
    "\n",
    "# print missing percentages\n",
    "print(\"Missing Value Percentage of cleaned DF:\")\n",
    "print(missing_percentage)"
   ]
  },
  {
   "cell_type": "code",
   "execution_count": 8,
   "metadata": {},
   "outputs": [
    {
     "data": {
      "text/plain": [
       "(1762659, 22)"
      ]
     },
     "execution_count": 8,
     "metadata": {},
     "output_type": "execute_result"
    }
   ],
   "source": [
    "insurance_data.shape"
   ]
  },
  {
   "cell_type": "markdown",
   "metadata": {},
   "source": [
    "#### In our analysis, we have dropped all values for where 'YEAR' < 2000 or 'YEAR' > 2018. Despite dropping these values, we still retain a substantial number of observations, totaling 1,762,659. This sizable dataset ensures that our analysis remains robust."
   ]
  },
  {
   "cell_type": "markdown",
   "metadata": {},
   "source": [
    "---"
   ]
  },
  {
   "cell_type": "markdown",
   "metadata": {},
   "source": [
    "#### NOTE: 'RACENEW' variable"
   ]
  },
  {
   "cell_type": "code",
   "execution_count": 9,
   "metadata": {},
   "outputs": [
    {
     "data": {
      "text/plain": [
       "RACENEW\n",
       "100.0    1338182\n",
       "200.0     250073\n",
       "400.0      97853\n",
       "541.0      38289\n",
       "300.0      18045\n",
       "520.0      16690\n",
       "530.0       3527\n",
       "Name: count, dtype: int64"
      ]
     },
     "execution_count": 9,
     "metadata": {},
     "output_type": "execute_result"
    }
   ],
   "source": [
    "insurance_data[\"RACENEW\"].value_counts()"
   ]
  },
  {
   "cell_type": "markdown",
   "metadata": {},
   "source": [
    "Self-reported Race (Post-1997 OMB standards)\n",
    "\n",
    "RACENEW provides information on self-reported race of sample adults and sample children (and prior to 2019, all persons), using the October 30, 1997 revision of Statistical Policy Directive No. 15, Race and Ethnic Standards for Federal Statistics and Administrative Reporting.\n",
    "\n",
    "100 White only\n",
    "\n",
    "200 Black/African American only\n",
    "\n",
    "300 American Indian/Alaska Native only\n",
    "\n",
    "400 Asian only\n",
    "\n",
    "~~500 Other Race and Multiple Race~~\n",
    "\n",
    "~~510 Other Race and Multiple Race (2019-forward: Excluding American Indian/Alaska Native)~~\n",
    "\n",
    "520 Other Race\n",
    "\n",
    "530 Race Group Not Releasable\n",
    "\n",
    "~~540 Multiple Race~~\n",
    "\n",
    "541 Multiple Race (1999-2018: Including American Indian/Alaska Native)\n",
    "\n",
    "~~542 American Indian/Alaska Native and Any Other Race~~\n",
    "\n",
    "~~997 Unknown-Refused~~\n",
    "\n",
    "~~998 Unknown-Not ascertained~~\n",
    "\n",
    "~~999 Unknown-Don't Know~~"
   ]
  },
  {
   "cell_type": "code",
   "execution_count": 10,
   "metadata": {},
   "outputs": [],
   "source": [
    "# drop records where 'RACENEW' is equal to 530.0\n",
    "insurance_data = insurance_data[insurance_data[\"RACENEW\"] != 530.0]"
   ]
  },
  {
   "cell_type": "markdown",
   "metadata": {},
   "source": [
    "> dropped this category since race is not known/released"
   ]
  },
  {
   "cell_type": "markdown",
   "metadata": {},
   "source": [
    "---"
   ]
  },
  {
   "cell_type": "markdown",
   "metadata": {},
   "source": [
    "#### dealing with INCFAM97ON2"
   ]
  },
  {
   "attachments": {
    "image.png": {
     "image/png": "[encoded data removed]"
    }
   },
   "cell_type": "markdown",
   "metadata": {},
   "source": [
    "![image.png](attachment:image.png)"
   ]
  },
  {
   "cell_type": "markdown",
   "metadata": {},
   "source": [
    "> categories 97, 98, 99 should dropped likely (not dropping yet depending on regression needs)"
   ]
  },
  {
   "cell_type": "code",
   "execution_count": 11,
   "metadata": {},
   "outputs": [
    {
     "data": {
      "text/plain": [
       "INCFAM97ON2\n",
       "10.0    541224\n",
       "20.0    470043\n",
       "32.0    225207\n",
       "31.0    118464\n",
       "30.0    117040\n",
       "96.0    100649\n",
       "99.0     92780\n",
       "98.0     55476\n",
       "97.0     38249\n",
       "Name: count, dtype: int64"
      ]
     },
     "execution_count": 11,
     "metadata": {},
     "output_type": "execute_result"
    }
   ],
   "source": [
    "insurance_data[\"INCFAM97ON2\"].value_counts()"
   ]
  },
  {
   "cell_type": "markdown",
   "metadata": {},
   "source": [
    "---"
   ]
  },
  {
   "cell_type": "markdown",
   "metadata": {},
   "source": [
    "#### dealing with EARNIMP1"
   ]
  },
  {
   "attachments": {
    "image.png": {
     "image/png": "[encoded data removed]"
    }
   },
   "cell_type": "markdown",
   "metadata": {},
   "source": [
    "![image.png](attachment:image.png)"
   ]
  },
  {
   "cell_type": "markdown",
   "metadata": {},
   "source": [
    "> more categories exist all the way till '70' but category '0' is the focus here since it is Not-In-Universe. Not dropping yet depending on regression needs."
   ]
  },
  {
   "cell_type": "code",
   "execution_count": 12,
   "metadata": {},
   "outputs": [
    {
     "data": {
      "text/plain": [
       "EARNIMP1\n",
       "0.0     881279\n",
       "1.0      80644\n",
       "3.0      79949\n",
       "5.0      74934\n",
       "4.0      72240\n",
       "2.0      72231\n",
       "10.0     50869\n",
       "12.0     38966\n",
       "11.0     37835\n",
       "20.0     37483\n",
       "21.0     31352\n",
       "22.0     30495\n",
       "60.0     28526\n",
       "30.0     25877\n",
       "32.0     25574\n",
       "70.0     25399\n",
       "31.0     22884\n",
       "42.0     18650\n",
       "40.0     16387\n",
       "41.0     14983\n",
       "52.0     12791\n",
       "51.0     12097\n",
       "50.0     10839\n",
       "62.0     10117\n",
       "61.0      9527\n",
       "67.0      7962\n",
       "64.0      6991\n",
       "63.0      6011\n",
       "69.0      5046\n",
       "66.0      4803\n",
       "65.0      4143\n",
       "68.0      2248\n",
       "Name: count, dtype: int64"
      ]
     },
     "execution_count": 12,
     "metadata": {},
     "output_type": "execute_result"
    }
   ],
   "source": [
    "insurance_data[\"EARNIMP1\"].value_counts()"
   ]
  },
  {
   "cell_type": "markdown",
   "metadata": {},
   "source": [
    "---"
   ]
  },
  {
   "cell_type": "code",
   "execution_count": 13,
   "metadata": {},
   "outputs": [
    {
     "name": "stdout",
     "output_type": "stream",
     "text": [
      "Value counts for column 'HINOTCOVE':\n",
      "HINOTCOVE\n",
      "1.0    1479332\n",
      "2.0     262615\n",
      "9.0      17185\n",
      "Name: count, dtype: int64\n",
      "Value counts for column 'HINOUNEMPR':\n",
      "HINOUNEMPR\n",
      "0.0    1511493\n",
      "1.0     184045\n",
      "2.0      56488\n",
      "9.0       5726\n",
      "7.0        924\n",
      "8.0        456\n",
      "Name: count, dtype: int64\n",
      "Value counts for column 'HINOEMPR':\n",
      "HINOEMPR\n",
      "0.0    1511493\n",
      "1.0     208882\n",
      "2.0      31651\n",
      "9.0       5726\n",
      "7.0        924\n",
      "8.0        456\n",
      "Name: count, dtype: int64\n",
      "Value counts for column 'HINOFAMR':\n",
      "HINOFAMR\n",
      "0.0    1511493\n",
      "1.0     217496\n",
      "2.0      23037\n",
      "9.0       5726\n",
      "7.0        924\n",
      "8.0        456\n",
      "Name: count, dtype: int64\n",
      "Value counts for column 'HINOAGER':\n",
      "HINOAGER\n",
      "0.0    1511493\n",
      "1.0     223120\n",
      "2.0      17413\n",
      "9.0       7106\n",
      "Name: count, dtype: int64\n",
      "Value counts for column 'HINOCOSTR':\n",
      "HINOCOSTR\n",
      "0.0    1511493\n",
      "2.0     121536\n",
      "1.0     118997\n",
      "9.0       7106\n",
      "Name: count, dtype: int64\n",
      "Value counts for column 'HINOREFUSER':\n",
      "HINOREFUSER\n",
      "0.0    1511493\n",
      "1.0     238218\n",
      "9.0       7106\n",
      "2.0       2315\n",
      "Name: count, dtype: int64\n",
      "Value counts for column 'HINOTHER':\n",
      "HINOTHER\n",
      "0.0    1511493\n",
      "1.0     228067\n",
      "2.0      12466\n",
      "9.0       5726\n",
      "7.0        924\n",
      "8.0        456\n",
      "Name: count, dtype: int64\n"
     ]
    }
   ],
   "source": [
    "# Print value counts for the filtered 'HINOTCOVE' column\n",
    "print(\"Value counts for column 'HINOTCOVE':\")\n",
    "print(insurance_data[\"HINOTCOVE\"].value_counts())\n",
    "\n",
    "# Print value counts for the filtered 'HINOUNEMPR' column\n",
    "print(\"Value counts for column 'HINOUNEMPR':\")\n",
    "print(insurance_data[\"HINOUNEMPR\"].value_counts())\n",
    "\n",
    "# Print value counts for the filtered 'HINOEMPR' column\n",
    "print(\"Value counts for column 'HINOEMPR':\")\n",
    "print(insurance_data[\"HINOEMPR\"].value_counts())\n",
    "\n",
    "# Print value counts for the filtered 'HINOFAMR' column\n",
    "print(\"Value counts for column 'HINOFAMR':\")\n",
    "print(insurance_data[\"HINOFAMR\"].value_counts())\n",
    "\n",
    "# Print value counts for the filtered 'HINOAGER' column\n",
    "print(\"Value counts for column 'HINOAGER':\")\n",
    "print(insurance_data[\"HINOAGER\"].value_counts())\n",
    "\n",
    "# Print value counts for the filtered 'HINOCOSTR' column\n",
    "print(\"Value counts for column 'HINOCOSTR':\")\n",
    "print(insurance_data[\"HINOCOSTR\"].value_counts())\n",
    "\n",
    "# Print value counts for the filtered 'HINOREFUSER' column\n",
    "print(\"Value counts for column 'HINOREFUSER':\")\n",
    "print(insurance_data[\"HINOREFUSER\"].value_counts())\n",
    "\n",
    "# Print value counts for the filtered 'HINOTHER' column\n",
    "print(\"Value counts for column 'HINOTHER':\")\n",
    "print(insurance_data[\"HINOTHER\"].value_counts())"
   ]
  },
  {
   "cell_type": "code",
   "execution_count": 14,
   "metadata": {},
   "outputs": [
    {
     "data": {
      "text/plain": [
       "(1759132, 23)"
      ]
     },
     "execution_count": 14,
     "metadata": {},
     "output_type": "execute_result"
    }
   ],
   "source": [
    "insurance_data.shape"
   ]
  },
  {
   "cell_type": "code",
   "execution_count": 15,
   "metadata": {},
   "outputs": [],
   "source": [
    "# # Filter the 'HINOTCOVE' column\n",
    "# condition_HINOTCOVE = (insurance_data[\"HINOTCOVE\"] == 1.0) | (\n",
    "#     insurance_data[\"HINOTCOVE\"] == 2.0\n",
    "# )\n",
    "# insurance_data = insurance_data[condition_HINOTCOVE]\n",
    "\n",
    "# # Filter the 'HINOUNEMPR' column\n",
    "# condition_HINOUNEMPR = (insurance_data[\"HINOUNEMPR\"] == 1.0) | (\n",
    "#     insurance_data[\"HINOUNEMPR\"] == 2.0\n",
    "# )\n",
    "# insurance_data = insurance_data[condition_HINOUNEMPR]\n",
    "\n",
    "# # Filter the 'HINOEMPR' column\n",
    "# condition_HINOEMPR = (insurance_data[\"HINOEMPR\"] == 1.0) | (\n",
    "#     insurance_data[\"HINOEMPR\"] == 2.0\n",
    "# )\n",
    "# insurance_data = insurance_data[condition_HINOEMPR]\n",
    "\n",
    "# # Filter the 'HINOFAMR' column\n",
    "# condition_HINOFAMR = (insurance_data[\"HINOFAMR\"] == 1.0) | (\n",
    "#     insurance_data[\"HINOFAMR\"] == 2.0\n",
    "# )\n",
    "# insurance_data = insurance_data[condition_HINOFAMR]\n",
    "\n",
    "# # Filter the 'HINOAGER' column\n",
    "# condition_HINOAGER = (insurance_data[\"HINOAGER\"] == 1.0) | (\n",
    "#     insurance_data[\"HINOAGER\"] == 2.0\n",
    "# )\n",
    "# insurance_data = insurance_data[condition_HINOAGER]\n",
    "\n",
    "# # Filter the 'HINOCOSTR' column\n",
    "# condition_HINOCOSTR = (insurance_data[\"HINOCOSTR\"] == 1.0) | (\n",
    "#     insurance_data[\"HINOCOSTR\"] == 2.0\n",
    "# )\n",
    "# insurance_data = insurance_data[condition_HINOCOSTR]\n",
    "\n",
    "# # Filter the 'HINOREFUSER' column\n",
    "# condition_HINOREFUSER = (insurance_data[\"HINOREFUSER\"] == 1.0) | (\n",
    "#     insurance_data[\"HINOREFUSER\"] == 2.0\n",
    "# )\n",
    "# insurance_data = insurance_data[condition_HINOREFUSER]\n",
    "\n",
    "# # Filter the 'HINOTHER' column\n",
    "# condition_HINOTHER = (insurance_data[\"HINOTHER\"] == 1.0) | (\n",
    "#     insurance_data[\"HINOTHER\"] == 2.0\n",
    "# )\n",
    "# insurance_data = insurance_data[condition_HINOTHER]"
   ]
  },
  {
   "cell_type": "code",
   "execution_count": 16,
   "metadata": {},
   "outputs": [
    {
     "name": "stdout",
     "output_type": "stream",
     "text": [
      "Value counts for column 'HINOTCOVE':\n",
      "HINOTCOVE\n",
      "2.0    240531\n",
      "Name: count, dtype: int64\n",
      "Value counts for column 'HINOUNEMPR':\n",
      "HINOUNEMPR\n",
      "1.0    184044\n",
      "2.0     56487\n",
      "Name: count, dtype: int64\n",
      "Value counts for column 'HINOEMPR':\n",
      "HINOEMPR\n",
      "1.0    208880\n",
      "2.0     31651\n",
      "Name: count, dtype: int64\n",
      "Value counts for column 'HINOFAMR':\n",
      "HINOFAMR\n",
      "1.0    217494\n",
      "2.0     23037\n",
      "Name: count, dtype: int64\n",
      "Value counts for column 'HINOAGER':\n",
      "HINOAGER\n",
      "1.0    223118\n",
      "2.0     17413\n",
      "Name: count, dtype: int64\n",
      "Value counts for column 'HINOCOSTR':\n",
      "HINOCOSTR\n",
      "2.0    121535\n",
      "1.0    118996\n",
      "Name: count, dtype: int64\n",
      "Value counts for column 'HINOREFUSER':\n",
      "HINOREFUSER\n",
      "1.0    238216\n",
      "2.0      2315\n",
      "Name: count, dtype: int64\n",
      "Value counts for column 'HINOTHER':\n",
      "HINOTHER\n",
      "1.0    228066\n",
      "2.0     12465\n",
      "Name: count, dtype: int64\n"
     ]
    }
   ],
   "source": [
    "# Print value counts for the filtered 'HINOTCOVE' column\n",
    "print(\"Value counts for column 'HINOTCOVE':\")\n",
    "print(insurance_data[\"HINOTCOVE\"].value_counts())\n",
    "\n",
    "# Print value counts for the filtered 'HINOUNEMPR' column\n",
    "print(\"Value counts for column 'HINOUNEMPR':\")\n",
    "print(insurance_data[\"HINOUNEMPR\"].value_counts())\n",
    "\n",
    "# Print value counts for the filtered 'HINOEMPR' column\n",
    "print(\"Value counts for column 'HINOEMPR':\")\n",
    "print(insurance_data[\"HINOEMPR\"].value_counts())\n",
    "\n",
    "# Print value counts for the filtered 'HINOFAMR' column\n",
    "print(\"Value counts for column 'HINOFAMR':\")\n",
    "print(insurance_data[\"HINOFAMR\"].value_counts())\n",
    "\n",
    "# Print value counts for the filtered 'HINOAGER' column\n",
    "print(\"Value counts for column 'HINOAGER':\")\n",
    "print(insurance_data[\"HINOAGER\"].value_counts())\n",
    "\n",
    "# Print value counts for the filtered 'HINOCOSTR' column\n",
    "print(\"Value counts for column 'HINOCOSTR':\")\n",
    "print(insurance_data[\"HINOCOSTR\"].value_counts())\n",
    "\n",
    "# Print value counts for the filtered 'HINOREFUSER' column\n",
    "print(\"Value counts for column 'HINOREFUSER':\")\n",
    "print(insurance_data[\"HINOREFUSER\"].value_counts())\n",
    "\n",
    "# Print value counts for the filtered 'HINOTHER' column\n",
    "print(\"Value counts for column 'HINOTHER':\")\n",
    "print(insurance_data[\"HINOTHER\"].value_counts())"
   ]
  },
  {
   "cell_type": "code",
   "execution_count": 14,
   "metadata": {},
   "outputs": [
    {
     "data": {
      "text/plain": [
       "(1759132, 22)"
      ]
     },
     "execution_count": 14,
     "metadata": {},
     "output_type": "execute_result"
    }
   ],
   "source": [
    "insurance_data.shape"
   ]
  },
  {
   "cell_type": "markdown",
   "metadata": {},
   "source": [
    "### FIGURE THIS OUT"
   ]
  },
  {
   "cell_type": "markdown",
   "metadata": {},
   "source": [
    "---"
   ]
  },
  {
   "cell_type": "markdown",
   "metadata": {},
   "source": [
    "#### handling OCC"
   ]
  },
  {
   "cell_type": "code",
   "execution_count": 15,
   "metadata": {},
   "outputs": [
    {
     "name": "stdout",
     "output_type": "stream",
     "text": [
      "         YEAR  SERIAL     NHISHID  PERNUM         NHISPID  AGE  SEX  RACENEW  \\\n",
      "1059115  2000       1  2000000001       1  20000000010101   28    1    100.0   \n",
      "1059116  2000       1  2000000001       2  20000000010102   35    2    100.0   \n",
      "1059117  2000       1  2000000001       3  20000000010103   14    2    100.0   \n",
      "1059118  2000       1  2000000001       4  20000000010104   11    1    100.0   \n",
      "1059119  2000       1  2000000001       5  20000000010105    4    1    100.0   \n",
      "\n",
      "          OCC  INCFAM97ON2  EARNIMP1  HINOTCOVE  HINOUNEMPR  HINOEMPR  \\\n",
      "1059115   0.0         30.0      50.0        1.0         0.0       0.0   \n",
      "1059116  25.0         30.0       2.0        1.0         0.0       0.0   \n",
      "1059117   0.0         30.0       0.0        1.0         0.0       0.0   \n",
      "1059118   0.0         30.0       0.0        1.0         0.0       0.0   \n",
      "1059119   0.0         30.0       0.0        1.0         0.0       0.0   \n",
      "\n",
      "         HINOFAMR  HINOAGER  HINOCOSTR  HINOREFUSER  HINOTHER  CNLUNG  \\\n",
      "1059115       0.0       0.0        0.0          0.0       0.0     0.0   \n",
      "1059116       0.0       0.0        0.0          0.0       0.0     0.0   \n",
      "1059117       0.0       0.0        0.0          0.0       0.0     0.0   \n",
      "1059118       0.0       0.0        0.0          0.0       0.0     0.0   \n",
      "1059119       0.0       0.0        0.0          0.0       0.0     0.0   \n",
      "\n",
      "         CNLUNGAG  SMOKESTATUS2  Occupation_Category  \n",
      "1059115      96.0           0.0      Not in Universe  \n",
      "1059116      96.0          20.0  Service Occupations  \n",
      "1059117      96.0           0.0      Not in Universe  \n",
      "1059118      96.0           0.0      Not in Universe  \n",
      "1059119      96.0           0.0      Not in Universe  \n"
     ]
    }
   ],
   "source": [
    "# define the occupation categories mapping dictionaries with decimal codes\n",
    "occupation_categories_mapping_2000 = {\n",
    "    0.0: \"Not in Universe\",\n",
    "    1.0: \"Executive, Administrative, and Managerial Occupations\",\n",
    "    2.0: \"Executive, Administrative, and Managerial Occupations\",\n",
    "    3.0: \"Executive, Administrative, and Managerial Occupations\",\n",
    "    4.0: \"Professional Specialty Occupations\",\n",
    "    5.0: \"Professional Specialty Occupations\",\n",
    "    6.0: \"Professional Specialty Occupations\",\n",
    "    7.0: \"Professional Specialty Occupations\",\n",
    "    8.0: \"Professional Specialty Occupations\",\n",
    "    9.0: \"Professional Specialty Occupations\",\n",
    "    10.0: \"Professional Specialty Occupations\",\n",
    "    11.0: \"Professional Specialty Occupations\",\n",
    "    12.0: \"Technicians and Related Support Occupations\",\n",
    "    13.0: \"Technicians and Related Support Occupations\",\n",
    "    14.0: \"Sales Occupations\",\n",
    "    15.0: \"Sales Occupations\",\n",
    "    16.0: \"Sales Occupations\",\n",
    "    17.0: \"Administrative Support Occupations, Including Clerical\",\n",
    "    18.0: \"Administrative Support Occupations, Including Clerical\",\n",
    "    19.0: \"Administrative Support Occupations, Including Clerical\",\n",
    "    20.0: \"Administrative Support Occupations, Including Clerical\",\n",
    "    21.0: \"Administrative Support Occupations, Including Clerical\",\n",
    "    22.0: \"Service Occupations\",\n",
    "    23.0: \"Service Occupations\",\n",
    "    24.0: \"Service Occupations\",\n",
    "    25.0: \"Service Occupations\",\n",
    "    26.0: \"Service Occupations\",\n",
    "    27.0: \"Service Occupations\",\n",
    "    28.0: \"Service Occupations\",\n",
    "    29.0: \"Farming, Forestry, and Fishing Occupations\",\n",
    "    30.0: \"Farming, Forestry, and Fishing Occupations\",\n",
    "    31.0: \"Farming, Forestry, and Fishing Occupations\",\n",
    "    32.0: \"Precision Production, Craft, and Repair Occupations\",\n",
    "    33.0: \"Precision Production, Craft, and Repair Occupations\",\n",
    "    34.0: \"Precision Production, Craft, and Repair Occupations\",\n",
    "    35.0: \"Operators, Fabricators, and Laborers\",\n",
    "    36.0: \"Operators, Fabricators, and Laborers\",\n",
    "    37.0: \"Transportation and Material Moving Occupations\",\n",
    "    38.0: \"Transportation and Material Moving Occupations\",\n",
    "    39.0: \"Transportation and Material Moving Occupations\",\n",
    "    40.0: \"Handlers, Equipment Cleaners, Helpers, and Laborers\",\n",
    "    41.0: \"Handlers, Equipment Cleaners, Helpers, and Laborers\",\n",
    "    95.0: \"Unknown Occupation\",\n",
    "    96.0: \"Unknown Occupation\",\n",
    "    97.0: \"Unknown Occupation\",\n",
    "    98.0: \"Unknown Occupation\",\n",
    "    99.0: \"Unknown Occupation\",\n",
    "    50.0: \"Military\",\n",
    "}\n",
    "\n",
    "occupation_categories_mapping_2004 = {\n",
    "    0.0: \"Not in Universe\",\n",
    "    1.0: \"Management Occupations\",\n",
    "    2.0: \"Management Occupations\",\n",
    "    3.0: \"Management Occupations\",\n",
    "    4.0: \"Management Occupations\",\n",
    "    5.0: \"Business and Financial Operations Occupations\",\n",
    "    6.0: \"Business and Financial Operations Occupations\",\n",
    "    7.0: \"Computer and Mathematical Occupations\",\n",
    "    8.0: \"Computer and Mathematical Occupations\",\n",
    "    9.0: \"Architecture and Engineering Occupations\",\n",
    "    10.0: \"Architecture and Engineering Occupations\",\n",
    "    11.0: \"Architecture and Engineering Occupations\",\n",
    "    12.0: \"Life, Physical, and Social Science Occupations\",\n",
    "    13.0: \"Life, Physical, and Social Science Occupations\",\n",
    "    14.0: \"Life, Physical, and Social Science Occupations\",\n",
    "    15.0: \"Life, Physical, and Social Science Occupations\",\n",
    "    16.0: \"Community and Social Service Occupations\",\n",
    "    17.0: \"Community and Social Service Occupations\",\n",
    "    18.0: \"Legal Occupations\",\n",
    "    19.0: \"Legal Occupations\",\n",
    "    20.0: \"Education, Training, and Library Occupations\",\n",
    "    21.0: \"Education, Training, and Library Occupations\",\n",
    "    22.0: \"Education, Training, and Library Occupations\",\n",
    "    23.0: \"Education, Training, and Library Occupations\",\n",
    "    24.0: \"Education, Training, and Library Occupations\",\n",
    "    25.0: \"Arts, Design, Entertainment, Sports, and Media Occupations\",\n",
    "    26.0: \"Arts, Design, Entertainment, Sports, and Media Occupations\",\n",
    "    27.0: \"Arts, Design, Entertainment, Sports, and Media Occupations\",\n",
    "    28.0: \"Arts, Design, Entertainment, Sports, and Media Occupations\",\n",
    "    29.0: \"Healthcare Practitioners and Technical Occupations\",\n",
    "    30.0: \"Healthcare Practitioners and Technical Occupations\",\n",
    "    31.0: \"Healthcare Practitioners and Technical Occupations\",\n",
    "    32.0: \"Healthcare Support Occupations\",\n",
    "    33.0: \"Healthcare Support Occupations\",\n",
    "    34.0: \"Healthcare Support Occupations\",\n",
    "    35.0: \"Protective Service Occupations\",\n",
    "    36.0: \"Protective Service Occupations\",\n",
    "    37.0: \"Protective Service Occupations\",\n",
    "    38.0: \"Protective Service Occupations\",\n",
    "    39.0: \"Food Preparation and Serving Related Occupations\",\n",
    "    40.0: \"Food Preparation and Serving Related Occupations\",\n",
    "    41.0: \"Food Preparation and Serving Related Occupations\",\n",
    "    42.0: \"Food Preparation and Serving Related Occupations\",\n",
    "    43.0: \"Building and Grounds Cleaning and Maintenance Occupations\",\n",
    "    44.0: \"Building and Grounds Cleaning and Maintenance Occupations\",\n",
    "    45.0: \"Building and Grounds Cleaning and Maintenance Occupations\",\n",
    "    46.0: \"Personal Care and Service Occupations\",\n",
    "    47.0: \"Personal Care and Service Occupations\",\n",
    "    48.0: \"Personal Care and Service Occupations\",\n",
    "    49.0: \"Personal Care and Service Occupations\",\n",
    "    50.0: \"Personal Care and Service Occupations\",\n",
    "    51.0: \"Personal Care and Service Occupations\",\n",
    "    52.0: \"Personal Care and Service Occupations\",\n",
    "    53.0: \"Sales and Related Occupations\",\n",
    "    54.0: \"Sales and Related Occupations\",\n",
    "    55.0: \"Sales and Related Occupations\",\n",
    "    56.0: \"Sales and Related Occupations\",\n",
    "    57.0: \"Sales and Related Occupations\",\n",
    "    58.0: \"Office and Administrative Support Occupations\",\n",
    "    59.0: \"Office and Administrative Support Occupations\",\n",
    "    60.0: \"Office and Administrative Support Occupations\",\n",
    "    61.0: \"Office and Administrative Support Occupations\",\n",
    "    62.0: \"Office and Administrative Support Occupations\",\n",
    "    63.0: \"Office and Administrative Support Occupations\",\n",
    "    64.0: \"Office and Administrative Support Occupations\",\n",
    "    65.0: \"Farming, Fishing, and Forestry Occupations\",\n",
    "    66.0: \"Farming, Fishing, and Forestry Occupations\",\n",
    "    67.0: \"Farming, Fishing, and Forestry Occupations\",\n",
    "    68.0: \"Farming, Fishing, and Forestry Occupations\",\n",
    "    69.0: \"Construction and Extraction Occupations\",\n",
    "    70.0: \"Construction and Extraction Occupations\",\n",
    "    71.0: \"Construction and Extraction Occupations\",\n",
    "    72.0: \"Construction and Extraction Occupations\",\n",
    "    73.0: \"Construction and Extraction Occupations\",\n",
    "    74.0: \"Installation, Maintenance, and Repair Occupations\",\n",
    "    75.0: \"Installation, Maintenance, and Repair Occupations\",\n",
    "    76.0: \"Installation, Maintenance, and Repair Occupations\",\n",
    "    77.0: \"Installation, Maintenance, and Repair Occupations\",\n",
    "    78.0: \"Production Occupations\",\n",
    "    79.0: \"Production Occupations\",\n",
    "    80.0: \"Production Occupations\",\n",
    "    81.0: \"Production Occupations\",\n",
    "    82.0: \"Production Occupations\",\n",
    "    83.0: \"Production Occupations\",\n",
    "    84.0: \"Production Occupations\",\n",
    "    85.0: \"Production Occupations\",\n",
    "    86.0: \"Production Occupations\",\n",
    "    87.0: \"Transportation and Material Moving Occupations\",\n",
    "    88.0: \"Transportation and Material Moving Occupations\",\n",
    "    89.0: \"Transportation and Material Moving Occupations\",\n",
    "    90.0: \"Transportation and Material Moving Occupations\",\n",
    "    91.0: \"Transportation and Material Moving Occupations\",\n",
    "    92.0: \"Transportation and Material Moving Occupations\",\n",
    "    93.0: \"Transportation and Material Moving Occupations\",\n",
    "    94.0: \"Military\",\n",
    "    97.0: \"Unknown Occupation\",\n",
    "    98.0: \"Unknown Occupation\",\n",
    "    99.0: \"Unknown Occupation\",\n",
    "}\n",
    "\n",
    "# define mappings for 2005, 2006, etc.\n",
    "occupation_categories_mapping_2005 = occupation_categories_mapping_2004.copy()\n",
    "occupation_categories_mapping_2006 = occupation_categories_mapping_2004.copy()\n",
    "occupation_categories_mapping_2007 = occupation_categories_mapping_2004.copy()\n",
    "occupation_categories_mapping_2008 = occupation_categories_mapping_2004.copy()\n",
    "occupation_categories_mapping_2009 = occupation_categories_mapping_2004.copy()\n",
    "occupation_categories_mapping_2010 = occupation_categories_mapping_2004.copy()\n",
    "occupation_categories_mapping_2011 = occupation_categories_mapping_2004.copy()\n",
    "occupation_categories_mapping_2012 = occupation_categories_mapping_2004.copy()\n",
    "occupation_categories_mapping_2013 = occupation_categories_mapping_2004.copy()\n",
    "occupation_categories_mapping_2014 = occupation_categories_mapping_2004.copy()\n",
    "occupation_categories_mapping_2015 = occupation_categories_mapping_2004.copy()\n",
    "occupation_categories_mapping_2016 = occupation_categories_mapping_2004.copy()\n",
    "occupation_categories_mapping_2017 = occupation_categories_mapping_2004.copy()\n",
    "occupation_categories_mapping_2018 = occupation_categories_mapping_2004.copy()\n",
    "\n",
    "# combine all mappings for different years\n",
    "occupation_categories_mapping = {\n",
    "    \"2000\": occupation_categories_mapping_2000,\n",
    "    \"2001\": occupation_categories_mapping_2000,\n",
    "    \"2002\": occupation_categories_mapping_2000,\n",
    "    \"2003\": occupation_categories_mapping_2000,\n",
    "    \"2004\": occupation_categories_mapping_2004,\n",
    "    \"2005\": occupation_categories_mapping_2005,\n",
    "    \"2006\": occupation_categories_mapping_2006,\n",
    "    \"2007\": occupation_categories_mapping_2007,\n",
    "    \"2008\": occupation_categories_mapping_2008,\n",
    "    \"2009\": occupation_categories_mapping_2009,\n",
    "    \"2010\": occupation_categories_mapping_2010,\n",
    "    \"2011\": occupation_categories_mapping_2011,\n",
    "    \"2012\": occupation_categories_mapping_2012,\n",
    "    \"2013\": occupation_categories_mapping_2013,\n",
    "    \"2014\": occupation_categories_mapping_2014,\n",
    "    \"2015\": occupation_categories_mapping_2015,\n",
    "    \"2016\": occupation_categories_mapping_2016,\n",
    "    \"2017\": occupation_categories_mapping_2017,\n",
    "    \"2018\": occupation_categories_mapping_2018,\n",
    "}\n",
    "\n",
    "# convert 'YEAR' column to string type\n",
    "insurance_data[\"YEAR\"] = insurance_data[\"YEAR\"].astype(str)\n",
    "\n",
    "# map the values in the 'OCC' column based on the mapping dictionary for each year\n",
    "insurance_data[\"Occupation_Category\"] = insurance_data.apply(\n",
    "    lambda row: occupation_categories_mapping[row[\"YEAR\"]].get(row[\"OCC\"], \"Unknown\"),\n",
    "    axis=1,\n",
    ")\n",
    "\n",
    "# check the first few rows to verify the mapping\n",
    "print(insurance_data.head())"
   ]
  },
  {
   "cell_type": "markdown",
   "metadata": {},
   "source": [
    "> one decision to make is whether to drop NIU values"
   ]
  },
  {
   "cell_type": "markdown",
   "metadata": {},
   "source": [
    "---"
   ]
  },
  {
   "cell_type": "markdown",
   "metadata": {},
   "source": [
    "#### creating SMK variable"
   ]
  },
  {
   "cell_type": "code",
   "execution_count": 16,
   "metadata": {},
   "outputs": [
    {
     "data": {
      "text/plain": [
       "SMK\n",
       "Other    1191855\n",
       "No        331002\n",
       "Yes       236275\n",
       "Name: count, dtype: int64"
      ]
     },
     "execution_count": 16,
     "metadata": {},
     "output_type": "execute_result"
    }
   ],
   "source": [
    "def map_smoke(x):\n",
    "    if x == 30:\n",
    "        return \"No\"\n",
    "    elif x in [90, 00]:\n",
    "        return \"Other\"\n",
    "    else:\n",
    "        return \"Yes\"\n",
    "\n",
    "\n",
    "insurance_data[\"SMK\"] = insurance_data[\"SMOKESTATUS2\"].apply(map_smoke)\n",
    "insurance_data[\"SMK\"].value_counts()"
   ]
  },
  {
   "cell_type": "code",
   "execution_count": 17,
   "metadata": {},
   "outputs": [],
   "source": [
    "# reset index\n",
    "insurance_data.reset_index(drop=True, inplace=True)"
   ]
  },
  {
   "cell_type": "code",
   "execution_count": 22,
   "metadata": {},
   "outputs": [],
   "source": [
    "# convert dataframe to csv file\n",
    "insurance_data.to_csv(\"insurance_data.csv\", index=False)"
   ]
  },
  {
   "cell_type": "code",
   "execution_count": 23,
   "metadata": {},
   "outputs": [
    {
     "data": {
      "text/plain": [
       "(1759132, 24)"
      ]
     },
     "execution_count": 23,
     "metadata": {},
     "output_type": "execute_result"
    }
   ],
   "source": [
    "insurance_data.shape"
   ]
  }
 ],
 "metadata": {
  "kernelspec": {
   "display_name": "base",
   "language": "python",
   "name": "python3"
  },
  "language_info": {
   "codemirror_mode": {
    "name": "ipython",
    "version": 3
   },
   "file_extension": ".py",
   "mimetype": "text/x-python",
   "name": "python",
   "nbconvert_exporter": "python",
   "pygments_lexer": "ipython3",
   "version": "3.11.5"
  }
 },
 "nbformat": 4,
 "nbformat_minor": 2
}
