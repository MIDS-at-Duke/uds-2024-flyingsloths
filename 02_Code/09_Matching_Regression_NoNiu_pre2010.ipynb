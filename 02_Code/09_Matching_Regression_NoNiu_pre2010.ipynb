{
  "cells": [
    {
      "cell_type": "code",
      "execution_count": 2,
      "metadata": {
        "id": "CD7VeHhDq64X"
      },
      "outputs": [],
      "source": [
        "import pandas as pd\n",
        "import numpy as np\n",
        "import warnings\n",
        "import matplotlib.pyplot as plt\n",
        "from statsmodels.stats.power import TTestIndPower\n",
        "import statsmodels.api as sm\n",
        "from scipy import stats\n",
        "import statsmodels.formula.api as smf\n",
        "from scipy.stats import chi2_contingency\n",
        "import matplotlib.pyplot as plt\n",
        "from numpy.polynomial.polynomial import Polynomial\n",
        "\n",
        "warnings.filterwarnings(\"ignore\")\n",
        "\n",
        "pd.set_option(\"mode.copy_on_write\", True)"
      ]
    },
    {
      "cell_type": "code",
      "execution_count": 3,
      "metadata": {
        "id": "bHYQICGxq64b"
      },
      "outputs": [
        {
          "data": {
            "text/html": [
              "<div>\n",
              "<style scoped>\n",
              "    .dataframe tbody tr th:only-of-type {\n",
              "        vertical-align: middle;\n",
              "    }\n",
              "\n",
              "    .dataframe tbody tr th {\n",
              "        vertical-align: top;\n",
              "    }\n",
              "\n",
              "    .dataframe thead th {\n",
              "        text-align: right;\n",
              "    }\n",
              "</style>\n",
              "<table border=\"1\" class=\"dataframe\">\n",
              "  <thead>\n",
              "    <tr style=\"text-align: right;\">\n",
              "      <th></th>\n",
              "      <th>YEAR</th>\n",
              "      <th>SEX</th>\n",
              "      <th>RACENEW</th>\n",
              "      <th>INCFAM97ON2</th>\n",
              "      <th>HINOTCOVE</th>\n",
              "      <th>CNLUNG</th>\n",
              "      <th>SMK</th>\n",
              "      <th>Occupation_Code</th>\n",
              "    </tr>\n",
              "  </thead>\n",
              "  <tbody>\n",
              "    <tr>\n",
              "      <th>389913</th>\n",
              "      <td>2017</td>\n",
              "      <td>2</td>\n",
              "      <td>100.0</td>\n",
              "      <td>32.0</td>\n",
              "      <td>2.0</td>\n",
              "      <td>1.0</td>\n",
              "      <td>1</td>\n",
              "      <td>1</td>\n",
              "    </tr>\n",
              "    <tr>\n",
              "      <th>378052</th>\n",
              "      <td>2017</td>\n",
              "      <td>1</td>\n",
              "      <td>100.0</td>\n",
              "      <td>20.0</td>\n",
              "      <td>1.0</td>\n",
              "      <td>2.0</td>\n",
              "      <td>1</td>\n",
              "      <td>9</td>\n",
              "    </tr>\n",
              "    <tr>\n",
              "      <th>110846</th>\n",
              "      <td>2005</td>\n",
              "      <td>1</td>\n",
              "      <td>100.0</td>\n",
              "      <td>30.0</td>\n",
              "      <td>1.0</td>\n",
              "      <td>1.0</td>\n",
              "      <td>1</td>\n",
              "      <td>18</td>\n",
              "    </tr>\n",
              "    <tr>\n",
              "      <th>153944</th>\n",
              "      <td>2008</td>\n",
              "      <td>1</td>\n",
              "      <td>100.0</td>\n",
              "      <td>20.0</td>\n",
              "      <td>2.0</td>\n",
              "      <td>1.0</td>\n",
              "      <td>2</td>\n",
              "      <td>17</td>\n",
              "    </tr>\n",
              "    <tr>\n",
              "      <th>246281</th>\n",
              "      <td>2012</td>\n",
              "      <td>2</td>\n",
              "      <td>200.0</td>\n",
              "      <td>32.0</td>\n",
              "      <td>1.0</td>\n",
              "      <td>1.0</td>\n",
              "      <td>2</td>\n",
              "      <td>7</td>\n",
              "    </tr>\n",
              "  </tbody>\n",
              "</table>\n",
              "</div>"
            ],
            "text/plain": [
              "        YEAR  SEX  RACENEW  INCFAM97ON2  HINOTCOVE  CNLUNG  SMK  \\\n",
              "389913  2017    2    100.0         32.0        2.0     1.0    1   \n",
              "378052  2017    1    100.0         20.0        1.0     2.0    1   \n",
              "110846  2005    1    100.0         30.0        1.0     1.0    1   \n",
              "153944  2008    1    100.0         20.0        2.0     1.0    2   \n",
              "246281  2012    2    200.0         32.0        1.0     1.0    2   \n",
              "\n",
              "        Occupation_Code  \n",
              "389913                1  \n",
              "378052                9  \n",
              "110846               18  \n",
              "153944               17  \n",
              "246281                7  "
            ]
          },
          "execution_count": 3,
          "metadata": {},
          "output_type": "execute_result"
        }
      ],
      "source": [
        "insurance = pd.read_csv(\"../01_Data/02_Processed/01_Insurance_NoMissing.csv\")\n",
        "insurance.sample(5)"
      ]
    },
    {
      "cell_type": "code",
      "execution_count": 4,
      "metadata": {},
      "outputs": [],
      "source": [
        "# dropping all values where year is >= 2010\n",
        "insurance = insurance[insurance[\"YEAR\"] < 2010]"
      ]
    },
    {
      "cell_type": "code",
      "execution_count": 5,
      "metadata": {
        "colab": {
          "base_uri": "https://localhost:8080/"
        },
        "id": "te3EsTcrq64c",
        "outputId": "1ac48d56-11ba-4328-c56e-e9618073aeeb"
      },
      "outputs": [
        {
          "data": {
            "text/plain": [
              "(191658, 8)"
            ]
          },
          "execution_count": 5,
          "metadata": {},
          "output_type": "execute_result"
        }
      ],
      "source": [
        "insurance.shape"
      ]
    },
    {
      "cell_type": "markdown",
      "metadata": {
        "id": "zz3suarKq64e"
      },
      "source": [
        "> Drop the year variable"
      ]
    },
    {
      "cell_type": "code",
      "execution_count": 6,
      "metadata": {
        "id": "UWxYeUeMq64g"
      },
      "outputs": [],
      "source": [
        "# Drop the 'YEAR' variable\n",
        "insurance = insurance.drop(columns=[\"YEAR\"])"
      ]
    },
    {
      "cell_type": "code",
      "execution_count": 7,
      "metadata": {
        "colab": {
          "base_uri": "https://localhost:8080/",
          "height": 206
        },
        "id": "Vp1K_t9Yq64g",
        "outputId": "6b1d8877-484c-40da-8847-e613686c7a48"
      },
      "outputs": [
        {
          "data": {
            "text/html": [
              "<div>\n",
              "<style scoped>\n",
              "    .dataframe tbody tr th:only-of-type {\n",
              "        vertical-align: middle;\n",
              "    }\n",
              "\n",
              "    .dataframe tbody tr th {\n",
              "        vertical-align: top;\n",
              "    }\n",
              "\n",
              "    .dataframe thead th {\n",
              "        text-align: right;\n",
              "    }\n",
              "</style>\n",
              "<table border=\"1\" class=\"dataframe\">\n",
              "  <thead>\n",
              "    <tr style=\"text-align: right;\">\n",
              "      <th></th>\n",
              "      <th>SEX</th>\n",
              "      <th>RACENEW</th>\n",
              "      <th>INCFAM97ON2</th>\n",
              "      <th>HINOTCOVE</th>\n",
              "      <th>CNLUNG</th>\n",
              "      <th>SMK</th>\n",
              "      <th>Occupation_Code</th>\n",
              "    </tr>\n",
              "  </thead>\n",
              "  <tbody>\n",
              "    <tr>\n",
              "      <th>0</th>\n",
              "      <td>2</td>\n",
              "      <td>100.0</td>\n",
              "      <td>30.0</td>\n",
              "      <td>1.0</td>\n",
              "      <td>1.0</td>\n",
              "      <td>1</td>\n",
              "      <td>25</td>\n",
              "    </tr>\n",
              "    <tr>\n",
              "      <th>1</th>\n",
              "      <td>2</td>\n",
              "      <td>100.0</td>\n",
              "      <td>96.0</td>\n",
              "      <td>1.0</td>\n",
              "      <td>1.0</td>\n",
              "      <td>2</td>\n",
              "      <td>25</td>\n",
              "    </tr>\n",
              "    <tr>\n",
              "      <th>2</th>\n",
              "      <td>1</td>\n",
              "      <td>100.0</td>\n",
              "      <td>10.0</td>\n",
              "      <td>2.0</td>\n",
              "      <td>1.0</td>\n",
              "      <td>1</td>\n",
              "      <td>25</td>\n",
              "    </tr>\n",
              "    <tr>\n",
              "      <th>3</th>\n",
              "      <td>1</td>\n",
              "      <td>100.0</td>\n",
              "      <td>10.0</td>\n",
              "      <td>1.0</td>\n",
              "      <td>1.0</td>\n",
              "      <td>1</td>\n",
              "      <td>30</td>\n",
              "    </tr>\n",
              "    <tr>\n",
              "      <th>4</th>\n",
              "      <td>1</td>\n",
              "      <td>100.0</td>\n",
              "      <td>20.0</td>\n",
              "      <td>1.0</td>\n",
              "      <td>1.0</td>\n",
              "      <td>2</td>\n",
              "      <td>22</td>\n",
              "    </tr>\n",
              "  </tbody>\n",
              "</table>\n",
              "</div>"
            ],
            "text/plain": [
              "   SEX  RACENEW  INCFAM97ON2  HINOTCOVE  CNLUNG  SMK  Occupation_Code\n",
              "0    2    100.0         30.0        1.0     1.0    1               25\n",
              "1    2    100.0         96.0        1.0     1.0    2               25\n",
              "2    1    100.0         10.0        2.0     1.0    1               25\n",
              "3    1    100.0         10.0        1.0     1.0    1               30\n",
              "4    1    100.0         20.0        1.0     1.0    2               22"
            ]
          },
          "execution_count": 7,
          "metadata": {},
          "output_type": "execute_result"
        }
      ],
      "source": [
        "insurance.head()"
      ]
    },
    {
      "cell_type": "markdown",
      "metadata": {
        "id": "gCXpGf9-q64h"
      },
      "source": [
        "## Matching"
      ]
    },
    {
      "cell_type": "code",
      "execution_count": 8,
      "metadata": {
        "id": "feI8LBUAq64h"
      },
      "outputs": [],
      "source": [
        "# Convert all columns to integer type\n",
        "insurance = insurance.astype(int)"
      ]
    },
    {
      "cell_type": "code",
      "execution_count": 9,
      "metadata": {
        "colab": {
          "base_uri": "https://localhost:8080/"
        },
        "id": "6fuMxQ0_q64i",
        "outputId": "525d3f0a-ac76-4765-9c37-070d37427fb2"
      },
      "outputs": [
        {
          "name": "stdout",
          "output_type": "stream",
          "text": [
            "Data types of each variable in the DataFrame:\n",
            "SEX                int64\n",
            "RACENEW            int64\n",
            "INCFAM97ON2        int64\n",
            "HINOTCOVE          int64\n",
            "CNLUNG             int64\n",
            "SMK                int64\n",
            "Occupation_Code    int64\n",
            "dtype: object\n"
          ]
        }
      ],
      "source": [
        "# Display the data types of each column in the DataFrame\n",
        "print(\"Data types of each variable in the DataFrame:\")\n",
        "print(insurance.dtypes)"
      ]
    },
    {
      "cell_type": "code",
      "execution_count": 10,
      "metadata": {
        "colab": {
          "base_uri": "https://localhost:8080/"
        },
        "id": "Kjc6xp16q64k",
        "outputId": "374dee6a-5128-43d6-aa1a-5dbb6dd1cbf9"
      },
      "outputs": [
        {
          "name": "stdout",
          "output_type": "stream",
          "text": [
            "[1 0]\n"
          ]
        }
      ],
      "source": [
        "# Map 1 to 1 and 2 to 0 in the \"HINOTCOVE\" column\n",
        "insurance[\"HINOTCOVE\"] = insurance[\"HINOTCOVE\"].map({1: 1, 2: 0})\n",
        "\n",
        "# Check unique values in the \"HINOTCOVE\" column after mapping\n",
        "unique_values = insurance[\"HINOTCOVE\"].unique()\n",
        "print(unique_values)"
      ]
    },
    {
      "cell_type": "code",
      "execution_count": 11,
      "metadata": {
        "colab": {
          "base_uri": "https://localhost:8080/"
        },
        "id": "kWdCsgPYq64k",
        "outputId": "21c4d2bf-c6c1-4a3e-d928-97f9ee60d0ed"
      },
      "outputs": [
        {
          "name": "stdout",
          "output_type": "stream",
          "text": [
            "[0 1]\n"
          ]
        }
      ],
      "source": [
        "# Map 1 to 0 and 2 to 1 in the \"CNLUNG\" column\n",
        "insurance[\"CNLUNG\"] = insurance[\"CNLUNG\"].map({1: 0, 2: 1})\n",
        "\n",
        "# Check unique values in the \"CNLUNG\" column after mapping\n",
        "unique_values = insurance[\"CNLUNG\"].unique()\n",
        "print(unique_values)"
      ]
    },
    {
      "cell_type": "code",
      "execution_count": 12,
      "metadata": {
        "colab": {
          "base_uri": "https://localhost:8080/"
        },
        "id": "2kWXg4-Uq64m",
        "outputId": "b1a6fc7f-e9f2-4bc3-d5ad-cd38c425198a"
      },
      "outputs": [
        {
          "name": "stdout",
          "output_type": "stream",
          "text": [
            "Completed iteration 0 of matching\n",
            "\tNumber of matched groups formed in total:  1591\n",
            "\tUnmatched treated units:  5870 out of a total of  157251 treated units\n",
            "\tUnmatched control units:  105 out of a total of  34407 control units\n",
            "\tNumber of matches made this iteration:  185683\n",
            "\tNumber of matches made so far:  185683\n",
            "\tCovariates dropped so far:  set()\n",
            "\tPredictive error of covariate set used to match:  0.0027701622715536798\n",
            "Completed iteration 1 of matching\n",
            "\tNumber of matched groups formed in total:  1610\n",
            "\tUnmatched treated units:  5835 out of a total of  157251 treated units\n",
            "\tUnmatched control units:  84 out of a total of  34407 control units\n",
            "\tNumber of matches made this iteration:  56\n",
            "\tNumber of matches made so far:  185739\n",
            "\tCovariates dropped so far:  frozenset({'SEX'})\n",
            "\tPredictive error of covariate set used to match:  0.0027701780402875683\n",
            "Completed iteration 2 of matching\n",
            "\tNumber of matched groups formed in total:  1639\n",
            "\tUnmatched treated units:  5518 out of a total of  157251 treated units\n",
            "\tUnmatched control units:  52 out of a total of  34407 control units\n",
            "\tNumber of matches made this iteration:  349\n",
            "\tNumber of matches made so far:  186088\n",
            "\tCovariates dropped so far:  frozenset({'RACENEW'})\n",
            "\tPredictive error of covariate set used to match:  0.002770267313819177\n",
            "Completed iteration 3 of matching\n",
            "\tNumber of matched groups formed in total:  1643\n",
            "\tUnmatched treated units:  5512 out of a total of  157251 treated units\n",
            "\tUnmatched control units:  46 out of a total of  34407 control units\n",
            "\tNumber of matches made this iteration:  12\n",
            "\tNumber of matches made so far:  186100\n",
            "\tCovariates dropped so far:  frozenset({'RACENEW', 'SEX'})\n",
            "\tPredictive error of covariate set used to match:  0.002770283247826984\n",
            "Completed iteration 4 of matching\n",
            "\tNumber of matched groups formed in total:  1655\n",
            "\tUnmatched treated units:  5491 out of a total of  157251 treated units\n",
            "\tUnmatched control units:  27 out of a total of  34407 control units\n",
            "\tNumber of matches made this iteration:  40\n",
            "\tNumber of matches made so far:  186140\n",
            "\tCovariates dropped so far:  frozenset({'INCFAM97ON2'})\n",
            "\tPredictive error of covariate set used to match:  0.002770284372320931\n",
            "Completed iteration 5 of matching\n",
            "\tNumber of matched groups formed in total:  1664\n",
            "\tUnmatched treated units:  5463 out of a total of  157251 treated units\n",
            "\tUnmatched control units:  12 out of a total of  34407 control units\n",
            "\tNumber of matches made this iteration:  43\n",
            "\tNumber of matches made so far:  186183\n",
            "\tCovariates dropped so far:  frozenset({'SEX', 'INCFAM97ON2'})\n",
            "\tPredictive error of covariate set used to match:  0.00277029840759891\n",
            "Completed iteration 6 of matching\n",
            "\tNumber of matched groups formed in total:  1668\n",
            "\tUnmatched treated units:  5396 out of a total of  157251 treated units\n",
            "\tUnmatched control units:  2 out of a total of  34407 control units\n",
            "\tNumber of matches made this iteration:  77\n",
            "\tNumber of matches made so far:  186260\n",
            "\tCovariates dropped so far:  frozenset({'RACENEW', 'INCFAM97ON2'})\n",
            "\tPredictive error of covariate set used to match:  0.002770381831527601\n",
            "Completed iteration 7 of matching\n",
            "\tNumber of matched groups formed in total:  1668\n",
            "\tUnmatched treated units:  5396 out of a total of  157251 treated units\n",
            "\tUnmatched control units:  2 out of a total of  34407 control units\n",
            "\tNumber of matches made this iteration:  0\n",
            "\tNumber of matches made so far:  186260\n",
            "\tCovariates dropped so far:  frozenset({'SEX', 'RACENEW', 'INCFAM97ON2'})\n",
            "\tPredictive error of covariate set used to match:  0.002770396077792034\n",
            "Completed iteration 8 of matching\n",
            "\tNumber of matched groups formed in total:  1670\n",
            "\tUnmatched treated units:  5372 out of a total of  157251 treated units\n",
            "\tUnmatched control units:  0 out of a total of  34407 control units\n",
            "\tNumber of matches made this iteration:  26\n",
            "\tNumber of matches made so far:  186286\n",
            "\tCovariates dropped so far:  frozenset({'Occupation_Code'})\n",
            "\tPredictive error of covariate set used to match:  0.0027713721445053606\n",
            "186286 units matched. We finished with no more control units to match\n"
          ]
        }
      ],
      "source": [
        "import dame_flame\n",
        "\n",
        "model = dame_flame.matching.DAME(\n",
        "    repeats=False,\n",
        "    verbose=3,\n",
        "    want_pe=True,\n",
        "    stop_unmatched_t=True,\n",
        ")\n",
        "model.fit(\n",
        "    insurance,\n",
        "    treatment_column_name=\"HINOTCOVE\",\n",
        "    outcome_column_name=\"CNLUNG\",\n",
        ")\n",
        "result = model.predict(insurance)"
      ]
    },
    {
      "cell_type": "code",
      "execution_count": 13,
      "metadata": {
        "colab": {
          "base_uri": "https://localhost:8080/",
          "height": 564
        },
        "id": "AXB6ZeG8q64n",
        "outputId": "2cbdca24-b9cb-4f9f-93dc-88a10fa12c31"
      },
      "outputs": [
        {
          "data": {
            "image/png": "[encoded data removed]",
            "text/plain": [
              "<Figure size 1000x600 with 1 Axes>"
            ]
          },
          "metadata": {},
          "output_type": "display_data"
        }
      ],
      "source": [
        "# Retrieve the prediction errors for each iteration\n",
        "prediction_errors = model.pe_each_iter\n",
        "\n",
        "# Plotting the prediction errors\n",
        "plt.figure(figsize=(10, 6))\n",
        "plt.plot(prediction_errors, marker=\"o\", linestyle=\"-\", markersize=8)\n",
        "plt.title(\"Prediction Error by Iteration\")\n",
        "plt.xlabel(\"Iteration Number\")\n",
        "plt.ylabel(\"Prediction Error\")\n",
        "plt.grid(True)\n",
        "plt.show()"
      ]
    },
    {
      "cell_type": "markdown",
      "metadata": {
        "id": "IwFxOguFq64o"
      },
      "source": [
        "> I choose my stopping point at iteration number 0."
      ]
    },
    {
      "cell_type": "code",
      "execution_count": 14,
      "metadata": {
        "colab": {
          "base_uri": "https://localhost:8080/"
        },
        "id": "HW2AsRgjq64o",
        "outputId": "1411f1e4-6c67-4f1b-dcdb-248f4cf24d0b"
      },
      "outputs": [
        {
          "name": "stdout",
          "output_type": "stream",
          "text": [
            "Completed iteration 0 of matching\n",
            "\tNumber of matched groups formed in total:  1591\n",
            "\tUnmatched treated units:  5870 out of a total of  157251 treated units\n",
            "\tUnmatched control units:  105 out of a total of  34407 control units\n",
            "\tNumber of matches made this iteration:  185683\n",
            "\tNumber of matches made so far:  185683\n",
            "\tCovariates dropped so far:  set()\n",
            "\tPredictive error of covariate set used to match:  0.0027701622715536798\n",
            "Completed iteration 1 of matching\n",
            "\tNumber of matched groups formed in total:  1610\n",
            "\tUnmatched treated units:  5835 out of a total of  157251 treated units\n",
            "\tUnmatched control units:  84 out of a total of  34407 control units\n",
            "\tNumber of matches made this iteration:  56\n",
            "\tNumber of matches made so far:  185739\n",
            "\tCovariates dropped so far:  frozenset({'SEX'})\n",
            "\tPredictive error of covariate set used to match:  0.0027701780402875683\n",
            "Completed iteration 2 of matching\n",
            "\tNumber of matched groups formed in total:  1639\n",
            "\tUnmatched treated units:  5518 out of a total of  157251 treated units\n",
            "\tUnmatched control units:  52 out of a total of  34407 control units\n",
            "\tNumber of matches made this iteration:  349\n",
            "\tNumber of matches made so far:  186088\n",
            "\tCovariates dropped so far:  frozenset({'RACENEW'})\n",
            "\tPredictive error of covariate set used to match:  0.002770267313819177\n",
            "Completed iteration 3 of matching\n",
            "\tNumber of matched groups formed in total:  1643\n",
            "\tUnmatched treated units:  5512 out of a total of  157251 treated units\n",
            "\tUnmatched control units:  46 out of a total of  34407 control units\n",
            "\tNumber of matches made this iteration:  12\n",
            "\tNumber of matches made so far:  186100\n",
            "\tCovariates dropped so far:  frozenset({'RACENEW', 'SEX'})\n",
            "\tPredictive error of covariate set used to match:  0.002770283247826984\n",
            "Completed iteration 4 of matching\n",
            "\tNumber of matched groups formed in total:  1655\n",
            "\tUnmatched treated units:  5491 out of a total of  157251 treated units\n",
            "\tUnmatched control units:  27 out of a total of  34407 control units\n",
            "\tNumber of matches made this iteration:  40\n",
            "\tNumber of matches made so far:  186140\n",
            "\tCovariates dropped so far:  frozenset({'INCFAM97ON2'})\n",
            "\tPredictive error of covariate set used to match:  0.002770284372320931\n",
            "Completed iteration 5 of matching\n",
            "\tNumber of matched groups formed in total:  1664\n",
            "\tUnmatched treated units:  5463 out of a total of  157251 treated units\n",
            "\tUnmatched control units:  12 out of a total of  34407 control units\n",
            "\tNumber of matches made this iteration:  43\n",
            "\tNumber of matches made so far:  186183\n",
            "\tCovariates dropped so far:  frozenset({'SEX', 'INCFAM97ON2'})\n",
            "\tPredictive error of covariate set used to match:  0.00277029840759891\n",
            "Completed iteration 6 of matching\n",
            "\tNumber of matched groups formed in total:  1668\n",
            "\tUnmatched treated units:  5396 out of a total of  157251 treated units\n",
            "\tUnmatched control units:  2 out of a total of  34407 control units\n",
            "\tNumber of matches made this iteration:  77\n",
            "\tNumber of matches made so far:  186260\n",
            "\tCovariates dropped so far:  frozenset({'RACENEW', 'INCFAM97ON2'})\n",
            "\tPredictive error of covariate set used to match:  0.002770381831527601\n",
            "Completed iteration 7 of matching\n",
            "\tNumber of matched groups formed in total:  1668\n",
            "\tUnmatched treated units:  5396 out of a total of  157251 treated units\n",
            "\tUnmatched control units:  2 out of a total of  34407 control units\n",
            "\tNumber of matches made this iteration:  0\n",
            "\tNumber of matches made so far:  186260\n",
            "\tCovariates dropped so far:  frozenset({'SEX', 'RACENEW', 'INCFAM97ON2'})\n",
            "\tPredictive error of covariate set used to match:  0.002770396077792034\n",
            "186260 units matched. We stopped after iteration 7\n"
          ]
        }
      ],
      "source": [
        "model_new = dame_flame.matching.DAME(\n",
        "    repeats=False,\n",
        "    verbose=3,\n",
        "    want_pe=True,\n",
        "    stop_unmatched_t=True,\n",
        "    early_stop_iterations=7,  # Stop after iteration 1\n",
        ")\n",
        "model_new.fit(\n",
        "    insurance,\n",
        "    treatment_column_name=\"HINOTCOVE\",\n",
        "    outcome_column_name=\"CNLUNG\",\n",
        ")\n",
        "result_new = model_new.predict(insurance)"
      ]
    },
    {
      "cell_type": "code",
      "execution_count": 15,
      "metadata": {
        "id": "ffaLlxtRq64p"
      },
      "outputs": [],
      "source": [
        "def get_dataframe(model, result_of_fit):\n",
        "\n",
        "    # Get original data\n",
        "    better = model.input_data.loc[result_of_fit.index]\n",
        "    if not better.index.is_unique:\n",
        "        raise ValueError(\"Need index values in input data to be unique\")\n",
        "\n",
        "    # Get match groups for clustering\n",
        "    better[\"match_group\"] = np.nan\n",
        "    better[\"match_group_size\"] = np.nan\n",
        "    for idx, group in enumerate(model.units_per_group):\n",
        "        better.loc[group, \"match_group\"] = idx\n",
        "        better.loc[group, \"match_group_size\"] = len(group)\n",
        "\n",
        "    # Get weights. I THINK this is right?! At least for with repeat=False?\n",
        "    t = model.treatment_column_name\n",
        "    better[\"t_in_group\"] = better.groupby(\"match_group\")[t].transform(np.sum)\n",
        "\n",
        "    # Make weights\n",
        "    better[\"weights\"] = np.nan\n",
        "    better.loc[better[t] == 1, \"weights\"] = 1  # treaments are 1\n",
        "\n",
        "    # Controls start as proportional to num of treatments\n",
        "    # each observation is matched to.\n",
        "    better.loc[better[t] == 0, \"weights\"] = better[\"t_in_group\"] / (\n",
        "        better[\"match_group_size\"] - better[\"t_in_group\"]\n",
        "    )\n",
        "\n",
        "    # Then re-normalize for num unique control observations.\n",
        "    control_weights = better[better[t] == 0][\"weights\"].sum()\n",
        "\n",
        "    num_control_obs = len(better[better[t] == 0].index.drop_duplicates())\n",
        "    renormalization = num_control_obs / control_weights\n",
        "    better.loc[better[t] == 0, \"weights\"] = (\n",
        "        better.loc[better[t] == 0, \"weights\"] * renormalization\n",
        "    )\n",
        "    assert better.weights.notnull().all()\n",
        "\n",
        "    better = better.drop([\"t_in_group\"], axis=\"columns\")\n",
        "\n",
        "    # Make sure right length and values!\n",
        "    assert len(result_of_fit) == len(better)\n",
        "    assert better.loc[better[t] == 0, \"weights\"].sum() == num_control_obs\n",
        "\n",
        "    return better"
      ]
    },
    {
      "cell_type": "code",
      "execution_count": 16,
      "metadata": {
        "colab": {
          "base_uri": "https://localhost:8080/",
          "height": 206
        },
        "id": "cCT-AbsWq64q",
        "outputId": "b5e36f40-fb81-41d5-a3fd-5d4e9d5b40f6"
      },
      "outputs": [
        {
          "data": {
            "text/html": [
              "<div>\n",
              "<style scoped>\n",
              "    .dataframe tbody tr th:only-of-type {\n",
              "        vertical-align: middle;\n",
              "    }\n",
              "\n",
              "    .dataframe tbody tr th {\n",
              "        vertical-align: top;\n",
              "    }\n",
              "\n",
              "    .dataframe thead th {\n",
              "        text-align: right;\n",
              "    }\n",
              "</style>\n",
              "<table border=\"1\" class=\"dataframe\">\n",
              "  <thead>\n",
              "    <tr style=\"text-align: right;\">\n",
              "      <th></th>\n",
              "      <th>SEX</th>\n",
              "      <th>RACENEW</th>\n",
              "      <th>INCFAM97ON2</th>\n",
              "      <th>HINOTCOVE</th>\n",
              "      <th>CNLUNG</th>\n",
              "      <th>SMK</th>\n",
              "      <th>Occupation_Code</th>\n",
              "      <th>match_group</th>\n",
              "      <th>match_group_size</th>\n",
              "      <th>weights</th>\n",
              "    </tr>\n",
              "  </thead>\n",
              "  <tbody>\n",
              "    <tr>\n",
              "      <th>0</th>\n",
              "      <td>2</td>\n",
              "      <td>100</td>\n",
              "      <td>30</td>\n",
              "      <td>1</td>\n",
              "      <td>0</td>\n",
              "      <td>1</td>\n",
              "      <td>25</td>\n",
              "      <td>341.0</td>\n",
              "      <td>137.0</td>\n",
              "      <td>1.000000</td>\n",
              "    </tr>\n",
              "    <tr>\n",
              "      <th>1</th>\n",
              "      <td>2</td>\n",
              "      <td>100</td>\n",
              "      <td>96</td>\n",
              "      <td>1</td>\n",
              "      <td>0</td>\n",
              "      <td>2</td>\n",
              "      <td>25</td>\n",
              "      <td>583.0</td>\n",
              "      <td>301.0</td>\n",
              "      <td>1.000000</td>\n",
              "    </tr>\n",
              "    <tr>\n",
              "      <th>2</th>\n",
              "      <td>1</td>\n",
              "      <td>100</td>\n",
              "      <td>10</td>\n",
              "      <td>0</td>\n",
              "      <td>0</td>\n",
              "      <td>1</td>\n",
              "      <td>25</td>\n",
              "      <td>95.0</td>\n",
              "      <td>651.0</td>\n",
              "      <td>0.265081</td>\n",
              "    </tr>\n",
              "    <tr>\n",
              "      <th>3</th>\n",
              "      <td>1</td>\n",
              "      <td>100</td>\n",
              "      <td>10</td>\n",
              "      <td>1</td>\n",
              "      <td>0</td>\n",
              "      <td>1</td>\n",
              "      <td>30</td>\n",
              "      <td>115.0</td>\n",
              "      <td>398.0</td>\n",
              "      <td>1.000000</td>\n",
              "    </tr>\n",
              "    <tr>\n",
              "      <th>4</th>\n",
              "      <td>1</td>\n",
              "      <td>100</td>\n",
              "      <td>20</td>\n",
              "      <td>1</td>\n",
              "      <td>0</td>\n",
              "      <td>2</td>\n",
              "      <td>22</td>\n",
              "      <td>217.0</td>\n",
              "      <td>662.0</td>\n",
              "      <td>1.000000</td>\n",
              "    </tr>\n",
              "  </tbody>\n",
              "</table>\n",
              "</div>"
            ],
            "text/plain": [
              "   SEX  RACENEW  INCFAM97ON2  HINOTCOVE  CNLUNG  SMK  Occupation_Code  \\\n",
              "0    2      100           30          1       0    1               25   \n",
              "1    2      100           96          1       0    2               25   \n",
              "2    1      100           10          0       0    1               25   \n",
              "3    1      100           10          1       0    1               30   \n",
              "4    1      100           20          1       0    2               22   \n",
              "\n",
              "   match_group  match_group_size   weights  \n",
              "0        341.0             137.0  1.000000  \n",
              "1        583.0             301.0  1.000000  \n",
              "2         95.0             651.0  0.265081  \n",
              "3        115.0             398.0  1.000000  \n",
              "4        217.0             662.0  1.000000  "
            ]
          },
          "execution_count": 16,
          "metadata": {},
          "output_type": "execute_result"
        }
      ],
      "source": [
        "matched_data = get_dataframe(model_new, result_new)\n",
        "matched_data.head()"
      ]
    },
    {
      "cell_type": "code",
      "execution_count": 17,
      "metadata": {
        "colab": {
          "base_uri": "https://localhost:8080/"
        },
        "id": "S8Ui6pm_q64r",
        "outputId": "cef3324d-0a92-443a-c02d-8aff3307cc8c"
      },
      "outputs": [
        {
          "data": {
            "text/plain": [
              "(186260, 10)"
            ]
          },
          "execution_count": 17,
          "metadata": {},
          "output_type": "execute_result"
        }
      ],
      "source": [
        "matched_data.shape"
      ]
    },
    {
      "cell_type": "code",
      "execution_count": 18,
      "metadata": {
        "colab": {
          "base_uri": "https://localhost:8080/"
        },
        "id": "hQi8_MNvq64s",
        "outputId": "698a4757-df2e-4cd8-9ec4-bea722abe241"
      },
      "outputs": [
        {
          "name": "stdout",
          "output_type": "stream",
          "text": [
            "Checking the Columns in matched data:\n"
          ]
        },
        {
          "data": {
            "text/plain": [
              "Index(['SEX', 'RACENEW', 'INCFAM97ON2', 'HINOTCOVE', 'CNLUNG', 'SMK',\n",
              "       'Occupation_Code', 'match_group', 'match_group_size', 'weights'],\n",
              "      dtype='object')"
            ]
          },
          "execution_count": 18,
          "metadata": {},
          "output_type": "execute_result"
        }
      ],
      "source": [
        "print(f\"Checking the Columns in matched data:\")\n",
        "matched_data.columns"
      ]
    },
    {
      "cell_type": "code",
      "execution_count": 19,
      "metadata": {
        "id": "tw8AMGR6q64s"
      },
      "outputs": [],
      "source": [
        "# Model with controls and robustness check\n",
        "model_with_controls = smf.wls(\n",
        "    \"CNLUNG ~ C(HINOTCOVE) + C(SEX) + C(RACENEW) + C(INCFAM97ON2) + C(SMK) + C(Occupation_Code)\",\n",
        "    data=matched_data,\n",
        "    weights=matched_data[\"weights\"],\n",
        ").fit(cov_type=\"HC3\")"
      ]
    },
    {
      "cell_type": "code",
      "execution_count": 20,
      "metadata": {
        "colab": {
          "base_uri": "https://localhost:8080/",
          "height": 1000
        },
        "id": "ANCoGSjHq64t",
        "outputId": "980c2fc7-5e71-44b3-a892-0928948028b7"
      },
      "outputs": [
        {
          "data": {
            "text/html": [
              "<table class=\"simpletable\">\n",
              "<caption>WLS Regression Results</caption>\n",
              "<tr>\n",
              "  <th>Dep. Variable:</th>         <td>CNLUNG</td>      <th>  R-squared:         </th>  <td>   0.003</td> \n",
              "</tr>\n",
              "<tr>\n",
              "  <th>Model:</th>                   <td>WLS</td>       <th>  Adj. R-squared:    </th>  <td>   0.002</td> \n",
              "</tr>\n",
              "<tr>\n",
              "  <th>Method:</th>             <td>Least Squares</td>  <th>  F-statistic:       </th>  <td>   7.217</td> \n",
              "</tr>\n",
              "<tr>\n",
              "  <th>Date:</th>             <td>Wed, 01 May 2024</td> <th>  Prob (F-statistic):</th>  <td>4.57e-43</td> \n",
              "</tr>\n",
              "<tr>\n",
              "  <th>Time:</th>                 <td>05:27:23</td>     <th>  Log-Likelihood:    </th> <td>3.0932e+05</td>\n",
              "</tr>\n",
              "<tr>\n",
              "  <th>No. Observations:</th>      <td>186260</td>      <th>  AIC:               </th> <td>-6.186e+05</td>\n",
              "</tr>\n",
              "<tr>\n",
              "  <th>Df Residuals:</th>          <td>186215</td>      <th>  BIC:               </th> <td>-6.181e+05</td>\n",
              "</tr>\n",
              "<tr>\n",
              "  <th>Df Model:</th>              <td>    44</td>      <th>                     </th>      <td> </td>    \n",
              "</tr>\n",
              "<tr>\n",
              "  <th>Covariance Type:</th>         <td>HC3</td>       <th>                     </th>      <td> </td>    \n",
              "</tr>\n",
              "</table>\n",
              "<table class=\"simpletable\">\n",
              "<tr>\n",
              "              <td></td>                <th>coef</th>     <th>std err</th>      <th>z</th>      <th>P>|z|</th>  <th>[0.025</th>    <th>0.975]</th>  \n",
              "</tr>\n",
              "<tr>\n",
              "  <th>Intercept</th>                <td>    0.0045</td> <td>    0.001</td> <td>    8.644</td> <td> 0.000</td> <td>    0.003</td> <td>    0.006</td>\n",
              "</tr>\n",
              "<tr>\n",
              "  <th>C(HINOTCOVE)[T.1]</th>        <td>    0.0018</td> <td>    0.000</td> <td>    8.623</td> <td> 0.000</td> <td>    0.001</td> <td>    0.002</td>\n",
              "</tr>\n",
              "<tr>\n",
              "  <th>C(SEX)[T.2]</th>              <td>   -0.0001</td> <td>    0.000</td> <td>   -0.506</td> <td> 0.613</td> <td>   -0.001</td> <td>    0.000</td>\n",
              "</tr>\n",
              "<tr>\n",
              "  <th>C(RACENEW)[T.200]</th>        <td>   -0.0006</td> <td>    0.000</td> <td>   -2.041</td> <td> 0.041</td> <td>   -0.001</td> <td>-2.33e-05</td>\n",
              "</tr>\n",
              "<tr>\n",
              "  <th>C(RACENEW)[T.300]</th>        <td>   -0.0005</td> <td>    0.002</td> <td>   -0.346</td> <td> 0.729</td> <td>   -0.004</td> <td>    0.003</td>\n",
              "</tr>\n",
              "<tr>\n",
              "  <th>C(RACENEW)[T.400]</th>        <td>   -0.0006</td> <td>    0.001</td> <td>   -0.677</td> <td> 0.498</td> <td>   -0.002</td> <td>    0.001</td>\n",
              "</tr>\n",
              "<tr>\n",
              "  <th>C(RACENEW)[T.520]</th>        <td>   -0.0007</td> <td>    0.000</td> <td>   -5.202</td> <td> 0.000</td> <td>   -0.001</td> <td>   -0.000</td>\n",
              "</tr>\n",
              "<tr>\n",
              "  <th>C(INCFAM97ON2)[T.20]</th>     <td>   -0.0014</td> <td>    0.000</td> <td>   -4.888</td> <td> 0.000</td> <td>   -0.002</td> <td>   -0.001</td>\n",
              "</tr>\n",
              "<tr>\n",
              "  <th>C(INCFAM97ON2)[T.30]</th>     <td>   -0.0021</td> <td>    0.000</td> <td>   -7.816</td> <td> 0.000</td> <td>   -0.003</td> <td>   -0.002</td>\n",
              "</tr>\n",
              "<tr>\n",
              "  <th>C(INCFAM97ON2)[T.31]</th>     <td>   -0.0025</td> <td>    0.001</td> <td>   -4.620</td> <td> 0.000</td> <td>   -0.003</td> <td>   -0.001</td>\n",
              "</tr>\n",
              "<tr>\n",
              "  <th>C(INCFAM97ON2)[T.32]</th>     <td>   -0.0025</td> <td>    0.000</td> <td>   -5.468</td> <td> 0.000</td> <td>   -0.003</td> <td>   -0.002</td>\n",
              "</tr>\n",
              "<tr>\n",
              "  <th>C(INCFAM97ON2)[T.96]</th>     <td>   -0.0011</td> <td>    0.000</td> <td>   -2.745</td> <td> 0.006</td> <td>   -0.002</td> <td>   -0.000</td>\n",
              "</tr>\n",
              "<tr>\n",
              "  <th>C(SMK)[T.2]</th>              <td>   -0.0030</td> <td>    0.000</td> <td>  -12.913</td> <td> 0.000</td> <td>   -0.003</td> <td>   -0.003</td>\n",
              "</tr>\n",
              "<tr>\n",
              "  <th>C(Occupation_Code)[T.2]</th>  <td>   -0.0002</td> <td>    0.001</td> <td>   -0.248</td> <td> 0.804</td> <td>   -0.001</td> <td>    0.001</td>\n",
              "</tr>\n",
              "<tr>\n",
              "  <th>C(Occupation_Code)[T.3]</th>  <td>   -0.0006</td> <td>    0.001</td> <td>   -0.964</td> <td> 0.335</td> <td>   -0.002</td> <td>    0.001</td>\n",
              "</tr>\n",
              "<tr>\n",
              "  <th>C(Occupation_Code)[T.4]</th>  <td>    0.0011</td> <td>    0.001</td> <td>    1.268</td> <td> 0.205</td> <td>   -0.001</td> <td>    0.003</td>\n",
              "</tr>\n",
              "<tr>\n",
              "  <th>C(Occupation_Code)[T.5]</th>  <td>   -0.0007</td> <td>    0.001</td> <td>   -1.191</td> <td> 0.234</td> <td>   -0.002</td> <td>    0.000</td>\n",
              "</tr>\n",
              "<tr>\n",
              "  <th>C(Occupation_Code)[T.6]</th>  <td>-5.085e-05</td> <td>    0.001</td> <td>   -0.070</td> <td> 0.944</td> <td>   -0.001</td> <td>    0.001</td>\n",
              "</tr>\n",
              "<tr>\n",
              "  <th>C(Occupation_Code)[T.7]</th>  <td>   -0.0004</td> <td>    0.001</td> <td>   -0.620</td> <td> 0.535</td> <td>   -0.002</td> <td>    0.001</td>\n",
              "</tr>\n",
              "<tr>\n",
              "  <th>C(Occupation_Code)[T.8]</th>  <td>    0.0002</td> <td>    0.001</td> <td>    0.244</td> <td> 0.808</td> <td>   -0.001</td> <td>    0.002</td>\n",
              "</tr>\n",
              "<tr>\n",
              "  <th>C(Occupation_Code)[T.9]</th>  <td> 7.859e-06</td> <td>    0.001</td> <td>    0.008</td> <td> 0.993</td> <td>   -0.002</td> <td>    0.002</td>\n",
              "</tr>\n",
              "<tr>\n",
              "  <th>C(Occupation_Code)[T.10]</th> <td>    0.0014</td> <td>    0.001</td> <td>    1.345</td> <td> 0.179</td> <td>   -0.001</td> <td>    0.003</td>\n",
              "</tr>\n",
              "<tr>\n",
              "  <th>C(Occupation_Code)[T.11]</th> <td>   -0.0016</td> <td>    0.001</td> <td>   -2.075</td> <td> 0.038</td> <td>   -0.003</td> <td>-8.64e-05</td>\n",
              "</tr>\n",
              "<tr>\n",
              "  <th>C(Occupation_Code)[T.12]</th> <td>   -0.0007</td> <td>    0.001</td> <td>   -0.704</td> <td> 0.481</td> <td>   -0.003</td> <td>    0.001</td>\n",
              "</tr>\n",
              "<tr>\n",
              "  <th>C(Occupation_Code)[T.13]</th> <td>   -0.0009</td> <td>    0.001</td> <td>   -1.049</td> <td> 0.294</td> <td>   -0.003</td> <td>    0.001</td>\n",
              "</tr>\n",
              "<tr>\n",
              "  <th>C(Occupation_Code)[T.14]</th> <td>   -0.0020</td> <td>    0.001</td> <td>   -2.690</td> <td> 0.007</td> <td>   -0.003</td> <td>   -0.001</td>\n",
              "</tr>\n",
              "<tr>\n",
              "  <th>C(Occupation_Code)[T.15]</th> <td>   -0.0011</td> <td>    0.001</td> <td>   -1.123</td> <td> 0.262</td> <td>   -0.003</td> <td>    0.001</td>\n",
              "</tr>\n",
              "<tr>\n",
              "  <th>C(Occupation_Code)[T.16]</th> <td>   -0.0015</td> <td>    0.001</td> <td>   -1.674</td> <td> 0.094</td> <td>   -0.003</td> <td>    0.000</td>\n",
              "</tr>\n",
              "<tr>\n",
              "  <th>C(Occupation_Code)[T.17]</th> <td>   -0.0003</td> <td>    0.001</td> <td>   -0.255</td> <td> 0.799</td> <td>   -0.003</td> <td>    0.002</td>\n",
              "</tr>\n",
              "<tr>\n",
              "  <th>C(Occupation_Code)[T.18]</th> <td>   -0.0012</td> <td>    0.001</td> <td>   -1.197</td> <td> 0.231</td> <td>   -0.003</td> <td>    0.001</td>\n",
              "</tr>\n",
              "<tr>\n",
              "  <th>C(Occupation_Code)[T.19]</th> <td>   -0.0017</td> <td>    0.000</td> <td>   -3.672</td> <td> 0.000</td> <td>   -0.003</td> <td>   -0.001</td>\n",
              "</tr>\n",
              "<tr>\n",
              "  <th>C(Occupation_Code)[T.20]</th> <td>   -0.0021</td> <td>    0.000</td> <td>   -4.549</td> <td> 0.000</td> <td>   -0.003</td> <td>   -0.001</td>\n",
              "</tr>\n",
              "<tr>\n",
              "  <th>C(Occupation_Code)[T.21]</th> <td>   -0.0015</td> <td>    0.001</td> <td>   -2.177</td> <td> 0.029</td> <td>   -0.003</td> <td>   -0.000</td>\n",
              "</tr>\n",
              "<tr>\n",
              "  <th>C(Occupation_Code)[T.22]</th> <td>   -0.0021</td> <td>    0.000</td> <td>   -4.564</td> <td> 0.000</td> <td>   -0.003</td> <td>   -0.001</td>\n",
              "</tr>\n",
              "<tr>\n",
              "  <th>C(Occupation_Code)[T.23]</th> <td>   -0.0012</td> <td>    0.001</td> <td>   -0.983</td> <td> 0.326</td> <td>   -0.003</td> <td>    0.001</td>\n",
              "</tr>\n",
              "<tr>\n",
              "  <th>C(Occupation_Code)[T.24]</th> <td>    0.0013</td> <td>    0.006</td> <td>    0.226</td> <td> 0.821</td> <td>   -0.010</td> <td>    0.012</td>\n",
              "</tr>\n",
              "<tr>\n",
              "  <th>C(Occupation_Code)[T.25]</th> <td>   -0.0030</td> <td>    0.000</td> <td>   -6.740</td> <td> 0.000</td> <td>   -0.004</td> <td>   -0.002</td>\n",
              "</tr>\n",
              "<tr>\n",
              "  <th>C(Occupation_Code)[T.26]</th> <td>   -0.0001</td> <td>    0.002</td> <td>   -0.071</td> <td> 0.944</td> <td>   -0.004</td> <td>    0.003</td>\n",
              "</tr>\n",
              "<tr>\n",
              "  <th>C(Occupation_Code)[T.27]</th> <td>   -0.0024</td> <td>    0.000</td> <td>   -4.937</td> <td> 0.000</td> <td>   -0.003</td> <td>   -0.001</td>\n",
              "</tr>\n",
              "<tr>\n",
              "  <th>C(Occupation_Code)[T.28]</th> <td>   -0.0024</td> <td>    0.001</td> <td>   -1.876</td> <td> 0.061</td> <td>   -0.005</td> <td>    0.000</td>\n",
              "</tr>\n",
              "<tr>\n",
              "  <th>C(Occupation_Code)[T.29]</th> <td>   -0.0028</td> <td>    0.001</td> <td>   -5.589</td> <td> 0.000</td> <td>   -0.004</td> <td>   -0.002</td>\n",
              "</tr>\n",
              "<tr>\n",
              "  <th>C(Occupation_Code)[T.30]</th> <td>   -0.0031</td> <td>    0.000</td> <td>   -6.237</td> <td> 0.000</td> <td>   -0.004</td> <td>   -0.002</td>\n",
              "</tr>\n",
              "<tr>\n",
              "  <th>C(Occupation_Code)[T.31]</th> <td>   -0.0025</td> <td>    0.001</td> <td>   -4.448</td> <td> 0.000</td> <td>   -0.004</td> <td>   -0.001</td>\n",
              "</tr>\n",
              "<tr>\n",
              "  <th>C(Occupation_Code)[T.32]</th> <td>   -0.0025</td> <td>    0.001</td> <td>   -2.667</td> <td> 0.008</td> <td>   -0.004</td> <td>   -0.001</td>\n",
              "</tr>\n",
              "<tr>\n",
              "  <th>C(Occupation_Code)[T.33]</th> <td>   -0.0020</td> <td>    0.001</td> <td>   -2.130</td> <td> 0.033</td> <td>   -0.004</td> <td>   -0.000</td>\n",
              "</tr>\n",
              "</table>\n",
              "<table class=\"simpletable\">\n",
              "<tr>\n",
              "  <th>Omnibus:</th>       <td>427730.361</td> <th>  Durbin-Watson:     </th>    <td>   1.999</td>   \n",
              "</tr>\n",
              "<tr>\n",
              "  <th>Prob(Omnibus):</th>   <td> 0.000</td>   <th>  Jarque-Bera (JB):  </th> <td>2183178276.830</td>\n",
              "</tr>\n",
              "<tr>\n",
              "  <th>Skew:</th>            <td>22.800</td>   <th>  Prob(JB):          </th>    <td>    0.00</td>   \n",
              "</tr>\n",
              "<tr>\n",
              "  <th>Kurtosis:</th>        <td>531.420</td>  <th>  Cond. No.          </th>    <td>    52.5</td>   \n",
              "</tr>\n",
              "</table><br/><br/>Notes:<br/>[1] Standard Errors are heteroscedasticity robust (HC3)"
            ],
            "text/latex": [
              "\\begin{center}\n",
              "\\begin{tabular}{lclc}\n",
              "\\toprule\n",
              "\\textbf{Dep. Variable:}            &      CNLUNG      & \\textbf{  R-squared:         } &       0.003     \\\\\n",
              "\\textbf{Model:}                    &       WLS        & \\textbf{  Adj. R-squared:    } &       0.002     \\\\\n",
              "\\textbf{Method:}                   &  Least Squares   & \\textbf{  F-statistic:       } &       7.217     \\\\\n",
              "\\textbf{Date:}                     & Wed, 01 May 2024 & \\textbf{  Prob (F-statistic):} &    4.57e-43     \\\\\n",
              "\\textbf{Time:}                     &     05:27:23     & \\textbf{  Log-Likelihood:    } &   3.0932e+05    \\\\\n",
              "\\textbf{No. Observations:}         &      186260      & \\textbf{  AIC:               } &   -6.186e+05    \\\\\n",
              "\\textbf{Df Residuals:}             &      186215      & \\textbf{  BIC:               } &   -6.181e+05    \\\\\n",
              "\\textbf{Df Model:}                 &          44      & \\textbf{                     } &                 \\\\\n",
              "\\textbf{Covariance Type:}          &       HC3        & \\textbf{                     } &                 \\\\\n",
              "\\bottomrule\n",
              "\\end{tabular}\n",
              "\\begin{tabular}{lcccccc}\n",
              "                                   & \\textbf{coef} & \\textbf{std err} & \\textbf{z} & \\textbf{P$> |$z$|$} & \\textbf{[0.025} & \\textbf{0.975]}  \\\\\n",
              "\\midrule\n",
              "\\textbf{Intercept}                 &       0.0045  &        0.001     &     8.644  &         0.000        &        0.003    &        0.006     \\\\\n",
              "\\textbf{C(HINOTCOVE)[T.1]}         &       0.0018  &        0.000     &     8.623  &         0.000        &        0.001    &        0.002     \\\\\n",
              "\\textbf{C(SEX)[T.2]}               &      -0.0001  &        0.000     &    -0.506  &         0.613        &       -0.001    &        0.000     \\\\\n",
              "\\textbf{C(RACENEW)[T.200]}         &      -0.0006  &        0.000     &    -2.041  &         0.041        &       -0.001    &    -2.33e-05     \\\\\n",
              "\\textbf{C(RACENEW)[T.300]}         &      -0.0005  &        0.002     &    -0.346  &         0.729        &       -0.004    &        0.003     \\\\\n",
              "\\textbf{C(RACENEW)[T.400]}         &      -0.0006  &        0.001     &    -0.677  &         0.498        &       -0.002    &        0.001     \\\\\n",
              "\\textbf{C(RACENEW)[T.520]}         &      -0.0007  &        0.000     &    -5.202  &         0.000        &       -0.001    &       -0.000     \\\\\n",
              "\\textbf{C(INCFAM97ON2)[T.20]}      &      -0.0014  &        0.000     &    -4.888  &         0.000        &       -0.002    &       -0.001     \\\\\n",
              "\\textbf{C(INCFAM97ON2)[T.30]}      &      -0.0021  &        0.000     &    -7.816  &         0.000        &       -0.003    &       -0.002     \\\\\n",
              "\\textbf{C(INCFAM97ON2)[T.31]}      &      -0.0025  &        0.001     &    -4.620  &         0.000        &       -0.003    &       -0.001     \\\\\n",
              "\\textbf{C(INCFAM97ON2)[T.32]}      &      -0.0025  &        0.000     &    -5.468  &         0.000        &       -0.003    &       -0.002     \\\\\n",
              "\\textbf{C(INCFAM97ON2)[T.96]}      &      -0.0011  &        0.000     &    -2.745  &         0.006        &       -0.002    &       -0.000     \\\\\n",
              "\\textbf{C(SMK)[T.2]}               &      -0.0030  &        0.000     &   -12.913  &         0.000        &       -0.003    &       -0.003     \\\\\n",
              "\\textbf{C(Occupation\\_Code)[T.2]}  &      -0.0002  &        0.001     &    -0.248  &         0.804        &       -0.001    &        0.001     \\\\\n",
              "\\textbf{C(Occupation\\_Code)[T.3]}  &      -0.0006  &        0.001     &    -0.964  &         0.335        &       -0.002    &        0.001     \\\\\n",
              "\\textbf{C(Occupation\\_Code)[T.4]}  &       0.0011  &        0.001     &     1.268  &         0.205        &       -0.001    &        0.003     \\\\\n",
              "\\textbf{C(Occupation\\_Code)[T.5]}  &      -0.0007  &        0.001     &    -1.191  &         0.234        &       -0.002    &        0.000     \\\\\n",
              "\\textbf{C(Occupation\\_Code)[T.6]}  &   -5.085e-05  &        0.001     &    -0.070  &         0.944        &       -0.001    &        0.001     \\\\\n",
              "\\textbf{C(Occupation\\_Code)[T.7]}  &      -0.0004  &        0.001     &    -0.620  &         0.535        &       -0.002    &        0.001     \\\\\n",
              "\\textbf{C(Occupation\\_Code)[T.8]}  &       0.0002  &        0.001     &     0.244  &         0.808        &       -0.001    &        0.002     \\\\\n",
              "\\textbf{C(Occupation\\_Code)[T.9]}  &    7.859e-06  &        0.001     &     0.008  &         0.993        &       -0.002    &        0.002     \\\\\n",
              "\\textbf{C(Occupation\\_Code)[T.10]} &       0.0014  &        0.001     &     1.345  &         0.179        &       -0.001    &        0.003     \\\\\n",
              "\\textbf{C(Occupation\\_Code)[T.11]} &      -0.0016  &        0.001     &    -2.075  &         0.038        &       -0.003    &    -8.64e-05     \\\\\n",
              "\\textbf{C(Occupation\\_Code)[T.12]} &      -0.0007  &        0.001     &    -0.704  &         0.481        &       -0.003    &        0.001     \\\\\n",
              "\\textbf{C(Occupation\\_Code)[T.13]} &      -0.0009  &        0.001     &    -1.049  &         0.294        &       -0.003    &        0.001     \\\\\n",
              "\\textbf{C(Occupation\\_Code)[T.14]} &      -0.0020  &        0.001     &    -2.690  &         0.007        &       -0.003    &       -0.001     \\\\\n",
              "\\textbf{C(Occupation\\_Code)[T.15]} &      -0.0011  &        0.001     &    -1.123  &         0.262        &       -0.003    &        0.001     \\\\\n",
              "\\textbf{C(Occupation\\_Code)[T.16]} &      -0.0015  &        0.001     &    -1.674  &         0.094        &       -0.003    &        0.000     \\\\\n",
              "\\textbf{C(Occupation\\_Code)[T.17]} &      -0.0003  &        0.001     &    -0.255  &         0.799        &       -0.003    &        0.002     \\\\\n",
              "\\textbf{C(Occupation\\_Code)[T.18]} &      -0.0012  &        0.001     &    -1.197  &         0.231        &       -0.003    &        0.001     \\\\\n",
              "\\textbf{C(Occupation\\_Code)[T.19]} &      -0.0017  &        0.000     &    -3.672  &         0.000        &       -0.003    &       -0.001     \\\\\n",
              "\\textbf{C(Occupation\\_Code)[T.20]} &      -0.0021  &        0.000     &    -4.549  &         0.000        &       -0.003    &       -0.001     \\\\\n",
              "\\textbf{C(Occupation\\_Code)[T.21]} &      -0.0015  &        0.001     &    -2.177  &         0.029        &       -0.003    &       -0.000     \\\\\n",
              "\\textbf{C(Occupation\\_Code)[T.22]} &      -0.0021  &        0.000     &    -4.564  &         0.000        &       -0.003    &       -0.001     \\\\\n",
              "\\textbf{C(Occupation\\_Code)[T.23]} &      -0.0012  &        0.001     &    -0.983  &         0.326        &       -0.003    &        0.001     \\\\\n",
              "\\textbf{C(Occupation\\_Code)[T.24]} &       0.0013  &        0.006     &     0.226  &         0.821        &       -0.010    &        0.012     \\\\\n",
              "\\textbf{C(Occupation\\_Code)[T.25]} &      -0.0030  &        0.000     &    -6.740  &         0.000        &       -0.004    &       -0.002     \\\\\n",
              "\\textbf{C(Occupation\\_Code)[T.26]} &      -0.0001  &        0.002     &    -0.071  &         0.944        &       -0.004    &        0.003     \\\\\n",
              "\\textbf{C(Occupation\\_Code)[T.27]} &      -0.0024  &        0.000     &    -4.937  &         0.000        &       -0.003    &       -0.001     \\\\\n",
              "\\textbf{C(Occupation\\_Code)[T.28]} &      -0.0024  &        0.001     &    -1.876  &         0.061        &       -0.005    &        0.000     \\\\\n",
              "\\textbf{C(Occupation\\_Code)[T.29]} &      -0.0028  &        0.001     &    -5.589  &         0.000        &       -0.004    &       -0.002     \\\\\n",
              "\\textbf{C(Occupation\\_Code)[T.30]} &      -0.0031  &        0.000     &    -6.237  &         0.000        &       -0.004    &       -0.002     \\\\\n",
              "\\textbf{C(Occupation\\_Code)[T.31]} &      -0.0025  &        0.001     &    -4.448  &         0.000        &       -0.004    &       -0.001     \\\\\n",
              "\\textbf{C(Occupation\\_Code)[T.32]} &      -0.0025  &        0.001     &    -2.667  &         0.008        &       -0.004    &       -0.001     \\\\\n",
              "\\textbf{C(Occupation\\_Code)[T.33]} &      -0.0020  &        0.001     &    -2.130  &         0.033        &       -0.004    &       -0.000     \\\\\n",
              "\\bottomrule\n",
              "\\end{tabular}\n",
              "\\begin{tabular}{lclc}\n",
              "\\textbf{Omnibus:}       & 427730.361 & \\textbf{  Durbin-Watson:     } &       1.999     \\\\\n",
              "\\textbf{Prob(Omnibus):} &    0.000   & \\textbf{  Jarque-Bera (JB):  } & 2183178276.830  \\\\\n",
              "\\textbf{Skew:}          &   22.800   & \\textbf{  Prob(JB):          } &        0.00     \\\\\n",
              "\\textbf{Kurtosis:}      &  531.420   & \\textbf{  Cond. No.          } &        52.5     \\\\\n",
              "\\bottomrule\n",
              "\\end{tabular}\n",
              "%\\caption{WLS Regression Results}\n",
              "\\end{center}\n",
              "\n",
              "Notes: \\newline\n",
              " [1] Standard Errors are heteroscedasticity robust (HC3)"
            ],
            "text/plain": [
              "<class 'statsmodels.iolib.summary.Summary'>\n",
              "\"\"\"\n",
              "                            WLS Regression Results                            \n",
              "==============================================================================\n",
              "Dep. Variable:                 CNLUNG   R-squared:                       0.003\n",
              "Model:                            WLS   Adj. R-squared:                  0.002\n",
              "Method:                 Least Squares   F-statistic:                     7.217\n",
              "Date:                Wed, 01 May 2024   Prob (F-statistic):           4.57e-43\n",
              "Time:                        05:27:23   Log-Likelihood:             3.0932e+05\n",
              "No. Observations:              186260   AIC:                        -6.186e+05\n",
              "Df Residuals:                  186215   BIC:                        -6.181e+05\n",
              "Df Model:                          44                                         \n",
              "Covariance Type:                  HC3                                         \n",
              "============================================================================================\n",
              "                               coef    std err          z      P>|z|      [0.025      0.975]\n",
              "--------------------------------------------------------------------------------------------\n",
              "Intercept                    0.0045      0.001      8.644      0.000       0.003       0.006\n",
              "C(HINOTCOVE)[T.1]            0.0018      0.000      8.623      0.000       0.001       0.002\n",
              "C(SEX)[T.2]                 -0.0001      0.000     -0.506      0.613      -0.001       0.000\n",
              "C(RACENEW)[T.200]           -0.0006      0.000     -2.041      0.041      -0.001   -2.33e-05\n",
              "C(RACENEW)[T.300]           -0.0005      0.002     -0.346      0.729      -0.004       0.003\n",
              "C(RACENEW)[T.400]           -0.0006      0.001     -0.677      0.498      -0.002       0.001\n",
              "C(RACENEW)[T.520]           -0.0007      0.000     -5.202      0.000      -0.001      -0.000\n",
              "C(INCFAM97ON2)[T.20]        -0.0014      0.000     -4.888      0.000      -0.002      -0.001\n",
              "C(INCFAM97ON2)[T.30]        -0.0021      0.000     -7.816      0.000      -0.003      -0.002\n",
              "C(INCFAM97ON2)[T.31]        -0.0025      0.001     -4.620      0.000      -0.003      -0.001\n",
              "C(INCFAM97ON2)[T.32]        -0.0025      0.000     -5.468      0.000      -0.003      -0.002\n",
              "C(INCFAM97ON2)[T.96]        -0.0011      0.000     -2.745      0.006      -0.002      -0.000\n",
              "C(SMK)[T.2]                 -0.0030      0.000    -12.913      0.000      -0.003      -0.003\n",
              "C(Occupation_Code)[T.2]     -0.0002      0.001     -0.248      0.804      -0.001       0.001\n",
              "C(Occupation_Code)[T.3]     -0.0006      0.001     -0.964      0.335      -0.002       0.001\n",
              "C(Occupation_Code)[T.4]      0.0011      0.001      1.268      0.205      -0.001       0.003\n",
              "C(Occupation_Code)[T.5]     -0.0007      0.001     -1.191      0.234      -0.002       0.000\n",
              "C(Occupation_Code)[T.6]  -5.085e-05      0.001     -0.070      0.944      -0.001       0.001\n",
              "C(Occupation_Code)[T.7]     -0.0004      0.001     -0.620      0.535      -0.002       0.001\n",
              "C(Occupation_Code)[T.8]      0.0002      0.001      0.244      0.808      -0.001       0.002\n",
              "C(Occupation_Code)[T.9]   7.859e-06      0.001      0.008      0.993      -0.002       0.002\n",
              "C(Occupation_Code)[T.10]     0.0014      0.001      1.345      0.179      -0.001       0.003\n",
              "C(Occupation_Code)[T.11]    -0.0016      0.001     -2.075      0.038      -0.003   -8.64e-05\n",
              "C(Occupation_Code)[T.12]    -0.0007      0.001     -0.704      0.481      -0.003       0.001\n",
              "C(Occupation_Code)[T.13]    -0.0009      0.001     -1.049      0.294      -0.003       0.001\n",
              "C(Occupation_Code)[T.14]    -0.0020      0.001     -2.690      0.007      -0.003      -0.001\n",
              "C(Occupation_Code)[T.15]    -0.0011      0.001     -1.123      0.262      -0.003       0.001\n",
              "C(Occupation_Code)[T.16]    -0.0015      0.001     -1.674      0.094      -0.003       0.000\n",
              "C(Occupation_Code)[T.17]    -0.0003      0.001     -0.255      0.799      -0.003       0.002\n",
              "C(Occupation_Code)[T.18]    -0.0012      0.001     -1.197      0.231      -0.003       0.001\n",
              "C(Occupation_Code)[T.19]    -0.0017      0.000     -3.672      0.000      -0.003      -0.001\n",
              "C(Occupation_Code)[T.20]    -0.0021      0.000     -4.549      0.000      -0.003      -0.001\n",
              "C(Occupation_Code)[T.21]    -0.0015      0.001     -2.177      0.029      -0.003      -0.000\n",
              "C(Occupation_Code)[T.22]    -0.0021      0.000     -4.564      0.000      -0.003      -0.001\n",
              "C(Occupation_Code)[T.23]    -0.0012      0.001     -0.983      0.326      -0.003       0.001\n",
              "C(Occupation_Code)[T.24]     0.0013      0.006      0.226      0.821      -0.010       0.012\n",
              "C(Occupation_Code)[T.25]    -0.0030      0.000     -6.740      0.000      -0.004      -0.002\n",
              "C(Occupation_Code)[T.26]    -0.0001      0.002     -0.071      0.944      -0.004       0.003\n",
              "C(Occupation_Code)[T.27]    -0.0024      0.000     -4.937      0.000      -0.003      -0.001\n",
              "C(Occupation_Code)[T.28]    -0.0024      0.001     -1.876      0.061      -0.005       0.000\n",
              "C(Occupation_Code)[T.29]    -0.0028      0.001     -5.589      0.000      -0.004      -0.002\n",
              "C(Occupation_Code)[T.30]    -0.0031      0.000     -6.237      0.000      -0.004      -0.002\n",
              "C(Occupation_Code)[T.31]    -0.0025      0.001     -4.448      0.000      -0.004      -0.001\n",
              "C(Occupation_Code)[T.32]    -0.0025      0.001     -2.667      0.008      -0.004      -0.001\n",
              "C(Occupation_Code)[T.33]    -0.0020      0.001     -2.130      0.033      -0.004      -0.000\n",
              "==============================================================================\n",
              "Omnibus:                   427730.361   Durbin-Watson:                   1.999\n",
              "Prob(Omnibus):                  0.000   Jarque-Bera (JB):       2183178276.830\n",
              "Skew:                          22.800   Prob(JB):                         0.00\n",
              "Kurtosis:                     531.420   Cond. No.                         52.5\n",
              "==============================================================================\n",
              "\n",
              "Notes:\n",
              "[1] Standard Errors are heteroscedasticity robust (HC3)\n",
              "\"\"\""
            ]
          },
          "execution_count": 20,
          "metadata": {},
          "output_type": "execute_result"
        }
      ],
      "source": [
        "model_with_controls.summary()"
      ]
    },
    {
      "cell_type": "code",
      "execution_count": 21,
      "metadata": {
        "colab": {
          "base_uri": "https://localhost:8080/"
        },
        "id": "jCRgK3YQq64u",
        "outputId": "c960620b-2e8f-46ac-be58-41bb4ffc6918"
      },
      "outputs": [
        {
          "ename": "KeyError",
          "evalue": "'HINOTCOVE'",
          "output_type": "error",
          "traceback": [
            "\u001b[0;31m---------------------------------------------------------------------------\u001b[0m",
            "\u001b[0;31mKeyError\u001b[0m                                  Traceback (most recent call last)",
            "File \u001b[0;32m~/miniconda3/lib/python3.11/site-packages/pandas/core/indexes/base.py:3790\u001b[0m, in \u001b[0;36mIndex.get_loc\u001b[0;34m(self, key)\u001b[0m\n\u001b[1;32m   3789\u001b[0m \u001b[38;5;28;01mtry\u001b[39;00m:\n\u001b[0;32m-> 3790\u001b[0m     \u001b[38;5;28;01mreturn\u001b[39;00m \u001b[38;5;28;43mself\u001b[39;49m\u001b[38;5;241;43m.\u001b[39;49m\u001b[43m_engine\u001b[49m\u001b[38;5;241;43m.\u001b[39;49m\u001b[43mget_loc\u001b[49m\u001b[43m(\u001b[49m\u001b[43mcasted_key\u001b[49m\u001b[43m)\u001b[49m\n\u001b[1;32m   3791\u001b[0m \u001b[38;5;28;01mexcept\u001b[39;00m \u001b[38;5;167;01mKeyError\u001b[39;00m \u001b[38;5;28;01mas\u001b[39;00m err:\n",
            "File \u001b[0;32mindex.pyx:152\u001b[0m, in \u001b[0;36mpandas._libs.index.IndexEngine.get_loc\u001b[0;34m()\u001b[0m\n",
            "File \u001b[0;32mindex.pyx:181\u001b[0m, in \u001b[0;36mpandas._libs.index.IndexEngine.get_loc\u001b[0;34m()\u001b[0m\n",
            "File \u001b[0;32mpandas/_libs/hashtable_class_helper.pxi:7080\u001b[0m, in \u001b[0;36mpandas._libs.hashtable.PyObjectHashTable.get_item\u001b[0;34m()\u001b[0m\n",
            "File \u001b[0;32mpandas/_libs/hashtable_class_helper.pxi:7088\u001b[0m, in \u001b[0;36mpandas._libs.hashtable.PyObjectHashTable.get_item\u001b[0;34m()\u001b[0m\n",
            "\u001b[0;31mKeyError\u001b[0m: 'HINOTCOVE'",
            "\nThe above exception was the direct cause of the following exception:\n",
            "\u001b[0;31mKeyError\u001b[0m                                  Traceback (most recent call last)",
            "Cell \u001b[0;32mIn[21], line 2\u001b[0m\n\u001b[1;32m      1\u001b[0m \u001b[38;5;66;03m# To get the coefficient for the 'HINOTCOVE' variable\u001b[39;00m\n\u001b[0;32m----> 2\u001b[0m insurance_coefficient_control \u001b[38;5;241m=\u001b[39m \u001b[43mmodel_with_controls\u001b[49m\u001b[38;5;241;43m.\u001b[39;49m\u001b[43mparams\u001b[49m\u001b[43m[\u001b[49m\u001b[38;5;124;43m\"\u001b[39;49m\u001b[38;5;124;43mHINOTCOVE\u001b[39;49m\u001b[38;5;124;43m\"\u001b[39;49m\u001b[43m]\u001b[49m\n\u001b[1;32m      3\u001b[0m \u001b[38;5;28mprint\u001b[39m(\u001b[38;5;124mf\u001b[39m\u001b[38;5;124m\"\u001b[39m\u001b[38;5;124mCoefficient for \u001b[39m\u001b[38;5;124m'\u001b[39m\u001b[38;5;124mHINOTCOVE\u001b[39m\u001b[38;5;124m'\u001b[39m\u001b[38;5;124m with controls: \u001b[39m\u001b[38;5;132;01m{\u001b[39;00minsurance_coefficient_control\u001b[38;5;132;01m:\u001b[39;00m\u001b[38;5;124m.4f\u001b[39m\u001b[38;5;132;01m}\u001b[39;00m\u001b[38;5;124m\"\u001b[39m)\n",
            "File \u001b[0;32m~/miniconda3/lib/python3.11/site-packages/pandas/core/series.py:1040\u001b[0m, in \u001b[0;36mSeries.__getitem__\u001b[0;34m(self, key)\u001b[0m\n\u001b[1;32m   1037\u001b[0m     \u001b[38;5;28;01mreturn\u001b[39;00m \u001b[38;5;28mself\u001b[39m\u001b[38;5;241m.\u001b[39m_values[key]\n\u001b[1;32m   1039\u001b[0m \u001b[38;5;28;01melif\u001b[39;00m key_is_scalar:\n\u001b[0;32m-> 1040\u001b[0m     \u001b[38;5;28;01mreturn\u001b[39;00m \u001b[38;5;28;43mself\u001b[39;49m\u001b[38;5;241;43m.\u001b[39;49m\u001b[43m_get_value\u001b[49m\u001b[43m(\u001b[49m\u001b[43mkey\u001b[49m\u001b[43m)\u001b[49m\n\u001b[1;32m   1042\u001b[0m \u001b[38;5;66;03m# Convert generator to list before going through hashable part\u001b[39;00m\n\u001b[1;32m   1043\u001b[0m \u001b[38;5;66;03m# (We will iterate through the generator there to check for slices)\u001b[39;00m\n\u001b[1;32m   1044\u001b[0m \u001b[38;5;28;01mif\u001b[39;00m is_iterator(key):\n",
            "File \u001b[0;32m~/miniconda3/lib/python3.11/site-packages/pandas/core/series.py:1156\u001b[0m, in \u001b[0;36mSeries._get_value\u001b[0;34m(self, label, takeable)\u001b[0m\n\u001b[1;32m   1153\u001b[0m     \u001b[38;5;28;01mreturn\u001b[39;00m \u001b[38;5;28mself\u001b[39m\u001b[38;5;241m.\u001b[39m_values[label]\n\u001b[1;32m   1155\u001b[0m \u001b[38;5;66;03m# Similar to Index.get_value, but we do not fall back to positional\u001b[39;00m\n\u001b[0;32m-> 1156\u001b[0m loc \u001b[38;5;241m=\u001b[39m \u001b[38;5;28;43mself\u001b[39;49m\u001b[38;5;241;43m.\u001b[39;49m\u001b[43mindex\u001b[49m\u001b[38;5;241;43m.\u001b[39;49m\u001b[43mget_loc\u001b[49m\u001b[43m(\u001b[49m\u001b[43mlabel\u001b[49m\u001b[43m)\u001b[49m\n\u001b[1;32m   1158\u001b[0m \u001b[38;5;28;01mif\u001b[39;00m is_integer(loc):\n\u001b[1;32m   1159\u001b[0m     \u001b[38;5;28;01mreturn\u001b[39;00m \u001b[38;5;28mself\u001b[39m\u001b[38;5;241m.\u001b[39m_values[loc]\n",
            "File \u001b[0;32m~/miniconda3/lib/python3.11/site-packages/pandas/core/indexes/base.py:3797\u001b[0m, in \u001b[0;36mIndex.get_loc\u001b[0;34m(self, key)\u001b[0m\n\u001b[1;32m   3792\u001b[0m     \u001b[38;5;28;01mif\u001b[39;00m \u001b[38;5;28misinstance\u001b[39m(casted_key, \u001b[38;5;28mslice\u001b[39m) \u001b[38;5;129;01mor\u001b[39;00m (\n\u001b[1;32m   3793\u001b[0m         \u001b[38;5;28misinstance\u001b[39m(casted_key, abc\u001b[38;5;241m.\u001b[39mIterable)\n\u001b[1;32m   3794\u001b[0m         \u001b[38;5;129;01mand\u001b[39;00m \u001b[38;5;28many\u001b[39m(\u001b[38;5;28misinstance\u001b[39m(x, \u001b[38;5;28mslice\u001b[39m) \u001b[38;5;28;01mfor\u001b[39;00m x \u001b[38;5;129;01min\u001b[39;00m casted_key)\n\u001b[1;32m   3795\u001b[0m     ):\n\u001b[1;32m   3796\u001b[0m         \u001b[38;5;28;01mraise\u001b[39;00m InvalidIndexError(key)\n\u001b[0;32m-> 3797\u001b[0m     \u001b[38;5;28;01mraise\u001b[39;00m \u001b[38;5;167;01mKeyError\u001b[39;00m(key) \u001b[38;5;28;01mfrom\u001b[39;00m \u001b[38;5;21;01merr\u001b[39;00m\n\u001b[1;32m   3798\u001b[0m \u001b[38;5;28;01mexcept\u001b[39;00m \u001b[38;5;167;01mTypeError\u001b[39;00m:\n\u001b[1;32m   3799\u001b[0m     \u001b[38;5;66;03m# If we have a listlike key, _check_indexing_error will raise\u001b[39;00m\n\u001b[1;32m   3800\u001b[0m     \u001b[38;5;66;03m#  InvalidIndexError. Otherwise we fall through and re-raise\u001b[39;00m\n\u001b[1;32m   3801\u001b[0m     \u001b[38;5;66;03m#  the TypeError.\u001b[39;00m\n\u001b[1;32m   3802\u001b[0m     \u001b[38;5;28mself\u001b[39m\u001b[38;5;241m.\u001b[39m_check_indexing_error(key)\n",
            "\u001b[0;31mKeyError\u001b[0m: 'HINOTCOVE'"
          ]
        }
      ],
      "source": [
        "# To get the coefficient for the 'HINOTCOVE' variable\n",
        "insurance_coefficient_control = model_with_controls.params[\"HINOTCOVE\"]\n",
        "print(f\"Coefficient for 'HINOTCOVE' with controls: {insurance_coefficient_control:.4f}\")"
      ]
    },
    {
      "cell_type": "code",
      "execution_count": 22,
      "metadata": {
        "colab": {
          "base_uri": "https://localhost:8080/"
        },
        "id": "NJBfVngXq64u",
        "outputId": "8363509c-c154-4c98-b949-b3f1bf4b9854"
      },
      "outputs": [
        {
          "ename": "KeyError",
          "evalue": "'HINOTCOVE'",
          "output_type": "error",
          "traceback": [
            "\u001b[0;31m---------------------------------------------------------------------------\u001b[0m",
            "\u001b[0;31mKeyError\u001b[0m                                  Traceback (most recent call last)",
            "File \u001b[0;32m~/miniconda3/lib/python3.11/site-packages/pandas/core/indexes/base.py:3790\u001b[0m, in \u001b[0;36mIndex.get_loc\u001b[0;34m(self, key)\u001b[0m\n\u001b[1;32m   3789\u001b[0m \u001b[38;5;28;01mtry\u001b[39;00m:\n\u001b[0;32m-> 3790\u001b[0m     \u001b[38;5;28;01mreturn\u001b[39;00m \u001b[38;5;28;43mself\u001b[39;49m\u001b[38;5;241;43m.\u001b[39;49m\u001b[43m_engine\u001b[49m\u001b[38;5;241;43m.\u001b[39;49m\u001b[43mget_loc\u001b[49m\u001b[43m(\u001b[49m\u001b[43mcasted_key\u001b[49m\u001b[43m)\u001b[49m\n\u001b[1;32m   3791\u001b[0m \u001b[38;5;28;01mexcept\u001b[39;00m \u001b[38;5;167;01mKeyError\u001b[39;00m \u001b[38;5;28;01mas\u001b[39;00m err:\n",
            "File \u001b[0;32mindex.pyx:152\u001b[0m, in \u001b[0;36mpandas._libs.index.IndexEngine.get_loc\u001b[0;34m()\u001b[0m\n",
            "File \u001b[0;32mindex.pyx:181\u001b[0m, in \u001b[0;36mpandas._libs.index.IndexEngine.get_loc\u001b[0;34m()\u001b[0m\n",
            "File \u001b[0;32mpandas/_libs/hashtable_class_helper.pxi:7080\u001b[0m, in \u001b[0;36mpandas._libs.hashtable.PyObjectHashTable.get_item\u001b[0;34m()\u001b[0m\n",
            "File \u001b[0;32mpandas/_libs/hashtable_class_helper.pxi:7088\u001b[0m, in \u001b[0;36mpandas._libs.hashtable.PyObjectHashTable.get_item\u001b[0;34m()\u001b[0m\n",
            "\u001b[0;31mKeyError\u001b[0m: 'HINOTCOVE'",
            "\nThe above exception was the direct cause of the following exception:\n",
            "\u001b[0;31mKeyError\u001b[0m                                  Traceback (most recent call last)",
            "Cell \u001b[0;32mIn[22], line 2\u001b[0m\n\u001b[1;32m      1\u001b[0m \u001b[38;5;66;03m# To get the p-value for the coefficient of 'HINOTCOVE' variable\u001b[39;00m\n\u001b[0;32m----> 2\u001b[0m insurance_p_value_control \u001b[38;5;241m=\u001b[39m \u001b[43mmodel_with_controls\u001b[49m\u001b[38;5;241;43m.\u001b[39;49m\u001b[43mpvalues\u001b[49m\u001b[43m[\u001b[49m\u001b[38;5;124;43m\"\u001b[39;49m\u001b[38;5;124;43mHINOTCOVE\u001b[39;49m\u001b[38;5;124;43m\"\u001b[39;49m\u001b[43m]\u001b[49m\n\u001b[1;32m      3\u001b[0m \u001b[38;5;28mprint\u001b[39m(\u001b[38;5;124mf\u001b[39m\u001b[38;5;124m\"\u001b[39m\u001b[38;5;124mP-value for \u001b[39m\u001b[38;5;124m'\u001b[39m\u001b[38;5;124mHINOTCOVE\u001b[39m\u001b[38;5;124m'\u001b[39m\u001b[38;5;124m with controls: \u001b[39m\u001b[38;5;132;01m{\u001b[39;00minsurance_p_value_control\u001b[38;5;132;01m:\u001b[39;00m\u001b[38;5;124m.4f\u001b[39m\u001b[38;5;132;01m}\u001b[39;00m\u001b[38;5;124m\"\u001b[39m)\n",
            "File \u001b[0;32m~/miniconda3/lib/python3.11/site-packages/pandas/core/series.py:1040\u001b[0m, in \u001b[0;36mSeries.__getitem__\u001b[0;34m(self, key)\u001b[0m\n\u001b[1;32m   1037\u001b[0m     \u001b[38;5;28;01mreturn\u001b[39;00m \u001b[38;5;28mself\u001b[39m\u001b[38;5;241m.\u001b[39m_values[key]\n\u001b[1;32m   1039\u001b[0m \u001b[38;5;28;01melif\u001b[39;00m key_is_scalar:\n\u001b[0;32m-> 1040\u001b[0m     \u001b[38;5;28;01mreturn\u001b[39;00m \u001b[38;5;28;43mself\u001b[39;49m\u001b[38;5;241;43m.\u001b[39;49m\u001b[43m_get_value\u001b[49m\u001b[43m(\u001b[49m\u001b[43mkey\u001b[49m\u001b[43m)\u001b[49m\n\u001b[1;32m   1042\u001b[0m \u001b[38;5;66;03m# Convert generator to list before going through hashable part\u001b[39;00m\n\u001b[1;32m   1043\u001b[0m \u001b[38;5;66;03m# (We will iterate through the generator there to check for slices)\u001b[39;00m\n\u001b[1;32m   1044\u001b[0m \u001b[38;5;28;01mif\u001b[39;00m is_iterator(key):\n",
            "File \u001b[0;32m~/miniconda3/lib/python3.11/site-packages/pandas/core/series.py:1156\u001b[0m, in \u001b[0;36mSeries._get_value\u001b[0;34m(self, label, takeable)\u001b[0m\n\u001b[1;32m   1153\u001b[0m     \u001b[38;5;28;01mreturn\u001b[39;00m \u001b[38;5;28mself\u001b[39m\u001b[38;5;241m.\u001b[39m_values[label]\n\u001b[1;32m   1155\u001b[0m \u001b[38;5;66;03m# Similar to Index.get_value, but we do not fall back to positional\u001b[39;00m\n\u001b[0;32m-> 1156\u001b[0m loc \u001b[38;5;241m=\u001b[39m \u001b[38;5;28;43mself\u001b[39;49m\u001b[38;5;241;43m.\u001b[39;49m\u001b[43mindex\u001b[49m\u001b[38;5;241;43m.\u001b[39;49m\u001b[43mget_loc\u001b[49m\u001b[43m(\u001b[49m\u001b[43mlabel\u001b[49m\u001b[43m)\u001b[49m\n\u001b[1;32m   1158\u001b[0m \u001b[38;5;28;01mif\u001b[39;00m is_integer(loc):\n\u001b[1;32m   1159\u001b[0m     \u001b[38;5;28;01mreturn\u001b[39;00m \u001b[38;5;28mself\u001b[39m\u001b[38;5;241m.\u001b[39m_values[loc]\n",
            "File \u001b[0;32m~/miniconda3/lib/python3.11/site-packages/pandas/core/indexes/base.py:3797\u001b[0m, in \u001b[0;36mIndex.get_loc\u001b[0;34m(self, key)\u001b[0m\n\u001b[1;32m   3792\u001b[0m     \u001b[38;5;28;01mif\u001b[39;00m \u001b[38;5;28misinstance\u001b[39m(casted_key, \u001b[38;5;28mslice\u001b[39m) \u001b[38;5;129;01mor\u001b[39;00m (\n\u001b[1;32m   3793\u001b[0m         \u001b[38;5;28misinstance\u001b[39m(casted_key, abc\u001b[38;5;241m.\u001b[39mIterable)\n\u001b[1;32m   3794\u001b[0m         \u001b[38;5;129;01mand\u001b[39;00m \u001b[38;5;28many\u001b[39m(\u001b[38;5;28misinstance\u001b[39m(x, \u001b[38;5;28mslice\u001b[39m) \u001b[38;5;28;01mfor\u001b[39;00m x \u001b[38;5;129;01min\u001b[39;00m casted_key)\n\u001b[1;32m   3795\u001b[0m     ):\n\u001b[1;32m   3796\u001b[0m         \u001b[38;5;28;01mraise\u001b[39;00m InvalidIndexError(key)\n\u001b[0;32m-> 3797\u001b[0m     \u001b[38;5;28;01mraise\u001b[39;00m \u001b[38;5;167;01mKeyError\u001b[39;00m(key) \u001b[38;5;28;01mfrom\u001b[39;00m \u001b[38;5;21;01merr\u001b[39;00m\n\u001b[1;32m   3798\u001b[0m \u001b[38;5;28;01mexcept\u001b[39;00m \u001b[38;5;167;01mTypeError\u001b[39;00m:\n\u001b[1;32m   3799\u001b[0m     \u001b[38;5;66;03m# If we have a listlike key, _check_indexing_error will raise\u001b[39;00m\n\u001b[1;32m   3800\u001b[0m     \u001b[38;5;66;03m#  InvalidIndexError. Otherwise we fall through and re-raise\u001b[39;00m\n\u001b[1;32m   3801\u001b[0m     \u001b[38;5;66;03m#  the TypeError.\u001b[39;00m\n\u001b[1;32m   3802\u001b[0m     \u001b[38;5;28mself\u001b[39m\u001b[38;5;241m.\u001b[39m_check_indexing_error(key)\n",
            "\u001b[0;31mKeyError\u001b[0m: 'HINOTCOVE'"
          ]
        }
      ],
      "source": [
        "# To get the p-value for the coefficient of 'HINOTCOVE' variable\n",
        "insurance_p_value_control = model_with_controls.pvalues[\"HINOTCOVE\"]\n",
        "print(f\"P-value for 'HINOTCOVE' with controls: {insurance_p_value_control:.4f}\")"
      ]
    },
    {
      "cell_type": "markdown",
      "metadata": {
        "id": "ERR54wxLq64v"
      },
      "source": [
        ">- Coefficient (0.0008): The coefficient for 'HINOTCOVE' with controls (0.0008) suggests that, after controlling for other variables, there is a positive association between having insurance coverage and the outcome variable (lung cancer diagnosis status). \n",
        ">- The p-value is less than the conventional threshold of 0.05, suggesting that the estimated effect of insurance coverage on lung cancer diagnosis is statistically significant.\n",
        ">- There is evidence to support the hypothesis that having insurance coverage increases the likelihood of lung cancer diagnosis, after controlling for other covariates and potential confounders."
      ]
    }
  ],
  "metadata": {
    "accelerator": "GPU",
    "colab": {
      "gpuType": "V100",
      "machine_shape": "hm",
      "provenance": []
    },
    "kernelspec": {
      "display_name": "Python 3",
      "name": "python3"
    },
    "language_info": {
      "codemirror_mode": {
        "name": "ipython",
        "version": 3
      },
      "file_extension": ".py",
      "mimetype": "text/x-python",
      "name": "python",
      "nbconvert_exporter": "python",
      "pygments_lexer": "ipython3",
      "version": "3.11.5"
    }
  },
  "nbformat": 4,
  "nbformat_minor": 0
}
